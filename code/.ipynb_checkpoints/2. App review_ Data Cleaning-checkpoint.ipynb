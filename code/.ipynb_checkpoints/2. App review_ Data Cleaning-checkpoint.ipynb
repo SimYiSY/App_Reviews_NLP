{
 "cells": [
  {
   "cell_type": "markdown",
   "metadata": {},
   "source": [
    "# Shopping Apps, Rating for Google Play Store and Apple AppStore Users\n",
    "\n",
    "<img src=\"https://image.freepik.com/free-vector/cartoon-delivery-man-brings-goods-customer-from-laptop-vector-illustration-concept-with-online-shopping-services_46527-344.jpg\" />\n",
    "\n",
    "## Introduction\n",
    "\n",
    "Users download apps for various purposes. Given that there is a rise in the usage of online shopping due to the Covid-19 pandemic, improvement of shopping experience has become more important then before. With that in mind, what are the important features we have to look out for to improve a shopping app?\n",
    "\n",
    "## Problem Statement\n",
    "\n",
    "- How do the app ratings differ across different shopping apps?\n",
    "- Is there any specific group of users we can look out for to improve the app?\n",
    "- Are there any specific improvement we can work on to further improve user experience of the app?\n",
    "\n",
    "To explore and answer the above questions, we will scrap reviews from Google Play Store and Apple AppStore and conduct analysis and modelling.\n",
    "\n",
    "## Executive Summary\n",
    "\n",
    "The data is webscrapped from the Shopping category in Google Play Store and Apple Appstore, 8 apps reviews were chosen for this project (Amazon, Wish, ASOS, Lazada, Ebay, Shoppee, AliExpress, Carousell). The data used was exclusive dated in 2020 only as majority of the data scrapped are from in 2020. Data cleaning was done by removing stopwords, lemmatized and Vectorized to the raw data to create bag-of-words. \n",
    "\n",
    "There will be 3 steps to our modelling process, with the first step classifying whether the text is a good or bad review, followed by classifying the reviews into categories created through topic modelling to group them into different subgroups.\n",
    "\n",
    "A few classification model were used, namely LogisticRegression, MultinomialNB, SGDClassifier, RandomForest, ADABoost. LogisticRegression give us the best results in classifying our data and thus used as the final model. \n",
    "\n",
    "As the data set is quite big, RandomizedSearch was used instead of Gridsearch to find the best hyperparameter.\n",
    "\n",
    "\n",
    "\n",
    "### Content Summary\n",
    "- Webscrapped reviews of 8 apps from Google Play Store & Apple App Store\n",
    "- Data Cleaning \n",
    "  - Removing data not in year 2020\n",
    "  - Removing emoji and punctuations\n",
    "  - Removing non english words\n",
    "  - Lemmatization\n",
    "  - Compound score calculation using VaderSentiment\n",
    "- EDA\n",
    "  - Plotting distribution of features\n",
    "  - Topic modelling of good reviews\n",
    "  - Topic modelling of bad reviews\n",
    "- Machine Learning Model \n",
    "  - LogisticRegression\n",
    "  - MultinomialNB\n",
    "  - SGDClassifier\n",
    "  - RandomForest\n",
    "  - ADABoost\n",
    "- Deep Learning Model\n",
    "  - Convolutional Neural Network\n",
    "  \n",
    "### Key Findings\n",
    "- Most complains are on Bad User Experience, while most good reviews are on the good overall service of the App, which is rather vague\n",
    "- There is more negative reviews in 9am - 3pm period, and on Tuesdays\n",
    "- There is quite a number of reviews being 1 word, or otherwise rated wrongly by the user, (e.g. review: Excellent, Rating: 1)\n",
    "- The multiclass model seems to be predicting better compared to what the topic modeling originally set the topic was, which is quite interesting as the model is able to differentiate the categories clearly base on the keywords.\n",
    "\n",
    "### Metrics\n",
    "Using the following metrics to evaluate the models:\n",
    "- ROC AUC curve(for Binary Classification)\n",
    "  -  The ROC AUC cruve is able to tell how much model is capable of distinguishing between classes.ranging from 0 to 1, with 1 being perfectly classified.\n",
    "- MCC Score\n",
    "  - The Matthews correlation coefficient (MCC), instead, is a more reliable statistical rate which produces a high score only if the prediction obtained good results in all of the four confusion matrix categories (true positives, false negatives, true negatives, and false positives), proportionally both to the size of positive elements and the size of negative elements in the dataset.\n",
    "- Kappa Score(For multiclassification)\n",
    "  - Cohen’s Kappa is a quantitative measure of reliability for two raters that are rating the same thing, corrected for how often that the raters may agree by chance. ranging from 0 to 1, with 1 being good.\n",
    "  \n",
    "- f1 score weighted\n",
    "  - The F1 Scores are calculated for each label and then their average is weighted by support - which is the number of true instances for each label. It can result in an F-score that is not between precision and recall\n",
    "\n",
    "### Final Results\n",
    "**Classification (Good & Bad Reviews)**\n",
    "- LogisticRegression\n",
    "  - Train data AUC: 0.947\n",
    "  - Test data AUC: 0.945\n",
    "  - MCC Score: 0.729\n",
    "  \n",
    "  \n",
    "**Multi Classification (Bad Review categories)**\n",
    "- LogisticRegression\n",
    "    - Train Data f1 weighted score: 0.867\t\n",
    "    - Test Data f1 weighted score: 0.862\t\n",
    "    - MCC Score: 0.798336\t\n",
    "    - Kappa Score: 0.796888\n",
    "\n",
    "\n",
    "**Multi Classification (Good Review categories)**\n",
    "- LogisticRegression\n",
    "    - Train Data f1 weighted score: 0.937\t\n",
    "    - Test Data f1 weighted score: 0.944\t\n",
    "    - MCC Score: 0.907\t\n",
    "    - Kappa Score: 0.906\n",
    "\n",
    "### Limitations\n",
    "- The data set is mostly collected in the month of August and September, which means the model is able to predict this period better, but not in predicting past data. \n",
    "- More data could be collected, as there is a major lack of Apple Appstore reviews compared to Google Play Store\n",
    "\n",
    "### Further research\n",
    "- Try to use Compound score gathered from VaderSentiment to do the classification instead, as we know there is some misclassified post by users. which hopefully give us a better accuracy.\n",
    "\n",
    "### Content\n",
    "1. Webscrap data\n",
    "2. Data Cleaning\n",
    "3. EDA\n",
    "4. Model Part 1, Classification (Good & Bad Reviews)\n",
    "5. Model Part 2, Multi Classification (Bad Review categories) \n",
    "6. Model Part 3, Multi Classification (Good Review categories)\n",
    "7. Deep Learning Model"
   ]
  },
  {
   "cell_type": "markdown",
   "metadata": {},
   "source": [
    "# Import Library"
   ]
  },
  {
   "cell_type": "code",
   "execution_count": 1,
   "metadata": {},
   "outputs": [],
   "source": [
    "import pandas as pd\n",
    "import numpy as np\n",
    "import matplotlib.pyplot as plt\n",
    "import seaborn as sns\n",
    "from time import time\n",
    "\n",
    "from PIL import Image\n",
    "from wordcloud import WordCloud\n",
    "\n",
    "from bs4 import BeautifulSoup\n",
    "import re\n",
    "import spacy\n",
    "from spacymoji import Emoji\n",
    "from nltk.corpus import stopwords, words\n",
    "from nltk import wordpunct_tokenize\n",
    "from nltk.stem import WordNetLemmatizer\n",
    "from nltk.stem.porter import PorterStemmer\n",
    "from nltk.tokenize import RegexpTokenizer\n",
    "from vaderSentiment.vaderSentiment import SentimentIntensityAnalyzer"
   ]
  },
  {
   "cell_type": "markdown",
   "metadata": {},
   "source": [
    "# Import data"
   ]
  },
  {
   "cell_type": "code",
   "execution_count": 2,
   "metadata": {},
   "outputs": [],
   "source": [
    "df_info = pd.read_csv('../data/shoppingapps_info.csv')\n",
    "df_google = pd.read_csv('../data/google_apps_reviews.csv')\n",
    "df_apple = pd.read_csv('../data/apple_apps_reviews.csv')"
   ]
  },
  {
   "cell_type": "markdown",
   "metadata": {},
   "source": [
    "## Checking info "
   ]
  },
  {
   "cell_type": "code",
   "execution_count": 3,
   "metadata": {},
   "outputs": [
    {
     "data": {
      "text/html": [
       "<div>\n",
       "<style scoped>\n",
       "    .dataframe tbody tr th:only-of-type {\n",
       "        vertical-align: middle;\n",
       "    }\n",
       "\n",
       "    .dataframe tbody tr th {\n",
       "        vertical-align: top;\n",
       "    }\n",
       "\n",
       "    .dataframe thead th {\n",
       "        text-align: right;\n",
       "    }\n",
       "</style>\n",
       "<table border=\"1\" class=\"dataframe\">\n",
       "  <thead>\n",
       "    <tr style=\"text-align: right;\">\n",
       "      <th></th>\n",
       "      <th>title</th>\n",
       "      <th>description</th>\n",
       "      <th>descriptionHTML</th>\n",
       "      <th>summary</th>\n",
       "      <th>summaryHTML</th>\n",
       "      <th>installs</th>\n",
       "      <th>minInstalls</th>\n",
       "      <th>score</th>\n",
       "      <th>ratings</th>\n",
       "      <th>reviews</th>\n",
       "      <th>...</th>\n",
       "      <th>contentRatingDescription</th>\n",
       "      <th>adSupported</th>\n",
       "      <th>containsAds</th>\n",
       "      <th>released</th>\n",
       "      <th>updated</th>\n",
       "      <th>version</th>\n",
       "      <th>recentChanges</th>\n",
       "      <th>recentChangesHTML</th>\n",
       "      <th>appId</th>\n",
       "      <th>url</th>\n",
       "    </tr>\n",
       "  </thead>\n",
       "  <tbody>\n",
       "    <tr>\n",
       "      <th>0</th>\n",
       "      <td>Shopee: #1 Online Platform</td>\n",
       "      <td>*For usage in Singapore only\\r\\n\\r\\nShopee is ...</td>\n",
       "      <td>*For usage in Singapore only&lt;br&gt;&lt;br&gt;Shopee is ...</td>\n",
       "      <td>#1 Online Shopping Platform\\r\\n15% Cashback | ...</td>\n",
       "      <td>#1 Online Shopping Platform&lt;br&gt;15% Cashback | ...</td>\n",
       "      <td>1,000,000+</td>\n",
       "      <td>1000000</td>\n",
       "      <td>4.776189</td>\n",
       "      <td>75281</td>\n",
       "      <td>20125</td>\n",
       "      <td>...</td>\n",
       "      <td>NaN</td>\n",
       "      <td>NaN</td>\n",
       "      <td>False</td>\n",
       "      <td>May 24, 2015</td>\n",
       "      <td>1600059737</td>\n",
       "      <td>2.60.11</td>\n",
       "      <td>Thanks for using Shopee! We’ve fixed some bugs...</td>\n",
       "      <td>Thanks for using Shopee! We’ve fixed some bugs...</td>\n",
       "      <td>com.shopee.sg</td>\n",
       "      <td>https://play.google.com/store/apps/details?id=...</td>\n",
       "    </tr>\n",
       "    <tr>\n",
       "      <th>1</th>\n",
       "      <td>Carousell: Snap-Sell, Chat-Buy</td>\n",
       "      <td>Carousell is a community marketplace that lets...</td>\n",
       "      <td>Carousell is a community marketplace that lets...</td>\n",
       "      <td>Carousell: Snap to Sell, Chat to Buy. And it's...</td>\n",
       "      <td>Carousell: Snap to Sell, Chat to Buy. And it&amp;#...</td>\n",
       "      <td>10,000,000+</td>\n",
       "      <td>10000000</td>\n",
       "      <td>4.542936</td>\n",
       "      <td>186438</td>\n",
       "      <td>70213</td>\n",
       "      <td>...</td>\n",
       "      <td>Parental Guidance Recommended</td>\n",
       "      <td>True</td>\n",
       "      <td>True</td>\n",
       "      <td>Jan 15, 2013</td>\n",
       "      <td>1600053888</td>\n",
       "      <td>2.179.753.778</td>\n",
       "      <td>Every week, we polish the app to help you buy,...</td>\n",
       "      <td>Every week, we polish the app to help you buy,...</td>\n",
       "      <td>com.thecarousell.Carousell</td>\n",
       "      <td>https://play.google.com/store/apps/details?id=...</td>\n",
       "    </tr>\n",
       "    <tr>\n",
       "      <th>2</th>\n",
       "      <td>Lazada &amp; RedMart - Online Shopping &amp; Groceries</td>\n",
       "      <td>Welcome to the brand new Lazada™ mobile app! J...</td>\n",
       "      <td>Welcome to the brand new Lazada™ mobile app! J...</td>\n",
       "      <td>Shop Countless Deals Online at Lazada Singapore!</td>\n",
       "      <td>Shop Countless Deals Online at Lazada Singapore!</td>\n",
       "      <td>100,000,000+</td>\n",
       "      <td>100000000</td>\n",
       "      <td>4.441479</td>\n",
       "      <td>7051435</td>\n",
       "      <td>2646815</td>\n",
       "      <td>...</td>\n",
       "      <td>NaN</td>\n",
       "      <td>NaN</td>\n",
       "      <td>False</td>\n",
       "      <td>Jun 8, 2013</td>\n",
       "      <td>1600176475</td>\n",
       "      <td>6.52.0</td>\n",
       "      <td>Thanks for using LAZADA! We've enhanced the pe...</td>\n",
       "      <td>Thanks for using LAZADA! We&amp;#39;ve enhanced th...</td>\n",
       "      <td>com.lazada.android</td>\n",
       "      <td>https://play.google.com/store/apps/details?id=...</td>\n",
       "    </tr>\n",
       "    <tr>\n",
       "      <th>3</th>\n",
       "      <td>AliExpress - Smarter Shopping, Better Living</td>\n",
       "      <td>Ever wanted to shop everything in one place, a...</td>\n",
       "      <td>Ever wanted to shop everything in one place, a...</td>\n",
       "      <td>AliExpress - Smarter Shopping, Better Living</td>\n",
       "      <td>AliExpress - Smarter Shopping, Better Living</td>\n",
       "      <td>100,000,000+</td>\n",
       "      <td>100000000</td>\n",
       "      <td>4.509242</td>\n",
       "      <td>10217530</td>\n",
       "      <td>3144111</td>\n",
       "      <td>...</td>\n",
       "      <td>Parental Guidance Recommended</td>\n",
       "      <td>NaN</td>\n",
       "      <td>False</td>\n",
       "      <td>Sep 27, 2012</td>\n",
       "      <td>1600157563</td>\n",
       "      <td>8.16.0</td>\n",
       "      <td>We're always looking for ways to further optim...</td>\n",
       "      <td>We&amp;#39;re always looking for ways to further o...</td>\n",
       "      <td>com.alibaba.aliexpresshd</td>\n",
       "      <td>https://play.google.com/store/apps/details?id=...</td>\n",
       "    </tr>\n",
       "    <tr>\n",
       "      <th>4</th>\n",
       "      <td>eBay: Discover great deals on the brands you love</td>\n",
       "      <td>Buy, sell and save with the eBay app! Shop dea...</td>\n",
       "      <td>Buy, sell and save with the eBay app! Shop dea...</td>\n",
       "      <td>Buy and sell on the world’s largest marketplac...</td>\n",
       "      <td>Buy and sell on the world’s largest marketplac...</td>\n",
       "      <td>100,000,000+</td>\n",
       "      <td>100000000</td>\n",
       "      <td>4.716624</td>\n",
       "      <td>3436915</td>\n",
       "      <td>1263982</td>\n",
       "      <td>...</td>\n",
       "      <td>Parental Guidance Recommended</td>\n",
       "      <td>True</td>\n",
       "      <td>True</td>\n",
       "      <td>Feb 17, 2010</td>\n",
       "      <td>1599781634</td>\n",
       "      <td>Varies with device</td>\n",
       "      <td>Tap “lockable filters” in the “customize” sect...</td>\n",
       "      <td>Tap “lockable filters” in the “customize” sect...</td>\n",
       "      <td>com.ebay.mobile</td>\n",
       "      <td>https://play.google.com/store/apps/details?id=...</td>\n",
       "    </tr>\n",
       "  </tbody>\n",
       "</table>\n",
       "<p>5 rows × 48 columns</p>\n",
       "</div>"
      ],
      "text/plain": [
       "                                               title  \\\n",
       "0                         Shopee: #1 Online Platform   \n",
       "1                     Carousell: Snap-Sell, Chat-Buy   \n",
       "2     Lazada & RedMart - Online Shopping & Groceries   \n",
       "3       AliExpress - Smarter Shopping, Better Living   \n",
       "4  eBay: Discover great deals on the brands you love   \n",
       "\n",
       "                                         description  \\\n",
       "0  *For usage in Singapore only\\r\\n\\r\\nShopee is ...   \n",
       "1  Carousell is a community marketplace that lets...   \n",
       "2  Welcome to the brand new Lazada™ mobile app! J...   \n",
       "3  Ever wanted to shop everything in one place, a...   \n",
       "4  Buy, sell and save with the eBay app! Shop dea...   \n",
       "\n",
       "                                     descriptionHTML  \\\n",
       "0  *For usage in Singapore only<br><br>Shopee is ...   \n",
       "1  Carousell is a community marketplace that lets...   \n",
       "2  Welcome to the brand new Lazada™ mobile app! J...   \n",
       "3  Ever wanted to shop everything in one place, a...   \n",
       "4  Buy, sell and save with the eBay app! Shop dea...   \n",
       "\n",
       "                                             summary  \\\n",
       "0  #1 Online Shopping Platform\\r\\n15% Cashback | ...   \n",
       "1  Carousell: Snap to Sell, Chat to Buy. And it's...   \n",
       "2   Shop Countless Deals Online at Lazada Singapore!   \n",
       "3       AliExpress - Smarter Shopping, Better Living   \n",
       "4  Buy and sell on the world’s largest marketplac...   \n",
       "\n",
       "                                         summaryHTML      installs  \\\n",
       "0  #1 Online Shopping Platform<br>15% Cashback | ...    1,000,000+   \n",
       "1  Carousell: Snap to Sell, Chat to Buy. And it&#...   10,000,000+   \n",
       "2   Shop Countless Deals Online at Lazada Singapore!  100,000,000+   \n",
       "3       AliExpress - Smarter Shopping, Better Living  100,000,000+   \n",
       "4  Buy and sell on the world’s largest marketplac...  100,000,000+   \n",
       "\n",
       "   minInstalls     score   ratings  reviews  ...  \\\n",
       "0      1000000  4.776189     75281    20125  ...   \n",
       "1     10000000  4.542936    186438    70213  ...   \n",
       "2    100000000  4.441479   7051435  2646815  ...   \n",
       "3    100000000  4.509242  10217530  3144111  ...   \n",
       "4    100000000  4.716624   3436915  1263982  ...   \n",
       "\n",
       "        contentRatingDescription  adSupported  containsAds      released  \\\n",
       "0                            NaN          NaN        False  May 24, 2015   \n",
       "1  Parental Guidance Recommended         True         True  Jan 15, 2013   \n",
       "2                            NaN          NaN        False   Jun 8, 2013   \n",
       "3  Parental Guidance Recommended          NaN        False  Sep 27, 2012   \n",
       "4  Parental Guidance Recommended         True         True  Feb 17, 2010   \n",
       "\n",
       "      updated             version  \\\n",
       "0  1600059737             2.60.11   \n",
       "1  1600053888       2.179.753.778   \n",
       "2  1600176475              6.52.0   \n",
       "3  1600157563              8.16.0   \n",
       "4  1599781634  Varies with device   \n",
       "\n",
       "                                       recentChanges  \\\n",
       "0  Thanks for using Shopee! We’ve fixed some bugs...   \n",
       "1  Every week, we polish the app to help you buy,...   \n",
       "2  Thanks for using LAZADA! We've enhanced the pe...   \n",
       "3  We're always looking for ways to further optim...   \n",
       "4  Tap “lockable filters” in the “customize” sect...   \n",
       "\n",
       "                                   recentChangesHTML  \\\n",
       "0  Thanks for using Shopee! We’ve fixed some bugs...   \n",
       "1  Every week, we polish the app to help you buy,...   \n",
       "2  Thanks for using LAZADA! We&#39;ve enhanced th...   \n",
       "3  We&#39;re always looking for ways to further o...   \n",
       "4  Tap “lockable filters” in the “customize” sect...   \n",
       "\n",
       "                        appId  \\\n",
       "0               com.shopee.sg   \n",
       "1  com.thecarousell.Carousell   \n",
       "2          com.lazada.android   \n",
       "3    com.alibaba.aliexpresshd   \n",
       "4             com.ebay.mobile   \n",
       "\n",
       "                                                 url  \n",
       "0  https://play.google.com/store/apps/details?id=...  \n",
       "1  https://play.google.com/store/apps/details?id=...  \n",
       "2  https://play.google.com/store/apps/details?id=...  \n",
       "3  https://play.google.com/store/apps/details?id=...  \n",
       "4  https://play.google.com/store/apps/details?id=...  \n",
       "\n",
       "[5 rows x 48 columns]"
      ]
     },
     "execution_count": 3,
     "metadata": {},
     "output_type": "execute_result"
    }
   ],
   "source": [
    "df_info.head()"
   ]
  },
  {
   "cell_type": "code",
   "execution_count": 4,
   "metadata": {},
   "outputs": [
    {
     "data": {
      "text/plain": [
       "0                           Shopee: #1 Online Platform\n",
       "1                       Carousell: Snap-Sell, Chat-Buy\n",
       "2       Lazada & RedMart - Online Shopping & Groceries\n",
       "3         AliExpress - Smarter Shopping, Better Living\n",
       "4    eBay: Discover great deals on the brands you love\n",
       "5       Amazon Shopping - Search, Find, Ship, and Save\n",
       "6                                                 ASOS\n",
       "7                             Wish - Shopping Made Fun\n",
       "Name: title, dtype: object"
      ]
     },
     "execution_count": 4,
     "metadata": {},
     "output_type": "execute_result"
    }
   ],
   "source": [
    "df_info.title"
   ]
  },
  {
   "cell_type": "markdown",
   "metadata": {},
   "source": [
    "## Checking Google Playstore Review"
   ]
  },
  {
   "cell_type": "code",
   "execution_count": 5,
   "metadata": {},
   "outputs": [
    {
     "data": {
      "text/html": [
       "<div>\n",
       "<style scoped>\n",
       "    .dataframe tbody tr th:only-of-type {\n",
       "        vertical-align: middle;\n",
       "    }\n",
       "\n",
       "    .dataframe tbody tr th {\n",
       "        vertical-align: top;\n",
       "    }\n",
       "\n",
       "    .dataframe thead th {\n",
       "        text-align: right;\n",
       "    }\n",
       "</style>\n",
       "<table border=\"1\" class=\"dataframe\">\n",
       "  <thead>\n",
       "    <tr style=\"text-align: right;\">\n",
       "      <th></th>\n",
       "      <th>reviewId</th>\n",
       "      <th>userName</th>\n",
       "      <th>userImage</th>\n",
       "      <th>content</th>\n",
       "      <th>score</th>\n",
       "      <th>thumbsUpCount</th>\n",
       "      <th>reviewCreatedVersion</th>\n",
       "      <th>at</th>\n",
       "      <th>replyContent</th>\n",
       "      <th>repliedAt</th>\n",
       "      <th>sortOrder</th>\n",
       "      <th>appId</th>\n",
       "    </tr>\n",
       "  </thead>\n",
       "  <tbody>\n",
       "    <tr>\n",
       "      <th>0</th>\n",
       "      <td>gp:AOqpTOFMK_YUOfYqWluUehP3lajbdBztb0kaA_oinNC...</td>\n",
       "      <td>songsin12</td>\n",
       "      <td>https://lh3.googleusercontent.com/-_Z0Ydwm7Xcc...</td>\n",
       "      <td>Orders mostly came early and products are good.</td>\n",
       "      <td>5</td>\n",
       "      <td>0</td>\n",
       "      <td>2.60.11</td>\n",
       "      <td>2020-09-16 20:26:28</td>\n",
       "      <td>\"Thank you for giving Shopee a 5-star review! ...</td>\n",
       "      <td>2020-07-09 10:04:23</td>\n",
       "      <td>newest</td>\n",
       "      <td>com.shopee.sg</td>\n",
       "    </tr>\n",
       "    <tr>\n",
       "      <th>1</th>\n",
       "      <td>gp:AOqpTOECqGI7ocjdKrG5PykxhWmBG2wp1HzwO5zxrvj...</td>\n",
       "      <td>Ho Soh Fong</td>\n",
       "      <td>https://lh3.googleusercontent.com/a-/AOh14GhHM...</td>\n",
       "      <td>Good and convenient</td>\n",
       "      <td>4</td>\n",
       "      <td>0</td>\n",
       "      <td>2.60.08</td>\n",
       "      <td>2020-09-16 20:13:46</td>\n",
       "      <td>Thank you for your review. We're excited to be...</td>\n",
       "      <td>2020-09-16 20:17:31</td>\n",
       "      <td>newest</td>\n",
       "      <td>com.shopee.sg</td>\n",
       "    </tr>\n",
       "    <tr>\n",
       "      <th>2</th>\n",
       "      <td>gp:AOqpTOFK6om-GRJCgm-WXGyf_nurLs1YXL3FSoLRr5b...</td>\n",
       "      <td>Yasohthah Devadas</td>\n",
       "      <td>https://lh3.googleusercontent.com/-sji2OhurxhM...</td>\n",
       "      <td>Gd...........</td>\n",
       "      <td>5</td>\n",
       "      <td>0</td>\n",
       "      <td>2.60.11</td>\n",
       "      <td>2020-09-16 20:13:05</td>\n",
       "      <td>Thank you for giving Shopee a 5-star review! W...</td>\n",
       "      <td>2020-09-16 20:18:24</td>\n",
       "      <td>newest</td>\n",
       "      <td>com.shopee.sg</td>\n",
       "    </tr>\n",
       "    <tr>\n",
       "      <th>3</th>\n",
       "      <td>gp:AOqpTOHfstsd3G5jEoFQn62yZ9gpYcVj2oRlZZkKWBn...</td>\n",
       "      <td>May Han</td>\n",
       "      <td>https://play-lh.googleusercontent.com/-RhVs3Za...</td>\n",
       "      <td>My first purchase experience...Happy with purc...</td>\n",
       "      <td>4</td>\n",
       "      <td>0</td>\n",
       "      <td>2.60.11</td>\n",
       "      <td>2020-09-16 20:11:18</td>\n",
       "      <td>Thank you for your review. We're excited to be...</td>\n",
       "      <td>2020-09-16 20:28:10</td>\n",
       "      <td>newest</td>\n",
       "      <td>com.shopee.sg</td>\n",
       "    </tr>\n",
       "    <tr>\n",
       "      <th>4</th>\n",
       "      <td>gp:AOqpTOGtT_ODk0PZdHD0m_phZw4fFng1RvxZsM9Gk_v...</td>\n",
       "      <td>fauziah ata</td>\n",
       "      <td>https://lh3.googleusercontent.com/-NhTM2s673Pw...</td>\n",
       "      <td>A lot of items at a very good deal.</td>\n",
       "      <td>5</td>\n",
       "      <td>0</td>\n",
       "      <td>NaN</td>\n",
       "      <td>2020-09-16 20:08:54</td>\n",
       "      <td>Thank you for giving Shopee a 5-star review! W...</td>\n",
       "      <td>2020-09-16 20:29:35</td>\n",
       "      <td>newest</td>\n",
       "      <td>com.shopee.sg</td>\n",
       "    </tr>\n",
       "  </tbody>\n",
       "</table>\n",
       "</div>"
      ],
      "text/plain": [
       "                                            reviewId           userName  \\\n",
       "0  gp:AOqpTOFMK_YUOfYqWluUehP3lajbdBztb0kaA_oinNC...          songsin12   \n",
       "1  gp:AOqpTOECqGI7ocjdKrG5PykxhWmBG2wp1HzwO5zxrvj...        Ho Soh Fong   \n",
       "2  gp:AOqpTOFK6om-GRJCgm-WXGyf_nurLs1YXL3FSoLRr5b...  Yasohthah Devadas   \n",
       "3  gp:AOqpTOHfstsd3G5jEoFQn62yZ9gpYcVj2oRlZZkKWBn...            May Han   \n",
       "4  gp:AOqpTOGtT_ODk0PZdHD0m_phZw4fFng1RvxZsM9Gk_v...        fauziah ata   \n",
       "\n",
       "                                           userImage  \\\n",
       "0  https://lh3.googleusercontent.com/-_Z0Ydwm7Xcc...   \n",
       "1  https://lh3.googleusercontent.com/a-/AOh14GhHM...   \n",
       "2  https://lh3.googleusercontent.com/-sji2OhurxhM...   \n",
       "3  https://play-lh.googleusercontent.com/-RhVs3Za...   \n",
       "4  https://lh3.googleusercontent.com/-NhTM2s673Pw...   \n",
       "\n",
       "                                             content  score  thumbsUpCount  \\\n",
       "0    Orders mostly came early and products are good.      5              0   \n",
       "1                                Good and convenient      4              0   \n",
       "2                                      Gd...........      5              0   \n",
       "3  My first purchase experience...Happy with purc...      4              0   \n",
       "4                A lot of items at a very good deal.      5              0   \n",
       "\n",
       "  reviewCreatedVersion                   at  \\\n",
       "0              2.60.11  2020-09-16 20:26:28   \n",
       "1              2.60.08  2020-09-16 20:13:46   \n",
       "2              2.60.11  2020-09-16 20:13:05   \n",
       "3              2.60.11  2020-09-16 20:11:18   \n",
       "4                  NaN  2020-09-16 20:08:54   \n",
       "\n",
       "                                        replyContent            repliedAt  \\\n",
       "0  \"Thank you for giving Shopee a 5-star review! ...  2020-07-09 10:04:23   \n",
       "1  Thank you for your review. We're excited to be...  2020-09-16 20:17:31   \n",
       "2  Thank you for giving Shopee a 5-star review! W...  2020-09-16 20:18:24   \n",
       "3  Thank you for your review. We're excited to be...  2020-09-16 20:28:10   \n",
       "4  Thank you for giving Shopee a 5-star review! W...  2020-09-16 20:29:35   \n",
       "\n",
       "  sortOrder          appId  \n",
       "0    newest  com.shopee.sg  \n",
       "1    newest  com.shopee.sg  \n",
       "2    newest  com.shopee.sg  \n",
       "3    newest  com.shopee.sg  \n",
       "4    newest  com.shopee.sg  "
      ]
     },
     "execution_count": 5,
     "metadata": {},
     "output_type": "execute_result"
    }
   ],
   "source": [
    "df_google.head()"
   ]
  },
  {
   "cell_type": "code",
   "execution_count": 6,
   "metadata": {},
   "outputs": [
    {
     "data": {
      "text/plain": [
       "carousell     10000\n",
       "amazon        10000\n",
       "wish          10000\n",
       "aliexpress    10000\n",
       "shoppee       10000\n",
       "asos          10000\n",
       "lazada        10000\n",
       "ebay          10000\n",
       "Name: appId, dtype: int64"
      ]
     },
     "execution_count": 6,
     "metadata": {},
     "output_type": "execute_result"
    }
   ],
   "source": [
    "labels = {'appId' : {'com.amazon.mShop.android.shopping' : 'amazon',\n",
    "                    'com.ebay.mobile' : 'ebay',\n",
    "                     'com.shopee.sg': 'shoppee',\n",
    "                     'com.alibaba.aliexpresshd': 'aliexpress',\n",
    "                     'com.thecarousell.Carousell': 'carousell',\n",
    "                     'com.asos.app': 'asos',\n",
    "                     'com.lazada.android': 'lazada',\n",
    "                     'com.contextlogic.wish': 'wish',\n",
    "                    }}\n",
    "df_google.replace(labels, inplace=True)\n",
    "df_google['appId'].value_counts()"
   ]
  },
  {
   "cell_type": "markdown",
   "metadata": {},
   "source": [
    "## Checking Apple Appstore Review"
   ]
  },
  {
   "cell_type": "code",
   "execution_count": 7,
   "metadata": {},
   "outputs": [
    {
     "data": {
      "text/html": [
       "<div>\n",
       "<style scoped>\n",
       "    .dataframe tbody tr th:only-of-type {\n",
       "        vertical-align: middle;\n",
       "    }\n",
       "\n",
       "    .dataframe tbody tr th {\n",
       "        vertical-align: top;\n",
       "    }\n",
       "\n",
       "    .dataframe thead th {\n",
       "        text-align: right;\n",
       "    }\n",
       "</style>\n",
       "<table border=\"1\" class=\"dataframe\">\n",
       "  <thead>\n",
       "    <tr style=\"text-align: right;\">\n",
       "      <th></th>\n",
       "      <th>date</th>\n",
       "      <th>title</th>\n",
       "      <th>userName</th>\n",
       "      <th>rating</th>\n",
       "      <th>review</th>\n",
       "      <th>developerResponse</th>\n",
       "      <th>isEdited</th>\n",
       "      <th>appid</th>\n",
       "    </tr>\n",
       "  </thead>\n",
       "  <tbody>\n",
       "    <tr>\n",
       "      <th>0</th>\n",
       "      <td>2020-08-05 05:32:41</td>\n",
       "      <td>Good in price and customers’ interest platform</td>\n",
       "      <td>Little tortoise</td>\n",
       "      <td>5</td>\n",
       "      <td>Shopee is a platform that protecting customers...</td>\n",
       "      <td>{'id': 17097958, 'body': \"Thank you for giving...</td>\n",
       "      <td>False</td>\n",
       "      <td>shoppee</td>\n",
       "    </tr>\n",
       "    <tr>\n",
       "      <th>1</th>\n",
       "      <td>2019-12-17 15:59:30</td>\n",
       "      <td>Bad experience</td>\n",
       "      <td>Tujimu</td>\n",
       "      <td>1</td>\n",
       "      <td>I have been used this app for years. However t...</td>\n",
       "      <td>{'id': 12456571, 'body': 'Hey,\\n\\nThank you fo...</td>\n",
       "      <td>False</td>\n",
       "      <td>shoppee</td>\n",
       "    </tr>\n",
       "    <tr>\n",
       "      <th>2</th>\n",
       "      <td>2020-08-03 09:08:40</td>\n",
       "      <td>Waste of time</td>\n",
       "      <td>Xed82</td>\n",
       "      <td>1</td>\n",
       "      <td>I regretted choosing shopee. Reason being: Pur...</td>\n",
       "      <td>{'id': 17059815, 'body': 'Thank you for bringi...</td>\n",
       "      <td>False</td>\n",
       "      <td>shoppee</td>\n",
       "    </tr>\n",
       "    <tr>\n",
       "      <th>3</th>\n",
       "      <td>2019-12-09 08:02:35</td>\n",
       "      <td>Shoppee is not one of the best shopping app...!</td>\n",
       "      <td>Cartoonfreak1980</td>\n",
       "      <td>5</td>\n",
       "      <td>Who says shopee is one of the best shopping ap...</td>\n",
       "      <td>{'id': 11615436, 'body': 'Hey, :D\\n\\nThank you...</td>\n",
       "      <td>True</td>\n",
       "      <td>shoppee</td>\n",
       "    </tr>\n",
       "    <tr>\n",
       "      <th>4</th>\n",
       "      <td>2020-04-10 04:39:06</td>\n",
       "      <td>Disappointed</td>\n",
       "      <td>Raymond Koh</td>\n",
       "      <td>1</td>\n",
       "      <td>Initially when Shopee started, transactions ar...</td>\n",
       "      <td>{'id': 14589371, 'body': 'Thank you for bringi...</td>\n",
       "      <td>False</td>\n",
       "      <td>shoppee</td>\n",
       "    </tr>\n",
       "  </tbody>\n",
       "</table>\n",
       "</div>"
      ],
      "text/plain": [
       "                  date                                            title  \\\n",
       "0  2020-08-05 05:32:41   Good in price and customers’ interest platform   \n",
       "1  2019-12-17 15:59:30                                   Bad experience   \n",
       "2  2020-08-03 09:08:40                                    Waste of time   \n",
       "3  2019-12-09 08:02:35  Shoppee is not one of the best shopping app...!   \n",
       "4  2020-04-10 04:39:06                                     Disappointed   \n",
       "\n",
       "           userName  rating  \\\n",
       "0   Little tortoise       5   \n",
       "1            Tujimu       1   \n",
       "2             Xed82       1   \n",
       "3  Cartoonfreak1980       5   \n",
       "4       Raymond Koh       1   \n",
       "\n",
       "                                              review  \\\n",
       "0  Shopee is a platform that protecting customers...   \n",
       "1  I have been used this app for years. However t...   \n",
       "2  I regretted choosing shopee. Reason being: Pur...   \n",
       "3  Who says shopee is one of the best shopping ap...   \n",
       "4  Initially when Shopee started, transactions ar...   \n",
       "\n",
       "                                   developerResponse  isEdited    appid  \n",
       "0  {'id': 17097958, 'body': \"Thank you for giving...     False  shoppee  \n",
       "1  {'id': 12456571, 'body': 'Hey,\\n\\nThank you fo...     False  shoppee  \n",
       "2  {'id': 17059815, 'body': 'Thank you for bringi...     False  shoppee  \n",
       "3  {'id': 11615436, 'body': 'Hey, :D\\n\\nThank you...      True  shoppee  \n",
       "4  {'id': 14589371, 'body': 'Thank you for bringi...     False  shoppee  "
      ]
     },
     "execution_count": 7,
     "metadata": {},
     "output_type": "execute_result"
    }
   ],
   "source": [
    "df_apple.head()"
   ]
  },
  {
   "cell_type": "markdown",
   "metadata": {},
   "source": [
    "## Adding new column to df"
   ]
  },
  {
   "cell_type": "code",
   "execution_count": 8,
   "metadata": {},
   "outputs": [],
   "source": [
    "df_google['store'] = 'google'\n",
    "df_apple['store'] = 'apple'"
   ]
  },
  {
   "cell_type": "markdown",
   "metadata": {},
   "source": [
    "## Renaming columns"
   ]
  },
  {
   "cell_type": "code",
   "execution_count": 9,
   "metadata": {},
   "outputs": [
    {
     "data": {
      "text/plain": [
       "Index(['reviewId', 'userName', 'userImage', 'content', 'score',\n",
       "       'thumbsUpCount', 'reviewCreatedVersion', 'at', 'replyContent',\n",
       "       'repliedAt', 'sortOrder', 'appId', 'store'],\n",
       "      dtype='object')"
      ]
     },
     "execution_count": 9,
     "metadata": {},
     "output_type": "execute_result"
    }
   ],
   "source": [
    "df_google.columns"
   ]
  },
  {
   "cell_type": "code",
   "execution_count": 10,
   "metadata": {},
   "outputs": [
    {
     "data": {
      "text/html": [
       "<div>\n",
       "<style scoped>\n",
       "    .dataframe tbody tr th:only-of-type {\n",
       "        vertical-align: middle;\n",
       "    }\n",
       "\n",
       "    .dataframe tbody tr th {\n",
       "        vertical-align: top;\n",
       "    }\n",
       "\n",
       "    .dataframe thead th {\n",
       "        text-align: right;\n",
       "    }\n",
       "</style>\n",
       "<table border=\"1\" class=\"dataframe\">\n",
       "  <thead>\n",
       "    <tr style=\"text-align: right;\">\n",
       "      <th></th>\n",
       "      <th>reviewId</th>\n",
       "      <th>userName</th>\n",
       "      <th>userImage</th>\n",
       "      <th>review</th>\n",
       "      <th>rating</th>\n",
       "      <th>thumbsUpCount</th>\n",
       "      <th>reviewCreatedVersion</th>\n",
       "      <th>date</th>\n",
       "      <th>replyContent</th>\n",
       "      <th>repliedAt</th>\n",
       "      <th>sortOrder</th>\n",
       "      <th>app</th>\n",
       "      <th>store</th>\n",
       "    </tr>\n",
       "  </thead>\n",
       "  <tbody>\n",
       "    <tr>\n",
       "      <th>0</th>\n",
       "      <td>gp:AOqpTOFMK_YUOfYqWluUehP3lajbdBztb0kaA_oinNC...</td>\n",
       "      <td>songsin12</td>\n",
       "      <td>https://lh3.googleusercontent.com/-_Z0Ydwm7Xcc...</td>\n",
       "      <td>Orders mostly came early and products are good.</td>\n",
       "      <td>5</td>\n",
       "      <td>0</td>\n",
       "      <td>2.60.11</td>\n",
       "      <td>2020-09-16 20:26:28</td>\n",
       "      <td>\"Thank you for giving Shopee a 5-star review! ...</td>\n",
       "      <td>2020-07-09 10:04:23</td>\n",
       "      <td>newest</td>\n",
       "      <td>shoppee</td>\n",
       "      <td>google</td>\n",
       "    </tr>\n",
       "    <tr>\n",
       "      <th>1</th>\n",
       "      <td>gp:AOqpTOECqGI7ocjdKrG5PykxhWmBG2wp1HzwO5zxrvj...</td>\n",
       "      <td>Ho Soh Fong</td>\n",
       "      <td>https://lh3.googleusercontent.com/a-/AOh14GhHM...</td>\n",
       "      <td>Good and convenient</td>\n",
       "      <td>4</td>\n",
       "      <td>0</td>\n",
       "      <td>2.60.08</td>\n",
       "      <td>2020-09-16 20:13:46</td>\n",
       "      <td>Thank you for your review. We're excited to be...</td>\n",
       "      <td>2020-09-16 20:17:31</td>\n",
       "      <td>newest</td>\n",
       "      <td>shoppee</td>\n",
       "      <td>google</td>\n",
       "    </tr>\n",
       "    <tr>\n",
       "      <th>2</th>\n",
       "      <td>gp:AOqpTOFK6om-GRJCgm-WXGyf_nurLs1YXL3FSoLRr5b...</td>\n",
       "      <td>Yasohthah Devadas</td>\n",
       "      <td>https://lh3.googleusercontent.com/-sji2OhurxhM...</td>\n",
       "      <td>Gd...........</td>\n",
       "      <td>5</td>\n",
       "      <td>0</td>\n",
       "      <td>2.60.11</td>\n",
       "      <td>2020-09-16 20:13:05</td>\n",
       "      <td>Thank you for giving Shopee a 5-star review! W...</td>\n",
       "      <td>2020-09-16 20:18:24</td>\n",
       "      <td>newest</td>\n",
       "      <td>shoppee</td>\n",
       "      <td>google</td>\n",
       "    </tr>\n",
       "    <tr>\n",
       "      <th>3</th>\n",
       "      <td>gp:AOqpTOHfstsd3G5jEoFQn62yZ9gpYcVj2oRlZZkKWBn...</td>\n",
       "      <td>May Han</td>\n",
       "      <td>https://play-lh.googleusercontent.com/-RhVs3Za...</td>\n",
       "      <td>My first purchase experience...Happy with purc...</td>\n",
       "      <td>4</td>\n",
       "      <td>0</td>\n",
       "      <td>2.60.11</td>\n",
       "      <td>2020-09-16 20:11:18</td>\n",
       "      <td>Thank you for your review. We're excited to be...</td>\n",
       "      <td>2020-09-16 20:28:10</td>\n",
       "      <td>newest</td>\n",
       "      <td>shoppee</td>\n",
       "      <td>google</td>\n",
       "    </tr>\n",
       "    <tr>\n",
       "      <th>4</th>\n",
       "      <td>gp:AOqpTOGtT_ODk0PZdHD0m_phZw4fFng1RvxZsM9Gk_v...</td>\n",
       "      <td>fauziah ata</td>\n",
       "      <td>https://lh3.googleusercontent.com/-NhTM2s673Pw...</td>\n",
       "      <td>A lot of items at a very good deal.</td>\n",
       "      <td>5</td>\n",
       "      <td>0</td>\n",
       "      <td>NaN</td>\n",
       "      <td>2020-09-16 20:08:54</td>\n",
       "      <td>Thank you for giving Shopee a 5-star review! W...</td>\n",
       "      <td>2020-09-16 20:29:35</td>\n",
       "      <td>newest</td>\n",
       "      <td>shoppee</td>\n",
       "      <td>google</td>\n",
       "    </tr>\n",
       "  </tbody>\n",
       "</table>\n",
       "</div>"
      ],
      "text/plain": [
       "                                            reviewId           userName  \\\n",
       "0  gp:AOqpTOFMK_YUOfYqWluUehP3lajbdBztb0kaA_oinNC...          songsin12   \n",
       "1  gp:AOqpTOECqGI7ocjdKrG5PykxhWmBG2wp1HzwO5zxrvj...        Ho Soh Fong   \n",
       "2  gp:AOqpTOFK6om-GRJCgm-WXGyf_nurLs1YXL3FSoLRr5b...  Yasohthah Devadas   \n",
       "3  gp:AOqpTOHfstsd3G5jEoFQn62yZ9gpYcVj2oRlZZkKWBn...            May Han   \n",
       "4  gp:AOqpTOGtT_ODk0PZdHD0m_phZw4fFng1RvxZsM9Gk_v...        fauziah ata   \n",
       "\n",
       "                                           userImage  \\\n",
       "0  https://lh3.googleusercontent.com/-_Z0Ydwm7Xcc...   \n",
       "1  https://lh3.googleusercontent.com/a-/AOh14GhHM...   \n",
       "2  https://lh3.googleusercontent.com/-sji2OhurxhM...   \n",
       "3  https://play-lh.googleusercontent.com/-RhVs3Za...   \n",
       "4  https://lh3.googleusercontent.com/-NhTM2s673Pw...   \n",
       "\n",
       "                                              review  rating  thumbsUpCount  \\\n",
       "0    Orders mostly came early and products are good.       5              0   \n",
       "1                                Good and convenient       4              0   \n",
       "2                                      Gd...........       5              0   \n",
       "3  My first purchase experience...Happy with purc...       4              0   \n",
       "4                A lot of items at a very good deal.       5              0   \n",
       "\n",
       "  reviewCreatedVersion                 date  \\\n",
       "0              2.60.11  2020-09-16 20:26:28   \n",
       "1              2.60.08  2020-09-16 20:13:46   \n",
       "2              2.60.11  2020-09-16 20:13:05   \n",
       "3              2.60.11  2020-09-16 20:11:18   \n",
       "4                  NaN  2020-09-16 20:08:54   \n",
       "\n",
       "                                        replyContent            repliedAt  \\\n",
       "0  \"Thank you for giving Shopee a 5-star review! ...  2020-07-09 10:04:23   \n",
       "1  Thank you for your review. We're excited to be...  2020-09-16 20:17:31   \n",
       "2  Thank you for giving Shopee a 5-star review! W...  2020-09-16 20:18:24   \n",
       "3  Thank you for your review. We're excited to be...  2020-09-16 20:28:10   \n",
       "4  Thank you for giving Shopee a 5-star review! W...  2020-09-16 20:29:35   \n",
       "\n",
       "  sortOrder      app   store  \n",
       "0    newest  shoppee  google  \n",
       "1    newest  shoppee  google  \n",
       "2    newest  shoppee  google  \n",
       "3    newest  shoppee  google  \n",
       "4    newest  shoppee  google  "
      ]
     },
     "execution_count": 10,
     "metadata": {},
     "output_type": "execute_result"
    }
   ],
   "source": [
    "df_google.rename(columns = {'score' : 'rating', 'at': 'date', 'appId': 'app', 'content': 'review'}, inplace = True)\n",
    "df_google.head()"
   ]
  },
  {
   "cell_type": "code",
   "execution_count": 11,
   "metadata": {},
   "outputs": [
    {
     "data": {
      "text/plain": [
       "Index(['date', 'title', 'userName', 'rating', 'review', 'developerResponse',\n",
       "       'isEdited', 'appid', 'store'],\n",
       "      dtype='object')"
      ]
     },
     "execution_count": 11,
     "metadata": {},
     "output_type": "execute_result"
    }
   ],
   "source": [
    "df_apple.columns"
   ]
  },
  {
   "cell_type": "code",
   "execution_count": 12,
   "metadata": {},
   "outputs": [
    {
     "ename": "NameError",
     "evalue": "name 'df_app' is not defined",
     "output_type": "error",
     "traceback": [
      "\u001b[1;31m---------------------------------------------------------------------------\u001b[0m",
      "\u001b[1;31mNameError\u001b[0m                                 Traceback (most recent call last)",
      "\u001b[1;32m<ipython-input-12-ec0e614029bb>\u001b[0m in \u001b[0;36m<module>\u001b[1;34m\u001b[0m\n\u001b[0;32m      1\u001b[0m \u001b[0mdf_apple\u001b[0m\u001b[1;33m.\u001b[0m\u001b[0mrename\u001b[0m\u001b[1;33m(\u001b[0m\u001b[0mcolumns\u001b[0m \u001b[1;33m=\u001b[0m \u001b[1;33m{\u001b[0m\u001b[1;34m'appid'\u001b[0m\u001b[1;33m:\u001b[0m \u001b[1;34m'app'\u001b[0m\u001b[1;33m}\u001b[0m\u001b[1;33m,\u001b[0m \u001b[0minplace\u001b[0m \u001b[1;33m=\u001b[0m \u001b[1;32mTrue\u001b[0m\u001b[1;33m)\u001b[0m\u001b[1;33m\u001b[0m\u001b[1;33m\u001b[0m\u001b[0m\n\u001b[0;32m      2\u001b[0m \u001b[0mdf_apple\u001b[0m\u001b[1;33m.\u001b[0m\u001b[0mhead\u001b[0m\u001b[1;33m(\u001b[0m\u001b[1;33m)\u001b[0m\u001b[1;33m\u001b[0m\u001b[1;33m\u001b[0m\u001b[0m\n\u001b[1;32m----> 3\u001b[1;33m \u001b[0mdf_app\u001b[0m\u001b[1;33m[\u001b[0m\u001b[1;34m'app'\u001b[0m\u001b[1;33m]\u001b[0m\u001b[1;33m.\u001b[0m\u001b[0mvalue_counts\u001b[0m\u001b[1;33m(\u001b[0m\u001b[1;33m)\u001b[0m\u001b[1;33m\u001b[0m\u001b[1;33m\u001b[0m\u001b[0m\n\u001b[0m",
      "\u001b[1;31mNameError\u001b[0m: name 'df_app' is not defined"
     ]
    }
   ],
   "source": [
    "df_apple.rename(columns = {'appid': 'app'}, inplace = True)\n",
    "df_apple.head()\n",
    "df_app['app'].value_counts()"
   ]
  },
  {
   "cell_type": "markdown",
   "metadata": {},
   "source": [
    "## Combining dataframe"
   ]
  },
  {
   "cell_type": "code",
   "execution_count": null,
   "metadata": {},
   "outputs": [],
   "source": [
    "df = df_google[['rating', \n",
    "                'date', \n",
    "                'app', \n",
    "                'store', \n",
    "                'review', ]].append(df_apple[['rating', \n",
    "                                               'date', \n",
    "                                               'app', \n",
    "                                               'store', \n",
    "                                               'review', ]])\n",
    "df.reset_index(inplace = True, drop = True)"
   ]
  },
  {
   "cell_type": "code",
   "execution_count": null,
   "metadata": {},
   "outputs": [],
   "source": [
    "df.head()"
   ]
  },
  {
   "cell_type": "code",
   "execution_count": null,
   "metadata": {},
   "outputs": [],
   "source": [
    "df.shape"
   ]
  },
  {
   "cell_type": "markdown",
   "metadata": {},
   "source": [
    "### Comments\n",
    "- There is more data collected from Google Play Store compared to Apple Appstore, which is not a problem as the project is just looking at the apps reviews directly, irregardless of where which platform they are from."
   ]
  },
  {
   "cell_type": "markdown",
   "metadata": {},
   "source": [
    "# Checking datatime Data"
   ]
  },
  {
   "cell_type": "code",
   "execution_count": null,
   "metadata": {},
   "outputs": [],
   "source": [
    "df['date'] = df['date'].astype('datetime64')\n",
    "df['date'].dt.year.value_counts()"
   ]
  },
  {
   "cell_type": "code",
   "execution_count": null,
   "metadata": {},
   "outputs": [],
   "source": [
    "df.info()"
   ]
  },
  {
   "cell_type": "code",
   "execution_count": null,
   "metadata": {},
   "outputs": [],
   "source": [
    "plt.figure(figsize = (10,10))\n",
    "sns.boxplot(x = df['date'].dt.year, y = 'app', data = df);"
   ]
  },
  {
   "cell_type": "code",
   "execution_count": null,
   "metadata": {},
   "outputs": [],
   "source": [
    "plt.figure(figsize = (10,10))\n",
    "sns.boxenplot(x = df['date'].dt.month, y = 'app', data = df[df['date'].dt.year == 2020]);"
   ]
  },
  {
   "cell_type": "markdown",
   "metadata": {},
   "source": [
    "### Comments\n",
    "There is more data collected in 2020 compared to the other years, could be due to the platform removing reviews when they reach a certain amount. Will be using 2020 reviews for the modeling due to the lack of most of the past data."
   ]
  },
  {
   "cell_type": "markdown",
   "metadata": {},
   "source": [
    "# Using only 2020 data"
   ]
  },
  {
   "cell_type": "code",
   "execution_count": null,
   "metadata": {},
   "outputs": [],
   "source": [
    "df = df[df['date'].dt.year == 2020]"
   ]
  },
  {
   "cell_type": "code",
   "execution_count": null,
   "metadata": {},
   "outputs": [],
   "source": [
    "#check app number of review\n",
    "df['app'].value_counts()"
   ]
  },
  {
   "cell_type": "code",
   "execution_count": null,
   "metadata": {},
   "outputs": [],
   "source": [
    "df.columns"
   ]
  },
  {
   "cell_type": "code",
   "execution_count": null,
   "metadata": {},
   "outputs": [],
   "source": [
    "df['rating'].value_counts(normalize=True)"
   ]
  },
  {
   "cell_type": "code",
   "execution_count": null,
   "metadata": {},
   "outputs": [],
   "source": [
    "df['review'][:5]"
   ]
  },
  {
   "cell_type": "markdown",
   "metadata": {},
   "source": [
    "# Cleaning of Text data for Modeling"
   ]
  },
  {
   "cell_type": "code",
   "execution_count": null,
   "metadata": {},
   "outputs": [],
   "source": [
    "#adding number to add into cleaning data process\n",
    "text1 = df['review'][20].lower() + ' 123' + ' 7eleven'\n",
    "text1"
   ]
  },
  {
   "cell_type": "code",
   "execution_count": null,
   "metadata": {},
   "outputs": [],
   "source": [
    "sp = spacy.load('en_core_web_sm')\n",
    "emoji = Emoji(sp, merge_spans = False)\n",
    "sp.add_pipe(emoji, first = True)"
   ]
  },
  {
   "cell_type": "markdown",
   "metadata": {},
   "source": [
    "### Comments\n",
    "Using SpaCy and Spacy Emoji to take our all the features that can possibly help our models predictibility"
   ]
  },
  {
   "cell_type": "code",
   "execution_count": null,
   "metadata": {
    "scrolled": true
   },
   "outputs": [],
   "source": [
    "sen = sp(text1)\n",
    "for token in sen:\n",
    "    print(token.text)"
   ]
  },
  {
   "cell_type": "code",
   "execution_count": null,
   "metadata": {
    "scrolled": true
   },
   "outputs": [],
   "source": [
    "for word in sen:\n",
    "    print(f'{word.text:{12}} {word.pos_:{10}} {word.tag_:{8}} {spacy.explain(word.tag_)}')"
   ]
  },
  {
   "cell_type": "code",
   "execution_count": null,
   "metadata": {},
   "outputs": [],
   "source": [
    "adj_list = ''\n",
    "noun_list = ''\n",
    "verb_list = ''\n",
    "emoji_list = ''\n",
    "\n",
    "for word in sen:\n",
    "    if word._.is_emoji:\n",
    "        emoji_list += str(word)\n",
    "    else:\n",
    "        if word.pos_ == 'ADJ':\n",
    "            adj_list += str(word) + ' '\n",
    "        \n",
    "        elif word.pos_ == 'NOUN':\n",
    "            noun_list += str(word) + ' '\n",
    "        \n",
    "        elif word.pos_ == 'VERB':\n",
    "            verb_list += str(word) + ' '\n",
    "        "
   ]
  },
  {
   "cell_type": "code",
   "execution_count": null,
   "metadata": {},
   "outputs": [],
   "source": [
    "print(adj_list)\n",
    "print(noun_list)\n",
    "print(verb_list)\n",
    "print(emoji_list)"
   ]
  },
  {
   "cell_type": "markdown",
   "metadata": {},
   "source": [
    "# removing emojis and punctuations"
   ]
  },
  {
   "cell_type": "code",
   "execution_count": null,
   "metadata": {},
   "outputs": [],
   "source": [
    "string = []\n",
    "for word in sen:\n",
    "    if word.is_stop == False:\n",
    "        if word._.is_emoji == False:\n",
    "            if word.pos_ != 'PUNCT':\n",
    "                if word.pos_ != 'NUM':\n",
    "                    string.append(str(word.lemma_).lower())\n",
    "string"
   ]
  },
  {
   "cell_type": "markdown",
   "metadata": {},
   "source": [
    "## Comments\n",
    "Removing emoji and punctuations from the raw data"
   ]
  },
  {
   "cell_type": "markdown",
   "metadata": {},
   "source": [
    "# removing non english words"
   ]
  },
  {
   "cell_type": "code",
   "execution_count": null,
   "metadata": {},
   "outputs": [],
   "source": [
    "test_words = set(words.words())\n",
    "en_words = [w for w in string if w.lower() in test_words or not w.isalpha()]\n",
    "en_words"
   ]
  },
  {
   "cell_type": "markdown",
   "metadata": {},
   "source": [
    "### Coimments\n",
    "As there is quite a few reviews not in English, they will be removed from the test data"
   ]
  },
  {
   "cell_type": "markdown",
   "metadata": {},
   "source": [
    "# Lemmatize words"
   ]
  },
  {
   "cell_type": "code",
   "execution_count": null,
   "metadata": {},
   "outputs": [],
   "source": [
    "lemma = WordNetLemmatizer()\n",
    "words_lemma = [lemma.lemmatize(i) for i in en_words]\n",
    "words_lemma"
   ]
  },
  {
   "cell_type": "markdown",
   "metadata": {},
   "source": [
    "# get Sentiments scores"
   ]
  },
  {
   "cell_type": "code",
   "execution_count": null,
   "metadata": {},
   "outputs": [],
   "source": [
    "analyser = SentimentIntensityAnalyzer()\n",
    "print(df['review'][1])\n",
    "analyser.polarity_scores(df['review'][1])"
   ]
  },
  {
   "cell_type": "markdown",
   "metadata": {},
   "source": [
    "### Comments\n",
    "Using VaderSentiment to get the sentiment score of the reviews, this is more used in the EDA."
   ]
  },
  {
   "cell_type": "code",
   "execution_count": null,
   "metadata": {},
   "outputs": [],
   "source": [
    "sp = spacy.load('en_core_web_sm')\n",
    "emoji = Emoji(sp, merge_spans = False)\n",
    "sp.add_pipe(emoji, first = True)\n",
    "analyser = SentimentIntensityAnalyzer()\n",
    "tokenizer = RegexpTokenizer(r'\\w+')\n",
    "test_words = set(words.words())\n",
    "lemma = WordNetLemmatizer()\n",
    "\n",
    "def words_cleaning(text):\n",
    "    \n",
    "    #get score from raw text\n",
    "    scores = analyser.polarity_scores(str(text))\n",
    "    \n",
    "    # use spacy to categorize words\n",
    "    sen = sp(str(text))\n",
    "    \n",
    "    #creating list to store words\n",
    "    adj_list = ''\n",
    "    noun_list = ''\n",
    "    verb_list = ''\n",
    "    emoji_list = ''\n",
    "    \n",
    "    for word in sen:\n",
    "        if word._.is_emoji:\n",
    "            emoji_list += str(word)\n",
    "        else:\n",
    "            if word.pos_ == 'ADJ':\n",
    "                adj_list += (str(word.lemma_).lower()) + ' ' \n",
    "        \n",
    "            elif word.pos_ == 'NOUN':\n",
    "                noun_list += (str(word.lemma_).lower()) + ' '\n",
    "        \n",
    "            elif word.pos_ == 'VERB':\n",
    "                verb_list += (str(word.lemma_).lower()) + ' '\n",
    "                \n",
    "    string = []\n",
    "    for word in sen:\n",
    "        if word.is_stop == False:\n",
    "            if word._.is_emoji == False:\n",
    "                if word.pos_ != 'PUNCT':\n",
    "                    if word.pos_ != 'NUM':\n",
    "                        string.append(str(word.lemma_).lower())     \n",
    "    \n",
    "    #removing non english words\n",
    "    en_words = [w for w in string if w.lower() in test_words or not w.isalpha()]\n",
    "\n",
    "    #steming tokens\n",
    "    words_lemma = [lemma.lemmatize(i) for i in en_words]\n",
    "    \n",
    "    #join words\n",
    "    join_words = (\" \".join(words_lemma))\n",
    "\n",
    "  \n",
    "    return(join_words, adj_list, noun_list, verb_list, emoji_list, scores)"
   ]
  },
  {
   "cell_type": "code",
   "execution_count": null,
   "metadata": {},
   "outputs": [],
   "source": [
    "words_cleaning(df['review'][300])"
   ]
  },
  {
   "cell_type": "code",
   "execution_count": null,
   "metadata": {},
   "outputs": [],
   "source": [
    "words_cleaning(df['review'][300])[5]['neg']"
   ]
  },
  {
   "cell_type": "markdown",
   "metadata": {},
   "source": [
    "# Function to clean text Data"
   ]
  },
  {
   "cell_type": "code",
   "execution_count": null,
   "metadata": {
    "scrolled": false
   },
   "outputs": [],
   "source": [
    "total_text = len(df['review'])\n",
    "print(f'There is a total of {total_text} selftext.')\n",
    "\n",
    "#instantiate empty list to hold cleaned data\n",
    "clean_text = []\n",
    "adj_text = []\n",
    "noun_text = []\n",
    "verb_list = []\n",
    "emoji_icons = []\n",
    "neg_scores = []\n",
    "neu_scores = []\n",
    "pos_scores = []\n",
    "compound_scores = []\n",
    "\n",
    "t0 = time()\n",
    "print(\"Cleaning and parsing the training set text...\")\n",
    "\n",
    "# Instantiate counter.\n",
    "j = 0\n",
    "\n",
    "# For every review in our training set...\n",
    "for text in df['review']:\n",
    "    \n",
    "    join, adj, noun, verb, emoji, scores = words_cleaning(text)\n",
    "    \n",
    "    # Convert text to words, then append to clean_train_text.\n",
    "    clean_text.append(str(join).lower())\n",
    "    adj_text.append(adj)\n",
    "    noun_text.append(noun)\n",
    "    verb_list.append(verb)\n",
    "    emoji_icons.append(emoji)\n",
    "    neg_scores.append(scores['neg'])\n",
    "    neu_scores.append(scores['neu'])\n",
    "    pos_scores.append(scores['pos'])\n",
    "    compound_scores.append(scores['compound'])\n",
    "    \n",
    "    # If the index is divisible by 100, print a message.\n",
    "    if (j + 1) % 10000 == 0:\n",
    "        print(f'selftext {j + 1} of {total_text}.')\n",
    "        bag_test_time = time() - t0\n",
    "        print('Fit time:  %0.3fs' % bag_test_time);\n",
    "    j += 1\n",
    "\n",
    "    \n",
    "print(f'selftext {total_text} of {total_text}.')    \n",
    "print('Cleaning complete')\n",
    "\n",
    "df['clean_content'] = clean_text\n",
    "df['adj'] = adj_text\n",
    "df['noun'] = noun_text\n",
    "df['verb'] = verb_list\n",
    "df['emoji'] = emoji_icons\n",
    "df['neg_score'] = neg_scores\n",
    "df['neu_score'] = neu_scores\n",
    "df['pos_score'] = pos_scores\n",
    "df['compound_score'] = compound_scores"
   ]
  },
  {
   "cell_type": "code",
   "execution_count": null,
   "metadata": {
    "scrolled": false
   },
   "outputs": [],
   "source": [
    "df.head()"
   ]
  },
  {
   "cell_type": "code",
   "execution_count": null,
   "metadata": {},
   "outputs": [],
   "source": [
    "df.to_csv('../data/cleaned_reviews.csv', index=None, header=True)"
   ]
  },
  {
   "cell_type": "code",
   "execution_count": null,
   "metadata": {},
   "outputs": [],
   "source": []
  }
 ],
 "metadata": {
  "kernelspec": {
   "display_name": "Python 3",
   "language": "python",
   "name": "python3"
  },
  "language_info": {
   "codemirror_mode": {
    "name": "ipython",
    "version": 3
   },
   "file_extension": ".py",
   "mimetype": "text/x-python",
   "name": "python",
   "nbconvert_exporter": "python",
   "pygments_lexer": "ipython3",
   "version": "3.8.5"
  },
  "toc": {
   "base_numbering": 1,
   "nav_menu": {},
   "number_sections": false,
   "sideBar": true,
   "skip_h1_title": false,
   "title_cell": "Table of Contents",
   "title_sidebar": "Contents",
   "toc_cell": false,
   "toc_position": {
    "height": "calc(100% - 180px)",
    "left": "10px",
    "top": "150px",
    "width": "568.889px"
   },
   "toc_section_display": true,
   "toc_window_display": true
  }
 },
 "nbformat": 4,
 "nbformat_minor": 4
}
