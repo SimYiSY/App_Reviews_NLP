{
 "cells": [
  {
   "cell_type": "markdown",
   "metadata": {},
   "source": [
    "# Shopping Apps, Rating for Google Play Store and Apple AppStore Users\n",
    "\n",
    "<img src=\"https://image.freepik.com/free-vector/cartoon-delivery-man-brings-goods-customer-from-laptop-vector-illustration-concept-with-online-shopping-services_46527-344.jpg\" />\n",
    "\n",
    "## Introduction\n",
    "\n",
    "Users download apps for various purposes. Given that there is a rise in the usage of online shopping due to the Covid-19 pandemic, improvement of shopping experience has become more important then before. With that in mind, what are the important features we have to look out for to improve a shopping app?\n",
    "\n",
    "## Problem Statement\n",
    "\n",
    "- How do the app ratings differ across different shopping apps?\n",
    "- Is there any specific group of users we can look out for to improve the app?\n",
    "- Are there any specific improvement we can work on to further improve user satisfaction of the app?\n",
    "\n",
    "To explore and answer the above questions, we will scrap reviews from Google Play Store and Apple AppStore and conduct analysis and modelling.\n",
    "\n",
    "## Executive Summary\n",
    "\n",
    "The data is webscrapped from the Shopping category in Google Play Store and Apple Appstore, 8 apps reviews were chosen for this project (Amazon, Wish, ASOS, Lazada, Ebay, Shoppee, AliExpress, Carousell). The data used was exclusive dated in 2020 only as majority of the data scrapped are from in 2020. Data cleaning was done by removing stopwords, lemmatized and Vectorized to the raw data to create bag-of-words. \n",
    "\n",
    "There will be 2 steps to our modelling process, with the first step classifying whether the text is a good or bad review, followed by classifying the reviews into categories created through topic modelling to group them into different subgroups.\n",
    "\n",
    "A few classification model were used, namely LogisticRegression, MultinomialNB, SGDClassifier, RandomForest, ADABoost. LogisticRegression give us the best results in classifying our data and thus used as the final model. \n",
    "\n",
    "As the data set is quite big, RandomizedSearch was used instead of Gridsearch to find the best hyperparameter.\n",
    "\n",
    "\n",
    "\n",
    "### Content Summary\n",
    "- Webscrapped reviews of 8 apps from Google Play Store & Apple App Store\n",
    "- Data Cleaning \n",
    "  - Removing data not in year 2020\n",
    "  - Removing emoji and punctuations\n",
    "  - Removing non english words\n",
    "  - Lemmatization\n",
    "  - Compound score calculation using VaderSentiment\n",
    "- EDA\n",
    "- - Check for wrongly Rated reviews\n",
    "  - Plotting distribution of features\n",
    "  - Topic modelling of good reviews\n",
    "  - Topic modelling of bad reviews\n",
    "- Machine Learning Model \n",
    "  - LogisticRegression\n",
    "  - MultinomialNB\n",
    "  - SGDClassifier\n",
    "  - RandomForest\n",
    "  - ADABoost\n",
    "- Deep Learning Model\n",
    "  - Convolutional Neural Network\n",
    "  \n",
    "### Key Findings\n",
    "\n",
    "- How do the app ratings differ across different shopping apps?\n",
    "    - Users the wants to give a bad review will tend to just give a 1 rating\n",
    "    - Users that wants to give a good review will tend to just give a 5 rating\n",
    "    - Amazon seems to take the lead in having more bad reviews as compared to the other apps, especially App Issues , User interface and Account issues\n",
    "    - Wish has slightly higher negative delivery issue reviews\n",
    "    - AliExpress has High Refund issues. \n",
    "    - Shoppee takes the lead in Convenient app while ASOS takes the lead for User Interface\n",
    "    - Bad reviews tend to have more word count as compared to Good reviews\n",
    "    - More negative reviews are seen in 9am - 3pm period\n",
    "    - More negative reviews on Tuesdays\n",
    "    - Good Reviews are mostly on Convenient App and User Interface\n",
    "    - Bad reviews are mostly on User Interface, App Issues and Purchase Experience\n",
    "    - There is more negative reviews in 9am - 3pm period, and on Tuesdays\n",
    "    - There is quite a number of reviews being 1 word, or otherwise rated wrongly by the user, (e.g. review: Excellent, Rating: 1)\n",
    "- Is there any specific group of users we can look out for to improve the app?\n",
    "    - The categories for Good Reviews are:  Convenient App, User Interface, Variety & Price, User Experience, Shopping Experience, Delivery, Consumer Satisfaction, In-App Actitives, Recommendations, Customer Service\n",
    "    - The categories for Bad Reviews are:  Account Issues, Poor Seller Feedback, User Interface, Payment Issue, Poor Customer Service, Product Issue, App Issues, Delivery Issue, Refund, Product Listing Issues\n",
    "- Are there any specific improvement we can work on to further improve user satisfaction of the app?\n",
    "    - Ratings for Refund seems to take a dip in March\n",
    "    - Ratings for Refund and Poor Seller Feedback is consistently low across the week.\n",
    "    - Consumer Satisfaction is always going lower as compared to other topics in the good reviews sector\n",
    "    - Customer Service and Consumer satisfaction is consistently lower in the week compared to other categories in good reviews\n",
    "    - Delivery, Consumer Satisfaction and Recommendations are scored lower in good reviews.\n",
    "    - Poor Seller feedback and refunds are scored lower in bad reviews\n",
    "    - Base on compound scores, Delivery and Product tend to be very low as compared to other categories.\n",
    "    - To summarise, it is important to look into customer satisfaction for the app, where Customer Service, Refund, Delivery and Recommendations are import factors to look out for. \n",
    "    - It is also important to put some focus on sellers that are doing bad on the platform.\n",
    "\n",
    "### Metrics\n",
    "Using the following metrics to evaluate the models:\n",
    "- ROC AUC curve(for Binary Classification)\n",
    "  -  The ROC AUC curve is able to tell how much the model is capable of distinguishing between 0 and 1, with 1 being perfectly classified.\n",
    "- MCC Score\n",
    "  - The Matthews correlation coefficient (MCC), instead, is a more reliable statistical rate which produces a high score only if the prediction obtained good results in all of the four confusion matrix categories (true positives, false negatives, true negatives, and false positives), proportionally both to the size of positive elements and the size of negative elements in the dataset.\n",
    "- Kappa Score(For multiclassification)\n",
    "  - Cohen’s Kappa is a quantitative measure of reliability for two raters that are rating the same thing, corrected for how often that the raters may agree by chance. ranging from 0 to 1, with 1 being good.\n",
    "  \n",
    "- f1 score weighted\n",
    "  - The F1 Scores are calculated for each label and then their average is weighted by support - which is the number of true instances for each label. It can result in an F-score that is not between precision and recall\n",
    "\n",
    "### Final Results\n",
    "**Classification (Good & Bad Reviews)**\n",
    "- LogisticRegression\n",
    "  - Train data AUC: 0.966\n",
    "  - Test data AUC: 0.965\n",
    "  - MCC Score: 0.773\n",
    "- Convolutional Neural Network\n",
    "  - Train data AUC: 0.977\n",
    "  - Test data AUC: 0.961\n",
    "  - MCC Score: 0.767\n",
    "  \n",
    "**Multi Classification (Bad Review categories)**\n",
    "- LogisticRegression\n",
    "    - Train Data f1 weighted score: 0.731\n",
    "    - Test Data f1 weighted score: 0.741\t\n",
    "    - MCC Score: 0.705\t\n",
    "    - Kappa Score: 0.704\n",
    "- Convolutional Neural Network\n",
    "  - Train data Acciracy: 0.914\n",
    "  - Test data Accuracy: 0.717\n",
    "  - MCC Score: 0.679\n",
    "  - Kappa Score: 0.679 \n",
    "\n",
    "**Multi Classification (Good Review categories)**\n",
    "- LogisticRegression\n",
    "    - Train Data f1 weighted score: 0.868\t\n",
    "    - Test Data f1 weighted score: 0.878\t\n",
    "    - MCC Score: 0.851\t\n",
    "    - Kappa Score: 0.850\n",
    "- Convolutional Neural Network\n",
    "  - Train data Acciracy: 0.941\n",
    "  - Test data Accuracy: 0.841\n",
    "  - MCC Score: 0.805\n",
    "  - Kappa Score: 0.657 \n",
    "\n",
    "**Model Remarks**\n",
    "- From the misclassified post we can see the some comments are rated wrongly if we were to just look at the reviews directly.\n",
    "- Some of the reviews are predicted wrongly. After looking at some of the reviews, it is clear that there are some misclassification by the topic modelling.\n",
    "- It can be seen that the model is actually predicting better then what was classified in the first place.\n",
    "- Some of the topics are very closely related to one another, which make it harder for the model to predict correctly\n",
    "- Deep Learning Models are performing worst then Machine learning models, which could be due to the lack of complexity of the data for Neural Network to work well.\n",
    "\n",
    "### Limitations\n",
    "- The data set is mostly collected in the month of August and September, which means the model is able to predict this period better, but not in predicting past data. \n",
    "- More data could be collected, as there is a major lack of Apple Appstore reviews compared to Google Play Store\n",
    "\n",
    "### Further research\n",
    "- Try to use Compound score gathered from VaderSentiment to do the classification instead, as we know there is some misclassified post by users. which hopefully give us a better accuracy.\n",
    "- Try different categories, not just shopping app category apps, do create a more complete review prediction model\n",
    "\n",
    "### Content\n",
    "1. Webscrap data\n",
    "2. Data Cleaning\n",
    "3. EDA\n",
    "4. Model Part 1, Classification (Good & Bad Reviews)\n",
    "5. Model Part 2, Multi Classification (Bad Review categories) \n",
    "6. Model Part 3, Multi Classification (Good Review categories)\n",
    "7. Deep Learning Model"
   ]
  },
  {
   "cell_type": "markdown",
   "metadata": {},
   "source": [
    "# Import Library"
   ]
  },
  {
   "cell_type": "code",
   "execution_count": 31,
   "metadata": {},
   "outputs": [],
   "source": [
    "import pandas as pd\n",
    "import numpy as np\n",
    "import matplotlib.pyplot as plt\n",
    "import seaborn as sns\n",
    "from time import time\n",
    "\n",
    "from PIL import Image\n",
    "from wordcloud import WordCloud\n",
    "\n",
    "from bs4 import BeautifulSoup\n",
    "import re\n",
    "import spacy\n",
    "from spacymoji import Emoji\n",
    "from nltk.corpus import stopwords, words\n",
    "from nltk import wordpunct_tokenize\n",
    "from nltk.stem import WordNetLemmatizer\n",
    "from nltk.stem.porter import PorterStemmer\n",
    "from nltk.tokenize import RegexpTokenizer\n",
    "from vaderSentiment.vaderSentiment import SentimentIntensityAnalyzer\n",
    "from spacy_langdetect import LanguageDetector"
   ]
  },
  {
   "cell_type": "markdown",
   "metadata": {},
   "source": [
    "# Import data"
   ]
  },
  {
   "cell_type": "code",
   "execution_count": 32,
   "metadata": {},
   "outputs": [],
   "source": [
    "df_info = pd.read_csv('../data/shoppingapps_info.csv')\n",
    "df_google = pd.read_csv('../data/google_apps_reviews.csv')\n",
    "df_apple = pd.read_csv('../data/apple_apps_reviews.csv')"
   ]
  },
  {
   "cell_type": "markdown",
   "metadata": {},
   "source": [
    "## Checking info "
   ]
  },
  {
   "cell_type": "code",
   "execution_count": 33,
   "metadata": {},
   "outputs": [
    {
     "data": {
      "text/html": [
       "<div>\n",
       "<style scoped>\n",
       "    .dataframe tbody tr th:only-of-type {\n",
       "        vertical-align: middle;\n",
       "    }\n",
       "\n",
       "    .dataframe tbody tr th {\n",
       "        vertical-align: top;\n",
       "    }\n",
       "\n",
       "    .dataframe thead th {\n",
       "        text-align: right;\n",
       "    }\n",
       "</style>\n",
       "<table border=\"1\" class=\"dataframe\">\n",
       "  <thead>\n",
       "    <tr style=\"text-align: right;\">\n",
       "      <th></th>\n",
       "      <th>title</th>\n",
       "      <th>description</th>\n",
       "      <th>descriptionHTML</th>\n",
       "      <th>summary</th>\n",
       "      <th>summaryHTML</th>\n",
       "      <th>installs</th>\n",
       "      <th>minInstalls</th>\n",
       "      <th>score</th>\n",
       "      <th>ratings</th>\n",
       "      <th>reviews</th>\n",
       "      <th>...</th>\n",
       "      <th>contentRatingDescription</th>\n",
       "      <th>adSupported</th>\n",
       "      <th>containsAds</th>\n",
       "      <th>released</th>\n",
       "      <th>updated</th>\n",
       "      <th>version</th>\n",
       "      <th>recentChanges</th>\n",
       "      <th>recentChangesHTML</th>\n",
       "      <th>appId</th>\n",
       "      <th>url</th>\n",
       "    </tr>\n",
       "  </thead>\n",
       "  <tbody>\n",
       "    <tr>\n",
       "      <th>0</th>\n",
       "      <td>Shopee: #1 Online Platform</td>\n",
       "      <td>*For usage in Singapore only\\r\\n\\r\\nShopee is ...</td>\n",
       "      <td>*For usage in Singapore only&lt;br&gt;&lt;br&gt;Shopee is ...</td>\n",
       "      <td>#1 Online Shopping Platform\\r\\n15% Cashback | ...</td>\n",
       "      <td>#1 Online Shopping Platform&lt;br&gt;15% Cashback | ...</td>\n",
       "      <td>1,000,000+</td>\n",
       "      <td>1000000</td>\n",
       "      <td>4.776189</td>\n",
       "      <td>75281</td>\n",
       "      <td>20125</td>\n",
       "      <td>...</td>\n",
       "      <td>NaN</td>\n",
       "      <td>NaN</td>\n",
       "      <td>False</td>\n",
       "      <td>May 24, 2015</td>\n",
       "      <td>1600059737</td>\n",
       "      <td>2.60.11</td>\n",
       "      <td>Thanks for using Shopee! We’ve fixed some bugs...</td>\n",
       "      <td>Thanks for using Shopee! We’ve fixed some bugs...</td>\n",
       "      <td>com.shopee.sg</td>\n",
       "      <td>https://play.google.com/store/apps/details?id=...</td>\n",
       "    </tr>\n",
       "    <tr>\n",
       "      <th>1</th>\n",
       "      <td>Carousell: Snap-Sell, Chat-Buy</td>\n",
       "      <td>Carousell is a community marketplace that lets...</td>\n",
       "      <td>Carousell is a community marketplace that lets...</td>\n",
       "      <td>Carousell: Snap to Sell, Chat to Buy. And it's...</td>\n",
       "      <td>Carousell: Snap to Sell, Chat to Buy. And it&amp;#...</td>\n",
       "      <td>10,000,000+</td>\n",
       "      <td>10000000</td>\n",
       "      <td>4.542936</td>\n",
       "      <td>186438</td>\n",
       "      <td>70213</td>\n",
       "      <td>...</td>\n",
       "      <td>Parental Guidance Recommended</td>\n",
       "      <td>True</td>\n",
       "      <td>True</td>\n",
       "      <td>Jan 15, 2013</td>\n",
       "      <td>1600053888</td>\n",
       "      <td>2.179.753.778</td>\n",
       "      <td>Every week, we polish the app to help you buy,...</td>\n",
       "      <td>Every week, we polish the app to help you buy,...</td>\n",
       "      <td>com.thecarousell.Carousell</td>\n",
       "      <td>https://play.google.com/store/apps/details?id=...</td>\n",
       "    </tr>\n",
       "    <tr>\n",
       "      <th>2</th>\n",
       "      <td>Lazada &amp; RedMart - Online Shopping &amp; Groceries</td>\n",
       "      <td>Welcome to the brand new Lazada™ mobile app! J...</td>\n",
       "      <td>Welcome to the brand new Lazada™ mobile app! J...</td>\n",
       "      <td>Shop Countless Deals Online at Lazada Singapore!</td>\n",
       "      <td>Shop Countless Deals Online at Lazada Singapore!</td>\n",
       "      <td>100,000,000+</td>\n",
       "      <td>100000000</td>\n",
       "      <td>4.441479</td>\n",
       "      <td>7051435</td>\n",
       "      <td>2646815</td>\n",
       "      <td>...</td>\n",
       "      <td>NaN</td>\n",
       "      <td>NaN</td>\n",
       "      <td>False</td>\n",
       "      <td>Jun 8, 2013</td>\n",
       "      <td>1600176475</td>\n",
       "      <td>6.52.0</td>\n",
       "      <td>Thanks for using LAZADA! We've enhanced the pe...</td>\n",
       "      <td>Thanks for using LAZADA! We&amp;#39;ve enhanced th...</td>\n",
       "      <td>com.lazada.android</td>\n",
       "      <td>https://play.google.com/store/apps/details?id=...</td>\n",
       "    </tr>\n",
       "    <tr>\n",
       "      <th>3</th>\n",
       "      <td>AliExpress - Smarter Shopping, Better Living</td>\n",
       "      <td>Ever wanted to shop everything in one place, a...</td>\n",
       "      <td>Ever wanted to shop everything in one place, a...</td>\n",
       "      <td>AliExpress - Smarter Shopping, Better Living</td>\n",
       "      <td>AliExpress - Smarter Shopping, Better Living</td>\n",
       "      <td>100,000,000+</td>\n",
       "      <td>100000000</td>\n",
       "      <td>4.509242</td>\n",
       "      <td>10217530</td>\n",
       "      <td>3144111</td>\n",
       "      <td>...</td>\n",
       "      <td>Parental Guidance Recommended</td>\n",
       "      <td>NaN</td>\n",
       "      <td>False</td>\n",
       "      <td>Sep 27, 2012</td>\n",
       "      <td>1600157563</td>\n",
       "      <td>8.16.0</td>\n",
       "      <td>We're always looking for ways to further optim...</td>\n",
       "      <td>We&amp;#39;re always looking for ways to further o...</td>\n",
       "      <td>com.alibaba.aliexpresshd</td>\n",
       "      <td>https://play.google.com/store/apps/details?id=...</td>\n",
       "    </tr>\n",
       "    <tr>\n",
       "      <th>4</th>\n",
       "      <td>eBay: Discover great deals on the brands you love</td>\n",
       "      <td>Buy, sell and save with the eBay app! Shop dea...</td>\n",
       "      <td>Buy, sell and save with the eBay app! Shop dea...</td>\n",
       "      <td>Buy and sell on the world’s largest marketplac...</td>\n",
       "      <td>Buy and sell on the world’s largest marketplac...</td>\n",
       "      <td>100,000,000+</td>\n",
       "      <td>100000000</td>\n",
       "      <td>4.716624</td>\n",
       "      <td>3436915</td>\n",
       "      <td>1263982</td>\n",
       "      <td>...</td>\n",
       "      <td>Parental Guidance Recommended</td>\n",
       "      <td>True</td>\n",
       "      <td>True</td>\n",
       "      <td>Feb 17, 2010</td>\n",
       "      <td>1599781634</td>\n",
       "      <td>Varies with device</td>\n",
       "      <td>Tap “lockable filters” in the “customize” sect...</td>\n",
       "      <td>Tap “lockable filters” in the “customize” sect...</td>\n",
       "      <td>com.ebay.mobile</td>\n",
       "      <td>https://play.google.com/store/apps/details?id=...</td>\n",
       "    </tr>\n",
       "  </tbody>\n",
       "</table>\n",
       "<p>5 rows × 48 columns</p>\n",
       "</div>"
      ],
      "text/plain": [
       "                                               title  \\\n",
       "0                         Shopee: #1 Online Platform   \n",
       "1                     Carousell: Snap-Sell, Chat-Buy   \n",
       "2     Lazada & RedMart - Online Shopping & Groceries   \n",
       "3       AliExpress - Smarter Shopping, Better Living   \n",
       "4  eBay: Discover great deals on the brands you love   \n",
       "\n",
       "                                         description  \\\n",
       "0  *For usage in Singapore only\\r\\n\\r\\nShopee is ...   \n",
       "1  Carousell is a community marketplace that lets...   \n",
       "2  Welcome to the brand new Lazada™ mobile app! J...   \n",
       "3  Ever wanted to shop everything in one place, a...   \n",
       "4  Buy, sell and save with the eBay app! Shop dea...   \n",
       "\n",
       "                                     descriptionHTML  \\\n",
       "0  *For usage in Singapore only<br><br>Shopee is ...   \n",
       "1  Carousell is a community marketplace that lets...   \n",
       "2  Welcome to the brand new Lazada™ mobile app! J...   \n",
       "3  Ever wanted to shop everything in one place, a...   \n",
       "4  Buy, sell and save with the eBay app! Shop dea...   \n",
       "\n",
       "                                             summary  \\\n",
       "0  #1 Online Shopping Platform\\r\\n15% Cashback | ...   \n",
       "1  Carousell: Snap to Sell, Chat to Buy. And it's...   \n",
       "2   Shop Countless Deals Online at Lazada Singapore!   \n",
       "3       AliExpress - Smarter Shopping, Better Living   \n",
       "4  Buy and sell on the world’s largest marketplac...   \n",
       "\n",
       "                                         summaryHTML      installs  \\\n",
       "0  #1 Online Shopping Platform<br>15% Cashback | ...    1,000,000+   \n",
       "1  Carousell: Snap to Sell, Chat to Buy. And it&#...   10,000,000+   \n",
       "2   Shop Countless Deals Online at Lazada Singapore!  100,000,000+   \n",
       "3       AliExpress - Smarter Shopping, Better Living  100,000,000+   \n",
       "4  Buy and sell on the world’s largest marketplac...  100,000,000+   \n",
       "\n",
       "   minInstalls     score   ratings  reviews  ...  \\\n",
       "0      1000000  4.776189     75281    20125  ...   \n",
       "1     10000000  4.542936    186438    70213  ...   \n",
       "2    100000000  4.441479   7051435  2646815  ...   \n",
       "3    100000000  4.509242  10217530  3144111  ...   \n",
       "4    100000000  4.716624   3436915  1263982  ...   \n",
       "\n",
       "        contentRatingDescription  adSupported  containsAds      released  \\\n",
       "0                            NaN          NaN        False  May 24, 2015   \n",
       "1  Parental Guidance Recommended         True         True  Jan 15, 2013   \n",
       "2                            NaN          NaN        False   Jun 8, 2013   \n",
       "3  Parental Guidance Recommended          NaN        False  Sep 27, 2012   \n",
       "4  Parental Guidance Recommended         True         True  Feb 17, 2010   \n",
       "\n",
       "      updated             version  \\\n",
       "0  1600059737             2.60.11   \n",
       "1  1600053888       2.179.753.778   \n",
       "2  1600176475              6.52.0   \n",
       "3  1600157563              8.16.0   \n",
       "4  1599781634  Varies with device   \n",
       "\n",
       "                                       recentChanges  \\\n",
       "0  Thanks for using Shopee! We’ve fixed some bugs...   \n",
       "1  Every week, we polish the app to help you buy,...   \n",
       "2  Thanks for using LAZADA! We've enhanced the pe...   \n",
       "3  We're always looking for ways to further optim...   \n",
       "4  Tap “lockable filters” in the “customize” sect...   \n",
       "\n",
       "                                   recentChangesHTML  \\\n",
       "0  Thanks for using Shopee! We’ve fixed some bugs...   \n",
       "1  Every week, we polish the app to help you buy,...   \n",
       "2  Thanks for using LAZADA! We&#39;ve enhanced th...   \n",
       "3  We&#39;re always looking for ways to further o...   \n",
       "4  Tap “lockable filters” in the “customize” sect...   \n",
       "\n",
       "                        appId  \\\n",
       "0               com.shopee.sg   \n",
       "1  com.thecarousell.Carousell   \n",
       "2          com.lazada.android   \n",
       "3    com.alibaba.aliexpresshd   \n",
       "4             com.ebay.mobile   \n",
       "\n",
       "                                                 url  \n",
       "0  https://play.google.com/store/apps/details?id=...  \n",
       "1  https://play.google.com/store/apps/details?id=...  \n",
       "2  https://play.google.com/store/apps/details?id=...  \n",
       "3  https://play.google.com/store/apps/details?id=...  \n",
       "4  https://play.google.com/store/apps/details?id=...  \n",
       "\n",
       "[5 rows x 48 columns]"
      ]
     },
     "execution_count": 33,
     "metadata": {},
     "output_type": "execute_result"
    }
   ],
   "source": [
    "df_info.head()"
   ]
  },
  {
   "cell_type": "code",
   "execution_count": 34,
   "metadata": {},
   "outputs": [
    {
     "data": {
      "text/plain": [
       "0                           Shopee: #1 Online Platform\n",
       "1                       Carousell: Snap-Sell, Chat-Buy\n",
       "2       Lazada & RedMart - Online Shopping & Groceries\n",
       "3         AliExpress - Smarter Shopping, Better Living\n",
       "4    eBay: Discover great deals on the brands you love\n",
       "5       Amazon Shopping - Search, Find, Ship, and Save\n",
       "6                                                 ASOS\n",
       "7                             Wish - Shopping Made Fun\n",
       "Name: title, dtype: object"
      ]
     },
     "execution_count": 34,
     "metadata": {},
     "output_type": "execute_result"
    }
   ],
   "source": [
    "df_info.title"
   ]
  },
  {
   "cell_type": "markdown",
   "metadata": {},
   "source": [
    "## Checking Google Playstore Review"
   ]
  },
  {
   "cell_type": "code",
   "execution_count": 35,
   "metadata": {},
   "outputs": [
    {
     "data": {
      "text/html": [
       "<div>\n",
       "<style scoped>\n",
       "    .dataframe tbody tr th:only-of-type {\n",
       "        vertical-align: middle;\n",
       "    }\n",
       "\n",
       "    .dataframe tbody tr th {\n",
       "        vertical-align: top;\n",
       "    }\n",
       "\n",
       "    .dataframe thead th {\n",
       "        text-align: right;\n",
       "    }\n",
       "</style>\n",
       "<table border=\"1\" class=\"dataframe\">\n",
       "  <thead>\n",
       "    <tr style=\"text-align: right;\">\n",
       "      <th></th>\n",
       "      <th>reviewId</th>\n",
       "      <th>userName</th>\n",
       "      <th>userImage</th>\n",
       "      <th>content</th>\n",
       "      <th>score</th>\n",
       "      <th>thumbsUpCount</th>\n",
       "      <th>reviewCreatedVersion</th>\n",
       "      <th>at</th>\n",
       "      <th>replyContent</th>\n",
       "      <th>repliedAt</th>\n",
       "      <th>sortOrder</th>\n",
       "      <th>appId</th>\n",
       "    </tr>\n",
       "  </thead>\n",
       "  <tbody>\n",
       "    <tr>\n",
       "      <th>0</th>\n",
       "      <td>gp:AOqpTOFMK_YUOfYqWluUehP3lajbdBztb0kaA_oinNC...</td>\n",
       "      <td>songsin12</td>\n",
       "      <td>https://lh3.googleusercontent.com/-_Z0Ydwm7Xcc...</td>\n",
       "      <td>Orders mostly came early and products are good.</td>\n",
       "      <td>5</td>\n",
       "      <td>0</td>\n",
       "      <td>2.60.11</td>\n",
       "      <td>2020-09-16 20:26:28</td>\n",
       "      <td>\"Thank you for giving Shopee a 5-star review! ...</td>\n",
       "      <td>2020-07-09 10:04:23</td>\n",
       "      <td>newest</td>\n",
       "      <td>com.shopee.sg</td>\n",
       "    </tr>\n",
       "    <tr>\n",
       "      <th>1</th>\n",
       "      <td>gp:AOqpTOECqGI7ocjdKrG5PykxhWmBG2wp1HzwO5zxrvj...</td>\n",
       "      <td>Ho Soh Fong</td>\n",
       "      <td>https://lh3.googleusercontent.com/a-/AOh14GhHM...</td>\n",
       "      <td>Good and convenient</td>\n",
       "      <td>4</td>\n",
       "      <td>0</td>\n",
       "      <td>2.60.08</td>\n",
       "      <td>2020-09-16 20:13:46</td>\n",
       "      <td>Thank you for your review. We're excited to be...</td>\n",
       "      <td>2020-09-16 20:17:31</td>\n",
       "      <td>newest</td>\n",
       "      <td>com.shopee.sg</td>\n",
       "    </tr>\n",
       "    <tr>\n",
       "      <th>2</th>\n",
       "      <td>gp:AOqpTOFK6om-GRJCgm-WXGyf_nurLs1YXL3FSoLRr5b...</td>\n",
       "      <td>Yasohthah Devadas</td>\n",
       "      <td>https://lh3.googleusercontent.com/-sji2OhurxhM...</td>\n",
       "      <td>Gd...........</td>\n",
       "      <td>5</td>\n",
       "      <td>0</td>\n",
       "      <td>2.60.11</td>\n",
       "      <td>2020-09-16 20:13:05</td>\n",
       "      <td>Thank you for giving Shopee a 5-star review! W...</td>\n",
       "      <td>2020-09-16 20:18:24</td>\n",
       "      <td>newest</td>\n",
       "      <td>com.shopee.sg</td>\n",
       "    </tr>\n",
       "    <tr>\n",
       "      <th>3</th>\n",
       "      <td>gp:AOqpTOHfstsd3G5jEoFQn62yZ9gpYcVj2oRlZZkKWBn...</td>\n",
       "      <td>May Han</td>\n",
       "      <td>https://play-lh.googleusercontent.com/-RhVs3Za...</td>\n",
       "      <td>My first purchase experience...Happy with purc...</td>\n",
       "      <td>4</td>\n",
       "      <td>0</td>\n",
       "      <td>2.60.11</td>\n",
       "      <td>2020-09-16 20:11:18</td>\n",
       "      <td>Thank you for your review. We're excited to be...</td>\n",
       "      <td>2020-09-16 20:28:10</td>\n",
       "      <td>newest</td>\n",
       "      <td>com.shopee.sg</td>\n",
       "    </tr>\n",
       "    <tr>\n",
       "      <th>4</th>\n",
       "      <td>gp:AOqpTOGtT_ODk0PZdHD0m_phZw4fFng1RvxZsM9Gk_v...</td>\n",
       "      <td>fauziah ata</td>\n",
       "      <td>https://lh3.googleusercontent.com/-NhTM2s673Pw...</td>\n",
       "      <td>A lot of items at a very good deal.</td>\n",
       "      <td>5</td>\n",
       "      <td>0</td>\n",
       "      <td>NaN</td>\n",
       "      <td>2020-09-16 20:08:54</td>\n",
       "      <td>Thank you for giving Shopee a 5-star review! W...</td>\n",
       "      <td>2020-09-16 20:29:35</td>\n",
       "      <td>newest</td>\n",
       "      <td>com.shopee.sg</td>\n",
       "    </tr>\n",
       "  </tbody>\n",
       "</table>\n",
       "</div>"
      ],
      "text/plain": [
       "                                            reviewId           userName  \\\n",
       "0  gp:AOqpTOFMK_YUOfYqWluUehP3lajbdBztb0kaA_oinNC...          songsin12   \n",
       "1  gp:AOqpTOECqGI7ocjdKrG5PykxhWmBG2wp1HzwO5zxrvj...        Ho Soh Fong   \n",
       "2  gp:AOqpTOFK6om-GRJCgm-WXGyf_nurLs1YXL3FSoLRr5b...  Yasohthah Devadas   \n",
       "3  gp:AOqpTOHfstsd3G5jEoFQn62yZ9gpYcVj2oRlZZkKWBn...            May Han   \n",
       "4  gp:AOqpTOGtT_ODk0PZdHD0m_phZw4fFng1RvxZsM9Gk_v...        fauziah ata   \n",
       "\n",
       "                                           userImage  \\\n",
       "0  https://lh3.googleusercontent.com/-_Z0Ydwm7Xcc...   \n",
       "1  https://lh3.googleusercontent.com/a-/AOh14GhHM...   \n",
       "2  https://lh3.googleusercontent.com/-sji2OhurxhM...   \n",
       "3  https://play-lh.googleusercontent.com/-RhVs3Za...   \n",
       "4  https://lh3.googleusercontent.com/-NhTM2s673Pw...   \n",
       "\n",
       "                                             content  score  thumbsUpCount  \\\n",
       "0    Orders mostly came early and products are good.      5              0   \n",
       "1                                Good and convenient      4              0   \n",
       "2                                      Gd...........      5              0   \n",
       "3  My first purchase experience...Happy with purc...      4              0   \n",
       "4                A lot of items at a very good deal.      5              0   \n",
       "\n",
       "  reviewCreatedVersion                   at  \\\n",
       "0              2.60.11  2020-09-16 20:26:28   \n",
       "1              2.60.08  2020-09-16 20:13:46   \n",
       "2              2.60.11  2020-09-16 20:13:05   \n",
       "3              2.60.11  2020-09-16 20:11:18   \n",
       "4                  NaN  2020-09-16 20:08:54   \n",
       "\n",
       "                                        replyContent            repliedAt  \\\n",
       "0  \"Thank you for giving Shopee a 5-star review! ...  2020-07-09 10:04:23   \n",
       "1  Thank you for your review. We're excited to be...  2020-09-16 20:17:31   \n",
       "2  Thank you for giving Shopee a 5-star review! W...  2020-09-16 20:18:24   \n",
       "3  Thank you for your review. We're excited to be...  2020-09-16 20:28:10   \n",
       "4  Thank you for giving Shopee a 5-star review! W...  2020-09-16 20:29:35   \n",
       "\n",
       "  sortOrder          appId  \n",
       "0    newest  com.shopee.sg  \n",
       "1    newest  com.shopee.sg  \n",
       "2    newest  com.shopee.sg  \n",
       "3    newest  com.shopee.sg  \n",
       "4    newest  com.shopee.sg  "
      ]
     },
     "execution_count": 35,
     "metadata": {},
     "output_type": "execute_result"
    }
   ],
   "source": [
    "df_google.head()"
   ]
  },
  {
   "cell_type": "code",
   "execution_count": 36,
   "metadata": {},
   "outputs": [
    {
     "data": {
      "text/plain": [
       "lazada        10000\n",
       "ebay          10000\n",
       "wish          10000\n",
       "amazon        10000\n",
       "carousell     10000\n",
       "shopee        10000\n",
       "asos          10000\n",
       "aliexpress    10000\n",
       "Name: appId, dtype: int64"
      ]
     },
     "execution_count": 36,
     "metadata": {},
     "output_type": "execute_result"
    }
   ],
   "source": [
    "labels = {'appId' : {'com.amazon.mShop.android.shopping' : 'amazon',\n",
    "                    'com.ebay.mobile' : 'ebay',\n",
    "                     'com.shopee.sg': 'shopee',\n",
    "                     'com.alibaba.aliexpresshd': 'aliexpress',\n",
    "                     'com.thecarousell.Carousell': 'carousell',\n",
    "                     'com.asos.app': 'asos',\n",
    "                     'com.lazada.android': 'lazada',\n",
    "                     'com.contextlogic.wish': 'wish',\n",
    "                    }}\n",
    "df_google.replace(labels, inplace=True)\n",
    "df_google['appId'].value_counts()"
   ]
  },
  {
   "cell_type": "markdown",
   "metadata": {},
   "source": [
    "## Checking Apple Appstore Review"
   ]
  },
  {
   "cell_type": "code",
   "execution_count": 37,
   "metadata": {},
   "outputs": [
    {
     "data": {
      "text/html": [
       "<div>\n",
       "<style scoped>\n",
       "    .dataframe tbody tr th:only-of-type {\n",
       "        vertical-align: middle;\n",
       "    }\n",
       "\n",
       "    .dataframe tbody tr th {\n",
       "        vertical-align: top;\n",
       "    }\n",
       "\n",
       "    .dataframe thead th {\n",
       "        text-align: right;\n",
       "    }\n",
       "</style>\n",
       "<table border=\"1\" class=\"dataframe\">\n",
       "  <thead>\n",
       "    <tr style=\"text-align: right;\">\n",
       "      <th></th>\n",
       "      <th>date</th>\n",
       "      <th>title</th>\n",
       "      <th>userName</th>\n",
       "      <th>rating</th>\n",
       "      <th>review</th>\n",
       "      <th>developerResponse</th>\n",
       "      <th>isEdited</th>\n",
       "      <th>appid</th>\n",
       "    </tr>\n",
       "  </thead>\n",
       "  <tbody>\n",
       "    <tr>\n",
       "      <th>0</th>\n",
       "      <td>2020-08-05 05:32:41</td>\n",
       "      <td>Good in price and customers’ interest platform</td>\n",
       "      <td>Little tortoise</td>\n",
       "      <td>5</td>\n",
       "      <td>Shopee is a platform that protecting customers...</td>\n",
       "      <td>{'id': 17097958, 'body': \"Thank you for giving...</td>\n",
       "      <td>False</td>\n",
       "      <td>shopee</td>\n",
       "    </tr>\n",
       "    <tr>\n",
       "      <th>1</th>\n",
       "      <td>2019-12-17 15:59:30</td>\n",
       "      <td>Bad experience</td>\n",
       "      <td>Tujimu</td>\n",
       "      <td>1</td>\n",
       "      <td>I have been used this app for years. However t...</td>\n",
       "      <td>{'id': 12456571, 'body': 'Hey,\\n\\nThank you fo...</td>\n",
       "      <td>False</td>\n",
       "      <td>shopee</td>\n",
       "    </tr>\n",
       "    <tr>\n",
       "      <th>2</th>\n",
       "      <td>2020-08-03 09:08:40</td>\n",
       "      <td>Waste of time</td>\n",
       "      <td>Xed82</td>\n",
       "      <td>1</td>\n",
       "      <td>I regretted choosing shopee. Reason being: Pur...</td>\n",
       "      <td>{'id': 17059815, 'body': 'Thank you for bringi...</td>\n",
       "      <td>False</td>\n",
       "      <td>shopee</td>\n",
       "    </tr>\n",
       "    <tr>\n",
       "      <th>3</th>\n",
       "      <td>2019-12-09 08:02:35</td>\n",
       "      <td>Shoppee is not one of the best shopping app...!</td>\n",
       "      <td>Cartoonfreak1980</td>\n",
       "      <td>5</td>\n",
       "      <td>Who says shopee is one of the best shopping ap...</td>\n",
       "      <td>{'id': 11615436, 'body': 'Hey, :D\\n\\nThank you...</td>\n",
       "      <td>True</td>\n",
       "      <td>shopee</td>\n",
       "    </tr>\n",
       "    <tr>\n",
       "      <th>4</th>\n",
       "      <td>2020-04-10 04:39:06</td>\n",
       "      <td>Disappointed</td>\n",
       "      <td>Raymond Koh</td>\n",
       "      <td>1</td>\n",
       "      <td>Initially when Shopee started, transactions ar...</td>\n",
       "      <td>{'id': 14589371, 'body': 'Thank you for bringi...</td>\n",
       "      <td>False</td>\n",
       "      <td>shopee</td>\n",
       "    </tr>\n",
       "  </tbody>\n",
       "</table>\n",
       "</div>"
      ],
      "text/plain": [
       "                  date                                            title  \\\n",
       "0  2020-08-05 05:32:41   Good in price and customers’ interest platform   \n",
       "1  2019-12-17 15:59:30                                   Bad experience   \n",
       "2  2020-08-03 09:08:40                                    Waste of time   \n",
       "3  2019-12-09 08:02:35  Shoppee is not one of the best shopping app...!   \n",
       "4  2020-04-10 04:39:06                                     Disappointed   \n",
       "\n",
       "           userName  rating  \\\n",
       "0   Little tortoise       5   \n",
       "1            Tujimu       1   \n",
       "2             Xed82       1   \n",
       "3  Cartoonfreak1980       5   \n",
       "4       Raymond Koh       1   \n",
       "\n",
       "                                              review  \\\n",
       "0  Shopee is a platform that protecting customers...   \n",
       "1  I have been used this app for years. However t...   \n",
       "2  I regretted choosing shopee. Reason being: Pur...   \n",
       "3  Who says shopee is one of the best shopping ap...   \n",
       "4  Initially when Shopee started, transactions ar...   \n",
       "\n",
       "                                   developerResponse  isEdited   appid  \n",
       "0  {'id': 17097958, 'body': \"Thank you for giving...     False  shopee  \n",
       "1  {'id': 12456571, 'body': 'Hey,\\n\\nThank you fo...     False  shopee  \n",
       "2  {'id': 17059815, 'body': 'Thank you for bringi...     False  shopee  \n",
       "3  {'id': 11615436, 'body': 'Hey, :D\\n\\nThank you...      True  shopee  \n",
       "4  {'id': 14589371, 'body': 'Thank you for bringi...     False  shopee  "
      ]
     },
     "execution_count": 37,
     "metadata": {},
     "output_type": "execute_result"
    }
   ],
   "source": [
    "df_apple.head()"
   ]
  },
  {
   "cell_type": "markdown",
   "metadata": {},
   "source": [
    "## Adding new column to df"
   ]
  },
  {
   "cell_type": "code",
   "execution_count": 38,
   "metadata": {},
   "outputs": [],
   "source": [
    "df_google['store'] = 'google'\n",
    "df_apple['store'] = 'apple'"
   ]
  },
  {
   "cell_type": "markdown",
   "metadata": {},
   "source": [
    "## Renaming columns"
   ]
  },
  {
   "cell_type": "code",
   "execution_count": 39,
   "metadata": {},
   "outputs": [
    {
     "data": {
      "text/plain": [
       "Index(['reviewId', 'userName', 'userImage', 'content', 'score',\n",
       "       'thumbsUpCount', 'reviewCreatedVersion', 'at', 'replyContent',\n",
       "       'repliedAt', 'sortOrder', 'appId', 'store'],\n",
       "      dtype='object')"
      ]
     },
     "execution_count": 39,
     "metadata": {},
     "output_type": "execute_result"
    }
   ],
   "source": [
    "df_google.columns"
   ]
  },
  {
   "cell_type": "code",
   "execution_count": 40,
   "metadata": {},
   "outputs": [
    {
     "data": {
      "text/html": [
       "<div>\n",
       "<style scoped>\n",
       "    .dataframe tbody tr th:only-of-type {\n",
       "        vertical-align: middle;\n",
       "    }\n",
       "\n",
       "    .dataframe tbody tr th {\n",
       "        vertical-align: top;\n",
       "    }\n",
       "\n",
       "    .dataframe thead th {\n",
       "        text-align: right;\n",
       "    }\n",
       "</style>\n",
       "<table border=\"1\" class=\"dataframe\">\n",
       "  <thead>\n",
       "    <tr style=\"text-align: right;\">\n",
       "      <th></th>\n",
       "      <th>reviewId</th>\n",
       "      <th>userName</th>\n",
       "      <th>userImage</th>\n",
       "      <th>review</th>\n",
       "      <th>rating</th>\n",
       "      <th>thumbsUpCount</th>\n",
       "      <th>reviewCreatedVersion</th>\n",
       "      <th>date</th>\n",
       "      <th>replyContent</th>\n",
       "      <th>repliedAt</th>\n",
       "      <th>sortOrder</th>\n",
       "      <th>app</th>\n",
       "      <th>store</th>\n",
       "    </tr>\n",
       "  </thead>\n",
       "  <tbody>\n",
       "    <tr>\n",
       "      <th>0</th>\n",
       "      <td>gp:AOqpTOFMK_YUOfYqWluUehP3lajbdBztb0kaA_oinNC...</td>\n",
       "      <td>songsin12</td>\n",
       "      <td>https://lh3.googleusercontent.com/-_Z0Ydwm7Xcc...</td>\n",
       "      <td>Orders mostly came early and products are good.</td>\n",
       "      <td>5</td>\n",
       "      <td>0</td>\n",
       "      <td>2.60.11</td>\n",
       "      <td>2020-09-16 20:26:28</td>\n",
       "      <td>\"Thank you for giving Shopee a 5-star review! ...</td>\n",
       "      <td>2020-07-09 10:04:23</td>\n",
       "      <td>newest</td>\n",
       "      <td>shopee</td>\n",
       "      <td>google</td>\n",
       "    </tr>\n",
       "    <tr>\n",
       "      <th>1</th>\n",
       "      <td>gp:AOqpTOECqGI7ocjdKrG5PykxhWmBG2wp1HzwO5zxrvj...</td>\n",
       "      <td>Ho Soh Fong</td>\n",
       "      <td>https://lh3.googleusercontent.com/a-/AOh14GhHM...</td>\n",
       "      <td>Good and convenient</td>\n",
       "      <td>4</td>\n",
       "      <td>0</td>\n",
       "      <td>2.60.08</td>\n",
       "      <td>2020-09-16 20:13:46</td>\n",
       "      <td>Thank you for your review. We're excited to be...</td>\n",
       "      <td>2020-09-16 20:17:31</td>\n",
       "      <td>newest</td>\n",
       "      <td>shopee</td>\n",
       "      <td>google</td>\n",
       "    </tr>\n",
       "    <tr>\n",
       "      <th>2</th>\n",
       "      <td>gp:AOqpTOFK6om-GRJCgm-WXGyf_nurLs1YXL3FSoLRr5b...</td>\n",
       "      <td>Yasohthah Devadas</td>\n",
       "      <td>https://lh3.googleusercontent.com/-sji2OhurxhM...</td>\n",
       "      <td>Gd...........</td>\n",
       "      <td>5</td>\n",
       "      <td>0</td>\n",
       "      <td>2.60.11</td>\n",
       "      <td>2020-09-16 20:13:05</td>\n",
       "      <td>Thank you for giving Shopee a 5-star review! W...</td>\n",
       "      <td>2020-09-16 20:18:24</td>\n",
       "      <td>newest</td>\n",
       "      <td>shopee</td>\n",
       "      <td>google</td>\n",
       "    </tr>\n",
       "    <tr>\n",
       "      <th>3</th>\n",
       "      <td>gp:AOqpTOHfstsd3G5jEoFQn62yZ9gpYcVj2oRlZZkKWBn...</td>\n",
       "      <td>May Han</td>\n",
       "      <td>https://play-lh.googleusercontent.com/-RhVs3Za...</td>\n",
       "      <td>My first purchase experience...Happy with purc...</td>\n",
       "      <td>4</td>\n",
       "      <td>0</td>\n",
       "      <td>2.60.11</td>\n",
       "      <td>2020-09-16 20:11:18</td>\n",
       "      <td>Thank you for your review. We're excited to be...</td>\n",
       "      <td>2020-09-16 20:28:10</td>\n",
       "      <td>newest</td>\n",
       "      <td>shopee</td>\n",
       "      <td>google</td>\n",
       "    </tr>\n",
       "    <tr>\n",
       "      <th>4</th>\n",
       "      <td>gp:AOqpTOGtT_ODk0PZdHD0m_phZw4fFng1RvxZsM9Gk_v...</td>\n",
       "      <td>fauziah ata</td>\n",
       "      <td>https://lh3.googleusercontent.com/-NhTM2s673Pw...</td>\n",
       "      <td>A lot of items at a very good deal.</td>\n",
       "      <td>5</td>\n",
       "      <td>0</td>\n",
       "      <td>NaN</td>\n",
       "      <td>2020-09-16 20:08:54</td>\n",
       "      <td>Thank you for giving Shopee a 5-star review! W...</td>\n",
       "      <td>2020-09-16 20:29:35</td>\n",
       "      <td>newest</td>\n",
       "      <td>shopee</td>\n",
       "      <td>google</td>\n",
       "    </tr>\n",
       "  </tbody>\n",
       "</table>\n",
       "</div>"
      ],
      "text/plain": [
       "                                            reviewId           userName  \\\n",
       "0  gp:AOqpTOFMK_YUOfYqWluUehP3lajbdBztb0kaA_oinNC...          songsin12   \n",
       "1  gp:AOqpTOECqGI7ocjdKrG5PykxhWmBG2wp1HzwO5zxrvj...        Ho Soh Fong   \n",
       "2  gp:AOqpTOFK6om-GRJCgm-WXGyf_nurLs1YXL3FSoLRr5b...  Yasohthah Devadas   \n",
       "3  gp:AOqpTOHfstsd3G5jEoFQn62yZ9gpYcVj2oRlZZkKWBn...            May Han   \n",
       "4  gp:AOqpTOGtT_ODk0PZdHD0m_phZw4fFng1RvxZsM9Gk_v...        fauziah ata   \n",
       "\n",
       "                                           userImage  \\\n",
       "0  https://lh3.googleusercontent.com/-_Z0Ydwm7Xcc...   \n",
       "1  https://lh3.googleusercontent.com/a-/AOh14GhHM...   \n",
       "2  https://lh3.googleusercontent.com/-sji2OhurxhM...   \n",
       "3  https://play-lh.googleusercontent.com/-RhVs3Za...   \n",
       "4  https://lh3.googleusercontent.com/-NhTM2s673Pw...   \n",
       "\n",
       "                                              review  rating  thumbsUpCount  \\\n",
       "0    Orders mostly came early and products are good.       5              0   \n",
       "1                                Good and convenient       4              0   \n",
       "2                                      Gd...........       5              0   \n",
       "3  My first purchase experience...Happy with purc...       4              0   \n",
       "4                A lot of items at a very good deal.       5              0   \n",
       "\n",
       "  reviewCreatedVersion                 date  \\\n",
       "0              2.60.11  2020-09-16 20:26:28   \n",
       "1              2.60.08  2020-09-16 20:13:46   \n",
       "2              2.60.11  2020-09-16 20:13:05   \n",
       "3              2.60.11  2020-09-16 20:11:18   \n",
       "4                  NaN  2020-09-16 20:08:54   \n",
       "\n",
       "                                        replyContent            repliedAt  \\\n",
       "0  \"Thank you for giving Shopee a 5-star review! ...  2020-07-09 10:04:23   \n",
       "1  Thank you for your review. We're excited to be...  2020-09-16 20:17:31   \n",
       "2  Thank you for giving Shopee a 5-star review! W...  2020-09-16 20:18:24   \n",
       "3  Thank you for your review. We're excited to be...  2020-09-16 20:28:10   \n",
       "4  Thank you for giving Shopee a 5-star review! W...  2020-09-16 20:29:35   \n",
       "\n",
       "  sortOrder     app   store  \n",
       "0    newest  shopee  google  \n",
       "1    newest  shopee  google  \n",
       "2    newest  shopee  google  \n",
       "3    newest  shopee  google  \n",
       "4    newest  shopee  google  "
      ]
     },
     "execution_count": 40,
     "metadata": {},
     "output_type": "execute_result"
    }
   ],
   "source": [
    "df_google.rename(columns = {'score' : 'rating', 'at': 'date', 'appId': 'app', 'content': 'review'}, inplace = True)\n",
    "df_google.head()"
   ]
  },
  {
   "cell_type": "code",
   "execution_count": 41,
   "metadata": {},
   "outputs": [
    {
     "data": {
      "text/plain": [
       "Index(['date', 'title', 'userName', 'rating', 'review', 'developerResponse',\n",
       "       'isEdited', 'appid', 'store'],\n",
       "      dtype='object')"
      ]
     },
     "execution_count": 41,
     "metadata": {},
     "output_type": "execute_result"
    }
   ],
   "source": [
    "df_apple.columns"
   ]
  },
  {
   "cell_type": "code",
   "execution_count": 42,
   "metadata": {},
   "outputs": [
    {
     "data": {
      "text/plain": [
       "carousell     6811\n",
       "shopee        2963\n",
       "aliexpress    1961\n",
       "lazada        1896\n",
       "ebay           663\n",
       "asos           572\n",
       "wish           373\n",
       "amazon         119\n",
       "Name: app, dtype: int64"
      ]
     },
     "execution_count": 42,
     "metadata": {},
     "output_type": "execute_result"
    }
   ],
   "source": [
    "df_apple.rename(columns = {'appid': 'app'}, inplace = True)\n",
    "df_apple.head()\n",
    "df_apple['app'].value_counts()"
   ]
  },
  {
   "cell_type": "markdown",
   "metadata": {},
   "source": [
    "## Combining dataframe"
   ]
  },
  {
   "cell_type": "code",
   "execution_count": 43,
   "metadata": {},
   "outputs": [],
   "source": [
    "df = df_google[['rating', \n",
    "                'date', \n",
    "                'app', \n",
    "                'store', \n",
    "                'review', ]].append(df_apple[['rating', \n",
    "                                               'date', \n",
    "                                               'app', \n",
    "                                               'store', \n",
    "                                               'review', ]])\n",
    "df.reset_index(inplace = True, drop = True)"
   ]
  },
  {
   "cell_type": "code",
   "execution_count": 44,
   "metadata": {},
   "outputs": [
    {
     "data": {
      "text/html": [
       "<div>\n",
       "<style scoped>\n",
       "    .dataframe tbody tr th:only-of-type {\n",
       "        vertical-align: middle;\n",
       "    }\n",
       "\n",
       "    .dataframe tbody tr th {\n",
       "        vertical-align: top;\n",
       "    }\n",
       "\n",
       "    .dataframe thead th {\n",
       "        text-align: right;\n",
       "    }\n",
       "</style>\n",
       "<table border=\"1\" class=\"dataframe\">\n",
       "  <thead>\n",
       "    <tr style=\"text-align: right;\">\n",
       "      <th></th>\n",
       "      <th>rating</th>\n",
       "      <th>date</th>\n",
       "      <th>app</th>\n",
       "      <th>store</th>\n",
       "      <th>review</th>\n",
       "    </tr>\n",
       "  </thead>\n",
       "  <tbody>\n",
       "    <tr>\n",
       "      <th>0</th>\n",
       "      <td>5</td>\n",
       "      <td>2020-09-16 20:26:28</td>\n",
       "      <td>shopee</td>\n",
       "      <td>google</td>\n",
       "      <td>Orders mostly came early and products are good.</td>\n",
       "    </tr>\n",
       "    <tr>\n",
       "      <th>1</th>\n",
       "      <td>4</td>\n",
       "      <td>2020-09-16 20:13:46</td>\n",
       "      <td>shopee</td>\n",
       "      <td>google</td>\n",
       "      <td>Good and convenient</td>\n",
       "    </tr>\n",
       "    <tr>\n",
       "      <th>2</th>\n",
       "      <td>5</td>\n",
       "      <td>2020-09-16 20:13:05</td>\n",
       "      <td>shopee</td>\n",
       "      <td>google</td>\n",
       "      <td>Gd...........</td>\n",
       "    </tr>\n",
       "    <tr>\n",
       "      <th>3</th>\n",
       "      <td>4</td>\n",
       "      <td>2020-09-16 20:11:18</td>\n",
       "      <td>shopee</td>\n",
       "      <td>google</td>\n",
       "      <td>My first purchase experience...Happy with purc...</td>\n",
       "    </tr>\n",
       "    <tr>\n",
       "      <th>4</th>\n",
       "      <td>5</td>\n",
       "      <td>2020-09-16 20:08:54</td>\n",
       "      <td>shopee</td>\n",
       "      <td>google</td>\n",
       "      <td>A lot of items at a very good deal.</td>\n",
       "    </tr>\n",
       "  </tbody>\n",
       "</table>\n",
       "</div>"
      ],
      "text/plain": [
       "   rating                 date     app   store  \\\n",
       "0       5  2020-09-16 20:26:28  shopee  google   \n",
       "1       4  2020-09-16 20:13:46  shopee  google   \n",
       "2       5  2020-09-16 20:13:05  shopee  google   \n",
       "3       4  2020-09-16 20:11:18  shopee  google   \n",
       "4       5  2020-09-16 20:08:54  shopee  google   \n",
       "\n",
       "                                              review  \n",
       "0    Orders mostly came early and products are good.  \n",
       "1                                Good and convenient  \n",
       "2                                      Gd...........  \n",
       "3  My first purchase experience...Happy with purc...  \n",
       "4                A lot of items at a very good deal.  "
      ]
     },
     "execution_count": 44,
     "metadata": {},
     "output_type": "execute_result"
    }
   ],
   "source": [
    "df.head()"
   ]
  },
  {
   "cell_type": "code",
   "execution_count": 45,
   "metadata": {},
   "outputs": [
    {
     "data": {
      "text/plain": [
       "rating    0\n",
       "date      0\n",
       "app       0\n",
       "store     0\n",
       "review    0\n",
       "dtype: int64"
      ]
     },
     "execution_count": 45,
     "metadata": {},
     "output_type": "execute_result"
    }
   ],
   "source": [
    "df.dropna(inplace = True)\n",
    "df.isna().sum()"
   ]
  },
  {
   "cell_type": "code",
   "execution_count": 46,
   "metadata": {},
   "outputs": [
    {
     "data": {
      "text/plain": [
       "(95353, 5)"
      ]
     },
     "execution_count": 46,
     "metadata": {},
     "output_type": "execute_result"
    }
   ],
   "source": [
    "df.shape"
   ]
  },
  {
   "cell_type": "markdown",
   "metadata": {},
   "source": [
    "### Comments\n",
    "- There is more data collected from Google Play Store compared to Apple Appstore, which is not a problem as the project is just looking at the apps reviews directly, irregardless of where which platform they are from."
   ]
  },
  {
   "cell_type": "markdown",
   "metadata": {},
   "source": [
    "# Checking datatime Data"
   ]
  },
  {
   "cell_type": "code",
   "execution_count": 47,
   "metadata": {},
   "outputs": [
    {
     "data": {
      "text/plain": [
       "2020    78929\n",
       "2019     7887\n",
       "2015     1670\n",
       "2018     1579\n",
       "2014     1545\n",
       "2016     1514\n",
       "2017     1384\n",
       "2013      609\n",
       "2012      140\n",
       "2011       51\n",
       "2010       40\n",
       "2009        5\n",
       "Name: date, dtype: int64"
      ]
     },
     "execution_count": 47,
     "metadata": {},
     "output_type": "execute_result"
    }
   ],
   "source": [
    "df['date'] = df['date'].astype('datetime64')\n",
    "df['date'].dt.year.value_counts()"
   ]
  },
  {
   "cell_type": "code",
   "execution_count": 48,
   "metadata": {},
   "outputs": [
    {
     "name": "stdout",
     "output_type": "stream",
     "text": [
      "<class 'pandas.core.frame.DataFrame'>\n",
      "Int64Index: 95353 entries, 0 to 95357\n",
      "Data columns (total 5 columns):\n",
      " #   Column  Non-Null Count  Dtype         \n",
      "---  ------  --------------  -----         \n",
      " 0   rating  95353 non-null  int64         \n",
      " 1   date    95353 non-null  datetime64[ns]\n",
      " 2   app     95353 non-null  object        \n",
      " 3   store   95353 non-null  object        \n",
      " 4   review  95353 non-null  object        \n",
      "dtypes: datetime64[ns](1), int64(1), object(3)\n",
      "memory usage: 4.4+ MB\n"
     ]
    }
   ],
   "source": [
    "df.info()"
   ]
  },
  {
   "cell_type": "code",
   "execution_count": 49,
   "metadata": {},
   "outputs": [
    {
     "data": {
      "image/png": "[encoded data removed]",
      "text/plain": [
       "<Figure size 720x720 with 1 Axes>"
      ]
     },
     "metadata": {
      "needs_background": "light"
     },
     "output_type": "display_data"
    }
   ],
   "source": [
    "plt.figure(figsize = (10,10))\n",
    "sns.boxplot(x = df['date'].dt.year, y = 'app', data = df);"
   ]
  },
  {
   "cell_type": "code",
   "execution_count": 50,
   "metadata": {},
   "outputs": [
    {
     "data": {
      "image/png": "[encoded data removed]",
      "text/plain": [
       "<Figure size 720x720 with 1 Axes>"
      ]
     },
     "metadata": {
      "needs_background": "light"
     },
     "output_type": "display_data"
    }
   ],
   "source": [
    "plt.figure(figsize = (10,10))\n",
    "sns.boxenplot(x = df['date'].dt.month, y = 'app', data = df[df['date'].dt.year == 2020]);"
   ]
  },
  {
   "cell_type": "markdown",
   "metadata": {},
   "source": [
    "### Comments\n",
    "There is more data collected in 2020 compared to the other years, could be due to the platform removing reviews when they reach a certain amount. Will be using 2020 reviews for the modeling due to the lack of most of the past data."
   ]
  },
  {
   "cell_type": "markdown",
   "metadata": {},
   "source": [
    "# Using only 2020 data"
   ]
  },
  {
   "cell_type": "code",
   "execution_count": 51,
   "metadata": {},
   "outputs": [],
   "source": [
    "df = df[df['date'].dt.year == 2020]"
   ]
  },
  {
   "cell_type": "code",
   "execution_count": 52,
   "metadata": {},
   "outputs": [
    {
     "data": {
      "text/plain": [
       "shopee        11600\n",
       "aliexpress    10696\n",
       "lazada        10292\n",
       "wish          10053\n",
       "amazon        10030\n",
       "ebay          10011\n",
       "asos           9652\n",
       "carousell      6595\n",
       "Name: app, dtype: int64"
      ]
     },
     "execution_count": 52,
     "metadata": {},
     "output_type": "execute_result"
    }
   ],
   "source": [
    "#check app number of review\n",
    "df['app'].value_counts()"
   ]
  },
  {
   "cell_type": "code",
   "execution_count": 53,
   "metadata": {},
   "outputs": [
    {
     "data": {
      "text/plain": [
       "Index(['rating', 'date', 'app', 'store', 'review'], dtype='object')"
      ]
     },
     "execution_count": 53,
     "metadata": {},
     "output_type": "execute_result"
    }
   ],
   "source": [
    "df.columns"
   ]
  },
  {
   "cell_type": "code",
   "execution_count": 54,
   "metadata": {},
   "outputs": [
    {
     "data": {
      "text/plain": [
       "5    0.699819\n",
       "1    0.135502\n",
       "4    0.099824\n",
       "3    0.036476\n",
       "2    0.028380\n",
       "Name: rating, dtype: float64"
      ]
     },
     "execution_count": 54,
     "metadata": {},
     "output_type": "execute_result"
    }
   ],
   "source": [
    "df['rating'].value_counts(normalize=True)"
   ]
  },
  {
   "cell_type": "code",
   "execution_count": 55,
   "metadata": {},
   "outputs": [
    {
     "data": {
      "text/plain": [
       "0      Orders mostly came early and products are good.\n",
       "1                                  Good and convenient\n",
       "2                                        Gd...........\n",
       "3    My first purchase experience...Happy with purc...\n",
       "4                  A lot of items at a very good deal.\n",
       "Name: review, dtype: object"
      ]
     },
     "execution_count": 55,
     "metadata": {},
     "output_type": "execute_result"
    }
   ],
   "source": [
    "df['review'][:5]"
   ]
  },
  {
   "cell_type": "markdown",
   "metadata": {},
   "source": [
    "# Cleaning of Text data for Modeling"
   ]
  },
  {
   "cell_type": "code",
   "execution_count": 56,
   "metadata": {},
   "outputs": [
    {
     "data": {
      "text/plain": [
       "'the best online shop. 😁'"
      ]
     },
     "execution_count": 56,
     "metadata": {},
     "output_type": "execute_result"
    }
   ],
   "source": [
    "#adding number to add into cleaning data process\n",
    "text1 = df['review'][20].lower()\n",
    "text1"
   ]
  },
  {
   "cell_type": "code",
   "execution_count": 57,
   "metadata": {},
   "outputs": [],
   "source": [
    "sp = spacy.load('en_core_web_sm')\n",
    "emoji = Emoji(sp, merge_spans = False)\n",
    "sp.add_pipe(emoji, first = True)\n",
    "sp.add_pipe(LanguageDetector(), name='language_detector', last=True)"
   ]
  },
  {
   "cell_type": "markdown",
   "metadata": {},
   "source": [
    "### Comments\n",
    "Using SpaCy and Spacy Emoji to take our all the features that can possibly help our models predictibility"
   ]
  },
  {
   "cell_type": "code",
   "execution_count": 59,
   "metadata": {
    "scrolled": true
   },
   "outputs": [
    {
     "name": "stdout",
     "output_type": "stream",
     "text": [
      "the\n",
      "best\n",
      "online\n",
      "shop\n",
      ".\n",
      "😁\n"
     ]
    }
   ],
   "source": [
    "sen = sp(text1)\n",
    "for token in sen:\n",
    "    print(token.text)"
   ]
  },
  {
   "cell_type": "markdown",
   "metadata": {},
   "source": [
    "## LangDetect"
   ]
  },
  {
   "cell_type": "code",
   "execution_count": 29,
   "metadata": {},
   "outputs": [
    {
     "data": {
      "text/plain": [
       "{'language': 'en', 'score': 0.9999971996793274}"
      ]
     },
     "execution_count": 29,
     "metadata": {},
     "output_type": "execute_result"
    }
   ],
   "source": [
    "sen._.language"
   ]
  },
  {
   "cell_type": "code",
   "execution_count": 30,
   "metadata": {
    "scrolled": true
   },
   "outputs": [
    {
     "name": "stdout",
     "output_type": "stream",
     "text": [
      "the          DET        DT       determiner\n",
      "best         ADJ        JJS      adjective, superlative\n",
      "online       ADJ        JJ       adjective\n",
      "shop         NOUN       NN       noun, singular or mass\n",
      ".            PUNCT      .        punctuation mark, sentence closer\n",
      "😁            X          ADD      email\n"
     ]
    }
   ],
   "source": [
    "for word in sen:\n",
    "    print(f'{word.text:{12}} {word.pos_:{10}} {word.tag_:{8}} {spacy.explain(word.tag_)}')"
   ]
  },
  {
   "cell_type": "code",
   "execution_count": 31,
   "metadata": {},
   "outputs": [],
   "source": [
    "adj_list = ''\n",
    "noun_list = ''\n",
    "verb_list = ''\n",
    "emoji_list = ''\n",
    "\n",
    "for word in sen:\n",
    "    if word._.is_emoji:\n",
    "        emoji_list += str(word)\n",
    "    else:\n",
    "        if word.pos_ == 'ADJ':\n",
    "            adj_list += str(word) + ' '\n",
    "        \n",
    "        elif word.pos_ == 'NOUN':\n",
    "            noun_list += str(word) + ' '\n",
    "        \n",
    "        elif word.pos_ == 'VERB':\n",
    "            verb_list += str(word) + ' '\n",
    "        "
   ]
  },
  {
   "cell_type": "code",
   "execution_count": 32,
   "metadata": {},
   "outputs": [
    {
     "name": "stdout",
     "output_type": "stream",
     "text": [
      "best online \n",
      "shop \n",
      "\n",
      "😁\n"
     ]
    }
   ],
   "source": [
    "print(adj_list)\n",
    "print(noun_list)\n",
    "print(verb_list)\n",
    "print(emoji_list)"
   ]
  },
  {
   "cell_type": "markdown",
   "metadata": {},
   "source": [
    "# removing emojis and punctuations"
   ]
  },
  {
   "cell_type": "code",
   "execution_count": 33,
   "metadata": {},
   "outputs": [
    {
     "data": {
      "text/plain": [
       "['good', 'online', 'shop']"
      ]
     },
     "execution_count": 33,
     "metadata": {},
     "output_type": "execute_result"
    }
   ],
   "source": [
    "string = []\n",
    "for word in sen:\n",
    "    if word.is_stop == False:\n",
    "        if word._.is_emoji == False:\n",
    "            if word.pos_ != 'PUNCT':\n",
    "                if word.pos_ != 'NUM':\n",
    "                    string.append(str(word.lemma_).lower())\n",
    "string"
   ]
  },
  {
   "cell_type": "markdown",
   "metadata": {},
   "source": [
    "## Comments\n",
    "Removing emoji and punctuations from the raw data"
   ]
  },
  {
   "cell_type": "markdown",
   "metadata": {},
   "source": [
    "# Lemmatize words"
   ]
  },
  {
   "cell_type": "code",
   "execution_count": 34,
   "metadata": {},
   "outputs": [
    {
     "data": {
      "text/plain": [
       "['good', 'online', 'shop']"
      ]
     },
     "execution_count": 34,
     "metadata": {},
     "output_type": "execute_result"
    }
   ],
   "source": [
    "lemma = WordNetLemmatizer()\n",
    "words_lemma = [lemma.lemmatize(i) for i in string]\n",
    "words_lemma"
   ]
  },
  {
   "cell_type": "markdown",
   "metadata": {},
   "source": [
    "# get Sentiments scores"
   ]
  },
  {
   "cell_type": "code",
   "execution_count": 35,
   "metadata": {},
   "outputs": [
    {
     "name": "stdout",
     "output_type": "stream",
     "text": [
      "Good and convenient\n"
     ]
    },
    {
     "data": {
      "text/plain": [
       "{'neg': 0.0, 'neu': 0.408, 'pos': 0.592, 'compound': 0.4404}"
      ]
     },
     "execution_count": 35,
     "metadata": {},
     "output_type": "execute_result"
    }
   ],
   "source": [
    "analyser = SentimentIntensityAnalyzer()\n",
    "print(df['review'][1])\n",
    "analyser.polarity_scores(df['review'][1])"
   ]
  },
  {
   "cell_type": "markdown",
   "metadata": {},
   "source": [
    "### Comments\n",
    "Using VaderSentiment to get the sentiment score of the reviews, this is more used in the EDA."
   ]
  },
  {
   "cell_type": "code",
   "execution_count": 36,
   "metadata": {},
   "outputs": [],
   "source": [
    "sp = spacy.load('en_core_web_sm')\n",
    "emoji = Emoji(sp, merge_spans = False)\n",
    "sp.add_pipe(emoji, first = True)\n",
    "sp.add_pipe(LanguageDetector(), name='language_detector', last=True)\n",
    "analyser = SentimentIntensityAnalyzer()\n",
    "tokenizer = RegexpTokenizer(r'\\w+')\n",
    "lemma = WordNetLemmatizer()\n",
    "app_titles = ['shopee' ,'amazon','wish','asos',\n",
    "              'carousell','aliexpress','lazada','ebay']\n",
    "def words_cleaning(text):\n",
    "    \n",
    "    #get score from raw text\n",
    "    scores = analyser.polarity_scores(str(text))\n",
    "    \n",
    "    # use spacy to categorize words\n",
    "    sen = sp(str(text))\n",
    "    language = sen._.language['language']\n",
    "    #creating list to store words\n",
    "    adj_list = ''\n",
    "    noun_list = ''\n",
    "    verb_list = ''\n",
    "    emoji_list = ''\n",
    "    \n",
    "    for word in sen:\n",
    "        if word._.is_emoji:\n",
    "            emoji_list += str(word)\n",
    "        else:\n",
    "            if word.pos_ == 'ADJ':\n",
    "                adj_list += (str(word.lemma_).lower()) + ' ' \n",
    "        \n",
    "            elif word.pos_ == 'NOUN':\n",
    "                noun_list += (str(word.lemma_).lower()) + ' '\n",
    "        \n",
    "            elif word.pos_ == 'VERB':\n",
    "                verb_list += (str(word.lemma_).lower()) + ' '\n",
    "                \n",
    "    string = []\n",
    "    for word in sen:\n",
    "        if word.is_stop == False:\n",
    "            if word._.is_emoji == False:\n",
    "                if word.pos_ != 'PUNCT':\n",
    "                    if word.pos_ != 'NUM':\n",
    "                        string.append(str(word.lemma_).lower())     \n",
    "    \n",
    "    #removing non english words\n",
    "    words = [w for w in string if w not in app_titles]\n",
    "\n",
    "    #steming tokens\n",
    "    words_lemma = [lemma.lemmatize(i) for i in words]\n",
    "    \n",
    "    #join words\n",
    "    join_words = (\" \".join(words_lemma))\n",
    "\n",
    "  \n",
    "    return(join_words, adj_list, noun_list, verb_list, emoji_list, scores, language)"
   ]
  },
  {
   "cell_type": "code",
   "execution_count": 37,
   "metadata": {},
   "outputs": [
    {
     "data": {
      "text/plain": [
       "('bad app face issue james ng regret read review',\n",
       " 'bad same ',\n",
       " 'app issue review ',\n",
       " 'face regret read ',\n",
       " '',\n",
       " {'neg': 0.309, 'neu': 0.691, 'pos': 0.0, 'compound': -0.7717},\n",
       " 'en')"
      ]
     },
     "execution_count": 37,
     "metadata": {},
     "output_type": "execute_result"
    }
   ],
   "source": [
    "words_cleaning(df['review'][300])"
   ]
  },
  {
   "cell_type": "code",
   "execution_count": 38,
   "metadata": {},
   "outputs": [
    {
     "data": {
      "text/plain": [
       "0.309"
      ]
     },
     "execution_count": 38,
     "metadata": {},
     "output_type": "execute_result"
    }
   ],
   "source": [
    "words_cleaning(df['review'][300])[5]['neg']"
   ]
  },
  {
   "cell_type": "markdown",
   "metadata": {},
   "source": [
    "# Function to clean text Data"
   ]
  },
  {
   "cell_type": "code",
   "execution_count": 39,
   "metadata": {
    "scrolled": false
   },
   "outputs": [
    {
     "name": "stdout",
     "output_type": "stream",
     "text": [
      "There is a total of 78929 selftext.\n",
      "Cleaning and parsing the training set text...\n",
      "selftext 10000 of 78929.\n",
      "Fit time:  152.106s\n",
      "selftext 20000 of 78929.\n",
      "Fit time:  311.164s\n",
      "selftext 30000 of 78929.\n",
      "Fit time:  470.173s\n",
      "selftext 40000 of 78929.\n",
      "Fit time:  621.712s\n",
      "selftext 50000 of 78929.\n",
      "Fit time:  783.287s\n",
      "selftext 60000 of 78929.\n",
      "Fit time:  944.981s\n",
      "selftext 70000 of 78929.\n",
      "Fit time:  1100.084s\n",
      "selftext 78929 of 78929.\n",
      "Cleaning complete\n"
     ]
    }
   ],
   "source": [
    "total_text = len(df['review'])\n",
    "print(f'There is a total of {total_text} selftext.')\n",
    "\n",
    "#instantiate empty list to hold cleaned data\n",
    "clean_text = []\n",
    "adj_text = []\n",
    "noun_text = []\n",
    "verb_list = []\n",
    "emoji_icons = []\n",
    "neg_scores = []\n",
    "neu_scores = []\n",
    "pos_scores = []\n",
    "compound_scores = []\n",
    "lang = []\n",
    "\n",
    "t0 = time()\n",
    "print(\"Cleaning and parsing the training set text...\")\n",
    "\n",
    "# Instantiate counter.\n",
    "j = 0\n",
    "\n",
    "# For every review in our training set...\n",
    "for text in df['review']:\n",
    "    \n",
    "    join, adj, noun, verb, emoji, scores, language = words_cleaning(text)\n",
    "    \n",
    "    # Convert text to words, then append to clean_train_text.\n",
    "    clean_text.append(str(join).lower())\n",
    "    adj_text.append(adj)\n",
    "    noun_text.append(noun)\n",
    "    verb_list.append(verb)\n",
    "    emoji_icons.append(emoji)\n",
    "    neg_scores.append(scores['neg'])\n",
    "    neu_scores.append(scores['neu'])\n",
    "    pos_scores.append(scores['pos'])\n",
    "    compound_scores.append(scores['compound'])\n",
    "    lang.append(language)\n",
    "    \n",
    "    # If the index is divisible by 100, print a message.\n",
    "    if (j + 1) % 10000 == 0:\n",
    "        print(f'selftext {j + 1} of {total_text}.')\n",
    "        bag_test_time = time() - t0\n",
    "        print('Fit time:  %0.3fs' % bag_test_time);\n",
    "    j += 1\n",
    "\n",
    "    \n",
    "print(f'selftext {total_text} of {total_text}.')    \n",
    "print('Cleaning complete')\n",
    "\n",
    "df['clean_content'] = clean_text\n",
    "df['adj'] = adj_text\n",
    "df['noun'] = noun_text\n",
    "df['verb'] = verb_list\n",
    "df['emoji'] = emoji_icons\n",
    "df['neg_score'] = neg_scores\n",
    "df['neu_score'] = neu_scores\n",
    "df['pos_score'] = pos_scores\n",
    "df['compound_score'] = compound_scores\n",
    "df['language'] = lang"
   ]
  },
  {
   "cell_type": "code",
   "execution_count": 40,
   "metadata": {
    "scrolled": false
   },
   "outputs": [
    {
     "data": {
      "text/html": [
       "<div>\n",
       "<style scoped>\n",
       "    .dataframe tbody tr th:only-of-type {\n",
       "        vertical-align: middle;\n",
       "    }\n",
       "\n",
       "    .dataframe tbody tr th {\n",
       "        vertical-align: top;\n",
       "    }\n",
       "\n",
       "    .dataframe thead th {\n",
       "        text-align: right;\n",
       "    }\n",
       "</style>\n",
       "<table border=\"1\" class=\"dataframe\">\n",
       "  <thead>\n",
       "    <tr style=\"text-align: right;\">\n",
       "      <th></th>\n",
       "      <th>rating</th>\n",
       "      <th>date</th>\n",
       "      <th>app</th>\n",
       "      <th>store</th>\n",
       "      <th>review</th>\n",
       "      <th>clean_content</th>\n",
       "      <th>adj</th>\n",
       "      <th>noun</th>\n",
       "      <th>verb</th>\n",
       "      <th>emoji</th>\n",
       "      <th>neg_score</th>\n",
       "      <th>neu_score</th>\n",
       "      <th>pos_score</th>\n",
       "      <th>compound_score</th>\n",
       "      <th>language</th>\n",
       "    </tr>\n",
       "  </thead>\n",
       "  <tbody>\n",
       "    <tr>\n",
       "      <th>0</th>\n",
       "      <td>5</td>\n",
       "      <td>2020-09-16 20:26:28</td>\n",
       "      <td>shoppee</td>\n",
       "      <td>google</td>\n",
       "      <td>Orders mostly came early and products are good.</td>\n",
       "      <td>order come early product good</td>\n",
       "      <td>good</td>\n",
       "      <td>order product</td>\n",
       "      <td>come</td>\n",
       "      <td></td>\n",
       "      <td>0.0</td>\n",
       "      <td>0.707</td>\n",
       "      <td>0.293</td>\n",
       "      <td>0.4404</td>\n",
       "      <td>en</td>\n",
       "    </tr>\n",
       "    <tr>\n",
       "      <th>1</th>\n",
       "      <td>4</td>\n",
       "      <td>2020-09-16 20:13:46</td>\n",
       "      <td>shoppee</td>\n",
       "      <td>google</td>\n",
       "      <td>Good and convenient</td>\n",
       "      <td>good convenient</td>\n",
       "      <td>good convenient</td>\n",
       "      <td></td>\n",
       "      <td></td>\n",
       "      <td></td>\n",
       "      <td>0.0</td>\n",
       "      <td>0.408</td>\n",
       "      <td>0.592</td>\n",
       "      <td>0.4404</td>\n",
       "      <td>en</td>\n",
       "    </tr>\n",
       "    <tr>\n",
       "      <th>2</th>\n",
       "      <td>5</td>\n",
       "      <td>2020-09-16 20:13:05</td>\n",
       "      <td>shoppee</td>\n",
       "      <td>google</td>\n",
       "      <td>Gd...........</td>\n",
       "      <td>gd</td>\n",
       "      <td></td>\n",
       "      <td></td>\n",
       "      <td></td>\n",
       "      <td></td>\n",
       "      <td>0.0</td>\n",
       "      <td>1.000</td>\n",
       "      <td>0.000</td>\n",
       "      <td>0.0000</td>\n",
       "      <td>cy</td>\n",
       "    </tr>\n",
       "    <tr>\n",
       "      <th>3</th>\n",
       "      <td>4</td>\n",
       "      <td>2020-09-16 20:11:18</td>\n",
       "      <td>shoppee</td>\n",
       "      <td>google</td>\n",
       "      <td>My first purchase experience...Happy with purc...</td>\n",
       "      <td>purchase experience happy purchase thks</td>\n",
       "      <td>first happy</td>\n",
       "      <td>purchase experience purchase</td>\n",
       "      <td></td>\n",
       "      <td></td>\n",
       "      <td>0.0</td>\n",
       "      <td>0.714</td>\n",
       "      <td>0.286</td>\n",
       "      <td>0.3400</td>\n",
       "      <td>en</td>\n",
       "    </tr>\n",
       "    <tr>\n",
       "      <th>4</th>\n",
       "      <td>5</td>\n",
       "      <td>2020-09-16 20:08:54</td>\n",
       "      <td>shoppee</td>\n",
       "      <td>google</td>\n",
       "      <td>A lot of items at a very good deal.</td>\n",
       "      <td>lot item good deal</td>\n",
       "      <td>good</td>\n",
       "      <td>lot item deal</td>\n",
       "      <td></td>\n",
       "      <td></td>\n",
       "      <td>0.0</td>\n",
       "      <td>0.715</td>\n",
       "      <td>0.285</td>\n",
       "      <td>0.4927</td>\n",
       "      <td>en</td>\n",
       "    </tr>\n",
       "  </tbody>\n",
       "</table>\n",
       "</div>"
      ],
      "text/plain": [
       "   rating                date      app   store  \\\n",
       "0       5 2020-09-16 20:26:28  shoppee  google   \n",
       "1       4 2020-09-16 20:13:46  shoppee  google   \n",
       "2       5 2020-09-16 20:13:05  shoppee  google   \n",
       "3       4 2020-09-16 20:11:18  shoppee  google   \n",
       "4       5 2020-09-16 20:08:54  shoppee  google   \n",
       "\n",
       "                                              review  \\\n",
       "0    Orders mostly came early and products are good.   \n",
       "1                                Good and convenient   \n",
       "2                                      Gd...........   \n",
       "3  My first purchase experience...Happy with purc...   \n",
       "4                A lot of items at a very good deal.   \n",
       "\n",
       "                             clean_content               adj  \\\n",
       "0            order come early product good             good    \n",
       "1                          good convenient  good convenient    \n",
       "2                                       gd                     \n",
       "3  purchase experience happy purchase thks      first happy    \n",
       "4                       lot item good deal             good    \n",
       "\n",
       "                            noun   verb emoji  neg_score  neu_score  \\\n",
       "0                 order product   come               0.0      0.707   \n",
       "1                                                    0.0      0.408   \n",
       "2                                                    0.0      1.000   \n",
       "3  purchase experience purchase                      0.0      0.714   \n",
       "4                 lot item deal                      0.0      0.715   \n",
       "\n",
       "   pos_score  compound_score language  \n",
       "0      0.293          0.4404       en  \n",
       "1      0.592          0.4404       en  \n",
       "2      0.000          0.0000       cy  \n",
       "3      0.286          0.3400       en  \n",
       "4      0.285          0.4927       en  "
      ]
     },
     "execution_count": 40,
     "metadata": {},
     "output_type": "execute_result"
    }
   ],
   "source": [
    "df.head()"
   ]
  },
  {
   "cell_type": "code",
   "execution_count": 41,
   "metadata": {},
   "outputs": [],
   "source": [
    "df.to_csv('../data/cleaned_reviews.csv', index=None, header=True)"
   ]
  },
  {
   "cell_type": "code",
   "execution_count": null,
   "metadata": {},
   "outputs": [],
   "source": []
  }
 ],
 "metadata": {
  "kernelspec": {
   "display_name": "Python 3",
   "language": "python",
   "name": "python3"
  },
  "language_info": {
   "codemirror_mode": {
    "name": "ipython",
    "version": 3
   },
   "file_extension": ".py",
   "mimetype": "text/x-python",
   "name": "python",
   "nbconvert_exporter": "python",
   "pygments_lexer": "ipython3",
   "version": "3.8.5"
  },
  "toc": {
   "base_numbering": 1,
   "nav_menu": {},
   "number_sections": false,
   "sideBar": true,
   "skip_h1_title": false,
   "title_cell": "Table of Contents",
   "title_sidebar": "Contents",
   "toc_cell": false,
   "toc_position": {
    "height": "calc(100% - 180px)",
    "left": "10px",
    "top": "150px",
    "width": "568.889px"
   },
   "toc_section_display": true,
   "toc_window_display": false
  }
 },
 "nbformat": 4,
 "nbformat_minor": 4
}
