{
 "cells": [
  {
   "cell_type": "code",
   "execution_count": null,
   "metadata": {},
   "outputs": [],
   "source": [
    "from tensorflow.keras.models import Sequential\n",
    "from tensorflow.keras.layers import Dense, Dropout, Input\n",
    "from tensorflow.keras.wrappers.scikit_learn import KerasClassifier\n",
    "from tensorflow.sparse import reorder\n",
    "from tensorflow.keras.callbacks import EarlyStopping"
   ]
  },
  {
   "cell_type": "code",
   "execution_count": null,
   "metadata": {},
   "outputs": [],
   "source": [
    "def nn_model(optimizer='adam', dropout=0.5, init='uniform', dense_nparams=256):\n",
    "    model = Sequential()\n",
    "    model.add(Dense(dense_nparams, activation='relu', kernel_initializer=init,)) \n",
    "    model.add(Dropout(dropout), )\n",
    "    model.add(Dense(16, activation='relu', kernel_initializer=init,)) \n",
    "    model.add(Dropout(dropout), )\n",
    "    model.add(Dense(1, activation='sigmoid'))\n",
    "    model.compile(loss='binary_crossentropy', optimizer=optimizer,metrics=['accuracy'])\n",
    "    return model\n",
    "\n",
    "class ArrayTransformer():\n",
    "    \n",
    "    def transform(self, X, **transform_params):\n",
    "        return X.toarray()\n",
    "    \n",
    "    def fit(self, X, y=None, **fit_params):\n",
    "        return self\n",
    "    \n",
    "early_stop = EarlyStopping(monitor = 'loss', \n",
    "                           min_delta = 0, \n",
    "                           patience = 3, \n",
    "                           mode = 'auto')"
   ]
  },
  {
   "cell_type": "code",
   "execution_count": null,
   "metadata": {},
   "outputs": [],
   "source": [
    "# Setting pipeline for two stages\n",
    "tfid_nn = Pipeline([\n",
    "    ('tfid', TfidfVectorizer(max_features = 8000, min_df = 3, max_df = 3, ngram_range = (1,2))),\n",
    "    ('array', ArrayTransformer()),\n",
    "    ('nn', KerasClassifier(build_fn = nn_model, verbose=1, epochs = 50, \n",
    "                           batch_size = 1000,\n",
    "                           validation_batch_size = 1000,))\n",
    "])\n",
    "\n",
    "pipe_params = {\n",
    "    'nn__dense_nparams': [256,512,1024]\n",
    "}\n",
    "    \n",
    "\n",
    "gs_tfid_nn = GridSearchCV(tfid_nn, # what object are we optimizing?\n",
    "                  param_grid=pipe_params, # what parameters values are we searching?\n",
    "                  cv=5, verbose = 1, n_jobs = -1, scoring = 'roc_auc') # 5-fold cross-validation.\n",
    "\n",
    "\n",
    "gs_tfid_nn.fit(X_train, y_train, nn__validation_split = 0.2, nn__callbacks=[early_stop])\n",
    "\n",
    "\n",
    "\n",
    "print(f'Best Parameters: {gs_tfid_nn.best_params_}')"
   ]
  },
  {
   "cell_type": "code",
   "execution_count": null,
   "metadata": {},
   "outputs": [],
   "source": [
    "print(f'{gs_tfid_nn.score(X_test, y_test)}')"
   ]
  },
  {
   "cell_type": "code",
   "execution_count": null,
   "metadata": {},
   "outputs": [],
   "source": [
    "print(f'{matthews_corrcoef(y_test, gs_tfid_nn.predict(X_test))}')"
   ]
  }
 ],
 "metadata": {
  "kernelspec": {
   "display_name": "Python 3",
   "language": "python",
   "name": "python3"
  },
  "language_info": {
   "codemirror_mode": {
    "name": "ipython",
    "version": 3
   },
   "file_extension": ".py",
   "mimetype": "text/x-python",
   "name": "python",
   "nbconvert_exporter": "python",
   "pygments_lexer": "ipython3",
   "version": "3.8.5"
  },
  "toc": {
   "base_numbering": 1,
   "nav_menu": {},
   "number_sections": true,
   "sideBar": true,
   "skip_h1_title": false,
   "title_cell": "Table of Contents",
   "title_sidebar": "Contents",
   "toc_cell": false,
   "toc_position": {},
   "toc_section_display": true,
   "toc_window_display": false
  }
 },
 "nbformat": 4,
 "nbformat_minor": 4
}
