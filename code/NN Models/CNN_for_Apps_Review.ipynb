{
  "nbformat": 4,
  "nbformat_minor": 0,
  "metadata": {
    "kernelspec": {
      "display_name": "Python 3",
      "language": "python",
      "name": "python3"
    },
    "language_info": {
      "codemirror_mode": {
        "name": "ipython",
        "version": 3
      },
      "file_extension": ".py",
      "mimetype": "text/x-python",
      "name": "python",
      "nbconvert_exporter": "python",
      "pygments_lexer": "ipython3",
      "version": "3.8.3"
    },
    "toc": {
      "base_numbering": 1,
      "nav_menu": {},
      "number_sections": false,
      "sideBar": true,
      "skip_h1_title": false,
      "title_cell": "Table of Contents",
      "title_sidebar": "Contents",
      "toc_cell": false,
      "toc_position": {},
      "toc_section_display": true,
      "toc_window_display": true
    },
    "colab": {
      "name": "CNN for Apps Review",
      "provenance": [],
      "collapsed_sections": []
    },
    "accelerator": "GPU"
  },
  "cells": [
    {
      "cell_type": "markdown",
      "metadata": {
        "id": "_H21rwwt00lK"
      },
      "source": [
        "# Shopping Apps, Rating for Google Play Store and Apple AppStore Users\n",
        "\n",
        "## Introduction\n",
        "\n",
        "Users download apps for various purposes. Given that there is a rise in the usage of online shopping due to the Covid-19 pandemic, improvement of shopping experience has become more important then before. With that in mind, what are the important features we have to look out for to improve a shopping app?\n",
        "\n",
        "More specifically, the questions to be answered:\n",
        "\n",
        "- How do the app ratings differ across different shopping apps?\n",
        "- Is there any specific group of users we can look out for to improve the app?\n",
        "- Are there any specific improvement we can work on to further improve user experience of the app?\n",
        "\n",
        "To explore and answer the above questions, we will scrap reviews from Google Play Store and Apple AppStore and conduct analysis and modelling."
      ]
    },
    {
      "cell_type": "code",
      "metadata": {
        "id": "2MZhvHZb00lK"
      },
      "source": [
        "import pandas as pd\n",
        "import numpy as np\n",
        "import matplotlib.pyplot as plt\n",
        "import seaborn as sns\n",
        "\n",
        "from sklearn.metrics import matthews_corrcoef, confusion_matrix, roc_auc_score, plot_roc_curve, plot_confusion_matrix\n",
        "from sklearn.metrics import classification_report, roc_curve\n",
        "\n",
        "from sklearn.model_selection import train_test_split\n",
        "\n",
        "from tensorflow.keras.preprocessing.text import Tokenizer                    \n",
        "from tensorflow.keras.preprocessing.sequence import pad_sequences\n",
        "from tensorflow.keras.models import Sequential\n",
        "from tensorflow.keras.layers import Dense, Dropout, Input, Embedding, Conv1D, GlobalMaxPooling1D, Flatten\n",
        "from tensorflow.keras.callbacks import EarlyStopping\n",
        "from tensorflow import reduce_sum, square, py_function, double\n",
        "from tensorflow.keras.metrics import AUC, BinaryAccuracy, TrueNegatives, TruePositives\n",
        "from tensorflow.keras.regularizers import l1_l2, l2\n",
        "from tensorflow.math import confusion_matrix\n",
        "from sklearn.utils import class_weight\n"
      ],
      "execution_count": null,
      "outputs": []
    },
    {
      "cell_type": "code",
      "metadata": {
        "id": "JcX-XXe51HI4",
        "outputId": "6b9fe8a3-5d5d-4585-de2c-b41d493ff560",
        "colab": {
          "base_uri": "https://localhost:8080/",
          "height": 34
        }
      },
      "source": [
        "from google.colab import drive\n",
        "drive.mount('/content/drive')"
      ],
      "execution_count": null,
      "outputs": [
        {
          "output_type": "stream",
          "text": [
            "Drive already mounted at /content/drive; to attempt to forcibly remount, call drive.mount(\"/content/drive\", force_remount=True).\n"
          ],
          "name": "stdout"
        }
      ]
    },
    {
      "cell_type": "code",
      "metadata": {
        "id": "0ipV3s7_00lN"
      },
      "source": [
        "df = pd.read_csv('/content/drive/My Drive/Colab Notebooks/Datasets/reviews_Model.csv')"
      ],
      "execution_count": null,
      "outputs": []
    },
    {
      "cell_type": "code",
      "metadata": {
        "id": "GHyaWA4X00lQ",
        "outputId": "5b7b95ad-cdf9-423d-cc9e-79215ed7ed4c",
        "colab": {
          "base_uri": "https://localhost:8080/",
          "height": 297
        }
      },
      "source": [
        "df.head()"
      ],
      "execution_count": null,
      "outputs": [
        {
          "output_type": "execute_result",
          "data": {
            "text/html": [
              "<div>\n",
              "<style scoped>\n",
              "    .dataframe tbody tr th:only-of-type {\n",
              "        vertical-align: middle;\n",
              "    }\n",
              "\n",
              "    .dataframe tbody tr th {\n",
              "        vertical-align: top;\n",
              "    }\n",
              "\n",
              "    .dataframe thead th {\n",
              "        text-align: right;\n",
              "    }\n",
              "</style>\n",
              "<table border=\"1\" class=\"dataframe\">\n",
              "  <thead>\n",
              "    <tr style=\"text-align: right;\">\n",
              "      <th></th>\n",
              "      <th>rating</th>\n",
              "      <th>date</th>\n",
              "      <th>app</th>\n",
              "      <th>store</th>\n",
              "      <th>review</th>\n",
              "      <th>clean_content</th>\n",
              "      <th>adj</th>\n",
              "      <th>noun</th>\n",
              "      <th>verb</th>\n",
              "      <th>emoji</th>\n",
              "      <th>neg_score</th>\n",
              "      <th>neu_score</th>\n",
              "      <th>pos_score</th>\n",
              "      <th>compound_score</th>\n",
              "      <th>language</th>\n",
              "      <th>month</th>\n",
              "      <th>dayofweek</th>\n",
              "      <th>hour</th>\n",
              "      <th>minute</th>\n",
              "      <th>text_len</th>\n",
              "      <th>word_count</th>\n",
              "      <th>category</th>\n",
              "    </tr>\n",
              "  </thead>\n",
              "  <tbody>\n",
              "    <tr>\n",
              "      <th>0</th>\n",
              "      <td>5</td>\n",
              "      <td>2020-09-16 20:26:28</td>\n",
              "      <td>shoppee</td>\n",
              "      <td>google</td>\n",
              "      <td>Orders mostly came early and products are good.</td>\n",
              "      <td>order come early product good</td>\n",
              "      <td>good</td>\n",
              "      <td>order product</td>\n",
              "      <td>come</td>\n",
              "      <td>NaN</td>\n",
              "      <td>0.0</td>\n",
              "      <td>0.707</td>\n",
              "      <td>0.293</td>\n",
              "      <td>0.4404</td>\n",
              "      <td>en</td>\n",
              "      <td>9</td>\n",
              "      <td>3</td>\n",
              "      <td>20</td>\n",
              "      <td>26</td>\n",
              "      <td>47</td>\n",
              "      <td>8</td>\n",
              "      <td>Delivery</td>\n",
              "    </tr>\n",
              "    <tr>\n",
              "      <th>1</th>\n",
              "      <td>4</td>\n",
              "      <td>2020-09-16 20:13:46</td>\n",
              "      <td>shoppee</td>\n",
              "      <td>google</td>\n",
              "      <td>Good and convenient</td>\n",
              "      <td>good convenient</td>\n",
              "      <td>good convenient</td>\n",
              "      <td>NaN</td>\n",
              "      <td>NaN</td>\n",
              "      <td>NaN</td>\n",
              "      <td>0.0</td>\n",
              "      <td>0.408</td>\n",
              "      <td>0.592</td>\n",
              "      <td>0.4404</td>\n",
              "      <td>en</td>\n",
              "      <td>9</td>\n",
              "      <td>3</td>\n",
              "      <td>20</td>\n",
              "      <td>13</td>\n",
              "      <td>19</td>\n",
              "      <td>3</td>\n",
              "      <td>Convenient App</td>\n",
              "    </tr>\n",
              "    <tr>\n",
              "      <th>2</th>\n",
              "      <td>4</td>\n",
              "      <td>2020-09-16 20:11:18</td>\n",
              "      <td>shoppee</td>\n",
              "      <td>google</td>\n",
              "      <td>My first purchase experience...Happy with purc...</td>\n",
              "      <td>purchase experience happy purchase thks</td>\n",
              "      <td>first happy</td>\n",
              "      <td>purchase experience purchase</td>\n",
              "      <td>NaN</td>\n",
              "      <td>NaN</td>\n",
              "      <td>0.0</td>\n",
              "      <td>0.714</td>\n",
              "      <td>0.286</td>\n",
              "      <td>0.3400</td>\n",
              "      <td>en</td>\n",
              "      <td>9</td>\n",
              "      <td>3</td>\n",
              "      <td>20</td>\n",
              "      <td>11</td>\n",
              "      <td>57</td>\n",
              "      <td>7</td>\n",
              "      <td>Consumer Satisfaction</td>\n",
              "    </tr>\n",
              "    <tr>\n",
              "      <th>3</th>\n",
              "      <td>5</td>\n",
              "      <td>2020-09-16 20:08:54</td>\n",
              "      <td>shoppee</td>\n",
              "      <td>google</td>\n",
              "      <td>A lot of items at a very good deal.</td>\n",
              "      <td>lot item good deal</td>\n",
              "      <td>good</td>\n",
              "      <td>lot item deal</td>\n",
              "      <td>NaN</td>\n",
              "      <td>NaN</td>\n",
              "      <td>0.0</td>\n",
              "      <td>0.715</td>\n",
              "      <td>0.285</td>\n",
              "      <td>0.4927</td>\n",
              "      <td>en</td>\n",
              "      <td>9</td>\n",
              "      <td>3</td>\n",
              "      <td>20</td>\n",
              "      <td>8</td>\n",
              "      <td>35</td>\n",
              "      <td>9</td>\n",
              "      <td>Variety &amp; Price</td>\n",
              "    </tr>\n",
              "    <tr>\n",
              "      <th>4</th>\n",
              "      <td>5</td>\n",
              "      <td>2020-09-16 19:37:21</td>\n",
              "      <td>shoppee</td>\n",
              "      <td>google</td>\n",
              "      <td>Delivery is fast</td>\n",
              "      <td>delivery fast</td>\n",
              "      <td>fast</td>\n",
              "      <td>delivery</td>\n",
              "      <td>NaN</td>\n",
              "      <td>NaN</td>\n",
              "      <td>0.0</td>\n",
              "      <td>1.000</td>\n",
              "      <td>0.000</td>\n",
              "      <td>0.0000</td>\n",
              "      <td>en</td>\n",
              "      <td>9</td>\n",
              "      <td>3</td>\n",
              "      <td>19</td>\n",
              "      <td>37</td>\n",
              "      <td>16</td>\n",
              "      <td>3</td>\n",
              "      <td>Delivery</td>\n",
              "    </tr>\n",
              "  </tbody>\n",
              "</table>\n",
              "</div>"
            ],
            "text/plain": [
              "   rating                 date  ... word_count               category\n",
              "0       5  2020-09-16 20:26:28  ...          8               Delivery\n",
              "1       4  2020-09-16 20:13:46  ...          3         Convenient App\n",
              "2       4  2020-09-16 20:11:18  ...          7  Consumer Satisfaction\n",
              "3       5  2020-09-16 20:08:54  ...          9        Variety & Price\n",
              "4       5  2020-09-16 19:37:21  ...          3               Delivery\n",
              "\n",
              "[5 rows x 22 columns]"
            ]
          },
          "metadata": {
            "tags": []
          },
          "execution_count": 28
        }
      ]
    },
    {
      "cell_type": "code",
      "metadata": {
        "id": "dvkP3i9s00lS"
      },
      "source": [
        "#list comprehension for target variable\n",
        "df['rate'] = [1  if (df['rating'][i] > 3) else 0 for i in range(len(df['rating']))]"
      ],
      "execution_count": null,
      "outputs": []
    },
    {
      "cell_type": "code",
      "metadata": {
        "id": "RLwT_VQO00lU",
        "outputId": "e052c7c3-0169-443c-a4e3-8a2a911d996e",
        "colab": {
          "base_uri": "https://localhost:8080/",
          "height": 70
        }
      },
      "source": [
        "df['rate'].value_counts(normalize = True)"
      ],
      "execution_count": null,
      "outputs": [
        {
          "output_type": "execute_result",
          "data": {
            "text/plain": [
              "1    0.775824\n",
              "0    0.224176\n",
              "Name: rate, dtype: float64"
            ]
          },
          "metadata": {
            "tags": []
          },
          "execution_count": 30
        }
      ]
    },
    {
      "cell_type": "code",
      "metadata": {
        "id": "oDzIuqqD00lX",
        "outputId": "a71db836-0191-4208-9b52-c3ed80ea3cc9",
        "colab": {
          "base_uri": "https://localhost:8080/",
          "height": 105
        }
      },
      "source": [
        "#Checking null values\n",
        "df.isna().sum()[df.isna().sum() > 0]"
      ],
      "execution_count": null,
      "outputs": [
        {
          "output_type": "execute_result",
          "data": {
            "text/plain": [
              "adj       9807\n",
              "noun     10329\n",
              "verb     17904\n",
              "emoji    53732\n",
              "dtype: int64"
            ]
          },
          "metadata": {
            "tags": []
          },
          "execution_count": 31
        }
      ]
    },
    {
      "cell_type": "code",
      "metadata": {
        "id": "B0-D3lfF00lZ",
        "outputId": "0bc18789-a7ad-45d4-fc24-064c182ef089",
        "colab": {
          "base_uri": "https://localhost:8080/",
          "height": 52
        }
      },
      "source": [
        "## Removing null values\n",
        "df= df[df['clean_content'].notna()]\n",
        "df.reset_index(drop = True, inplace = True)\n",
        "print(f'Null values left in df: {df.clean_content.isna().sum()}')\n",
        "print(f'Number of rows left: {df.shape[0]}')"
      ],
      "execution_count": null,
      "outputs": [
        {
          "output_type": "stream",
          "text": [
            "Null values left in df: 0\n",
            "Number of rows left: 57486\n"
          ],
          "name": "stdout"
        }
      ]
    },
    {
      "cell_type": "markdown",
      "metadata": {
        "id": "cDOggIIj00lb"
      },
      "source": [
        "## Train Test Split Data"
      ]
    },
    {
      "cell_type": "code",
      "metadata": {
        "id": "nTIQ8fy300lb"
      },
      "source": [
        "X_train, X_test, y_train, y_test = train_test_split(df['clean_content'], \n",
        "                                                    df['rate'], \n",
        "                                                    test_size = 0.2, \n",
        "                                                    random_state = 42,\n",
        "                                                    stratify = df['rate'])"
      ],
      "execution_count": null,
      "outputs": []
    },
    {
      "cell_type": "code",
      "metadata": {
        "id": "aPCFaR3Q00ld",
        "outputId": "5ad225b3-7309-4caa-c34c-86df48f7c657",
        "colab": {
          "base_uri": "https://localhost:8080/",
          "height": 52
        }
      },
      "source": [
        "print(f'X_train rows: {X_train.shape[0]}, X_test rows: {X_test.shape[0]}')\n",
        "print(f'y_train rows: {y_train.shape[0]}, y_test rows: {y_test.shape[0]}')"
      ],
      "execution_count": null,
      "outputs": [
        {
          "output_type": "stream",
          "text": [
            "X_train rows: 45988, X_test rows: 11498\n",
            "y_train rows: 45988, y_test rows: 11498\n"
          ],
          "name": "stdout"
        }
      ]
    },
    {
      "cell_type": "markdown",
      "metadata": {
        "id": "Vc9-2DiE00l7"
      },
      "source": [
        "## Convolutional Neural Network"
      ]
    },
    {
      "cell_type": "code",
      "metadata": {
        "id": "hk9VO8XoWnFe",
        "outputId": "642bb52c-232b-4268-cec1-dd455de9f090",
        "colab": {
          "base_uri": "https://localhost:8080/",
          "height": 87
        }
      },
      "source": [
        "neg, pos = np.bincount(df['rate'])\n",
        "total = neg + pos\n",
        "print('Total: {}\\nPositive: {} ({:.2f}% of total)\\nNegative: {} ({:.2f}% of total)\\n'.format(\n",
        "    total, pos, 100 * pos / total, neg, 100 * neg / total))"
      ],
      "execution_count": null,
      "outputs": [
        {
          "output_type": "stream",
          "text": [
            "Total: 57486\n",
            "Positive: 44599 (77.58% of total)\n",
            "Negative: 12887 (22.42% of total)\n",
            "\n"
          ],
          "name": "stdout"
        }
      ]
    },
    {
      "cell_type": "markdown",
      "metadata": {
        "id": "ld0ILnZM7iWM"
      },
      "source": [
        "### Tokenize Features"
      ]
    },
    {
      "cell_type": "code",
      "metadata": {
        "id": "Z0ngYh5p00l7"
      },
      "source": [
        "tokenizer = Tokenizer(num_words=9000)\n",
        "tokenizer.fit_on_texts(X_train)\n",
        "\n",
        "X_train = tokenizer.texts_to_sequences(X_train)\n",
        "X_test = tokenizer.texts_to_sequences(X_test)\n",
        "# Adding 1 because of  reserved 0 index\n",
        "vocab_size = len(tokenizer.word_index) + 1\n",
        "\n",
        "maxlen = 9000\n",
        "\n",
        "X_train = pad_sequences(X_train, padding='post', maxlen=maxlen)\n",
        "X_test = pad_sequences(X_test, padding='post', maxlen=maxlen)\n",
        "\n",
        "embedding_dim = 50"
      ],
      "execution_count": null,
      "outputs": []
    },
    {
      "cell_type": "markdown",
      "metadata": {
        "id": "dk7Wq72Z7m-0"
      },
      "source": [
        "### Adding Sequence for Network"
      ]
    },
    {
      "cell_type": "code",
      "metadata": {
        "id": "L9sicbq9IIcd"
      },
      "source": [
        "model = Sequential()\n",
        "\n",
        "model.add(Embedding(vocab_size, embedding_dim, input_length=maxlen))\n",
        "model.add(Conv1D(50, 16, activation='relu'))\n",
        "model.add(GlobalMaxPooling1D())\n",
        "model.add(Flatten())\n",
        "model.add(Dense(50, activation='relu', \n",
        "                    kernel_regularizer = l1_l2(l1=0.3, l2=0.3),\n",
        "                    bias_regularizer = l2(0.5), \n",
        "                    activity_regularizer = l2(1)))\n",
        "model.add(Dropout(0.5))\n",
        "model.add(Dense(1, activation='sigmoid'))\n",
        "model.compile(optimizer='adam',\n",
        "                  loss='binary_crossentropy',\n",
        "                  metrics=[BinaryAccuracy(name='accuracy'), AUC(name = 'auc'), TrueNegatives(name = 'TN'), TruePositives(name = 'TP')])"
      ],
      "execution_count": null,
      "outputs": []
    },
    {
      "cell_type": "markdown",
      "metadata": {
        "id": "7DDMs_d67rmG"
      },
      "source": [
        "### Network Summary"
      ]
    },
    {
      "cell_type": "code",
      "metadata": {
        "id": "xuWf-_5ZMVTO",
        "outputId": "390b86b0-45af-46a0-ef49-926adbd66c92",
        "colab": {
          "base_uri": "https://localhost:8080/",
          "height": 425
        }
      },
      "source": [
        "print(model.summary())"
      ],
      "execution_count": null,
      "outputs": [
        {
          "output_type": "stream",
          "text": [
            "Model: \"sequential_1\"\n",
            "_________________________________________________________________\n",
            "Layer (type)                 Output Shape              Param #   \n",
            "=================================================================\n",
            "embedding_1 (Embedding)      (None, 9000, 50)          723400    \n",
            "_________________________________________________________________\n",
            "conv1d_1 (Conv1D)            (None, 8985, 50)          40050     \n",
            "_________________________________________________________________\n",
            "global_max_pooling1d_1 (Glob (None, 50)                0         \n",
            "_________________________________________________________________\n",
            "flatten_1 (Flatten)          (None, 50)                0         \n",
            "_________________________________________________________________\n",
            "dense_2 (Dense)              (None, 50)                2550      \n",
            "_________________________________________________________________\n",
            "dropout_1 (Dropout)          (None, 50)                0         \n",
            "_________________________________________________________________\n",
            "dense_3 (Dense)              (None, 1)                 51        \n",
            "=================================================================\n",
            "Total params: 766,051\n",
            "Trainable params: 766,051\n",
            "Non-trainable params: 0\n",
            "_________________________________________________________________\n",
            "None\n"
          ],
          "name": "stdout"
        }
      ]
    },
    {
      "cell_type": "markdown",
      "metadata": {
        "id": "emQ2FDAv7tff"
      },
      "source": [
        "### Training Neural Network"
      ]
    },
    {
      "cell_type": "code",
      "metadata": {
        "id": "F4dbM-eK4lNV"
      },
      "source": [
        "weights = class_weight.compute_class_weight('balanced',\n",
        "                                            np.unique(y_train),\n",
        "                                            y_train)"
      ],
      "execution_count": null,
      "outputs": []
    },
    {
      "cell_type": "code",
      "metadata": {
        "id": "XiiRl1eA4pRe",
        "outputId": "3b755c19-86d5-4b1b-8149-8c85c19baad2",
        "colab": {
          "base_uri": "https://localhost:8080/",
          "height": 34
        }
      },
      "source": [
        "weights = dict(enumerate(weights))\n",
        "weights"
      ],
      "execution_count": null,
      "outputs": [
        {
          "output_type": "execute_result",
          "data": {
            "text/plain": [
              "{0: 2.230478222912019, 1: 0.644468735110289}"
            ]
          },
          "metadata": {
            "tags": []
          },
          "execution_count": 40
        }
      ]
    },
    {
      "cell_type": "code",
      "metadata": {
        "id": "IcvsWJFOjI4M",
        "outputId": "462fc98d-8a20-421f-f8d3-74af37ab6d70",
        "colab": {
          "base_uri": "https://localhost:8080/",
          "height": 354
        }
      },
      "source": [
        "model.fit(X_train, y_train, \n",
        "          epochs=100, validation_data= (X_test, y_test),\n",
        "          verbose=1,\n",
        "          class_weight = weights,\n",
        "          callbacks=[EarlyStopping(monitor='val_auc', patience=5, min_delta=0.0001, \n",
        "                                   mode = 'max', restore_best_weights= True)])"
      ],
      "execution_count": null,
      "outputs": [
        {
          "output_type": "stream",
          "text": [
            "Epoch 1/100\n",
            "1438/1438 [==============================] - 83s 58ms/step - loss: 6.8334 - accuracy: 0.5609 - auc: 0.5628 - TN: 5025.0000 - TP: 20771.0000 - val_loss: 0.7815 - val_accuracy: 0.2242 - val_auc: 0.5000 - val_TN: 2578.0000 - val_TP: 0.0000e+00\n",
            "Epoch 2/100\n",
            "1438/1438 [==============================] - 83s 58ms/step - loss: 0.7803 - accuracy: 0.4813 - auc: 0.4986 - TN: 5542.0000 - TP: 16591.0000 - val_loss: 0.7807 - val_accuracy: 0.2242 - val_auc: 0.5000 - val_TN: 2578.0000 - val_TP: 0.0000e+00\n",
            "Epoch 3/100\n",
            "1438/1438 [==============================] - 83s 57ms/step - loss: 0.7593 - accuracy: 0.5691 - auc: 0.6735 - TN: 6820.0000 - TP: 19353.0000 - val_loss: 0.6599 - val_accuracy: 0.8890 - val_auc: 0.9565 - val_TN: 2330.0000 - val_TP: 7892.0000\n",
            "Epoch 4/100\n",
            "1438/1438 [==============================] - 83s 58ms/step - loss: 0.5598 - accuracy: 0.9009 - auc: 0.9546 - TN: 9225.0000 - TP: 32205.0000 - val_loss: 0.5208 - val_accuracy: 0.9152 - val_auc: 0.9618 - val_TN: 2239.0000 - val_TP: 8284.0000\n",
            "Epoch 5/100\n",
            "1438/1438 [==============================] - 83s 58ms/step - loss: 0.4925 - accuracy: 0.9150 - auc: 0.9645 - TN: 9408.0000 - TP: 32671.0000 - val_loss: 0.4804 - val_accuracy: 0.9169 - val_auc: 0.9599 - val_TN: 2085.0000 - val_TP: 8458.0000\n",
            "Epoch 6/100\n",
            "1438/1438 [==============================] - 83s 58ms/step - loss: 0.4583 - accuracy: 0.9243 - auc: 0.9686 - TN: 9523.0000 - TP: 32983.0000 - val_loss: 0.4434 - val_accuracy: 0.9161 - val_auc: 0.9591 - val_TN: 2121.0000 - val_TP: 8412.0000\n",
            "Epoch 7/100\n",
            "1438/1438 [==============================] - 83s 58ms/step - loss: 0.4357 - accuracy: 0.9284 - auc: 0.9721 - TN: 9571.0000 - TP: 33124.0000 - val_loss: 0.4890 - val_accuracy: 0.9123 - val_auc: 0.9589 - val_TN: 2223.0000 - val_TP: 8267.0000\n",
            "Epoch 8/100\n",
            "1438/1438 [==============================] - 83s 58ms/step - loss: 0.4151 - accuracy: 0.9338 - auc: 0.9756 - TN: 9611.0000 - TP: 33332.0000 - val_loss: 0.4586 - val_accuracy: 0.9095 - val_auc: 0.9597 - val_TN: 2275.0000 - val_TP: 8182.0000\n",
            "Epoch 9/100\n",
            "1438/1438 [==============================] - 83s 58ms/step - loss: 0.3966 - accuracy: 0.9393 - auc: 0.9776 - TN: 9657.0000 - TP: 33538.0000 - val_loss: 0.5579 - val_accuracy: 0.8949 - val_auc: 0.9562 - val_TN: 2325.0000 - val_TP: 7964.0000\n"
          ],
          "name": "stdout"
        },
        {
          "output_type": "execute_result",
          "data": {
            "text/plain": [
              "<tensorflow.python.keras.callbacks.History at 0x7f9d5ae6aef0>"
            ]
          },
          "metadata": {
            "tags": []
          },
          "execution_count": 41
        }
      ]
    },
    {
      "cell_type": "markdown",
      "metadata": {
        "id": "snoF0h8J7251"
      },
      "source": [
        "### Accuracy of Network"
      ]
    },
    {
      "cell_type": "code",
      "metadata": {
        "id": "DfgfoYFIql7b",
        "outputId": "d6722f5d-08e3-411c-9a79-9eb20ab0c58a",
        "colab": {
          "base_uri": "https://localhost:8080/",
          "height": 70
        }
      },
      "source": [
        "# evaluate\n",
        "predictions = (model.predict(X_test) > 0.5).astype(\"int32\")\n",
        "\n",
        "loss, acc, auc, tn, tp = model.evaluate(X_test, y_test, verbose=0)\n",
        "print('Test Accuracy: %f' % (acc*100))\n",
        "print('Test AUC: %f' % (auc))\n",
        "print(f'MCC Score: {matthews_corrcoef(y_test, predictions)}')"
      ],
      "execution_count": null,
      "outputs": [
        {
          "output_type": "stream",
          "text": [
            "Test Accuracy: 91.520262\n",
            "Test AUC: 0.961764\n",
            "MCC Score: 0.7677932523965268\n"
          ],
          "name": "stdout"
        }
      ]
    },
    {
      "cell_type": "markdown",
      "metadata": {
        "id": "piyOXdPX8EzY"
      },
      "source": [
        "### Heatmap of Neural Network"
      ]
    },
    {
      "cell_type": "code",
      "metadata": {
        "id": "aRwr_BKWtbQs",
        "outputId": "a2248d4c-c790-45f3-9245-54f5f1a8e80a",
        "colab": {
          "base_uri": "https://localhost:8080/",
          "height": 514
        }
      },
      "source": [
        "fig, ax = plt.subplots(figsize=(10, 8))\n",
        "plt.title('Convolutional Neural Network', fontdict = {'fontsize': 15})\n",
        "ax = sns.heatmap(confusion_matrix(y_test, predictions), annot=True, fmt=\"d\", cmap='Oranges')\n",
        "ax.set_ylabel('Actual Value')\n",
        "ax.set_xlabel('Predicted Value');"
      ],
      "execution_count": null,
      "outputs": [
        {
          "output_type": "display_data",
          "data": {
            "image/png": "[encoded data removed]",
            "text/plain": [
              "<Figure size 720x576 with 2 Axes>"
            ]
          },
          "metadata": {
            "tags": [],
            "needs_background": "light"
          }
        }
      ]
    },
    {
      "cell_type": "markdown",
      "metadata": {
        "id": "46CrRHHz8Xut"
      },
      "source": [
        "### Plotting ROC AUC Curve"
      ]
    },
    {
      "cell_type": "code",
      "metadata": {
        "id": "OvGbQ6DlwBFt"
      },
      "source": [
        "def plot_roc(name, labels, predictions, **kwargs):\n",
        "  fp, tp, _ = roc_curve(labels, predictions)\n",
        "\n",
        "  plt.plot(100*fp, 100*tp, label=name, linewidth=2, **kwargs)\n",
        "  plt.xlabel('False positives [%]')\n",
        "  plt.ylabel('True positives [%]')\n",
        "  plt.grid(True)\n",
        "  ax = plt.gca()\n",
        "  ax.set_aspect('equal')"
      ],
      "execution_count": null,
      "outputs": []
    },
    {
      "cell_type": "code",
      "metadata": {
        "id": "CpeBBJ4BwCOH",
        "outputId": "f4790da2-f3e8-4e0d-b34e-1c74fbe65f18",
        "colab": {
          "base_uri": "https://localhost:8080/",
          "height": 514
        }
      },
      "source": [
        "fig, ax = plt.subplots(figsize=(8, 8))\n",
        "plt.title('Convolutional Neural Network ROC_AUC', fontdict = {'fontsize': 15})\n",
        "plot_roc(\"Test Baseline\", y_test, predictions, linestyle='--')"
      ],
      "execution_count": null,
      "outputs": [
        {
          "output_type": "display_data",
          "data": {
            "image/png": "[encoded data removed]",
            "text/plain": [
              "<Figure size 576x576 with 1 Axes>"
            ]
          },
          "metadata": {
            "tags": [],
            "needs_background": "light"
          }
        }
      ]
    },
    {
      "cell_type": "markdown",
      "metadata": {
        "id": "koUJOKAy7T4c"
      },
      "source": [
        "### Check Misclassified Posts"
      ]
    },
    {
      "cell_type": "code",
      "metadata": {
        "id": "pJ6ytmE80-9l",
        "outputId": "f0f46c30-bf72-4977-8f06-246f2ea2036a",
        "colab": {
          "base_uri": "https://localhost:8080/",
          "height": 347
        }
      },
      "source": [
        "# Create DataFrame with column for predicted values.\n",
        "results = pd.DataFrame(predictions, columns=['predicted'], index = y_test.index)\n",
        "\n",
        "# Create column for observed values.\n",
        "results['actual'] = y_test\n",
        "results['review'] = df['review']\n",
        "results['clean_content'] = df['clean_content']\n",
        "\n",
        "# Find all indices where predicted and true results \n",
        "# aren't the same, then save in an array.\n",
        "ms_class = results[results['predicted']!= results['actual']]\n",
        "ms_class.head(10)"
      ],
      "execution_count": null,
      "outputs": [
        {
          "output_type": "execute_result",
          "data": {
            "text/html": [
              "<div>\n",
              "<style scoped>\n",
              "    .dataframe tbody tr th:only-of-type {\n",
              "        vertical-align: middle;\n",
              "    }\n",
              "\n",
              "    .dataframe tbody tr th {\n",
              "        vertical-align: top;\n",
              "    }\n",
              "\n",
              "    .dataframe thead th {\n",
              "        text-align: right;\n",
              "    }\n",
              "</style>\n",
              "<table border=\"1\" class=\"dataframe\">\n",
              "  <thead>\n",
              "    <tr style=\"text-align: right;\">\n",
              "      <th></th>\n",
              "      <th>predicted</th>\n",
              "      <th>actual</th>\n",
              "      <th>review</th>\n",
              "      <th>clean_content</th>\n",
              "    </tr>\n",
              "  </thead>\n",
              "  <tbody>\n",
              "    <tr>\n",
              "      <th>4908</th>\n",
              "      <td>0</td>\n",
              "      <td>1</td>\n",
              "      <td>First trial, seems ok.</td>\n",
              "      <td>trial ok</td>\n",
              "    </tr>\n",
              "    <tr>\n",
              "      <th>6241</th>\n",
              "      <td>0</td>\n",
              "      <td>1</td>\n",
              "      <td>Sometimes for no reason, the shopee app logs m...</td>\n",
              "      <td>reason app log give error message unable acces...</td>\n",
              "    </tr>\n",
              "    <tr>\n",
              "      <th>30571</th>\n",
              "      <td>0</td>\n",
              "      <td>1</td>\n",
              "      <td>Not able to do all tasks, I find it frustratin...</td>\n",
              "      <td>able task find frustrating time use pc complet...</td>\n",
              "    </tr>\n",
              "    <tr>\n",
              "      <th>51635</th>\n",
              "      <td>1</td>\n",
              "      <td>0</td>\n",
              "      <td>We have a lot of stores like this in Florida d...</td>\n",
              "      <td>lot store like florida need order online buy</td>\n",
              "    </tr>\n",
              "    <tr>\n",
              "      <th>34561</th>\n",
              "      <td>1</td>\n",
              "      <td>0</td>\n",
              "      <td>The user interface needs to be improved otherw...</td>\n",
              "      <td>user interface need improve great app shopping</td>\n",
              "    </tr>\n",
              "    <tr>\n",
              "      <th>5028</th>\n",
              "      <td>0</td>\n",
              "      <td>1</td>\n",
              "      <td>Many Ads</td>\n",
              "      <td>ad</td>\n",
              "    </tr>\n",
              "    <tr>\n",
              "      <th>17895</th>\n",
              "      <td>1</td>\n",
              "      <td>0</td>\n",
              "      <td>I can't seem to access my account immediately ...</td>\n",
              "      <td>access account immediately finish place order ...</td>\n",
              "    </tr>\n",
              "    <tr>\n",
              "      <th>3533</th>\n",
              "      <td>0</td>\n",
              "      <td>1</td>\n",
              "      <td>Could be better if there was the option to cha...</td>\n",
              "      <td>well option change review long period time thi...</td>\n",
              "    </tr>\n",
              "    <tr>\n",
              "      <th>39817</th>\n",
              "      <td>1</td>\n",
              "      <td>0</td>\n",
              "      <td>I have been a buyer from Asos for a while now ...</td>\n",
              "      <td>buyer believe thousand pound spend account sta...</td>\n",
              "    </tr>\n",
              "    <tr>\n",
              "      <th>52054</th>\n",
              "      <td>1</td>\n",
              "      <td>0</td>\n",
              "      <td>Have had some acct problems. Careful.</td>\n",
              "      <td>acct problem careful</td>\n",
              "    </tr>\n",
              "  </tbody>\n",
              "</table>\n",
              "</div>"
            ],
            "text/plain": [
              "       predicted  ...                                      clean_content\n",
              "4908           0  ...                                           trial ok\n",
              "6241           0  ...  reason app log give error message unable acces...\n",
              "30571          0  ...  able task find frustrating time use pc complet...\n",
              "51635          1  ...       lot store like florida need order online buy\n",
              "34561          1  ...     user interface need improve great app shopping\n",
              "5028           0  ...                                                 ad\n",
              "17895          1  ...  access account immediately finish place order ...\n",
              "3533           0  ...  well option change review long period time thi...\n",
              "39817          1  ...  buyer believe thousand pound spend account sta...\n",
              "52054          1  ...                               acct problem careful\n",
              "\n",
              "[10 rows x 4 columns]"
            ]
          },
          "metadata": {
            "tags": []
          },
          "execution_count": 46
        }
      ]
    },
    {
      "cell_type": "code",
      "metadata": {
        "id": "LhreZAUt7Fgj",
        "outputId": "326bd42d-e6bf-432c-ed22-75da335e4812",
        "colab": {
          "base_uri": "https://localhost:8080/",
          "height": 34
        }
      },
      "source": [
        "# save model and architecture to single file\n",
        "model.save('/content/drive/My Drive/Colab Notebooks/model.h5')\n",
        "print('Saved model to disk')"
      ],
      "execution_count": null,
      "outputs": [
        {
          "output_type": "stream",
          "text": [
            "Saved model to disk\n"
          ],
          "name": "stdout"
        }
      ]
    },
    {
      "cell_type": "code",
      "metadata": {
        "id": "FPEbGaPii-V0",
        "outputId": "276d4228-9ae2-4ee0-ddd8-1b618dc09e12",
        "colab": {
          "base_uri": "https://localhost:8080/",
          "height": 407
        }
      },
      "source": [
        "from keras.models import load_model\n",
        " \n",
        "# load model\n",
        "model = load_model('/content/drive/My Drive/Colab Notebooks/model.h5')\n",
        "# summarize model.\n",
        "model.summary()"
      ],
      "execution_count": null,
      "outputs": [
        {
          "output_type": "stream",
          "text": [
            "Model: \"sequential_1\"\n",
            "_________________________________________________________________\n",
            "Layer (type)                 Output Shape              Param #   \n",
            "=================================================================\n",
            "embedding_1 (Embedding)      (None, 9000, 50)          723400    \n",
            "_________________________________________________________________\n",
            "conv1d_1 (Conv1D)            (None, 8985, 50)          40050     \n",
            "_________________________________________________________________\n",
            "global_max_pooling1d_1 (Glob (None, 50)                0         \n",
            "_________________________________________________________________\n",
            "flatten_1 (Flatten)          (None, 50)                0         \n",
            "_________________________________________________________________\n",
            "dense_2 (Dense)              (None, 50)                2550      \n",
            "_________________________________________________________________\n",
            "dropout_1 (Dropout)          (None, 50)                0         \n",
            "_________________________________________________________________\n",
            "dense_3 (Dense)              (None, 1)                 51        \n",
            "=================================================================\n",
            "Total params: 766,051\n",
            "Trainable params: 766,051\n",
            "Non-trainable params: 0\n",
            "_________________________________________________________________\n"
          ],
          "name": "stdout"
        }
      ]
    },
    {
      "cell_type": "code",
      "metadata": {
        "id": "IX5VymDj4nLH"
      },
      "source": [
        ""
      ],
      "execution_count": null,
      "outputs": []
    }
  ]
}