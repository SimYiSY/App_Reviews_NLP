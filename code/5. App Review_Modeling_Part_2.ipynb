{
 "cells": [
  {
   "cell_type": "markdown",
   "metadata": {},
   "source": [
    "# Shopping Apps, Rating for Google Play Store and Apple AppStore Users\n",
    "\n",
    "## Introduction\n",
    "\n",
    "Users download apps for various purposes. Given that there is a rise in the usage of online shopping due to the Covid-19 pandemic, improvement of shopping experience has become more important then before. With that in mind, what are the important features we have to look out for to improve a shopping app?\n",
    "\n",
    "More specifically, the questions to be answered:\n",
    "\n",
    "- How do the app ratings differ across different shopping apps?\n",
    "- Is there any specific group of users we can look out for to improve the app?\n",
    "- Are there any specific improvement we can work on to further improve user experience of the app?\n",
    "\n",
    "To explore and answer the above questions, we will scrap reviews from Google Play Store and Apple AppStore and conduct analysis and modelling."
   ]
  },
  {
   "cell_type": "markdown",
   "metadata": {},
   "source": [
    "# Import"
   ]
  },
  {
   "cell_type": "code",
   "execution_count": 1,
   "metadata": {},
   "outputs": [],
   "source": [
    "import pandas as pd\n",
    "import numpy as np\n",
    "import matplotlib.pyplot as plt\n",
    "import seaborn as sns\n",
    "from time import time\n",
    "\n",
    "from PIL import Image\n",
    "from wordcloud import WordCloud\n",
    "\n",
    "\n",
    "from sklearn.model_selection import train_test_split, GridSearchCV, RandomizedSearchCV\n",
    "from sklearn.feature_extraction.text import CountVectorizer, TfidfVectorizer, HashingVectorizer\n",
    "\n",
    "from sklearn.metrics import matthews_corrcoef, confusion_matrix, plot_confusion_matrix, cohen_kappa_score\n",
    "from sklearn.metrics import classification_report\n",
    "\n",
    "from imblearn.over_sampling import SMOTE\n",
    "from imblearn.pipeline import Pipeline\n",
    "\n",
    "from sklearn.linear_model import LogisticRegression, SGDClassifier\n",
    "from sklearn.ensemble import RandomForestClassifier\n",
    "\n",
    "from sklearn.ensemble import AdaBoostClassifier\n",
    "from sklearn.naive_bayes import MultinomialNB\n",
    "\n",
    "import pickle"
   ]
  },
  {
   "cell_type": "code",
   "execution_count": 2,
   "metadata": {},
   "outputs": [],
   "source": [
    "df = pd.read_csv('../data/reviews_Model.csv')"
   ]
  },
  {
   "cell_type": "code",
   "execution_count": 3,
   "metadata": {},
   "outputs": [
    {
     "data": {
      "text/html": [
       "<div>\n",
       "<style scoped>\n",
       "    .dataframe tbody tr th:only-of-type {\n",
       "        vertical-align: middle;\n",
       "    }\n",
       "\n",
       "    .dataframe tbody tr th {\n",
       "        vertical-align: top;\n",
       "    }\n",
       "\n",
       "    .dataframe thead th {\n",
       "        text-align: right;\n",
       "    }\n",
       "</style>\n",
       "<table border=\"1\" class=\"dataframe\">\n",
       "  <thead>\n",
       "    <tr style=\"text-align: right;\">\n",
       "      <th></th>\n",
       "      <th>rating</th>\n",
       "      <th>date</th>\n",
       "      <th>app</th>\n",
       "      <th>store</th>\n",
       "      <th>review</th>\n",
       "      <th>clean_content</th>\n",
       "      <th>adj</th>\n",
       "      <th>noun</th>\n",
       "      <th>verb</th>\n",
       "      <th>emoji</th>\n",
       "      <th>...</th>\n",
       "      <th>neu_score</th>\n",
       "      <th>pos_score</th>\n",
       "      <th>compound_score</th>\n",
       "      <th>month</th>\n",
       "      <th>dayofweek</th>\n",
       "      <th>hour</th>\n",
       "      <th>minute</th>\n",
       "      <th>text_len</th>\n",
       "      <th>word_count</th>\n",
       "      <th>category</th>\n",
       "    </tr>\n",
       "  </thead>\n",
       "  <tbody>\n",
       "    <tr>\n",
       "      <th>0</th>\n",
       "      <td>5</td>\n",
       "      <td>2020-09-16 20:26:28</td>\n",
       "      <td>shoppee</td>\n",
       "      <td>google</td>\n",
       "      <td>Orders mostly came early and products are good.</td>\n",
       "      <td>order come early product good</td>\n",
       "      <td>good</td>\n",
       "      <td>order product</td>\n",
       "      <td>come</td>\n",
       "      <td>NaN</td>\n",
       "      <td>...</td>\n",
       "      <td>0.707</td>\n",
       "      <td>0.293</td>\n",
       "      <td>0.4404</td>\n",
       "      <td>9</td>\n",
       "      <td>3</td>\n",
       "      <td>20</td>\n",
       "      <td>26</td>\n",
       "      <td>47</td>\n",
       "      <td>8</td>\n",
       "      <td>Good Seller Service</td>\n",
       "    </tr>\n",
       "    <tr>\n",
       "      <th>1</th>\n",
       "      <td>4</td>\n",
       "      <td>2020-09-16 20:13:46</td>\n",
       "      <td>shoppee</td>\n",
       "      <td>google</td>\n",
       "      <td>Good and convenient</td>\n",
       "      <td>good convenient</td>\n",
       "      <td>good convenient</td>\n",
       "      <td>NaN</td>\n",
       "      <td>NaN</td>\n",
       "      <td>NaN</td>\n",
       "      <td>...</td>\n",
       "      <td>0.408</td>\n",
       "      <td>0.592</td>\n",
       "      <td>0.4404</td>\n",
       "      <td>9</td>\n",
       "      <td>3</td>\n",
       "      <td>20</td>\n",
       "      <td>13</td>\n",
       "      <td>19</td>\n",
       "      <td>3</td>\n",
       "      <td>Good Overall Service</td>\n",
       "    </tr>\n",
       "    <tr>\n",
       "      <th>2</th>\n",
       "      <td>4</td>\n",
       "      <td>2020-09-16 20:11:18</td>\n",
       "      <td>shoppee</td>\n",
       "      <td>google</td>\n",
       "      <td>My first purchase experience...Happy with purc...</td>\n",
       "      <td>purchase experience happy purchase</td>\n",
       "      <td>first happy</td>\n",
       "      <td>purchase experience purchase</td>\n",
       "      <td>NaN</td>\n",
       "      <td>NaN</td>\n",
       "      <td>...</td>\n",
       "      <td>0.714</td>\n",
       "      <td>0.286</td>\n",
       "      <td>0.3400</td>\n",
       "      <td>9</td>\n",
       "      <td>3</td>\n",
       "      <td>20</td>\n",
       "      <td>11</td>\n",
       "      <td>57</td>\n",
       "      <td>7</td>\n",
       "      <td>Good Seller Service</td>\n",
       "    </tr>\n",
       "    <tr>\n",
       "      <th>3</th>\n",
       "      <td>5</td>\n",
       "      <td>2020-09-16 20:08:54</td>\n",
       "      <td>shoppee</td>\n",
       "      <td>google</td>\n",
       "      <td>A lot of items at a very good deal.</td>\n",
       "      <td>lot item good deal</td>\n",
       "      <td>good</td>\n",
       "      <td>lot item deal</td>\n",
       "      <td>NaN</td>\n",
       "      <td>NaN</td>\n",
       "      <td>...</td>\n",
       "      <td>0.715</td>\n",
       "      <td>0.285</td>\n",
       "      <td>0.4927</td>\n",
       "      <td>9</td>\n",
       "      <td>3</td>\n",
       "      <td>20</td>\n",
       "      <td>8</td>\n",
       "      <td>35</td>\n",
       "      <td>9</td>\n",
       "      <td>Good Overall Service</td>\n",
       "    </tr>\n",
       "    <tr>\n",
       "      <th>4</th>\n",
       "      <td>5</td>\n",
       "      <td>2020-09-16 19:37:21</td>\n",
       "      <td>shoppee</td>\n",
       "      <td>google</td>\n",
       "      <td>Delivery is fast</td>\n",
       "      <td>delivery fast</td>\n",
       "      <td>fast</td>\n",
       "      <td>delivery</td>\n",
       "      <td>NaN</td>\n",
       "      <td>NaN</td>\n",
       "      <td>...</td>\n",
       "      <td>1.000</td>\n",
       "      <td>0.000</td>\n",
       "      <td>0.0000</td>\n",
       "      <td>9</td>\n",
       "      <td>3</td>\n",
       "      <td>19</td>\n",
       "      <td>37</td>\n",
       "      <td>16</td>\n",
       "      <td>3</td>\n",
       "      <td>Good Overall Service</td>\n",
       "    </tr>\n",
       "  </tbody>\n",
       "</table>\n",
       "<p>5 rows × 21 columns</p>\n",
       "</div>"
      ],
      "text/plain": [
       "   rating                 date      app   store  \\\n",
       "0       5  2020-09-16 20:26:28  shoppee  google   \n",
       "1       4  2020-09-16 20:13:46  shoppee  google   \n",
       "2       4  2020-09-16 20:11:18  shoppee  google   \n",
       "3       5  2020-09-16 20:08:54  shoppee  google   \n",
       "4       5  2020-09-16 19:37:21  shoppee  google   \n",
       "\n",
       "                                              review  \\\n",
       "0    Orders mostly came early and products are good.   \n",
       "1                                Good and convenient   \n",
       "2  My first purchase experience...Happy with purc...   \n",
       "3                A lot of items at a very good deal.   \n",
       "4                                   Delivery is fast   \n",
       "\n",
       "                        clean_content               adj  \\\n",
       "0       order come early product good             good    \n",
       "1                     good convenient  good convenient    \n",
       "2  purchase experience happy purchase      first happy    \n",
       "3                  lot item good deal             good    \n",
       "4                       delivery fast             fast    \n",
       "\n",
       "                            noun   verb emoji  ...  neu_score  pos_score  \\\n",
       "0                 order product   come    NaN  ...      0.707      0.293   \n",
       "1                            NaN    NaN   NaN  ...      0.408      0.592   \n",
       "2  purchase experience purchase     NaN   NaN  ...      0.714      0.286   \n",
       "3                 lot item deal     NaN   NaN  ...      0.715      0.285   \n",
       "4                      delivery     NaN   NaN  ...      1.000      0.000   \n",
       "\n",
       "   compound_score  month  dayofweek  hour  minute  text_len  word_count  \\\n",
       "0          0.4404      9          3    20      26        47           8   \n",
       "1          0.4404      9          3    20      13        19           3   \n",
       "2          0.3400      9          3    20      11        57           7   \n",
       "3          0.4927      9          3    20       8        35           9   \n",
       "4          0.0000      9          3    19      37        16           3   \n",
       "\n",
       "               category  \n",
       "0   Good Seller Service  \n",
       "1  Good Overall Service  \n",
       "2   Good Seller Service  \n",
       "3  Good Overall Service  \n",
       "4  Good Overall Service  \n",
       "\n",
       "[5 rows x 21 columns]"
      ]
     },
     "execution_count": 3,
     "metadata": {},
     "output_type": "execute_result"
    }
   ],
   "source": [
    "df.head()"
   ]
  },
  {
   "cell_type": "markdown",
   "metadata": {},
   "source": [
    "## Taking out all bad reviews for training"
   ]
  },
  {
   "cell_type": "code",
   "execution_count": 4,
   "metadata": {},
   "outputs": [
    {
     "data": {
      "text/plain": [
       "App Issues              0.563413\n",
       "Bad Customer Service    0.369820\n",
       "Bad Seller Reviews      0.066768\n",
       "Name: category, dtype: float64"
      ]
     },
     "execution_count": 4,
     "metadata": {},
     "output_type": "execute_result"
    }
   ],
   "source": [
    "df[df['rating'] <= 3 ]['category'].value_counts(normalize = True)"
   ]
  },
  {
   "cell_type": "code",
   "execution_count": 5,
   "metadata": {},
   "outputs": [
    {
     "data": {
      "text/html": [
       "<div>\n",
       "<style scoped>\n",
       "    .dataframe tbody tr th:only-of-type {\n",
       "        vertical-align: middle;\n",
       "    }\n",
       "\n",
       "    .dataframe tbody tr th {\n",
       "        vertical-align: top;\n",
       "    }\n",
       "\n",
       "    .dataframe thead th {\n",
       "        text-align: right;\n",
       "    }\n",
       "</style>\n",
       "<table border=\"1\" class=\"dataframe\">\n",
       "  <thead>\n",
       "    <tr style=\"text-align: right;\">\n",
       "      <th></th>\n",
       "      <th>category</th>\n",
       "      <th>clean_content</th>\n",
       "      <th>review</th>\n",
       "    </tr>\n",
       "  </thead>\n",
       "  <tbody>\n",
       "    <tr>\n",
       "      <th>11</th>\n",
       "      <td>App Issues</td>\n",
       "      <td>stupid bubble game impossible tap bubble chang...</td>\n",
       "      <td>Stupid shoppee bubble game. Impossible. When t...</td>\n",
       "    </tr>\n",
       "    <tr>\n",
       "      <th>40</th>\n",
       "      <td>App Issues</td>\n",
       "      <td>recent update shoppe bubble game unplayable li...</td>\n",
       "      <td>Recent update make shoppe bubble game unplayab...</td>\n",
       "    </tr>\n",
       "    <tr>\n",
       "      <th>69</th>\n",
       "      <td>Bad Customer Service</td>\n",
       "      <td>d come contact live chat rep purposely waste t...</td>\n",
       "      <td>Was quite ok with d app until I came into cont...</td>\n",
       "    </tr>\n",
       "    <tr>\n",
       "      <th>122</th>\n",
       "      <td>App Issues</td>\n",
       "      <td>aware manage beat claim certain voucher able u...</td>\n",
       "      <td>Be aware that even though you managed to beat ...</td>\n",
       "    </tr>\n",
       "    <tr>\n",
       "      <th>139</th>\n",
       "      <td>Bad Customer Service</td>\n",
       "      <td>delete account receive defective item seller g...</td>\n",
       "      <td>Deleted the app and my account. Received sever...</td>\n",
       "    </tr>\n",
       "  </tbody>\n",
       "</table>\n",
       "</div>"
      ],
      "text/plain": [
       "                 category                                      clean_content  \\\n",
       "11             App Issues  stupid bubble game impossible tap bubble chang...   \n",
       "40             App Issues  recent update shoppe bubble game unplayable li...   \n",
       "69   Bad Customer Service  d come contact live chat rep purposely waste t...   \n",
       "122            App Issues  aware manage beat claim certain voucher able u...   \n",
       "139  Bad Customer Service  delete account receive defective item seller g...   \n",
       "\n",
       "                                                review  \n",
       "11   Stupid shoppee bubble game. Impossible. When t...  \n",
       "40   Recent update make shoppe bubble game unplayab...  \n",
       "69   Was quite ok with d app until I came into cont...  \n",
       "122  Be aware that even though you managed to beat ...  \n",
       "139  Deleted the app and my account. Received sever...  "
      ]
     },
     "execution_count": 5,
     "metadata": {},
     "output_type": "execute_result"
    }
   ],
   "source": [
    "df = df[df['rating'] <= 3 ][['category', 'clean_content', 'review']]\n",
    "df.head()"
   ]
  },
  {
   "cell_type": "code",
   "execution_count": 6,
   "metadata": {},
   "outputs": [
    {
     "data": {
      "text/plain": [
       "category         0\n",
       "clean_content    0\n",
       "review           0\n",
       "dtype: int64"
      ]
     },
     "execution_count": 6,
     "metadata": {},
     "output_type": "execute_result"
    }
   ],
   "source": [
    "#Checking null values\n",
    "df.isna().sum()"
   ]
  },
  {
   "cell_type": "markdown",
   "metadata": {},
   "source": [
    "## Train Test Split Data"
   ]
  },
  {
   "cell_type": "code",
   "execution_count": 7,
   "metadata": {},
   "outputs": [],
   "source": [
    "X_train, X_test, y_train, y_test = train_test_split(df['clean_content'], \n",
    "                                                    df['category'], \n",
    "                                                    test_size = 0.2, \n",
    "                                                    random_state = 42,\n",
    "                                                    stratify = df['category'])"
   ]
  },
  {
   "cell_type": "code",
   "execution_count": 8,
   "metadata": {},
   "outputs": [
    {
     "name": "stdout",
     "output_type": "stream",
     "text": [
      "X_train rows: 12161, X_test rows: 3041\n",
      "y_train rows: 12161, y_test rows: 3041\n"
     ]
    }
   ],
   "source": [
    "print(f'X_train rows: {X_train.shape[0]}, X_test rows: {X_test.shape[0]}')\n",
    "print(f'y_train rows: {y_train.shape[0]}, y_test rows: {y_test.shape[0]}')"
   ]
  },
  {
   "cell_type": "markdown",
   "metadata": {},
   "source": [
    "## Baseline Model"
   ]
  },
  {
   "cell_type": "code",
   "execution_count": 9,
   "metadata": {},
   "outputs": [
    {
     "name": "stdout",
     "output_type": "stream",
     "text": [
      "(12161, 5000)\n",
      "(3041, 5000)\n"
     ]
    }
   ],
   "source": [
    "vectorizer = CountVectorizer(analyzer = \"word\",\n",
    "                             tokenizer = None,\n",
    "                             preprocessor = None,\n",
    "                             stop_words = None,\n",
    "                             max_features = 5000)\n",
    "\n",
    "train_data_features = vectorizer.fit_transform(X_train)\n",
    "test_data_features = vectorizer.transform(X_test)\n",
    "\n",
    "print(train_data_features.shape)\n",
    "print(test_data_features.shape)"
   ]
  },
  {
   "cell_type": "code",
   "execution_count": 10,
   "metadata": {},
   "outputs": [
    {
     "data": {
      "image/png": "[encoded data removed]",
      "text/plain": [
       "<Figure size 720x720 with 1 Axes>"
      ]
     },
     "metadata": {
      "needs_background": "light"
     },
     "output_type": "display_data"
    }
   ],
   "source": [
    "common_words = pd.DataFrame(train_data_features.toarray(), columns = vectorizer.get_feature_names()).sum().sort_values(ascending = False)\n",
    "\n",
    "wordcloud = WordCloud(max_font_size=70,\n",
    "                      max_words=200,\n",
    "                      background_color=\"white\",\n",
    "                      colormap='CMRmap')\n",
    "wordcloud.generate_from_frequencies(frequencies=common_words)\n",
    "plt.figure(figsize = (10,10))\n",
    "plt.imshow(wordcloud, interpolation=\"bilinear\")\n",
    "plt.axis(\"off\")\n",
    "plt.show()"
   ]
  },
  {
   "cell_type": "code",
   "execution_count": 11,
   "metadata": {},
   "outputs": [
    {
     "name": "stdout",
     "output_type": "stream",
     "text": [
      "Accuracy score for Train data set: 0.9791135597401529\n",
      "Accuracy score for Test data set: 0.9187767181848077\n"
     ]
    }
   ],
   "source": [
    "# Instantiate logistic regression model.\n",
    "lr = LogisticRegression(solver = 'lbfgs', max_iter = 5000)\n",
    "\n",
    "# Fit model to training data.\n",
    "lr.fit(train_data_features, y_train)\n",
    "\n",
    "# Evaluate model on training data.\n",
    "print(f'Accuracy score for Train data set: {lr.score(train_data_features, y_train)}')\n",
    "\n",
    "# Evaluate model on testing data.\n",
    "print(f'Accuracy score for Test data set: {lr.score(test_data_features, y_test)}')"
   ]
  },
  {
   "cell_type": "code",
   "execution_count": 12,
   "metadata": {},
   "outputs": [
    {
     "data": {
      "image/png": "[encoded data removed]",
      "text/plain": [
       "<Figure size 576x576 with 2 Axes>"
      ]
     },
     "metadata": {
      "needs_background": "light"
     },
     "output_type": "display_data"
    }
   ],
   "source": [
    "fig, ax = plt.subplots(figsize=(8, 8))\n",
    "plt.title('LogisticRegression Confusion Matrix', fontdict = {'fontsize': 15})\n",
    "plot_confusion_matrix(lr, test_data_features, y_test, ax = ax, cmap='Oranges', xticks_rotation=45);"
   ]
  },
  {
   "cell_type": "code",
   "execution_count": 13,
   "metadata": {},
   "outputs": [
    {
     "name": "stdout",
     "output_type": "stream",
     "text": [
      "                      precision    recall  f1-score   support\n",
      "\n",
      "          App Issues      0.918     0.959     0.938      1713\n",
      "Bad Customer Service      0.928     0.919     0.924      1125\n",
      "  Bad Seller Reviews      0.854     0.576     0.688       203\n",
      "\n",
      "            accuracy                          0.919      3041\n",
      "           macro avg      0.900     0.818     0.850      3041\n",
      "        weighted avg      0.917     0.919     0.916      3041\n",
      "\n"
     ]
    }
   ],
   "source": [
    "print(classification_report(y_test, lr.predict(test_data_features), digits=3))"
   ]
  },
  {
   "cell_type": "markdown",
   "metadata": {},
   "source": [
    "## Testing with different vectorizers"
   ]
  },
  {
   "cell_type": "markdown",
   "metadata": {},
   "source": [
    "### CountVectorizer Logistic Regression"
   ]
  },
  {
   "cell_type": "code",
   "execution_count": 14,
   "metadata": {},
   "outputs": [
    {
     "name": "stdout",
     "output_type": "stream",
     "text": [
      "Fitting 5 folds for each of 40 candidates, totalling 200 fits\n"
     ]
    },
    {
     "name": "stderr",
     "output_type": "stream",
     "text": [
      "[Parallel(n_jobs=-1)]: Using backend LokyBackend with 4 concurrent workers.\n",
      "[Parallel(n_jobs=-1)]: Done  42 tasks      | elapsed:   20.3s\n",
      "[Parallel(n_jobs=-1)]: Done 192 tasks      | elapsed:  1.3min\n",
      "[Parallel(n_jobs=-1)]: Done 200 out of 200 | elapsed:  1.3min finished\n"
     ]
    },
    {
     "name": "stdout",
     "output_type": "stream",
     "text": [
      "Best CVEC Parameters: Pipeline(steps=[('cvec',\n",
      "                 CountVectorizer(max_df=0.2, max_features=8000, min_df=3)),\n",
      "                ('sampling',\n",
      "                 SMOTE(n_jobs=-1, random_state=42,\n",
      "                       sampling_strategy='not minority')),\n",
      "                ('lr', LogisticRegression(max_iter=5000))])\n",
      "Fit time:  82.301s\n"
     ]
    }
   ],
   "source": [
    "# Setting pipeline for two stages\n",
    "cvec_lr = Pipeline([\n",
    "    ('cvec', CountVectorizer()),\n",
    "    ('sampling', SMOTE(random_state=42, n_jobs = -1)),\n",
    "    ('lr', LogisticRegression(solver = 'lbfgs', max_iter = 5000))\n",
    "     ])\n",
    "\n",
    "pipe_params = {\n",
    "    'cvec__max_features': [7000, 8000],\n",
    "    'cvec__min_df': [3, 4],\n",
    "    'cvec__max_df': [.2 , .3,],\n",
    "    'cvec__ngram_range': [(1,1), (1,2)],\n",
    "    'sampling__sampling_strategy': ['minority', 'not minority'],\n",
    "    'sampling__k_neighbors': [5, 10]\n",
    "}\n",
    "\n",
    "gs_cvec_lr = RandomizedSearchCV(cvec_lr, # what object are we optimizing?\n",
    "                                param_distributions=pipe_params, # what parameters values are we searching?\n",
    "                                random_state = 42, n_iter = 40,\n",
    "                                cv=5, verbose = 1, n_jobs = -1, scoring = 'f1_weighted') # 5-fold cross-validation.\n",
    "t0 = time()\n",
    "gs_cvec_lr.fit(X_train, y_train)\n",
    "cvec_test_time = time() - t0\n",
    "print(f'Best CVEC Parameters: {gs_cvec_lr.best_estimator_}')\n",
    "print('Fit time:  %0.3fs' % cvec_test_time);"
   ]
  },
  {
   "cell_type": "markdown",
   "metadata": {},
   "source": [
    "### TFIDVectorizer Logistic Regression"
   ]
  },
  {
   "cell_type": "code",
   "execution_count": 15,
   "metadata": {},
   "outputs": [
    {
     "name": "stdout",
     "output_type": "stream",
     "text": [
      "Fitting 5 folds for each of 40 candidates, totalling 200 fits\n"
     ]
    },
    {
     "name": "stderr",
     "output_type": "stream",
     "text": [
      "[Parallel(n_jobs=-1)]: Using backend LokyBackend with 4 concurrent workers.\n",
      "[Parallel(n_jobs=-1)]: Done  42 tasks      | elapsed:   13.9s\n",
      "[Parallel(n_jobs=-1)]: Done 192 tasks      | elapsed:  1.2min\n",
      "[Parallel(n_jobs=-1)]: Done 200 out of 200 | elapsed:  1.3min finished\n"
     ]
    },
    {
     "name": "stdout",
     "output_type": "stream",
     "text": [
      "Best TFID Parameters: Pipeline(steps=[('tfid',\n",
      "                 TfidfVectorizer(max_df=0.2, max_features=9000, min_df=3)),\n",
      "                ('sampling',\n",
      "                 SMOTE(k_neighbors=10, n_jobs=-1, random_state=42,\n",
      "                       sampling_strategy='not minority')),\n",
      "                ('lr', LogisticRegression(max_iter=5000))])\n",
      "Fit time:  76.587s\n"
     ]
    }
   ],
   "source": [
    "# Setting pipeline for two stages\n",
    "tfid_lr = Pipeline([\n",
    "    ('tfid', TfidfVectorizer()),\n",
    "    ('sampling', SMOTE(random_state=42, n_jobs = -1)),\n",
    "    ('lr', LogisticRegression(solver = 'lbfgs', max_iter = 5000))\n",
    "])\n",
    "\n",
    "pipe_params = {\n",
    "    'tfid__max_features': [8000, 9000],\n",
    "    'tfid__min_df': [3, 4],\n",
    "    'tfid__max_df': [.2, .3],\n",
    "    'tfid__ngram_range': [(1,1), (1,2)],\n",
    "    'sampling__sampling_strategy': ['minority', 'not minority'],\n",
    "    'sampling__k_neighbors': [5, 10]\n",
    "}\n",
    "\n",
    "gs_tfid_lr = RandomizedSearchCV(tfid_lr, # what object are we optimizing?\n",
    "                                param_distributions=pipe_params, # what parameters values are we searching?\n",
    "                                random_state = 42, n_iter = 40,\n",
    "                                cv=5, verbose = 1, n_jobs = -1, scoring = 'f1_weighted') # 5-fold cross-validation.\n",
    "t0 = time()\n",
    "gs_tfid_lr.fit(X_train, y_train)\n",
    "tfid_test_time = time() - t0\n",
    "print(f'Best TFID Parameters: {gs_tfid_lr.best_estimator_}')\n",
    "print('Fit time:  %0.3fs' % tfid_test_time);"
   ]
  },
  {
   "cell_type": "markdown",
   "metadata": {},
   "source": [
    "### HashingVectorizer Logistic Regression"
   ]
  },
  {
   "cell_type": "code",
   "execution_count": 16,
   "metadata": {},
   "outputs": [
    {
     "name": "stdout",
     "output_type": "stream",
     "text": [
      "Fitting 5 folds for each of 16 candidates, totalling 80 fits\n"
     ]
    },
    {
     "name": "stderr",
     "output_type": "stream",
     "text": [
      "C:\\Users\\Sim Yi\\anaconda3\\lib\\site-packages\\sklearn\\model_selection\\_search.py:278: UserWarning: The total space of parameters 16 is smaller than n_iter=40. Running 16 iterations. For exhaustive searches, use GridSearchCV.\n",
      "  warnings.warn(\n",
      "[Parallel(n_jobs=-1)]: Using backend LokyBackend with 4 concurrent workers.\n",
      "[Parallel(n_jobs=-1)]: Done  42 tasks      | elapsed:   16.7s\n",
      "[Parallel(n_jobs=-1)]: Done  80 out of  80 | elapsed:   32.9s finished\n"
     ]
    },
    {
     "name": "stdout",
     "output_type": "stream",
     "text": [
      "Best HASH Parameters: Pipeline(steps=[('hash', HashingVectorizer(n_features=6000)),\n",
      "                ('sampling',\n",
      "                 SMOTE(k_neighbors=10, n_jobs=-1, random_state=42,\n",
      "                       sampling_strategy='minority')),\n",
      "                ('lr', LogisticRegression(max_iter=5000))])\n",
      "Fit time:  34.455s\n"
     ]
    }
   ],
   "source": [
    "# Setting pipeline for two stages\n",
    "hash_lr = Pipeline([\n",
    "    ('hash', HashingVectorizer()),\n",
    "    ('sampling', SMOTE(random_state=42, n_jobs = -1)),\n",
    "    ('lr', LogisticRegression(solver = 'lbfgs', max_iter = 5000))\n",
    "])\n",
    "\n",
    "pipe_params = {\n",
    "    'hash__n_features': [6000, 7000],\n",
    "    'hash__ngram_range': [(1,1), (1,2)],\n",
    "    'sampling__sampling_strategy': ['minority', 'not minority'],\n",
    "    'sampling__k_neighbors': [5, 10]\n",
    "}\n",
    "\n",
    "gs_hash_lr = RandomizedSearchCV(hash_lr, # what object are we optimizing?\n",
    "                                param_distributions=pipe_params, # what parameters values are we searching?\n",
    "                                random_state = 42, n_iter = 40,\n",
    "                                cv=5, verbose = 1, n_jobs = -1, scoring = 'f1_weighted') # 5-fold cross-validation.\n",
    "\n",
    "t0 = time()\n",
    "gs_hash_lr.fit(X_train, y_train)\n",
    "hash_test_time = time() - t0\n",
    "print(f'Best HASH Parameters: {gs_hash_lr.best_estimator_}')\n",
    "print('Fit time:  %0.3fs' % hash_test_time);"
   ]
  },
  {
   "cell_type": "code",
   "execution_count": 17,
   "metadata": {},
   "outputs": [
    {
     "data": {
      "text/html": [
       "<style  type=\"text/css\" >\n",
       "#T_0d7e76fe_05ea_11eb_8932_d050996a2eafrow0_col5,#T_0d7e76fe_05ea_11eb_8932_d050996a2eafrow1_col2,#T_0d7e76fe_05ea_11eb_8932_d050996a2eafrow1_col3,#T_0d7e76fe_05ea_11eb_8932_d050996a2eafrow1_col4{\n",
       "            background-color:  yellow;\n",
       "        }#T_0d7e76fe_05ea_11eb_8932_d050996a2eafrow2_col2,#T_0d7e76fe_05ea_11eb_8932_d050996a2eafrow2_col3,#T_0d7e76fe_05ea_11eb_8932_d050996a2eafrow2_col4,#T_0d7e76fe_05ea_11eb_8932_d050996a2eafrow2_col5{\n",
       "            background-color:  red;\n",
       "        }</style><table id=\"T_0d7e76fe_05ea_11eb_8932_d050996a2eaf\" ><thead>    <tr>        <th class=\"blank level0\" ></th>        <th class=\"col_heading level0 col0\" >model</th>        <th class=\"col_heading level0 col1\" >vectorizer</th>        <th class=\"col_heading level0 col2\" >train_score</th>        <th class=\"col_heading level0 col3\" >test_score</th>        <th class=\"col_heading level0 col4\" >MCC_score</th>        <th class=\"col_heading level0 col5\" >time(s)</th>    </tr></thead><tbody>\n",
       "                <tr>\n",
       "                        <th id=\"T_0d7e76fe_05ea_11eb_8932_d050996a2eaflevel0_row0\" class=\"row_heading level0 row0\" >0</th>\n",
       "                        <td id=\"T_0d7e76fe_05ea_11eb_8932_d050996a2eafrow0_col0\" class=\"data row0 col0\" >LogisticRegression</td>\n",
       "                        <td id=\"T_0d7e76fe_05ea_11eb_8932_d050996a2eafrow0_col1\" class=\"data row0 col1\" >CountVectorizer</td>\n",
       "                        <td id=\"T_0d7e76fe_05ea_11eb_8932_d050996a2eafrow0_col2\" class=\"data row0 col2\" >0.902078</td>\n",
       "                        <td id=\"T_0d7e76fe_05ea_11eb_8932_d050996a2eafrow0_col3\" class=\"data row0 col3\" >0.910550</td>\n",
       "                        <td id=\"T_0d7e76fe_05ea_11eb_8932_d050996a2eafrow0_col4\" class=\"data row0 col4\" >0.839439</td>\n",
       "                        <td id=\"T_0d7e76fe_05ea_11eb_8932_d050996a2eafrow0_col5\" class=\"data row0 col5\" >82</td>\n",
       "            </tr>\n",
       "            <tr>\n",
       "                        <th id=\"T_0d7e76fe_05ea_11eb_8932_d050996a2eaflevel0_row1\" class=\"row_heading level0 row1\" >1</th>\n",
       "                        <td id=\"T_0d7e76fe_05ea_11eb_8932_d050996a2eafrow1_col0\" class=\"data row1 col0\" >LogisticRegression</td>\n",
       "                        <td id=\"T_0d7e76fe_05ea_11eb_8932_d050996a2eafrow1_col1\" class=\"data row1 col1\" >TFIDVectorizer</td>\n",
       "                        <td id=\"T_0d7e76fe_05ea_11eb_8932_d050996a2eafrow1_col2\" class=\"data row1 col2\" >0.909183</td>\n",
       "                        <td id=\"T_0d7e76fe_05ea_11eb_8932_d050996a2eafrow1_col3\" class=\"data row1 col3\" >0.919531</td>\n",
       "                        <td id=\"T_0d7e76fe_05ea_11eb_8932_d050996a2eafrow1_col4\" class=\"data row1 col4\" >0.857130</td>\n",
       "                        <td id=\"T_0d7e76fe_05ea_11eb_8932_d050996a2eafrow1_col5\" class=\"data row1 col5\" >77</td>\n",
       "            </tr>\n",
       "            <tr>\n",
       "                        <th id=\"T_0d7e76fe_05ea_11eb_8932_d050996a2eaflevel0_row2\" class=\"row_heading level0 row2\" >2</th>\n",
       "                        <td id=\"T_0d7e76fe_05ea_11eb_8932_d050996a2eafrow2_col0\" class=\"data row2 col0\" >LogisticRegression</td>\n",
       "                        <td id=\"T_0d7e76fe_05ea_11eb_8932_d050996a2eafrow2_col1\" class=\"data row2 col1\" >HashingVectorizer</td>\n",
       "                        <td id=\"T_0d7e76fe_05ea_11eb_8932_d050996a2eafrow2_col2\" class=\"data row2 col2\" >0.899143</td>\n",
       "                        <td id=\"T_0d7e76fe_05ea_11eb_8932_d050996a2eafrow2_col3\" class=\"data row2 col3\" >0.905724</td>\n",
       "                        <td id=\"T_0d7e76fe_05ea_11eb_8932_d050996a2eafrow2_col4\" class=\"data row2 col4\" >0.825083</td>\n",
       "                        <td id=\"T_0d7e76fe_05ea_11eb_8932_d050996a2eafrow2_col5\" class=\"data row2 col5\" >34</td>\n",
       "            </tr>\n",
       "    </tbody></table>"
      ],
      "text/plain": [
       "<pandas.io.formats.style.Styler at 0x22d022aaaf0>"
      ]
     },
     "execution_count": 17,
     "metadata": {},
     "output_type": "execute_result"
    }
   ],
   "source": [
    "summary = []\n",
    "\n",
    "summary.append(['LogisticRegression', 'CountVectorizer',\n",
    "                gs_cvec_lr.best_score_,\n",
    "                gs_cvec_lr.score(X_test,y_test),\n",
    "                matthews_corrcoef(y_test, gs_cvec_lr.predict(X_test)),\n",
    "                round(cvec_test_time)])\n",
    "\n",
    "\n",
    "summary.append(['LogisticRegression', 'TFIDVectorizer', \n",
    "                gs_tfid_lr.best_score_,\n",
    "                gs_tfid_lr.score(X_test,y_test),\n",
    "                matthews_corrcoef(y_test, gs_tfid_lr.predict(X_test)),\n",
    "                round(tfid_test_time)])\n",
    "\n",
    "summary.append(['LogisticRegression', 'HashingVectorizer', \n",
    "                gs_hash_lr.best_score_,\n",
    "                gs_hash_lr.score(X_test,y_test), \n",
    "                matthews_corrcoef(y_test, gs_hash_lr.predict(X_test)),\n",
    "                round(hash_test_time)])\n",
    "\n",
    "\n",
    "pd.DataFrame(summary, \n",
    "             columns = ['model', \n",
    "                        'vectorizer', \n",
    "                        'train_score', \n",
    "                        'test_score',\n",
    "                        'MCC_score',\n",
    "                        'time(s)']).style.highlight_max().highlight_min(color = 'red')"
   ]
  },
  {
   "cell_type": "code",
   "execution_count": 18,
   "metadata": {},
   "outputs": [
    {
     "name": "stdout",
     "output_type": "stream",
     "text": [
      "                      precision    recall  f1-score   support\n",
      "\n",
      "          App Issues      0.929     0.958     0.943      1713\n",
      "Bad Customer Service      0.913     0.946     0.929      1125\n",
      "  Bad Seller Reviews      0.954     0.512     0.667       203\n",
      "\n",
      "            accuracy                          0.924      3041\n",
      "           macro avg      0.932     0.805     0.846      3041\n",
      "        weighted avg      0.925     0.924     0.920      3041\n",
      "\n"
     ]
    }
   ],
   "source": [
    "print(classification_report(y_test, gs_tfid_lr.predict(X_test), digits=3))"
   ]
  },
  {
   "cell_type": "markdown",
   "metadata": {},
   "source": [
    "## Trying with Different Models"
   ]
  },
  {
   "cell_type": "markdown",
   "metadata": {},
   "source": [
    "### Logistic Regression"
   ]
  },
  {
   "cell_type": "code",
   "execution_count": 19,
   "metadata": {},
   "outputs": [
    {
     "name": "stdout",
     "output_type": "stream",
     "text": [
      "Fitting 5 folds for each of 40 candidates, totalling 200 fits\n"
     ]
    },
    {
     "name": "stderr",
     "output_type": "stream",
     "text": [
      "[Parallel(n_jobs=-1)]: Using backend LokyBackend with 4 concurrent workers.\n",
      "[Parallel(n_jobs=-1)]: Done  42 tasks      | elapsed:   22.9s\n",
      "[Parallel(n_jobs=-1)]: Done 192 tasks      | elapsed:  1.5min\n",
      "[Parallel(n_jobs=-1)]: Done 200 out of 200 | elapsed:  1.6min finished\n"
     ]
    },
    {
     "name": "stdout",
     "output_type": "stream",
     "text": [
      "Best Logistic Regression Parameters: Pipeline(steps=[('tfid',\n",
      "                 TfidfVectorizer(max_df=0.2, max_features=8000, min_df=3)),\n",
      "                ('sampling',\n",
      "                 SMOTE(k_neighbors=10, n_jobs=-1, random_state=42,\n",
      "                       sampling_strategy='not minority')),\n",
      "                ('lr', LogisticRegression(C=4.0, max_iter=5000))])\n",
      "Fit time:  96.079s\n"
     ]
    }
   ],
   "source": [
    "# Setting pipeline for two stages\n",
    "tfid_lr = Pipeline([\n",
    "    ('tfid', TfidfVectorizer()),\n",
    "    ('sampling', SMOTE(random_state=42, n_jobs = -1, sampling_strategy = 'not minority')),\n",
    "    ('lr', LogisticRegression(solver = 'lbfgs', max_iter = 5000))\n",
    "])\n",
    "\n",
    "pipe_params = {\n",
    "    'tfid__max_features': [8000,9000],\n",
    "    'tfid__min_df': [3, 4, 5],\n",
    "    'tfid__max_df': [.2, .3],\n",
    "    'tfid__ngram_range': [(1,1), (1,2)],\n",
    "    'sampling__k_neighbors': [10, 15],\n",
    "    'lr__C': list(np.linspace(0, 10, 11))\n",
    "}\n",
    "\n",
    "gs_tfid_lr = RandomizedSearchCV(tfid_lr, # what object are we optimizing?\n",
    "                                param_distributions=pipe_params, # what parameters values are we searching?\n",
    "                                random_state = 42, n_iter = 40,\n",
    "                                cv=5, verbose = 1, n_jobs = -1, scoring = 'f1_weighted') # 5-fold cross-validation.\n",
    "t0 = time()\n",
    "gs_tfid_lr.fit(X_train, y_train)\n",
    "tfid_lr_test_time = time() - t0\n",
    "print(f'Best Logistic Regression Parameters: {gs_tfid_lr.best_estimator_}')\n",
    "print('Fit time:  %0.3fs' % tfid_lr_test_time);"
   ]
  },
  {
   "cell_type": "markdown",
   "metadata": {},
   "source": [
    "### MultinomialNB"
   ]
  },
  {
   "cell_type": "code",
   "execution_count": 20,
   "metadata": {},
   "outputs": [
    {
     "name": "stdout",
     "output_type": "stream",
     "text": [
      "Fitting 5 folds for each of 40 candidates, totalling 200 fits\n"
     ]
    },
    {
     "name": "stderr",
     "output_type": "stream",
     "text": [
      "[Parallel(n_jobs=-1)]: Using backend LokyBackend with 4 concurrent workers.\n",
      "[Parallel(n_jobs=-1)]: Done  42 tasks      | elapsed:   10.2s\n",
      "[Parallel(n_jobs=-1)]: Done 192 tasks      | elapsed:   50.5s\n",
      "[Parallel(n_jobs=-1)]: Done 200 out of 200 | elapsed:   52.7s finished\n"
     ]
    },
    {
     "name": "stdout",
     "output_type": "stream",
     "text": [
      "Best MultinomialNB Parameters: Pipeline(steps=[('tfid',\n",
      "                 TfidfVectorizer(max_df=0.3, max_features=9000, min_df=4,\n",
      "                                 ngram_range=(1, 2))),\n",
      "                ('sampling',\n",
      "                 SMOTE(n_jobs=-1, random_state=42,\n",
      "                       sampling_strategy='not minority')),\n",
      "                ('nb', MultinomialNB(alpha=0.1))])\n",
      "Fit time:  54.000s\n"
     ]
    }
   ],
   "source": [
    "# Setting pipeline for two stages\n",
    "tfid_nb = Pipeline([\n",
    "    ('tfid', TfidfVectorizer()),\n",
    "    ('sampling', SMOTE(random_state=42, n_jobs = -1, sampling_strategy = 'not minority')),\n",
    "    ('nb', MultinomialNB())\n",
    "])\n",
    "\n",
    "pipe_params = {\n",
    "    'tfid__max_features': [8000, 9000],\n",
    "    'tfid__min_df': [3, 4, 5],\n",
    "    'tfid__max_df': [.2, .3],\n",
    "    'tfid__ngram_range': [(1,1), (1,2)],\n",
    "    'nb__alpha': list(np.linspace(0,1,11))\n",
    "}\n",
    "\n",
    "gs_tfid_nb = RandomizedSearchCV(tfid_nb, # what object are we optimizing?\n",
    "                                param_distributions=pipe_params, # what parameters values are we searching?\n",
    "                                random_state = 42, n_iter = 40,\n",
    "                                cv=5, verbose = 1, n_jobs = -1, scoring = 'f1_weighted') # 5-fold cross-validation.\n",
    "t0 = time()\n",
    "gs_tfid_nb.fit(X_train, y_train)\n",
    "tfid_nb_test_time = time() - t0\n",
    "print(f'Best MultinomialNB Parameters: {gs_tfid_nb.best_estimator_}')\n",
    "print('Fit time:  %0.3fs' % tfid_nb_test_time);"
   ]
  },
  {
   "cell_type": "markdown",
   "metadata": {},
   "source": [
    "### SGDClassifier"
   ]
  },
  {
   "cell_type": "code",
   "execution_count": 21,
   "metadata": {},
   "outputs": [
    {
     "name": "stdout",
     "output_type": "stream",
     "text": [
      "Fitting 5 folds for each of 40 candidates, totalling 200 fits\n"
     ]
    },
    {
     "name": "stderr",
     "output_type": "stream",
     "text": [
      "[Parallel(n_jobs=-1)]: Using backend LokyBackend with 4 concurrent workers.\n",
      "[Parallel(n_jobs=-1)]: Done  42 tasks      | elapsed:   10.0s\n",
      "[Parallel(n_jobs=-1)]: Done 192 tasks      | elapsed:   49.6s\n",
      "[Parallel(n_jobs=-1)]: Done 200 out of 200 | elapsed:   51.3s finished\n"
     ]
    },
    {
     "name": "stdout",
     "output_type": "stream",
     "text": [
      "Best SGDClassifier Parameters: Pipeline(steps=[('tfid',\n",
      "                 TfidfVectorizer(max_df=0.2, max_features=9000, min_df=3)),\n",
      "                ('sampling',\n",
      "                 SMOTE(k_neighbors=15, n_jobs=-1, random_state=42,\n",
      "                       sampling_strategy='not minority')),\n",
      "                ('clf', SGDClassifier(penalty='elasticnet'))])\n",
      "Fit time:  52.326s\n"
     ]
    }
   ],
   "source": [
    "# Setting pipeline for two stages\n",
    "tfid_clf = Pipeline([\n",
    "    ('tfid', TfidfVectorizer()),\n",
    "    ('sampling', SMOTE(random_state=42, n_jobs = -1, sampling_strategy = 'not minority')),\n",
    "    ('clf', SGDClassifier())\n",
    "])\n",
    "\n",
    "pipe_params = {\n",
    "    'tfid__max_features': [8000,9000],\n",
    "    'tfid__min_df': [3, 4, 5],\n",
    "    'tfid__max_df': [.2, .3],\n",
    "    'tfid__ngram_range': [(1,1), (1,2)],\n",
    "    'sampling__k_neighbors': [10, 15],\n",
    "    'clf__alpha': [1e-4, 1e-3, 1e-2, 1e-1, 1e0, 1e1, 1e2, 1e3],\n",
    "    'clf__penalty': ('l2', 'elasticnet'),\n",
    "    \n",
    "    \n",
    "}\n",
    "\n",
    "gs_tfid_clf = RandomizedSearchCV(tfid_clf, # what object are we optimizing?\n",
    "                                 param_distributions=pipe_params, # what parameters values are we searching?\n",
    "                                 random_state = 42, n_iter = 40,\n",
    "                                 cv=5, verbose = 1, n_jobs = -1, scoring = 'f1_weighted') # 5-fold cross-validation.\n",
    "t0 = time()\n",
    "gs_tfid_clf.fit(X_train, y_train)\n",
    "tfid_clf_test_time = time() - t0\n",
    "print(f'Best SGDClassifier Parameters: {gs_tfid_clf.best_estimator_}')\n",
    "print('Fit time:  %0.3fs' % tfid_clf_test_time);"
   ]
  },
  {
   "cell_type": "markdown",
   "metadata": {},
   "source": [
    "### RandomForest"
   ]
  },
  {
   "cell_type": "code",
   "execution_count": 22,
   "metadata": {},
   "outputs": [
    {
     "name": "stdout",
     "output_type": "stream",
     "text": [
      "Fitting 5 folds for each of 40 candidates, totalling 200 fits\n"
     ]
    },
    {
     "name": "stderr",
     "output_type": "stream",
     "text": [
      "[Parallel(n_jobs=-1)]: Using backend LokyBackend with 4 concurrent workers.\n",
      "[Parallel(n_jobs=-1)]: Done  42 tasks      | elapsed:   26.6s\n",
      "[Parallel(n_jobs=-1)]: Done 192 tasks      | elapsed:  2.1min\n",
      "[Parallel(n_jobs=-1)]: Done 200 out of 200 | elapsed:  2.2min finished\n"
     ]
    },
    {
     "name": "stdout",
     "output_type": "stream",
     "text": [
      "Best RandomForest Parameters: Pipeline(steps=[('tfid',\n",
      "                 TfidfVectorizer(max_df=0.3, max_features=8000, min_df=4)),\n",
      "                ('sampling',\n",
      "                 SMOTE(k_neighbors=10, n_jobs=-1, random_state=42,\n",
      "                       sampling_strategy='not minority')),\n",
      "                ('rf',\n",
      "                 RandomForestClassifier(max_depth=25, min_samples_leaf=2,\n",
      "                                        min_samples_split=5, n_estimators=500,\n",
      "                                        random_state=42))])\n",
      "Fit time:  139.651s\n"
     ]
    }
   ],
   "source": [
    "# Setting pipeline for two stages\n",
    "tfid_ran = Pipeline([\n",
    "    ('tfid', TfidfVectorizer()),\n",
    "    ('sampling', SMOTE(random_state=42, n_jobs = -1, sampling_strategy = 'not minority')),\n",
    "    ('rf', RandomForestClassifier(random_state = 42, min_samples_leaf = 2, min_samples_split = 3))\n",
    "])\n",
    "\n",
    "pipe_params = {\n",
    "    'tfid__max_features': [8000,9000],\n",
    "    'tfid__min_df': [3, 4, 5],\n",
    "    'tfid__max_df': [.2, .3],\n",
    "    'tfid__ngram_range': [(1,1), (1,2)],\n",
    "    'sampling__k_neighbors': [10, 15],\n",
    "    'rf__n_estimators': [100, 300, 500],\n",
    "    'rf__max_depth': [8, 15, 25],\n",
    "    'rf__min_samples_split': [5, 15, 100],\n",
    "    'rf__max_leaf_nodes': [10, None]\n",
    "}\n",
    "\n",
    "gs_tfid_ran = RandomizedSearchCV(tfid_ran, # what object are we optimizing?\n",
    "                                 param_distributions=pipe_params, # what parameters values are we searching?\n",
    "                                 random_state = 42, n_iter = 40,\n",
    "                                 cv=5, verbose = 1, n_jobs = -1, scoring = 'f1_weighted') # 5-fold cross-validation.\n",
    "t0 = time()\n",
    "gs_tfid_ran.fit(X_train, y_train)\n",
    "tfid_ran_test_time = time() - t0\n",
    "print(f'Best RandomForest Parameters: {gs_tfid_ran.best_estimator_}')\n",
    "print('Fit time:  %0.3fs' % tfid_ran_test_time);"
   ]
  },
  {
   "cell_type": "markdown",
   "metadata": {},
   "source": [
    "### Adaboost"
   ]
  },
  {
   "cell_type": "code",
   "execution_count": 23,
   "metadata": {},
   "outputs": [
    {
     "name": "stdout",
     "output_type": "stream",
     "text": [
      "Fitting 5 folds for each of 40 candidates, totalling 200 fits\n"
     ]
    },
    {
     "name": "stderr",
     "output_type": "stream",
     "text": [
      "[Parallel(n_jobs=-1)]: Using backend LokyBackend with 4 concurrent workers.\n",
      "[Parallel(n_jobs=-1)]: Done  42 tasks      | elapsed:   59.4s\n",
      "[Parallel(n_jobs=-1)]: Done 192 tasks      | elapsed:  5.0min\n",
      "[Parallel(n_jobs=-1)]: Done 200 out of 200 | elapsed:  5.2min finished\n"
     ]
    },
    {
     "name": "stdout",
     "output_type": "stream",
     "text": [
      "Best TFID Parameters: Pipeline(steps=[('tfid',\n",
      "                 TfidfVectorizer(max_df=0.3, max_features=9000, min_df=5)),\n",
      "                ('sampling',\n",
      "                 SMOTE(k_neighbors=15, n_jobs=-1, random_state=42,\n",
      "                       sampling_strategy='not minority')),\n",
      "                ('ada',\n",
      "                 AdaBoostClassifier(learning_rate=0.6499999999999999,\n",
      "                                    n_estimators=200))])\n",
      "Fit time:  320.432s\n"
     ]
    }
   ],
   "source": [
    "# Setting pipeline for two stages\n",
    "tfid_ada = Pipeline([\n",
    "    ('tfid', TfidfVectorizer()),\n",
    "    ('sampling', SMOTE(random_state=42, n_jobs = -1, sampling_strategy = 'not minority')),\n",
    "    ('ada', AdaBoostClassifier())\n",
    "])\n",
    "\n",
    "pipe_params = {\n",
    "    'tfid__max_features': [8000,9000],\n",
    "    'tfid__min_df': [3, 4, 5],\n",
    "    'tfid__max_df': [.2, .3],\n",
    "    'tfid__ngram_range': [(1,1), (1,2)],\n",
    "    'sampling__k_neighbors': [10, 15],\n",
    "    'ada__n_estimators': [100,150,200],\n",
    "    'ada__learning_rate': list(np.linspace(0.3,1,5))\n",
    "}\n",
    "\n",
    "gs_tfid_ada = RandomizedSearchCV(tfid_ada, # what object are we optimizing?\n",
    "                                 param_distributions=pipe_params, # what parameters values are we searching?\n",
    "                                 random_state = 42, n_iter = 40,\n",
    "                                 cv=5, verbose = 1, n_jobs = -1, scoring = 'f1_weighted') # 5-fold cross-validation.\n",
    "t0 = time()\n",
    "gs_tfid_ada.fit(X_train, y_train)\n",
    "tfid_ada_test_time = time() - t0\n",
    "print(f'Best TFID Parameters: {gs_tfid_ada.best_estimator_}')\n",
    "print('Fit time:  %0.3fs' % tfid_ada_test_time);"
   ]
  },
  {
   "cell_type": "markdown",
   "metadata": {},
   "source": [
    "### Accuracy & F1 Macro Score"
   ]
  },
  {
   "cell_type": "code",
   "execution_count": 24,
   "metadata": {},
   "outputs": [
    {
     "data": {
      "text/html": [
       "<style  type=\"text/css\" >\n",
       "#T_99aa803a_05eb_11eb_b90e_d050996a2eafrow0_col2,#T_99aa803a_05eb_11eb_b90e_d050996a2eafrow0_col3,#T_99aa803a_05eb_11eb_b90e_d050996a2eafrow0_col4,#T_99aa803a_05eb_11eb_b90e_d050996a2eafrow0_col5,#T_99aa803a_05eb_11eb_b90e_d050996a2eafrow4_col6{\n",
       "            background-color:  yellow;\n",
       "        }#T_99aa803a_05eb_11eb_b90e_d050996a2eafrow2_col6,#T_99aa803a_05eb_11eb_b90e_d050996a2eafrow3_col2,#T_99aa803a_05eb_11eb_b90e_d050996a2eafrow3_col3,#T_99aa803a_05eb_11eb_b90e_d050996a2eafrow3_col4,#T_99aa803a_05eb_11eb_b90e_d050996a2eafrow3_col5{\n",
       "            background-color:  red;\n",
       "        }</style><table id=\"T_99aa803a_05eb_11eb_b90e_d050996a2eaf\" ><thead>    <tr>        <th class=\"blank level0\" ></th>        <th class=\"col_heading level0 col0\" >model</th>        <th class=\"col_heading level0 col1\" >vectorizer</th>        <th class=\"col_heading level0 col2\" >train_score</th>        <th class=\"col_heading level0 col3\" >test_score</th>        <th class=\"col_heading level0 col4\" >MCC_score</th>        <th class=\"col_heading level0 col5\" >Kappa_score</th>        <th class=\"col_heading level0 col6\" >time(s)</th>    </tr></thead><tbody>\n",
       "                <tr>\n",
       "                        <th id=\"T_99aa803a_05eb_11eb_b90e_d050996a2eaflevel0_row0\" class=\"row_heading level0 row0\" >0</th>\n",
       "                        <td id=\"T_99aa803a_05eb_11eb_b90e_d050996a2eafrow0_col0\" class=\"data row0 col0\" >LogisticRegression</td>\n",
       "                        <td id=\"T_99aa803a_05eb_11eb_b90e_d050996a2eafrow0_col1\" class=\"data row0 col1\" >TFIDVectorizer</td>\n",
       "                        <td id=\"T_99aa803a_05eb_11eb_b90e_d050996a2eafrow0_col2\" class=\"data row0 col2\" >0.917347</td>\n",
       "                        <td id=\"T_99aa803a_05eb_11eb_b90e_d050996a2eafrow0_col3\" class=\"data row0 col3\" >0.929487</td>\n",
       "                        <td id=\"T_99aa803a_05eb_11eb_b90e_d050996a2eafrow0_col4\" class=\"data row0 col4\" >0.872963</td>\n",
       "                        <td id=\"T_99aa803a_05eb_11eb_b90e_d050996a2eafrow0_col5\" class=\"data row0 col5\" >0.872263</td>\n",
       "                        <td id=\"T_99aa803a_05eb_11eb_b90e_d050996a2eafrow0_col6\" class=\"data row0 col6\" >96</td>\n",
       "            </tr>\n",
       "            <tr>\n",
       "                        <th id=\"T_99aa803a_05eb_11eb_b90e_d050996a2eaflevel0_row1\" class=\"row_heading level0 row1\" >1</th>\n",
       "                        <td id=\"T_99aa803a_05eb_11eb_b90e_d050996a2eafrow1_col0\" class=\"data row1 col0\" >MultinomialNB</td>\n",
       "                        <td id=\"T_99aa803a_05eb_11eb_b90e_d050996a2eafrow1_col1\" class=\"data row1 col1\" >TFIDVectorizer</td>\n",
       "                        <td id=\"T_99aa803a_05eb_11eb_b90e_d050996a2eafrow1_col2\" class=\"data row1 col2\" >0.893891</td>\n",
       "                        <td id=\"T_99aa803a_05eb_11eb_b90e_d050996a2eafrow1_col3\" class=\"data row1 col3\" >0.900156</td>\n",
       "                        <td id=\"T_99aa803a_05eb_11eb_b90e_d050996a2eafrow1_col4\" class=\"data row1 col4\" >0.821783</td>\n",
       "                        <td id=\"T_99aa803a_05eb_11eb_b90e_d050996a2eafrow1_col5\" class=\"data row1 col5\" >0.819978</td>\n",
       "                        <td id=\"T_99aa803a_05eb_11eb_b90e_d050996a2eafrow1_col6\" class=\"data row1 col6\" >54</td>\n",
       "            </tr>\n",
       "            <tr>\n",
       "                        <th id=\"T_99aa803a_05eb_11eb_b90e_d050996a2eaflevel0_row2\" class=\"row_heading level0 row2\" >2</th>\n",
       "                        <td id=\"T_99aa803a_05eb_11eb_b90e_d050996a2eafrow2_col0\" class=\"data row2 col0\" >SGDClassifier</td>\n",
       "                        <td id=\"T_99aa803a_05eb_11eb_b90e_d050996a2eafrow2_col1\" class=\"data row2 col1\" >TFIDVectorizer</td>\n",
       "                        <td id=\"T_99aa803a_05eb_11eb_b90e_d050996a2eafrow2_col2\" class=\"data row2 col2\" >0.910768</td>\n",
       "                        <td id=\"T_99aa803a_05eb_11eb_b90e_d050996a2eafrow2_col3\" class=\"data row2 col3\" >0.914254</td>\n",
       "                        <td id=\"T_99aa803a_05eb_11eb_b90e_d050996a2eafrow2_col4\" class=\"data row2 col4\" >0.847745</td>\n",
       "                        <td id=\"T_99aa803a_05eb_11eb_b90e_d050996a2eafrow2_col5\" class=\"data row2 col5\" >0.846297</td>\n",
       "                        <td id=\"T_99aa803a_05eb_11eb_b90e_d050996a2eafrow2_col6\" class=\"data row2 col6\" >52</td>\n",
       "            </tr>\n",
       "            <tr>\n",
       "                        <th id=\"T_99aa803a_05eb_11eb_b90e_d050996a2eaflevel0_row3\" class=\"row_heading level0 row3\" >3</th>\n",
       "                        <td id=\"T_99aa803a_05eb_11eb_b90e_d050996a2eafrow3_col0\" class=\"data row3 col0\" >RandomForest</td>\n",
       "                        <td id=\"T_99aa803a_05eb_11eb_b90e_d050996a2eafrow3_col1\" class=\"data row3 col1\" >TFIDVectorizer</td>\n",
       "                        <td id=\"T_99aa803a_05eb_11eb_b90e_d050996a2eafrow3_col2\" class=\"data row3 col2\" >0.796038</td>\n",
       "                        <td id=\"T_99aa803a_05eb_11eb_b90e_d050996a2eafrow3_col3\" class=\"data row3 col3\" >0.799810</td>\n",
       "                        <td id=\"T_99aa803a_05eb_11eb_b90e_d050996a2eafrow3_col4\" class=\"data row3 col4\" >0.661848</td>\n",
       "                        <td id=\"T_99aa803a_05eb_11eb_b90e_d050996a2eafrow3_col5\" class=\"data row3 col5\" >0.655206</td>\n",
       "                        <td id=\"T_99aa803a_05eb_11eb_b90e_d050996a2eafrow3_col6\" class=\"data row3 col6\" >140</td>\n",
       "            </tr>\n",
       "            <tr>\n",
       "                        <th id=\"T_99aa803a_05eb_11eb_b90e_d050996a2eaflevel0_row4\" class=\"row_heading level0 row4\" >4</th>\n",
       "                        <td id=\"T_99aa803a_05eb_11eb_b90e_d050996a2eafrow4_col0\" class=\"data row4 col0\" >Adaboost</td>\n",
       "                        <td id=\"T_99aa803a_05eb_11eb_b90e_d050996a2eafrow4_col1\" class=\"data row4 col1\" >TFIDVectorizer</td>\n",
       "                        <td id=\"T_99aa803a_05eb_11eb_b90e_d050996a2eafrow4_col2\" class=\"data row4 col2\" >0.844081</td>\n",
       "                        <td id=\"T_99aa803a_05eb_11eb_b90e_d050996a2eafrow4_col3\" class=\"data row4 col3\" >0.844560</td>\n",
       "                        <td id=\"T_99aa803a_05eb_11eb_b90e_d050996a2eafrow4_col4\" class=\"data row4 col4\" >0.717113</td>\n",
       "                        <td id=\"T_99aa803a_05eb_11eb_b90e_d050996a2eafrow4_col5\" class=\"data row4 col5\" >0.715356</td>\n",
       "                        <td id=\"T_99aa803a_05eb_11eb_b90e_d050996a2eafrow4_col6\" class=\"data row4 col6\" >320</td>\n",
       "            </tr>\n",
       "    </tbody></table>"
      ],
      "text/plain": [
       "<pandas.io.formats.style.Styler at 0x22d022aa640>"
      ]
     },
     "execution_count": 24,
     "metadata": {},
     "output_type": "execute_result"
    }
   ],
   "source": [
    "summary = []\n",
    "\n",
    "summary.append(['LogisticRegression', 'TFIDVectorizer', \n",
    "                gs_tfid_lr.best_score_,\n",
    "                gs_tfid_lr.score(X_test,y_test),\n",
    "                matthews_corrcoef(y_test, gs_tfid_lr.predict(X_test)),\n",
    "                cohen_kappa_score(y_test, gs_tfid_lr.predict(X_test)),\n",
    "                round(tfid_lr_test_time)])\n",
    "\n",
    "\n",
    "summary.append(['MultinomialNB', 'TFIDVectorizer', \n",
    "                gs_tfid_nb.best_score_,\n",
    "                gs_tfid_nb.score(X_test,y_test),\n",
    "                matthews_corrcoef(y_test, gs_tfid_nb.predict(X_test)),\n",
    "                cohen_kappa_score(y_test, gs_tfid_nb.predict(X_test)),\n",
    "                round(tfid_nb_test_time)])\n",
    "\n",
    "summary.append(['SGDClassifier', 'TFIDVectorizer', \n",
    "                gs_tfid_clf.best_score_,\n",
    "                gs_tfid_clf.score(X_test,y_test),\n",
    "                matthews_corrcoef(y_test, gs_tfid_clf.predict(X_test)),\n",
    "                cohen_kappa_score(y_test, gs_tfid_clf.predict(X_test)),\n",
    "                round(tfid_clf_test_time)])\n",
    "\n",
    "summary.append(['RandomForest', 'TFIDVectorizer', \n",
    "                gs_tfid_ran.best_score_,\n",
    "                gs_tfid_ran.score(X_test,y_test),\n",
    "                matthews_corrcoef(y_test, gs_tfid_ran.predict(X_test)),\n",
    "                cohen_kappa_score(y_test, gs_tfid_ran.predict(X_test)),\n",
    "                round(tfid_ran_test_time)])\n",
    "\n",
    "\n",
    "\n",
    "summary.append(['Adaboost', 'TFIDVectorizer', \n",
    "                gs_tfid_ada.best_score_,\n",
    "                gs_tfid_ada.score(X_test,y_test),\n",
    "                matthews_corrcoef(y_test, gs_tfid_ada.predict(X_test)),\n",
    "                cohen_kappa_score(y_test, gs_tfid_ada.predict(X_test)),\n",
    "                round(tfid_ada_test_time)])\n",
    "\n",
    "\n",
    "pd.DataFrame(summary, \n",
    "             columns = ['model', \n",
    "                        'vectorizer', \n",
    "                        'train_score', \n",
    "                        'test_score',\n",
    "                        'MCC_score',\n",
    "                        'Kappa_score',\n",
    "                        'time(s)']).style.highlight_max().highlight_min(color = 'red')"
   ]
  },
  {
   "cell_type": "markdown",
   "metadata": {},
   "source": [
    "# Gridsearch best model"
   ]
  },
  {
   "cell_type": "code",
   "execution_count": 25,
   "metadata": {},
   "outputs": [
    {
     "name": "stdout",
     "output_type": "stream",
     "text": [
      "Fitting 3 folds for each of 768 candidates, totalling 2304 fits\n"
     ]
    },
    {
     "name": "stderr",
     "output_type": "stream",
     "text": [
      "[Parallel(n_jobs=-1)]: Using backend LokyBackend with 4 concurrent workers.\n",
      "[Parallel(n_jobs=-1)]: Done  42 tasks      | elapsed:   11.1s\n",
      "[Parallel(n_jobs=-1)]: Done 192 tasks      | elapsed:   56.0s\n",
      "[Parallel(n_jobs=-1)]: Done 442 tasks      | elapsed:  2.4min\n",
      "[Parallel(n_jobs=-1)]: Done 792 tasks      | elapsed:  4.7min\n",
      "[Parallel(n_jobs=-1)]: Done 1242 tasks      | elapsed:  8.0min\n",
      "[Parallel(n_jobs=-1)]: Done 1792 tasks      | elapsed: 12.2min\n",
      "[Parallel(n_jobs=-1)]: Done 2304 out of 2304 | elapsed: 18.0min finished\n"
     ]
    },
    {
     "name": "stdout",
     "output_type": "stream",
     "text": [
      "Best Logistic Regression Parameters: Pipeline(steps=[('tfid',\n",
      "                 TfidfVectorizer(max_df=0.2, max_features=8000, min_df=3)),\n",
      "                ('sampling',\n",
      "                 SMOTE(k_neighbors=15, n_jobs=-1, random_state=42,\n",
      "                       sampling_strategy='not minority')),\n",
      "                ('lr', LogisticRegression(C=13.0, max_iter=5000))])\n",
      "Fit time:  1084.486s\n"
     ]
    }
   ],
   "source": [
    "# Setting pipeline for two stages\n",
    "best_m = Pipeline([\n",
    "    ('tfid', TfidfVectorizer()),\n",
    "    ('sampling', SMOTE(random_state=42, n_jobs = -1, sampling_strategy = 'not minority')),\n",
    "    ('lr', LogisticRegression(solver = 'lbfgs', max_iter = 5000))\n",
    "])\n",
    "\n",
    "pipe_params = {\n",
    "    'tfid__max_features': [8000,9000],\n",
    "    'tfid__min_df': [3, 4, 5],\n",
    "    'tfid__max_df': [.2, .3],\n",
    "    'tfid__ngram_range': [(1,1), (1,2)],\n",
    "    'sampling__k_neighbors': [10, 15],\n",
    "    'lr__C': list(np.linspace(12, 16, 5))\n",
    "}\n",
    "\n",
    "gs_best_m = GridSearchCV(best_m, # what object are we optimizing?\n",
    "                         param_grid =pipe_params, # what parameters values are we searching?\n",
    "                         cv=3, verbose = 1, n_jobs = -1, scoring = 'f1_weighted') # 5-fold cross-validation.\n",
    "t0 = time()\n",
    "gs_best_m.fit(X_train, y_train)\n",
    "best_m_test_time = time() - t0\n",
    "print(f'Best Logistic Regression Parameters: {gs_best_m.best_estimator_}')\n",
    "print('Fit time:  %0.3fs' % best_m_test_time);"
   ]
  },
  {
   "cell_type": "code",
   "execution_count": 26,
   "metadata": {},
   "outputs": [
    {
     "data": {
      "text/html": [
       "<div>\n",
       "<style scoped>\n",
       "    .dataframe tbody tr th:only-of-type {\n",
       "        vertical-align: middle;\n",
       "    }\n",
       "\n",
       "    .dataframe tbody tr th {\n",
       "        vertical-align: top;\n",
       "    }\n",
       "\n",
       "    .dataframe thead th {\n",
       "        text-align: right;\n",
       "    }\n",
       "</style>\n",
       "<table border=\"1\" class=\"dataframe\">\n",
       "  <thead>\n",
       "    <tr style=\"text-align: right;\">\n",
       "      <th></th>\n",
       "      <th>state</th>\n",
       "      <th>model</th>\n",
       "      <th>vectorizer</th>\n",
       "      <th>train_score</th>\n",
       "      <th>test_score</th>\n",
       "      <th>MCC_score</th>\n",
       "      <th>Kappa_score</th>\n",
       "      <th>time(s)</th>\n",
       "    </tr>\n",
       "  </thead>\n",
       "  <tbody>\n",
       "    <tr>\n",
       "      <th>0</th>\n",
       "      <td>Before</td>\n",
       "      <td>LogisticRegression</td>\n",
       "      <td>TFIDVectorizer</td>\n",
       "      <td>0.917347</td>\n",
       "      <td>0.929487</td>\n",
       "      <td>0.872963</td>\n",
       "      <td>0.872263</td>\n",
       "      <td>96</td>\n",
       "    </tr>\n",
       "    <tr>\n",
       "      <th>1</th>\n",
       "      <td>After</td>\n",
       "      <td>LogisticRegression</td>\n",
       "      <td>TFIDVectorizer</td>\n",
       "      <td>0.916452</td>\n",
       "      <td>0.931363</td>\n",
       "      <td>0.875673</td>\n",
       "      <td>0.875237</td>\n",
       "      <td>1084</td>\n",
       "    </tr>\n",
       "  </tbody>\n",
       "</table>\n",
       "</div>"
      ],
      "text/plain": [
       "    state               model      vectorizer  train_score  test_score  \\\n",
       "0  Before  LogisticRegression  TFIDVectorizer     0.917347    0.929487   \n",
       "1   After  LogisticRegression  TFIDVectorizer     0.916452    0.931363   \n",
       "\n",
       "   MCC_score  Kappa_score  time(s)  \n",
       "0   0.872963     0.872263       96  \n",
       "1   0.875673     0.875237     1084  "
      ]
     },
     "execution_count": 26,
     "metadata": {},
     "output_type": "execute_result"
    }
   ],
   "source": [
    "summary = []\n",
    "\n",
    "summary.append(['Before', 'LogisticRegression', 'TFIDVectorizer', \n",
    "                gs_tfid_lr.best_score_,\n",
    "                gs_tfid_lr.score(X_test,y_test),\n",
    "                matthews_corrcoef(y_test, gs_tfid_lr.predict(X_test)),\n",
    "                cohen_kappa_score(y_test, gs_tfid_lr.predict(X_test)),\n",
    "                round(tfid_lr_test_time)])\n",
    "\n",
    "summary.append(['After', 'LogisticRegression', 'TFIDVectorizer', \n",
    "                gs_best_m.best_score_,\n",
    "                gs_best_m.score(X_test,y_test),\n",
    "                matthews_corrcoef(y_test, gs_best_m.predict(X_test)),\n",
    "                cohen_kappa_score(y_test, gs_best_m.predict(X_test)),\n",
    "                round(best_m_test_time)])\n",
    "\n",
    "pd.DataFrame(summary, \n",
    "             columns = ['state',\n",
    "                        'model', \n",
    "                        'vectorizer', \n",
    "                        'train_score', \n",
    "                        'test_score',\n",
    "                        'MCC_score',\n",
    "                        'Kappa_score',\n",
    "                        'time(s)']).style.highlight_max().highlight_min(color = 'red')"
   ]
  },
  {
   "cell_type": "markdown",
   "metadata": {},
   "source": [
    "## Confusion Matrix"
   ]
  },
  {
   "cell_type": "code",
   "execution_count": 27,
   "metadata": {},
   "outputs": [
    {
     "data": {
      "image/png": "[encoded data removed]",
      "text/plain": [
       "<Figure size 576x576 with 2 Axes>"
      ]
     },
     "metadata": {
      "needs_background": "light"
     },
     "output_type": "display_data"
    }
   ],
   "source": [
    "fig, ax = plt.subplots(figsize=(8, 8))\n",
    "plt.title('LogisticRegression Confusion Matrix', fontdict = {'fontsize': 15})\n",
    "plot_confusion_matrix(gs_tfid_lr, X_test, y_test, ax = ax, cmap='Oranges', xticks_rotation=45);"
   ]
  },
  {
   "cell_type": "markdown",
   "metadata": {},
   "source": [
    "## Checking Misclassified Post"
   ]
  },
  {
   "cell_type": "code",
   "execution_count": 28,
   "metadata": {},
   "outputs": [
    {
     "data": {
      "text/html": [
       "<div>\n",
       "<style scoped>\n",
       "    .dataframe tbody tr th:only-of-type {\n",
       "        vertical-align: middle;\n",
       "    }\n",
       "\n",
       "    .dataframe tbody tr th {\n",
       "        vertical-align: top;\n",
       "    }\n",
       "\n",
       "    .dataframe thead th {\n",
       "        text-align: right;\n",
       "    }\n",
       "</style>\n",
       "<table border=\"1\" class=\"dataframe\">\n",
       "  <thead>\n",
       "    <tr style=\"text-align: right;\">\n",
       "      <th></th>\n",
       "      <th>predicted</th>\n",
       "      <th>actual</th>\n",
       "    </tr>\n",
       "  </thead>\n",
       "  <tbody>\n",
       "    <tr>\n",
       "      <th>17450</th>\n",
       "      <td>App Issues</td>\n",
       "      <td>App Issues</td>\n",
       "    </tr>\n",
       "    <tr>\n",
       "      <th>50209</th>\n",
       "      <td>App Issues</td>\n",
       "      <td>App Issues</td>\n",
       "    </tr>\n",
       "    <tr>\n",
       "      <th>19195</th>\n",
       "      <td>Bad Customer Service</td>\n",
       "      <td>Bad Customer Service</td>\n",
       "    </tr>\n",
       "    <tr>\n",
       "      <th>14736</th>\n",
       "      <td>Bad Customer Service</td>\n",
       "      <td>Bad Customer Service</td>\n",
       "    </tr>\n",
       "    <tr>\n",
       "      <th>66826</th>\n",
       "      <td>App Issues</td>\n",
       "      <td>App Issues</td>\n",
       "    </tr>\n",
       "  </tbody>\n",
       "</table>\n",
       "</div>"
      ],
      "text/plain": [
       "                  predicted                actual\n",
       "17450            App Issues            App Issues\n",
       "50209            App Issues            App Issues\n",
       "19195  Bad Customer Service  Bad Customer Service\n",
       "14736  Bad Customer Service  Bad Customer Service\n",
       "66826            App Issues            App Issues"
      ]
     },
     "execution_count": 28,
     "metadata": {},
     "output_type": "execute_result"
    }
   ],
   "source": [
    "# Create DataFrame with column for predicted values.\n",
    "results = pd.DataFrame(gs_tfid_lr.predict(X_test), columns=['predicted'], index = y_test.index)\n",
    "\n",
    "# Create column for observed values.\n",
    "results['actual'] = y_test\n",
    "\n",
    "# Check out first five rows.\n",
    "results.head()"
   ]
  },
  {
   "cell_type": "code",
   "execution_count": 29,
   "metadata": {},
   "outputs": [
    {
     "data": {
      "text/plain": [
       "Int64Index([71566, 43913, 39441, 51594, 60714, 72583, 43508, 13566, 31506,\n",
       "            29116,\n",
       "            ...\n",
       "            51668, 45332, 39050, 47248,  5872, 74509, 47548, 50874, 73785,\n",
       "            45745],\n",
       "           dtype='int64', length=207)"
      ]
     },
     "execution_count": 29,
     "metadata": {},
     "output_type": "execute_result"
    }
   ],
   "source": [
    "# Find all indices where predicted and true results \n",
    "# aren't the same, then save in an array.\n",
    "row_ids = results[results['predicted']!= results['actual']].index\n",
    "row_ids"
   ]
  },
  {
   "cell_type": "code",
   "execution_count": 30,
   "metadata": {},
   "outputs": [
    {
     "name": "stdout",
     "output_type": "stream",
     "text": [
      "Post ID: 43913\n",
      "----\n",
      "Pothik view says that Amazon was an amazing company but with shame and regret is now not worthy enough...\n",
      "----\n",
      "Actual category: Bad Customer Service\n",
      "Predicted category: App Issues\n"
     ]
    }
   ],
   "source": [
    "i = 1\n",
    "print(f'Post ID: {row_ids[i]}')\n",
    "print('----')\n",
    "print(df['review'][row_ids[i]])\n",
    "print('----')\n",
    "print(f'Actual category: {y_test[row_ids[i]]}')\n",
    "print('Predicted category: '+ results['predicted'][row_ids[i]])"
   ]
  },
  {
   "cell_type": "code",
   "execution_count": 31,
   "metadata": {},
   "outputs": [
    {
     "name": "stdout",
     "output_type": "stream",
     "text": [
      "Post ID: 39441\n",
      "----\n",
      "I'll be moving my stuff to Etsy after finding out ebay funded socialism and the Biden campaign.\n",
      "----\n",
      "Actual category: Bad Customer Service\n",
      "Predicted category: App Issues\n"
     ]
    }
   ],
   "source": [
    "i = 2\n",
    "print(f'Post ID: {row_ids[i]}')\n",
    "print('----')\n",
    "print(df['review'][row_ids[i]])\n",
    "print('----')\n",
    "print(f'Actual category: {y_test[row_ids[i]]}')\n",
    "print('Predicted category: '+ results['predicted'][row_ids[i]])"
   ]
  },
  {
   "cell_type": "code",
   "execution_count": 32,
   "metadata": {},
   "outputs": [
    {
     "name": "stdout",
     "output_type": "stream",
     "text": [
      "Post ID: 51594\n",
      "----\n",
      "Very confusion\n",
      "----\n",
      "Actual category: Bad Seller Reviews\n",
      "Predicted category: Bad Customer Service\n"
     ]
    }
   ],
   "source": [
    "i = 3\n",
    "print(f'Post ID: {row_ids[i]}')\n",
    "print('----')\n",
    "print(df['review'][row_ids[i]])\n",
    "print('----')\n",
    "print(f'Actual category: {y_test[row_ids[i]]}')\n",
    "print('Predicted category: '+ results['predicted'][row_ids[i]])"
   ]
  },
  {
   "cell_type": "code",
   "execution_count": 33,
   "metadata": {},
   "outputs": [
    {
     "name": "stdout",
     "output_type": "stream",
     "text": [
      "Post ID: 13566\n",
      "----\n",
      "Once done give feedback to buyer/seller, can't re-edit (do correction) back the rating & feedback details after publish, hope carousell team allow it (example: limit 1 time only to edit/ revert feedback and rating) to reduce rating mistake made by user. Finally, request a \"Dark mode\" feature inside the setting.\n",
      "----\n",
      "Actual category: Bad Seller Reviews\n",
      "Predicted category: App Issues\n"
     ]
    }
   ],
   "source": [
    "i = 7\n",
    "print(f'Post ID: {row_ids[i]}')\n",
    "print('----')\n",
    "print(df['review'][row_ids[i]])\n",
    "print('----')\n",
    "print(f'Actual category: {y_test[row_ids[i]]}')\n",
    "print('Predicted category: '+ results['predicted'][row_ids[i]])"
   ]
  },
  {
   "cell_type": "markdown",
   "metadata": {},
   "source": [
    "## Train data on whole dataset"
   ]
  },
  {
   "cell_type": "code",
   "execution_count": 34,
   "metadata": {},
   "outputs": [
    {
     "data": {
      "text/plain": [
       "Pipeline(steps=[('tfid',\n",
       "                 TfidfVectorizer(max_df=0.2, max_features=8000, min_df=3)),\n",
       "                ('sampling',\n",
       "                 SMOTE(k_neighbors=10, n_jobs=-1, random_state=42,\n",
       "                       sampling_strategy='not minority')),\n",
       "                ('lr', LogisticRegression(C=4.0, max_iter=5000))])"
      ]
     },
     "execution_count": 34,
     "metadata": {},
     "output_type": "execute_result"
    }
   ],
   "source": [
    "best_model = gs_best_m.best_estimator_\n",
    "best_model"
   ]
  },
  {
   "cell_type": "code",
   "execution_count": 35,
   "metadata": {},
   "outputs": [
    {
     "data": {
      "text/plain": [
       "Pipeline(steps=[('tfid',\n",
       "                 TfidfVectorizer(max_df=0.2, max_features=8000, min_df=3)),\n",
       "                ('sampling',\n",
       "                 SMOTE(k_neighbors=10, n_jobs=-1, random_state=42,\n",
       "                       sampling_strategy='not minority')),\n",
       "                ('lr', LogisticRegression(C=4.0, max_iter=5000))])"
      ]
     },
     "execution_count": 35,
     "metadata": {},
     "output_type": "execute_result"
    }
   ],
   "source": [
    "best_model.fit(df['clean_content'], df['category'])"
   ]
  },
  {
   "cell_type": "code",
   "execution_count": 36,
   "metadata": {},
   "outputs": [],
   "source": [
    "filename = 'Best_Model_BadReview_P2.sav'\n",
    "pickle.dump(best_model, open('./model_pickles/' + filename, 'wb'))"
   ]
  }
 ],
 "metadata": {
  "kernelspec": {
   "display_name": "Python 3",
   "language": "python",
   "name": "python3"
  },
  "language_info": {
   "codemirror_mode": {
    "name": "ipython",
    "version": 3
   },
   "file_extension": ".py",
   "mimetype": "text/x-python",
   "name": "python",
   "nbconvert_exporter": "python",
   "pygments_lexer": "ipython3",
   "version": "3.8.5"
  },
  "toc": {
   "base_numbering": 1,
   "nav_menu": {},
   "number_sections": false,
   "sideBar": true,
   "skip_h1_title": false,
   "title_cell": "Table of Contents",
   "title_sidebar": "Contents",
   "toc_cell": false,
   "toc_position": {
    "height": "calc(100% - 180px)",
    "left": "10px",
    "top": "150px",
    "width": "275px"
   },
   "toc_section_display": true,
   "toc_window_display": true
  }
 },
 "nbformat": 4,
 "nbformat_minor": 4
}
