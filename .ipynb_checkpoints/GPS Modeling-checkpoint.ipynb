{
 "cells": [
  {
   "cell_type": "code",
   "execution_count": 1,
   "metadata": {},
   "outputs": [],
   "source": [
    "import pandas as pd\n",
    "import numpy as np\n",
    "import matplotlib.pyplot as plt\n",
    "import seaborn as sns\n",
    "from time import time\n",
    "\n",
    "from PIL import Image\n",
    "from wordcloud import WordCloud\n",
    "\n",
    "from bs4 import BeautifulSoup\n",
    "import re\n",
    "import spacy\n",
    "from spacymoji import Emoji\n",
    "from nltk.corpus import stopwords, words\n",
    "from nltk import wordpunct_tokenize\n",
    "from nltk.stem import WordNetLemmatizer\n",
    "from nltk.stem.porter import PorterStemmer\n",
    "from nltk.tokenize import RegexpTokenizer\n",
    "\n",
    "from sklearn.model_selection import train_test_split, GridSearchCV\n",
    "from sklearn.feature_extraction.text import CountVectorizer, TfidfVectorizer, HashingVectorizer\n",
    "from sklearn.linear_model import LogisticRegression\n",
    "from sklearn.pipeline import Pipeline\n",
    "from sklearn.naive_bayes import MultinomialNB\n",
    "from sklearn.metrics import confusion_matrix, roc_auc_score, plot_roc_curve\n",
    "from sklearn.neighbors import KNeighborsClassifier\n",
    "from sklearn.tree import DecisionTreeClassifier\n",
    "from sklearn.ensemble import BaggingClassifier, AdaBoostClassifier, GradientBoostingClassifier"
   ]
  },
  {
   "cell_type": "code",
   "execution_count": 2,
   "metadata": {},
   "outputs": [],
   "source": [
    "df_info = pd.read_csv('shoppingapps_info.csv')\n",
    "df = pd.read_csv('shoppingapps_reviews.csv')"
   ]
  },
  {
   "cell_type": "code",
   "execution_count": 3,
   "metadata": {},
   "outputs": [
    {
     "data": {
      "text/html": [
       "<div>\n",
       "<style scoped>\n",
       "    .dataframe tbody tr th:only-of-type {\n",
       "        vertical-align: middle;\n",
       "    }\n",
       "\n",
       "    .dataframe tbody tr th {\n",
       "        vertical-align: top;\n",
       "    }\n",
       "\n",
       "    .dataframe thead th {\n",
       "        text-align: right;\n",
       "    }\n",
       "</style>\n",
       "<table border=\"1\" class=\"dataframe\">\n",
       "  <thead>\n",
       "    <tr style=\"text-align: right;\">\n",
       "      <th></th>\n",
       "      <th>title</th>\n",
       "      <th>description</th>\n",
       "      <th>descriptionHTML</th>\n",
       "      <th>summary</th>\n",
       "      <th>summaryHTML</th>\n",
       "      <th>installs</th>\n",
       "      <th>minInstalls</th>\n",
       "      <th>score</th>\n",
       "      <th>ratings</th>\n",
       "      <th>reviews</th>\n",
       "      <th>...</th>\n",
       "      <th>contentRatingDescription</th>\n",
       "      <th>adSupported</th>\n",
       "      <th>containsAds</th>\n",
       "      <th>released</th>\n",
       "      <th>updated</th>\n",
       "      <th>version</th>\n",
       "      <th>recentChanges</th>\n",
       "      <th>recentChangesHTML</th>\n",
       "      <th>appId</th>\n",
       "      <th>url</th>\n",
       "    </tr>\n",
       "  </thead>\n",
       "  <tbody>\n",
       "    <tr>\n",
       "      <th>0</th>\n",
       "      <td>Shopee SG: 9.9 Shopping Day</td>\n",
       "      <td>*For usage in Singapore only\\r\\n\\r\\nGear up fo...</td>\n",
       "      <td>*For usage in Singapore only&lt;br&gt;&lt;br&gt;Gear up fo...</td>\n",
       "      <td>#1 Online Shopping Platform\\r\\nMillion $ Disco...</td>\n",
       "      <td>#1 Online Shopping Platform&lt;br&gt;Million $ Disco...</td>\n",
       "      <td>1,000,000+</td>\n",
       "      <td>1000000</td>\n",
       "      <td>4.781263</td>\n",
       "      <td>72843</td>\n",
       "      <td>19507</td>\n",
       "      <td>...</td>\n",
       "      <td>NaN</td>\n",
       "      <td>NaN</td>\n",
       "      <td>False</td>\n",
       "      <td>Aug 13, 2015</td>\n",
       "      <td>1598959785</td>\n",
       "      <td>2.60.08</td>\n",
       "      <td>NaN</td>\n",
       "      <td>NaN</td>\n",
       "      <td>com.shopee.sg</td>\n",
       "      <td>https://play.google.com/store/apps/details?id=...</td>\n",
       "    </tr>\n",
       "    <tr>\n",
       "      <th>1</th>\n",
       "      <td>Carousell: Snap-Sell, Chat-Buy</td>\n",
       "      <td>Carousell is a community marketplace that lets...</td>\n",
       "      <td>Carousell is a community marketplace that lets...</td>\n",
       "      <td>Carousell: Snap to Sell, Chat to Buy. And it's...</td>\n",
       "      <td>Carousell: Snap to Sell, Chat to Buy. And it&amp;#...</td>\n",
       "      <td>10,000,000+</td>\n",
       "      <td>10000000</td>\n",
       "      <td>4.474280</td>\n",
       "      <td>183818</td>\n",
       "      <td>69502</td>\n",
       "      <td>...</td>\n",
       "      <td>NaN</td>\n",
       "      <td>True</td>\n",
       "      <td>True</td>\n",
       "      <td>Jan 15, 2013</td>\n",
       "      <td>1599446519</td>\n",
       "      <td>2.178.747.771</td>\n",
       "      <td>🇸🇬\\r\\nSpot something new on the ‘Explore’ tab?...</td>\n",
       "      <td>🇸🇬&lt;br&gt;Spot something new on the ‘Explore’ tab?...</td>\n",
       "      <td>com.thecarousell.Carousell</td>\n",
       "      <td>https://play.google.com/store/apps/details?id=...</td>\n",
       "    </tr>\n",
       "    <tr>\n",
       "      <th>2</th>\n",
       "      <td>Lazada - Online Shopping &amp; Deals</td>\n",
       "      <td>Welcome to the brand new Lazada mobile app! Jo...</td>\n",
       "      <td>Welcome to the brand new Lazada mobile app! Jo...</td>\n",
       "      <td>Shop the Biggest Brand at Lazada's 9.9 Sale!</td>\n",
       "      <td>Shop the Biggest Brand at Lazada&amp;#39;s 9.9 Sale!</td>\n",
       "      <td>100,000,000+</td>\n",
       "      <td>100000000</td>\n",
       "      <td>4.432321</td>\n",
       "      <td>6979561</td>\n",
       "      <td>2617150</td>\n",
       "      <td>...</td>\n",
       "      <td>NaN</td>\n",
       "      <td>NaN</td>\n",
       "      <td>False</td>\n",
       "      <td>Jun 8, 2013</td>\n",
       "      <td>1598584748</td>\n",
       "      <td>6.52.0</td>\n",
       "      <td>Thanks for using LAZADA! We've enhanced the pe...</td>\n",
       "      <td>Thanks for using LAZADA! We&amp;#39;ve enhanced th...</td>\n",
       "      <td>com.lazada.android</td>\n",
       "      <td>https://play.google.com/store/apps/details?id=...</td>\n",
       "    </tr>\n",
       "    <tr>\n",
       "      <th>3</th>\n",
       "      <td>AliExpress - Smarter Shopping, Better Living</td>\n",
       "      <td>Ever wanted to shop everything in one place, a...</td>\n",
       "      <td>Ever wanted to shop everything in one place, a...</td>\n",
       "      <td>AliExpress - Smarter Shopping, Better Living</td>\n",
       "      <td>AliExpress - Smarter Shopping, Better Living</td>\n",
       "      <td>100,000,000+</td>\n",
       "      <td>100000000</td>\n",
       "      <td>4.514545</td>\n",
       "      <td>10165072</td>\n",
       "      <td>3126588</td>\n",
       "      <td>...</td>\n",
       "      <td>Diverse Content: Discretion Advised</td>\n",
       "      <td>NaN</td>\n",
       "      <td>False</td>\n",
       "      <td>Sep 27, 2012</td>\n",
       "      <td>1597398954</td>\n",
       "      <td>8.15.3</td>\n",
       "      <td>Get ready to enjoy Brands Shopping Week discou...</td>\n",
       "      <td>Get ready to enjoy Brands Shopping Week discou...</td>\n",
       "      <td>com.alibaba.aliexpresshd</td>\n",
       "      <td>https://play.google.com/store/apps/details?id=...</td>\n",
       "    </tr>\n",
       "    <tr>\n",
       "      <th>4</th>\n",
       "      <td>eBay: Discover great deals on the brands you love</td>\n",
       "      <td>Buy, sell and save with the eBay app! Shop dea...</td>\n",
       "      <td>Buy, sell and save with the eBay app! Shop dea...</td>\n",
       "      <td>Buy and sell on the world’s largest marketplac...</td>\n",
       "      <td>Buy and sell on the world’s largest marketplac...</td>\n",
       "      <td>100,000,000+</td>\n",
       "      <td>100000000</td>\n",
       "      <td>4.718443</td>\n",
       "      <td>3418954</td>\n",
       "      <td>1256574</td>\n",
       "      <td>...</td>\n",
       "      <td>NaN</td>\n",
       "      <td>True</td>\n",
       "      <td>True</td>\n",
       "      <td>Feb 17, 2010</td>\n",
       "      <td>1598569726</td>\n",
       "      <td>Varies with device</td>\n",
       "      <td>Tap “lockable filters” in the “customize” sect...</td>\n",
       "      <td>Tap “lockable filters” in the “customize” sect...</td>\n",
       "      <td>com.ebay.mobile</td>\n",
       "      <td>https://play.google.com/store/apps/details?id=...</td>\n",
       "    </tr>\n",
       "  </tbody>\n",
       "</table>\n",
       "<p>5 rows × 48 columns</p>\n",
       "</div>"
      ],
      "text/plain": [
       "                                               title  \\\n",
       "0                        Shopee SG: 9.9 Shopping Day   \n",
       "1                     Carousell: Snap-Sell, Chat-Buy   \n",
       "2                   Lazada - Online Shopping & Deals   \n",
       "3       AliExpress - Smarter Shopping, Better Living   \n",
       "4  eBay: Discover great deals on the brands you love   \n",
       "\n",
       "                                         description  \\\n",
       "0  *For usage in Singapore only\\r\\n\\r\\nGear up fo...   \n",
       "1  Carousell is a community marketplace that lets...   \n",
       "2  Welcome to the brand new Lazada mobile app! Jo...   \n",
       "3  Ever wanted to shop everything in one place, a...   \n",
       "4  Buy, sell and save with the eBay app! Shop dea...   \n",
       "\n",
       "                                     descriptionHTML  \\\n",
       "0  *For usage in Singapore only<br><br>Gear up fo...   \n",
       "1  Carousell is a community marketplace that lets...   \n",
       "2  Welcome to the brand new Lazada mobile app! Jo...   \n",
       "3  Ever wanted to shop everything in one place, a...   \n",
       "4  Buy, sell and save with the eBay app! Shop dea...   \n",
       "\n",
       "                                             summary  \\\n",
       "0  #1 Online Shopping Platform\\r\\nMillion $ Disco...   \n",
       "1  Carousell: Snap to Sell, Chat to Buy. And it's...   \n",
       "2       Shop the Biggest Brand at Lazada's 9.9 Sale!   \n",
       "3       AliExpress - Smarter Shopping, Better Living   \n",
       "4  Buy and sell on the world’s largest marketplac...   \n",
       "\n",
       "                                         summaryHTML      installs  \\\n",
       "0  #1 Online Shopping Platform<br>Million $ Disco...    1,000,000+   \n",
       "1  Carousell: Snap to Sell, Chat to Buy. And it&#...   10,000,000+   \n",
       "2   Shop the Biggest Brand at Lazada&#39;s 9.9 Sale!  100,000,000+   \n",
       "3       AliExpress - Smarter Shopping, Better Living  100,000,000+   \n",
       "4  Buy and sell on the world’s largest marketplac...  100,000,000+   \n",
       "\n",
       "   minInstalls     score   ratings  reviews  ...  \\\n",
       "0      1000000  4.781263     72843    19507  ...   \n",
       "1     10000000  4.474280    183818    69502  ...   \n",
       "2    100000000  4.432321   6979561  2617150  ...   \n",
       "3    100000000  4.514545  10165072  3126588  ...   \n",
       "4    100000000  4.718443   3418954  1256574  ...   \n",
       "\n",
       "              contentRatingDescription  adSupported  containsAds  \\\n",
       "0                                  NaN          NaN        False   \n",
       "1                                  NaN         True         True   \n",
       "2                                  NaN          NaN        False   \n",
       "3  Diverse Content: Discretion Advised          NaN        False   \n",
       "4                                  NaN         True         True   \n",
       "\n",
       "       released     updated             version  \\\n",
       "0  Aug 13, 2015  1598959785             2.60.08   \n",
       "1  Jan 15, 2013  1599446519       2.178.747.771   \n",
       "2   Jun 8, 2013  1598584748              6.52.0   \n",
       "3  Sep 27, 2012  1597398954              8.15.3   \n",
       "4  Feb 17, 2010  1598569726  Varies with device   \n",
       "\n",
       "                                       recentChanges  \\\n",
       "0                                                NaN   \n",
       "1  🇸🇬\\r\\nSpot something new on the ‘Explore’ tab?...   \n",
       "2  Thanks for using LAZADA! We've enhanced the pe...   \n",
       "3  Get ready to enjoy Brands Shopping Week discou...   \n",
       "4  Tap “lockable filters” in the “customize” sect...   \n",
       "\n",
       "                                   recentChangesHTML  \\\n",
       "0                                                NaN   \n",
       "1  🇸🇬<br>Spot something new on the ‘Explore’ tab?...   \n",
       "2  Thanks for using LAZADA! We&#39;ve enhanced th...   \n",
       "3  Get ready to enjoy Brands Shopping Week discou...   \n",
       "4  Tap “lockable filters” in the “customize” sect...   \n",
       "\n",
       "                        appId  \\\n",
       "0               com.shopee.sg   \n",
       "1  com.thecarousell.Carousell   \n",
       "2          com.lazada.android   \n",
       "3    com.alibaba.aliexpresshd   \n",
       "4             com.ebay.mobile   \n",
       "\n",
       "                                                 url  \n",
       "0  https://play.google.com/store/apps/details?id=...  \n",
       "1  https://play.google.com/store/apps/details?id=...  \n",
       "2  https://play.google.com/store/apps/details?id=...  \n",
       "3  https://play.google.com/store/apps/details?id=...  \n",
       "4  https://play.google.com/store/apps/details?id=...  \n",
       "\n",
       "[5 rows x 48 columns]"
      ]
     },
     "execution_count": 3,
     "metadata": {},
     "output_type": "execute_result"
    }
   ],
   "source": [
    "df_info.head()"
   ]
  },
  {
   "cell_type": "code",
   "execution_count": 4,
   "metadata": {},
   "outputs": [
    {
     "data": {
      "text/plain": [
       "0                          Shopee SG: 9.9 Shopping Day\n",
       "1                       Carousell: Snap-Sell, Chat-Buy\n",
       "2                     Lazada - Online Shopping & Deals\n",
       "3         AliExpress - Smarter Shopping, Better Living\n",
       "4    eBay: Discover great deals on the brands you love\n",
       "5       Amazon Shopping - Search, Find, Ship, and Save\n",
       "6                                                 ASOS\n",
       "7                             Wish - Shopping Made Fun\n",
       "Name: title, dtype: object"
      ]
     },
     "execution_count": 4,
     "metadata": {},
     "output_type": "execute_result"
    }
   ],
   "source": [
    "df_info.title"
   ]
  },
  {
   "cell_type": "code",
   "execution_count": 5,
   "metadata": {},
   "outputs": [
    {
     "data": {
      "text/html": [
       "<div>\n",
       "<style scoped>\n",
       "    .dataframe tbody tr th:only-of-type {\n",
       "        vertical-align: middle;\n",
       "    }\n",
       "\n",
       "    .dataframe tbody tr th {\n",
       "        vertical-align: top;\n",
       "    }\n",
       "\n",
       "    .dataframe thead th {\n",
       "        text-align: right;\n",
       "    }\n",
       "</style>\n",
       "<table border=\"1\" class=\"dataframe\">\n",
       "  <thead>\n",
       "    <tr style=\"text-align: right;\">\n",
       "      <th></th>\n",
       "      <th>reviewId</th>\n",
       "      <th>userName</th>\n",
       "      <th>userImage</th>\n",
       "      <th>content</th>\n",
       "      <th>score</th>\n",
       "      <th>thumbsUpCount</th>\n",
       "      <th>reviewCreatedVersion</th>\n",
       "      <th>at</th>\n",
       "      <th>replyContent</th>\n",
       "      <th>repliedAt</th>\n",
       "      <th>sortOrder</th>\n",
       "      <th>appId</th>\n",
       "    </tr>\n",
       "  </thead>\n",
       "  <tbody>\n",
       "    <tr>\n",
       "      <th>0</th>\n",
       "      <td>gp:AOqpTOGdS7UVgs8bxFctngmMj6HykrRBOYfBN_VIwex...</td>\n",
       "      <td>Robert Tay</td>\n",
       "      <td>https://lh3.googleusercontent.com/a-/AOh14GgsG...</td>\n",
       "      <td>Really the best shopping app. Just dont like t...</td>\n",
       "      <td>5</td>\n",
       "      <td>0</td>\n",
       "      <td>2.60.08</td>\n",
       "      <td>2020-09-07 15:59:09</td>\n",
       "      <td>NaN</td>\n",
       "      <td>NaN</td>\n",
       "      <td>newest</td>\n",
       "      <td>com.shopee.sg</td>\n",
       "    </tr>\n",
       "    <tr>\n",
       "      <th>1</th>\n",
       "      <td>gp:AOqpTOEV_dnBbfoBF--asQSoRBhWkS3OaP5h1Arm1qO...</td>\n",
       "      <td>Razak Ismail</td>\n",
       "      <td>https://play-lh.googleusercontent.com/-eaoG1kj...</td>\n",
       "      <td>Buying is easy as 123 five star shopee</td>\n",
       "      <td>5</td>\n",
       "      <td>0</td>\n",
       "      <td>2.58.20</td>\n",
       "      <td>2020-09-07 15:45:16</td>\n",
       "      <td>NaN</td>\n",
       "      <td>NaN</td>\n",
       "      <td>newest</td>\n",
       "      <td>com.shopee.sg</td>\n",
       "    </tr>\n",
       "    <tr>\n",
       "      <th>2</th>\n",
       "      <td>gp:AOqpTOE1WdE6E5-4tgLRgw-BJOjWtfgLsexK1wabWaY...</td>\n",
       "      <td>Aznawaty Kamaruddin</td>\n",
       "      <td>https://play-lh.googleusercontent.com/-iM9dkTW...</td>\n",
       "      <td>Awesome app..</td>\n",
       "      <td>5</td>\n",
       "      <td>0</td>\n",
       "      <td>2.60.08</td>\n",
       "      <td>2020-09-07 15:39:49</td>\n",
       "      <td>NaN</td>\n",
       "      <td>NaN</td>\n",
       "      <td>newest</td>\n",
       "      <td>com.shopee.sg</td>\n",
       "    </tr>\n",
       "    <tr>\n",
       "      <th>3</th>\n",
       "      <td>gp:AOqpTOHIsz9wotxhkKB-SLBmy1lybZHbNk6ud9g0NQs...</td>\n",
       "      <td>Wiganiswary Mullaichelvan</td>\n",
       "      <td>https://play-lh.googleusercontent.com/-ZF0jEAI...</td>\n",
       "      <td>Fast delivery</td>\n",
       "      <td>5</td>\n",
       "      <td>0</td>\n",
       "      <td>2.60.08</td>\n",
       "      <td>2020-09-07 15:29:53</td>\n",
       "      <td>NaN</td>\n",
       "      <td>NaN</td>\n",
       "      <td>newest</td>\n",
       "      <td>com.shopee.sg</td>\n",
       "    </tr>\n",
       "    <tr>\n",
       "      <th>4</th>\n",
       "      <td>gp:AOqpTOFSjpmYoQUiGL38iHtcj6ebr2IN6ynLxW9UErf...</td>\n",
       "      <td>Mary Jane Ebrada</td>\n",
       "      <td>https://play-lh.googleusercontent.com/-jwMm__9...</td>\n",
       "      <td>Beautiful</td>\n",
       "      <td>5</td>\n",
       "      <td>0</td>\n",
       "      <td>2.60.08</td>\n",
       "      <td>2020-09-07 15:09:01</td>\n",
       "      <td>Thank you for giving Shopee a 5-star review! W...</td>\n",
       "      <td>2020-09-07 15:26:21</td>\n",
       "      <td>newest</td>\n",
       "      <td>com.shopee.sg</td>\n",
       "    </tr>\n",
       "  </tbody>\n",
       "</table>\n",
       "</div>"
      ],
      "text/plain": [
       "                                            reviewId  \\\n",
       "0  gp:AOqpTOGdS7UVgs8bxFctngmMj6HykrRBOYfBN_VIwex...   \n",
       "1  gp:AOqpTOEV_dnBbfoBF--asQSoRBhWkS3OaP5h1Arm1qO...   \n",
       "2  gp:AOqpTOE1WdE6E5-4tgLRgw-BJOjWtfgLsexK1wabWaY...   \n",
       "3  gp:AOqpTOHIsz9wotxhkKB-SLBmy1lybZHbNk6ud9g0NQs...   \n",
       "4  gp:AOqpTOFSjpmYoQUiGL38iHtcj6ebr2IN6ynLxW9UErf...   \n",
       "\n",
       "                    userName  \\\n",
       "0                 Robert Tay   \n",
       "1               Razak Ismail   \n",
       "2        Aznawaty Kamaruddin   \n",
       "3  Wiganiswary Mullaichelvan   \n",
       "4           Mary Jane Ebrada   \n",
       "\n",
       "                                           userImage  \\\n",
       "0  https://lh3.googleusercontent.com/a-/AOh14GgsG...   \n",
       "1  https://play-lh.googleusercontent.com/-eaoG1kj...   \n",
       "2  https://play-lh.googleusercontent.com/-iM9dkTW...   \n",
       "3  https://play-lh.googleusercontent.com/-ZF0jEAI...   \n",
       "4  https://play-lh.googleusercontent.com/-jwMm__9...   \n",
       "\n",
       "                                             content  score  thumbsUpCount  \\\n",
       "0  Really the best shopping app. Just dont like t...      5              0   \n",
       "1             Buying is easy as 123 five star shopee      5              0   \n",
       "2                                      Awesome app..      5              0   \n",
       "3                                      Fast delivery      5              0   \n",
       "4                                          Beautiful      5              0   \n",
       "\n",
       "  reviewCreatedVersion                   at  \\\n",
       "0              2.60.08  2020-09-07 15:59:09   \n",
       "1              2.58.20  2020-09-07 15:45:16   \n",
       "2              2.60.08  2020-09-07 15:39:49   \n",
       "3              2.60.08  2020-09-07 15:29:53   \n",
       "4              2.60.08  2020-09-07 15:09:01   \n",
       "\n",
       "                                        replyContent            repliedAt  \\\n",
       "0                                                NaN                  NaN   \n",
       "1                                                NaN                  NaN   \n",
       "2                                                NaN                  NaN   \n",
       "3                                                NaN                  NaN   \n",
       "4  Thank you for giving Shopee a 5-star review! W...  2020-09-07 15:26:21   \n",
       "\n",
       "  sortOrder          appId  \n",
       "0    newest  com.shopee.sg  \n",
       "1    newest  com.shopee.sg  \n",
       "2    newest  com.shopee.sg  \n",
       "3    newest  com.shopee.sg  \n",
       "4    newest  com.shopee.sg  "
      ]
     },
     "execution_count": 5,
     "metadata": {},
     "output_type": "execute_result"
    }
   ],
   "source": [
    "df.head()"
   ]
  },
  {
   "cell_type": "code",
   "execution_count": 6,
   "metadata": {},
   "outputs": [],
   "source": [
    "df['at'] = df['at'].astype('datetime64')"
   ]
  },
  {
   "cell_type": "markdown",
   "metadata": {},
   "source": [
    "# Sorting out time data"
   ]
  },
  {
   "cell_type": "code",
   "execution_count": 7,
   "metadata": {},
   "outputs": [
    {
     "data": {
      "text/plain": [
       "2020    74907\n",
       "2019     5093\n",
       "Name: created_year, dtype: int64"
      ]
     },
     "execution_count": 7,
     "metadata": {},
     "output_type": "execute_result"
    }
   ],
   "source": [
    "df['created_year'] = pd.to_datetime(df['at']).dt.year\n",
    "df['created_month'] = pd.to_datetime(df['at']).dt.month\n",
    "df['created_day'] = pd.to_datetime(df['at']).dt.day\n",
    "df['created_hour'] = pd.to_datetime(df['at']).dt.hour\n",
    "df['created_min'] = pd.to_datetime(df['at']).dt.minute\n",
    "df['created_year'].value_counts()"
   ]
  },
  {
   "cell_type": "markdown",
   "metadata": {},
   "source": [
    "# Sorting out ID Classifier"
   ]
  },
  {
   "cell_type": "code",
   "execution_count": 8,
   "metadata": {},
   "outputs": [
    {
     "data": {
      "text/plain": [
       "<matplotlib.axes._subplots.AxesSubplot at 0x16619ecd248>"
      ]
     },
     "execution_count": 8,
     "metadata": {},
     "output_type": "execute_result"
    },
    {
     "data": {
      "image/png": "[encoded data removed]",
      "text/plain": [
       "<Figure size 432x288 with 1 Axes>"
      ]
     },
     "metadata": {
      "needs_background": "light"
     },
     "output_type": "display_data"
    }
   ],
   "source": [
    "sns.boxplot(x = 'created_year', y = 'appId', data = df)"
   ]
  },
  {
   "cell_type": "code",
   "execution_count": 9,
   "metadata": {},
   "outputs": [
    {
     "data": {
      "text/plain": [
       "com.asos.app                         10000\n",
       "com.alibaba.aliexpresshd             10000\n",
       "com.contextlogic.wish                10000\n",
       "com.ebay.mobile                      10000\n",
       "com.amazon.mShop.android.shopping    10000\n",
       "com.thecarousell.Carousell           10000\n",
       "com.shopee.sg                        10000\n",
       "com.lazada.android                   10000\n",
       "Name: appId, dtype: int64"
      ]
     },
     "execution_count": 9,
     "metadata": {},
     "output_type": "execute_result"
    }
   ],
   "source": [
    "df['appId'].value_counts()"
   ]
  },
  {
   "cell_type": "code",
   "execution_count": 10,
   "metadata": {},
   "outputs": [
    {
     "data": {
      "text/plain": [
       "Shoppee      10000\n",
       "Ebay         10000\n",
       "Lazada       10000\n",
       "Amazon       10000\n",
       "ASOS         10000\n",
       "Wish         10000\n",
       "Carousell    10000\n",
       "Alibaba      10000\n",
       "Name: appId, dtype: int64"
      ]
     },
     "execution_count": 10,
     "metadata": {},
     "output_type": "execute_result"
    }
   ],
   "source": [
    "labels = {'appId' : {'com.amazon.mShop.android.shopping' : 'Amazon',\n",
    "                    'com.ebay.mobile' : 'Ebay',\n",
    "                     'com.shopee.sg': 'Shoppee',\n",
    "                     'com.alibaba.aliexpresshd': 'Alibaba',\n",
    "                     'com.thecarousell.Carousell': 'Carousell',\n",
    "                     'com.asos.app': 'ASOS',\n",
    "                     'com.lazada.android': 'Lazada',\n",
    "                     'com.contextlogic.wish': 'Wish',\n",
    "        \n",
    "                    \n",
    "                    \n",
    "                    }}\n",
    "df.replace(labels, inplace=True)\n",
    "df['appId'].value_counts()"
   ]
  },
  {
   "cell_type": "code",
   "execution_count": 11,
   "metadata": {},
   "outputs": [
    {
     "data": {
      "text/plain": [
       "Index(['reviewId', 'userName', 'userImage', 'content', 'score',\n",
       "       'thumbsUpCount', 'reviewCreatedVersion', 'at', 'replyContent',\n",
       "       'repliedAt', 'sortOrder', 'appId', 'created_year', 'created_month',\n",
       "       'created_day', 'created_hour', 'created_min'],\n",
       "      dtype='object')"
      ]
     },
     "execution_count": 11,
     "metadata": {},
     "output_type": "execute_result"
    }
   ],
   "source": [
    "df.columns"
   ]
  },
  {
   "cell_type": "code",
   "execution_count": 12,
   "metadata": {},
   "outputs": [],
   "source": [
    "df.drop(columns = ['reviewId', 'userName',\n",
    "                   'userImage','thumbsUpCount',\n",
    "                   'replyContent',\n",
    "                   'repliedAt','sortOrder', \n",
    "                   'reviewCreatedVersion'], inplace = True)"
   ]
  },
  {
   "cell_type": "code",
   "execution_count": 13,
   "metadata": {},
   "outputs": [
    {
     "data": {
      "text/plain": [
       "5    0.694438\n",
       "1    0.141350\n",
       "4    0.097613\n",
       "3    0.037362\n",
       "2    0.029237\n",
       "Name: score, dtype: float64"
      ]
     },
     "execution_count": 13,
     "metadata": {},
     "output_type": "execute_result"
    }
   ],
   "source": [
    "df['score'].value_counts(normalize=True)"
   ]
  },
  {
   "cell_type": "code",
   "execution_count": 14,
   "metadata": {},
   "outputs": [
    {
     "data": {
      "text/plain": [
       "0        Really the best shopping app. Just dont like t...\n",
       "1                   Buying is easy as 123 five star shopee\n",
       "2                                            Awesome app..\n",
       "3                                            Fast delivery\n",
       "4                                                Beautiful\n",
       "                               ...                        \n",
       "79995                                         Great app!!!\n",
       "79996                                              Awesome\n",
       "79997                                            Great app\n",
       "79998    The app itself works great. Some of the produc...\n",
       "79999                                            Brilliant\n",
       "Name: content, Length: 80000, dtype: object"
      ]
     },
     "execution_count": 14,
     "metadata": {},
     "output_type": "execute_result"
    }
   ],
   "source": [
    "df['content']"
   ]
  },
  {
   "cell_type": "code",
   "execution_count": 15,
   "metadata": {},
   "outputs": [],
   "source": [
    "# extract emojis\n",
    "# https://www.thetopsites.net/article/50530149.shtml"
   ]
  },
  {
   "cell_type": "code",
   "execution_count": 43,
   "metadata": {},
   "outputs": [
    {
     "data": {
      "text/plain": [
       "'made online purchase such a breeze 👍🏼👍🏼👍🏼'"
      ]
     },
     "execution_count": 43,
     "metadata": {},
     "output_type": "execute_result"
    }
   ],
   "source": [
    "text1 = df['content'][21]\n",
    "text1"
   ]
  },
  {
   "cell_type": "code",
   "execution_count": 44,
   "metadata": {},
   "outputs": [],
   "source": [
    "test_words = set(words.words())"
   ]
  },
  {
   "cell_type": "code",
   "execution_count": 45,
   "metadata": {},
   "outputs": [
    {
     "data": {
      "text/plain": [
       "'made purchase such a breeze 👍🏼👍🏼👍🏼'"
      ]
     },
     "execution_count": 45,
     "metadata": {},
     "output_type": "execute_result"
    }
   ],
   "source": [
    "en_words = \" \".join(w for w in wordpunct_tokenize(text1) \\\n",
    "         if w.lower() in test_words or not w.isalpha())\n",
    "en_words"
   ]
  },
  {
   "cell_type": "code",
   "execution_count": 46,
   "metadata": {},
   "outputs": [
    {
     "data": {
      "text/plain": [
       "'made purchase such a breeze       '"
      ]
     },
     "execution_count": 46,
     "metadata": {},
     "output_type": "execute_result"
    }
   ],
   "source": [
    "letters_only = re.sub('[^a-zA-Z]', \" \", en_words)\n",
    "letters_only"
   ]
  },
  {
   "cell_type": "code",
   "execution_count": 47,
   "metadata": {},
   "outputs": [],
   "source": [
    "sp = spacy.load('en_core_web_sm')\n",
    "emoji = Emoji(sp)\n",
    "sp.add_pipe(emoji, first = True)"
   ]
  },
  {
   "cell_type": "code",
   "execution_count": 48,
   "metadata": {},
   "outputs": [
    {
     "data": {
      "text/plain": [
       "made purchase such a breeze 👍🏼👍🏼👍🏼"
      ]
     },
     "execution_count": 48,
     "metadata": {},
     "output_type": "execute_result"
    }
   ],
   "source": [
    "sen = sp(en_words)\n",
    "sen"
   ]
  },
  {
   "cell_type": "code",
   "execution_count": 22,
   "metadata": {
    "scrolled": true
   },
   "outputs": [
    {
     "name": "stdout",
     "output_type": "stream",
     "text": [
      "made         VERB       VBN      verb, past participle\n",
      "purchase     NOUN       NN       noun, singular or mass\n",
      "such         DET        PDT      predeterminer\n",
      "a            DET        DT       determiner\n",
      "breeze       NOUN       NN       noun, singular or mass\n",
      "👍🏼           X          XX       unknown\n",
      "👍🏼           X          XX       unknown\n",
      "👍🏼           X          XX       unknown\n"
     ]
    }
   ],
   "source": [
    "for word in sen:\n",
    "    print(f'{word.text:{12}} {word.pos_:{10}} {word.tag_:{8}} {spacy.explain(word.tag_)}')"
   ]
  },
  {
   "cell_type": "code",
   "execution_count": 23,
   "metadata": {},
   "outputs": [
    {
     "name": "stdout",
     "output_type": "stream",
     "text": [
      "made VERB\n",
      "purchase NOUN\n",
      "such DET\n",
      "a DET\n",
      "breeze NOUN\n",
      "👍🏼 X\n",
      "👍🏼 X\n",
      "👍🏼 X\n"
     ]
    }
   ],
   "source": [
    "for word in list(sen.sents)[0]:\n",
    "    print(word, word.pos_)"
   ]
  },
  {
   "cell_type": "code",
   "execution_count": 24,
   "metadata": {},
   "outputs": [],
   "source": [
    "adj_list = []\n",
    "noun_list = []\n",
    "verb_list = []\n",
    "emoji_list = []\n",
    "\n",
    "for word in sen:\n",
    "    if word.pos_ == 'ADJ':\n",
    "        adj_list.append(str(word).lower())\n",
    "    elif word.pos_ == 'NOUN':\n",
    "        noun_list.append(word)\n",
    "    elif word.pos_ == 'VERB':\n",
    "        verb_list.append(word)\n",
    "    elif word.pos_ == 'X':\n",
    "        emoji_list.append(word)\n",
    "        "
   ]
  },
  {
   "cell_type": "code",
   "execution_count": 25,
   "metadata": {},
   "outputs": [
    {
     "data": {
      "text/plain": [
       "[]"
      ]
     },
     "execution_count": 25,
     "metadata": {},
     "output_type": "execute_result"
    }
   ],
   "source": [
    "adj_list"
   ]
  },
  {
   "cell_type": "code",
   "execution_count": 26,
   "metadata": {},
   "outputs": [
    {
     "data": {
      "text/plain": [
       "[purchase, breeze]"
      ]
     },
     "execution_count": 26,
     "metadata": {},
     "output_type": "execute_result"
    }
   ],
   "source": [
    "noun_list"
   ]
  },
  {
   "cell_type": "code",
   "execution_count": 27,
   "metadata": {},
   "outputs": [
    {
     "data": {
      "text/plain": [
       "[made]"
      ]
     },
     "execution_count": 27,
     "metadata": {},
     "output_type": "execute_result"
    }
   ],
   "source": [
    "verb_list"
   ]
  },
  {
   "cell_type": "code",
   "execution_count": 28,
   "metadata": {},
   "outputs": [
    {
     "data": {
      "text/plain": [
       "[👍🏼, 👍🏼, 👍🏼]"
      ]
     },
     "execution_count": 28,
     "metadata": {},
     "output_type": "execute_result"
    }
   ],
   "source": [
    "emoji_list"
   ]
  },
  {
   "cell_type": "code",
   "execution_count": 29,
   "metadata": {},
   "outputs": [
    {
     "data": {
      "text/plain": [
       "made purchase such a breeze 👍🏼👍🏼👍🏼"
      ]
     },
     "execution_count": 29,
     "metadata": {},
     "output_type": "execute_result"
    }
   ],
   "source": [
    "sen"
   ]
  },
  {
   "cell_type": "code",
   "execution_count": 30,
   "metadata": {},
   "outputs": [],
   "source": [
    "from nltk.tokenize import RegexpTokenizer\n",
    "tokenizer = RegexpTokenizer(r'\\w+')\n",
    "tokens = tokenizer.tokenize(str(sen).lower())"
   ]
  },
  {
   "cell_type": "code",
   "execution_count": 31,
   "metadata": {},
   "outputs": [
    {
     "data": {
      "text/plain": [
       "['made', 'purchase', 'such', 'a', 'breeze']"
      ]
     },
     "execution_count": 31,
     "metadata": {},
     "output_type": "execute_result"
    }
   ],
   "source": [
    "tokens"
   ]
  },
  {
   "cell_type": "code",
   "execution_count": 32,
   "metadata": {},
   "outputs": [],
   "source": [
    "p_stemmer = PorterStemmer()\n",
    "words_pstem = [p_stemmer.stem(i) for i in tokens]"
   ]
  },
  {
   "cell_type": "code",
   "execution_count": 52,
   "metadata": {},
   "outputs": [
    {
     "name": "stdout",
     "output_type": "stream",
     "text": [
      "('purchase', 'purchas')\n",
      "('breeze', 'breez')\n"
     ]
    }
   ],
   "source": [
    "for i in range(len(tokens)):\n",
    "    if tokens[i] != words_pstem[i]:\n",
    "        print((tokens[i], words_pstem[i]))"
   ]
  },
  {
   "cell_type": "code",
   "execution_count": 37,
   "metadata": {},
   "outputs": [],
   "source": [
    "en_words = set(words.words())\n",
    "sp = spacy.load('en_core_web_sm')\n",
    "emoji = Emoji(sp)\n",
    "sp.add_pipe(emoji, first = True)\n",
    "tokenizer = RegexpTokenizer(r'\\w+')\n",
    "p_stemmer = PorterStemmer()\n",
    "\n",
    "def words_cleaning(text):\n",
    "    \n",
    "    #remove all non english words\n",
    "    sorted_words = \" \".join(w for w in wordpunct_tokenize(str(text)) \\\n",
    "         if w.lower() in en_words or not w.isalpha())\n",
    "    \n",
    "    #remove all non words\n",
    "    letters_only = re.sub('[^a-zA-Z]', \" \", sorted_words)\n",
    "    \n",
    "    #spacy to put words in categories\n",
    "    sen = sp(sorted_words) \n",
    "    \n",
    "    adj_list = []\n",
    "    noun_list = []\n",
    "    verb_list = []\n",
    "    emoji_list = []\n",
    "    \n",
    "    for word in sen:\n",
    "        if word.pos_ == 'ADJ':\n",
    "            adj_list.append(word)\n",
    "            \n",
    "        elif word.pos_ == 'NOUN':\n",
    "            noun_list.append(word)\n",
    "            \n",
    "        elif word.pos_ == 'VERB':\n",
    "            verb_list.append(word)\n",
    "            \n",
    "        elif word.pos_ == 'X':\n",
    "            emoji_list.append(word)\n",
    "            \n",
    "    #tokenize string of text        \n",
    "    tokens = tokenizer.tokenize(str(letters_only).lower())\n",
    "    \n",
    "    #stem words\n",
    "    words_pstem = [p_stemmer.stem(i) for i in tokens]\n",
    "    \n",
    "    #join words\n",
    "    join_words = (\" \".join(words_pstem))\n",
    "    \n",
    "  \n",
    "    return(join_words, adj_list, noun_list, verb_list, emoji_list)"
   ]
  },
  {
   "cell_type": "code",
   "execution_count": 38,
   "metadata": {},
   "outputs": [
    {
     "name": "stdout",
     "output_type": "stream",
     "text": [
      "There is a total of 80000 selftext.\n",
      "Cleaning and parsing the training set text...\n"
     ]
    },
    {
     "ename": "ValueError",
     "evalue": "[E102] Can't merge non-disjoint spans. '👯' is already part of tokens to merge. If you want to find the longest non-overlapping spans, you can use the util.filter_spans helper:\nhttps://spacy.io/api/top-level#util.filter_spans",
     "output_type": "error",
     "traceback": [
      "\u001b[1;31m---------------------------------------------------------------------------\u001b[0m",
      "\u001b[1;31mValueError\u001b[0m                                Traceback (most recent call last)",
      "\u001b[1;32m<ipython-input-38-fb01086479d4>\u001b[0m in \u001b[0;36m<module>\u001b[1;34m\u001b[0m\n\u001b[0;32m     20\u001b[0m \u001b[1;33m\u001b[0m\u001b[0m\n\u001b[0;32m     21\u001b[0m     \u001b[1;31m# Convert text to words, then append to clean_train_text.\u001b[0m\u001b[1;33m\u001b[0m\u001b[1;33m\u001b[0m\u001b[1;33m\u001b[0m\u001b[0m\n\u001b[1;32m---> 22\u001b[1;33m     \u001b[0mclean_text\u001b[0m\u001b[1;33m.\u001b[0m\u001b[0mappend\u001b[0m\u001b[1;33m(\u001b[0m\u001b[0mwords_cleaning\u001b[0m\u001b[1;33m(\u001b[0m\u001b[0mtext\u001b[0m\u001b[1;33m)\u001b[0m\u001b[1;33m[\u001b[0m\u001b[1;36m0\u001b[0m\u001b[1;33m]\u001b[0m\u001b[1;33m)\u001b[0m\u001b[1;33m\u001b[0m\u001b[1;33m\u001b[0m\u001b[0m\n\u001b[0m\u001b[0;32m     23\u001b[0m     \u001b[0madj_text\u001b[0m\u001b[1;33m.\u001b[0m\u001b[0mappend\u001b[0m\u001b[1;33m(\u001b[0m\u001b[0mwords_cleaning\u001b[0m\u001b[1;33m(\u001b[0m\u001b[0mstr\u001b[0m\u001b[1;33m(\u001b[0m\u001b[0mtext\u001b[0m\u001b[1;33m)\u001b[0m\u001b[1;33m.\u001b[0m\u001b[0mlower\u001b[0m\u001b[1;33m(\u001b[0m\u001b[1;33m)\u001b[0m\u001b[1;33m)\u001b[0m\u001b[1;33m[\u001b[0m\u001b[1;36m1\u001b[0m\u001b[1;33m]\u001b[0m\u001b[1;33m)\u001b[0m\u001b[1;33m\u001b[0m\u001b[1;33m\u001b[0m\u001b[0m\n\u001b[0;32m     24\u001b[0m     \u001b[0mnoun_text\u001b[0m\u001b[1;33m.\u001b[0m\u001b[0mappend\u001b[0m\u001b[1;33m(\u001b[0m\u001b[0mwords_cleaning\u001b[0m\u001b[1;33m(\u001b[0m\u001b[0mstr\u001b[0m\u001b[1;33m(\u001b[0m\u001b[0mtext\u001b[0m\u001b[1;33m)\u001b[0m\u001b[1;33m.\u001b[0m\u001b[0mlower\u001b[0m\u001b[1;33m(\u001b[0m\u001b[1;33m)\u001b[0m\u001b[1;33m)\u001b[0m\u001b[1;33m[\u001b[0m\u001b[1;36m2\u001b[0m\u001b[1;33m]\u001b[0m\u001b[1;33m)\u001b[0m\u001b[1;33m\u001b[0m\u001b[1;33m\u001b[0m\u001b[0m\n",
      "\u001b[1;32m<ipython-input-37-d622403f643b>\u001b[0m in \u001b[0;36mwords_cleaning\u001b[1;34m(text)\u001b[0m\n\u001b[0;32m     16\u001b[0m \u001b[1;33m\u001b[0m\u001b[0m\n\u001b[0;32m     17\u001b[0m     \u001b[1;31m#spacy to put words in categories\u001b[0m\u001b[1;33m\u001b[0m\u001b[1;33m\u001b[0m\u001b[1;33m\u001b[0m\u001b[0m\n\u001b[1;32m---> 18\u001b[1;33m     \u001b[0msen\u001b[0m \u001b[1;33m=\u001b[0m \u001b[0msp\u001b[0m\u001b[1;33m(\u001b[0m\u001b[0msorted_words\u001b[0m\u001b[1;33m)\u001b[0m\u001b[1;33m\u001b[0m\u001b[1;33m\u001b[0m\u001b[0m\n\u001b[0m\u001b[0;32m     19\u001b[0m \u001b[1;33m\u001b[0m\u001b[0m\n\u001b[0;32m     20\u001b[0m     \u001b[0madj_list\u001b[0m \u001b[1;33m=\u001b[0m \u001b[1;33m[\u001b[0m\u001b[1;33m]\u001b[0m\u001b[1;33m\u001b[0m\u001b[1;33m\u001b[0m\u001b[0m\n",
      "\u001b[1;32m~\\anaconda3\\lib\\site-packages\\spacy\\language.py\u001b[0m in \u001b[0;36m__call__\u001b[1;34m(self, text, disable, component_cfg)\u001b[0m\n\u001b[0;32m    447\u001b[0m             \u001b[1;32mif\u001b[0m \u001b[1;32mnot\u001b[0m \u001b[0mhasattr\u001b[0m\u001b[1;33m(\u001b[0m\u001b[0mproc\u001b[0m\u001b[1;33m,\u001b[0m \u001b[1;34m\"__call__\"\u001b[0m\u001b[1;33m)\u001b[0m\u001b[1;33m:\u001b[0m\u001b[1;33m\u001b[0m\u001b[1;33m\u001b[0m\u001b[0m\n\u001b[0;32m    448\u001b[0m                 \u001b[1;32mraise\u001b[0m \u001b[0mValueError\u001b[0m\u001b[1;33m(\u001b[0m\u001b[0mErrors\u001b[0m\u001b[1;33m.\u001b[0m\u001b[0mE003\u001b[0m\u001b[1;33m.\u001b[0m\u001b[0mformat\u001b[0m\u001b[1;33m(\u001b[0m\u001b[0mcomponent\u001b[0m\u001b[1;33m=\u001b[0m\u001b[0mtype\u001b[0m\u001b[1;33m(\u001b[0m\u001b[0mproc\u001b[0m\u001b[1;33m)\u001b[0m\u001b[1;33m,\u001b[0m \u001b[0mname\u001b[0m\u001b[1;33m=\u001b[0m\u001b[0mname\u001b[0m\u001b[1;33m)\u001b[0m\u001b[1;33m)\u001b[0m\u001b[1;33m\u001b[0m\u001b[1;33m\u001b[0m\u001b[0m\n\u001b[1;32m--> 449\u001b[1;33m             \u001b[0mdoc\u001b[0m \u001b[1;33m=\u001b[0m \u001b[0mproc\u001b[0m\u001b[1;33m(\u001b[0m\u001b[0mdoc\u001b[0m\u001b[1;33m,\u001b[0m \u001b[1;33m**\u001b[0m\u001b[0mcomponent_cfg\u001b[0m\u001b[1;33m.\u001b[0m\u001b[0mget\u001b[0m\u001b[1;33m(\u001b[0m\u001b[0mname\u001b[0m\u001b[1;33m,\u001b[0m \u001b[1;33m{\u001b[0m\u001b[1;33m}\u001b[0m\u001b[1;33m)\u001b[0m\u001b[1;33m)\u001b[0m\u001b[1;33m\u001b[0m\u001b[1;33m\u001b[0m\u001b[0m\n\u001b[0m\u001b[0;32m    450\u001b[0m             \u001b[1;32mif\u001b[0m \u001b[0mdoc\u001b[0m \u001b[1;32mis\u001b[0m \u001b[1;32mNone\u001b[0m\u001b[1;33m:\u001b[0m\u001b[1;33m\u001b[0m\u001b[1;33m\u001b[0m\u001b[0m\n\u001b[0;32m    451\u001b[0m                 \u001b[1;32mraise\u001b[0m \u001b[0mValueError\u001b[0m\u001b[1;33m(\u001b[0m\u001b[0mErrors\u001b[0m\u001b[1;33m.\u001b[0m\u001b[0mE005\u001b[0m\u001b[1;33m.\u001b[0m\u001b[0mformat\u001b[0m\u001b[1;33m(\u001b[0m\u001b[0mname\u001b[0m\u001b[1;33m=\u001b[0m\u001b[0mname\u001b[0m\u001b[1;33m)\u001b[0m\u001b[1;33m)\u001b[0m\u001b[1;33m\u001b[0m\u001b[1;33m\u001b[0m\u001b[0m\n",
      "\u001b[1;32m~\\anaconda3\\lib\\site-packages\\spacymoji\\__init__.py\u001b[0m in \u001b[0;36m__call__\u001b[1;34m(self, doc)\u001b[0m\n\u001b[0;32m     85\u001b[0m                 \u001b[1;32mfor\u001b[0m \u001b[0mspan\u001b[0m \u001b[1;32min\u001b[0m \u001b[0mspans\u001b[0m\u001b[1;33m:\u001b[0m\u001b[1;33m\u001b[0m\u001b[1;33m\u001b[0m\u001b[0m\n\u001b[0;32m     86\u001b[0m                     \u001b[1;32mif\u001b[0m \u001b[0mlen\u001b[0m\u001b[1;33m(\u001b[0m\u001b[0mspan\u001b[0m\u001b[1;33m)\u001b[0m \u001b[1;33m>\u001b[0m \u001b[1;36m1\u001b[0m\u001b[1;33m:\u001b[0m\u001b[1;33m\u001b[0m\u001b[1;33m\u001b[0m\u001b[0m\n\u001b[1;32m---> 87\u001b[1;33m                         \u001b[0mretokenizer\u001b[0m\u001b[1;33m.\u001b[0m\u001b[0mmerge\u001b[0m\u001b[1;33m(\u001b[0m\u001b[0mspan\u001b[0m\u001b[1;33m)\u001b[0m\u001b[1;33m\u001b[0m\u001b[1;33m\u001b[0m\u001b[0m\n\u001b[0m\u001b[0;32m     88\u001b[0m         \u001b[1;32mreturn\u001b[0m \u001b[0mdoc\u001b[0m\u001b[1;33m\u001b[0m\u001b[1;33m\u001b[0m\u001b[0m\n\u001b[0;32m     89\u001b[0m \u001b[1;33m\u001b[0m\u001b[0m\n",
      "\u001b[1;32m_retokenize.pyx\u001b[0m in \u001b[0;36mspacy.tokens._retokenize.Retokenizer.merge\u001b[1;34m()\u001b[0m\n",
      "\u001b[1;31mValueError\u001b[0m: [E102] Can't merge non-disjoint spans. '👯' is already part of tokens to merge. If you want to find the longest non-overlapping spans, you can use the util.filter_spans helper:\nhttps://spacy.io/api/top-level#util.filter_spans"
     ]
    }
   ],
   "source": [
    "total_text = len(df['content'])\n",
    "print(f'There is a total of {total_text} selftext.')\n",
    "\n",
    "#instantiate empty list to hold cleaned data\n",
    "clean_text = []\n",
    "adj_text = []\n",
    "noun_text = []\n",
    "verb_list = []\n",
    "emoji_icons = []\n",
    "\n",
    "\n",
    "t0 = time()\n",
    "print(\"Cleaning and parsing the training set text...\")\n",
    "\n",
    "# Instantiate counter.\n",
    "j = 0\n",
    "\n",
    "# For every review in our training set...\n",
    "for text in df['content']:\n",
    "    \n",
    "    # Convert text to words, then append to clean_train_text.\n",
    "    clean_text.append(words_cleaning(text)[0])\n",
    "    adj_text.append(words_cleaning(str(text).lower())[1])\n",
    "    noun_text.append(words_cleaning(str(text).lower())[2])\n",
    "    verb_list.append(words_cleaning(str(text).lower())[3])\n",
    "    emoji_icons.append(words_cleaning(text)[4])\n",
    "    \n",
    "    # If the index is divisible by 100, print a message.\n",
    "    if (j + 1) % 10000 == 0:\n",
    "        print(f'selftext {j + 1} of {total_text}.')\n",
    "        bag_test_time = time() - t0\n",
    "        print('Fit time:  %0.3fs' % bag_test_time);\n",
    "    j += 1\n",
    "\n",
    "    \n",
    "print(f'selftext {total_text} of {total_text}.')    \n",
    "print('Cleaning complete')"
   ]
  },
  {
   "cell_type": "code",
   "execution_count": null,
   "metadata": {},
   "outputs": [],
   "source": [
    "df['clean_content'] = clean_text\n",
    "df['adj'] = adj_text\n",
    "df['noun'] = noun_text\n",
    "df['verb'] = verb_list\n",
    "df['emoji'] = emoji_icons"
   ]
  },
  {
   "cell_type": "code",
   "execution_count": 50,
   "metadata": {},
   "outputs": [
    {
     "ename": "KeyError",
     "evalue": "'emoji'",
     "output_type": "error",
     "traceback": [
      "\u001b[1;31m---------------------------------------------------------------------------\u001b[0m",
      "\u001b[1;31mKeyError\u001b[0m                                  Traceback (most recent call last)",
      "\u001b[1;32m~\\anaconda3\\lib\\site-packages\\pandas\\core\\indexes\\base.py\u001b[0m in \u001b[0;36mget_loc\u001b[1;34m(self, key, method, tolerance)\u001b[0m\n\u001b[0;32m   2645\u001b[0m             \u001b[1;32mtry\u001b[0m\u001b[1;33m:\u001b[0m\u001b[1;33m\u001b[0m\u001b[1;33m\u001b[0m\u001b[0m\n\u001b[1;32m-> 2646\u001b[1;33m                 \u001b[1;32mreturn\u001b[0m \u001b[0mself\u001b[0m\u001b[1;33m.\u001b[0m\u001b[0m_engine\u001b[0m\u001b[1;33m.\u001b[0m\u001b[0mget_loc\u001b[0m\u001b[1;33m(\u001b[0m\u001b[0mkey\u001b[0m\u001b[1;33m)\u001b[0m\u001b[1;33m\u001b[0m\u001b[1;33m\u001b[0m\u001b[0m\n\u001b[0m\u001b[0;32m   2647\u001b[0m             \u001b[1;32mexcept\u001b[0m \u001b[0mKeyError\u001b[0m\u001b[1;33m:\u001b[0m\u001b[1;33m\u001b[0m\u001b[1;33m\u001b[0m\u001b[0m\n",
      "\u001b[1;32mpandas\\_libs\\index.pyx\u001b[0m in \u001b[0;36mpandas._libs.index.IndexEngine.get_loc\u001b[1;34m()\u001b[0m\n",
      "\u001b[1;32mpandas\\_libs\\index.pyx\u001b[0m in \u001b[0;36mpandas._libs.index.IndexEngine.get_loc\u001b[1;34m()\u001b[0m\n",
      "\u001b[1;32mpandas\\_libs\\hashtable_class_helper.pxi\u001b[0m in \u001b[0;36mpandas._libs.hashtable.PyObjectHashTable.get_item\u001b[1;34m()\u001b[0m\n",
      "\u001b[1;32mpandas\\_libs\\hashtable_class_helper.pxi\u001b[0m in \u001b[0;36mpandas._libs.hashtable.PyObjectHashTable.get_item\u001b[1;34m()\u001b[0m\n",
      "\u001b[1;31mKeyError\u001b[0m: 'emoji'",
      "\nDuring handling of the above exception, another exception occurred:\n",
      "\u001b[1;31mKeyError\u001b[0m                                  Traceback (most recent call last)",
      "\u001b[1;32m<ipython-input-50-ea369f39c1f8>\u001b[0m in \u001b[0;36m<module>\u001b[1;34m\u001b[0m\n\u001b[1;32m----> 1\u001b[1;33m \u001b[0mdf\u001b[0m\u001b[1;33m[\u001b[0m\u001b[1;34m'emoji'\u001b[0m\u001b[1;33m]\u001b[0m\u001b[1;33m\u001b[0m\u001b[1;33m\u001b[0m\u001b[0m\n\u001b[0m",
      "\u001b[1;32m~\\anaconda3\\lib\\site-packages\\pandas\\core\\frame.py\u001b[0m in \u001b[0;36m__getitem__\u001b[1;34m(self, key)\u001b[0m\n\u001b[0;32m   2798\u001b[0m             \u001b[1;32mif\u001b[0m \u001b[0mself\u001b[0m\u001b[1;33m.\u001b[0m\u001b[0mcolumns\u001b[0m\u001b[1;33m.\u001b[0m\u001b[0mnlevels\u001b[0m \u001b[1;33m>\u001b[0m \u001b[1;36m1\u001b[0m\u001b[1;33m:\u001b[0m\u001b[1;33m\u001b[0m\u001b[1;33m\u001b[0m\u001b[0m\n\u001b[0;32m   2799\u001b[0m                 \u001b[1;32mreturn\u001b[0m \u001b[0mself\u001b[0m\u001b[1;33m.\u001b[0m\u001b[0m_getitem_multilevel\u001b[0m\u001b[1;33m(\u001b[0m\u001b[0mkey\u001b[0m\u001b[1;33m)\u001b[0m\u001b[1;33m\u001b[0m\u001b[1;33m\u001b[0m\u001b[0m\n\u001b[1;32m-> 2800\u001b[1;33m             \u001b[0mindexer\u001b[0m \u001b[1;33m=\u001b[0m \u001b[0mself\u001b[0m\u001b[1;33m.\u001b[0m\u001b[0mcolumns\u001b[0m\u001b[1;33m.\u001b[0m\u001b[0mget_loc\u001b[0m\u001b[1;33m(\u001b[0m\u001b[0mkey\u001b[0m\u001b[1;33m)\u001b[0m\u001b[1;33m\u001b[0m\u001b[1;33m\u001b[0m\u001b[0m\n\u001b[0m\u001b[0;32m   2801\u001b[0m             \u001b[1;32mif\u001b[0m \u001b[0mis_integer\u001b[0m\u001b[1;33m(\u001b[0m\u001b[0mindexer\u001b[0m\u001b[1;33m)\u001b[0m\u001b[1;33m:\u001b[0m\u001b[1;33m\u001b[0m\u001b[1;33m\u001b[0m\u001b[0m\n\u001b[0;32m   2802\u001b[0m                 \u001b[0mindexer\u001b[0m \u001b[1;33m=\u001b[0m \u001b[1;33m[\u001b[0m\u001b[0mindexer\u001b[0m\u001b[1;33m]\u001b[0m\u001b[1;33m\u001b[0m\u001b[1;33m\u001b[0m\u001b[0m\n",
      "\u001b[1;32m~\\anaconda3\\lib\\site-packages\\pandas\\core\\indexes\\base.py\u001b[0m in \u001b[0;36mget_loc\u001b[1;34m(self, key, method, tolerance)\u001b[0m\n\u001b[0;32m   2646\u001b[0m                 \u001b[1;32mreturn\u001b[0m \u001b[0mself\u001b[0m\u001b[1;33m.\u001b[0m\u001b[0m_engine\u001b[0m\u001b[1;33m.\u001b[0m\u001b[0mget_loc\u001b[0m\u001b[1;33m(\u001b[0m\u001b[0mkey\u001b[0m\u001b[1;33m)\u001b[0m\u001b[1;33m\u001b[0m\u001b[1;33m\u001b[0m\u001b[0m\n\u001b[0;32m   2647\u001b[0m             \u001b[1;32mexcept\u001b[0m \u001b[0mKeyError\u001b[0m\u001b[1;33m:\u001b[0m\u001b[1;33m\u001b[0m\u001b[1;33m\u001b[0m\u001b[0m\n\u001b[1;32m-> 2648\u001b[1;33m                 \u001b[1;32mreturn\u001b[0m \u001b[0mself\u001b[0m\u001b[1;33m.\u001b[0m\u001b[0m_engine\u001b[0m\u001b[1;33m.\u001b[0m\u001b[0mget_loc\u001b[0m\u001b[1;33m(\u001b[0m\u001b[0mself\u001b[0m\u001b[1;33m.\u001b[0m\u001b[0m_maybe_cast_indexer\u001b[0m\u001b[1;33m(\u001b[0m\u001b[0mkey\u001b[0m\u001b[1;33m)\u001b[0m\u001b[1;33m)\u001b[0m\u001b[1;33m\u001b[0m\u001b[1;33m\u001b[0m\u001b[0m\n\u001b[0m\u001b[0;32m   2649\u001b[0m         \u001b[0mindexer\u001b[0m \u001b[1;33m=\u001b[0m \u001b[0mself\u001b[0m\u001b[1;33m.\u001b[0m\u001b[0mget_indexer\u001b[0m\u001b[1;33m(\u001b[0m\u001b[1;33m[\u001b[0m\u001b[0mkey\u001b[0m\u001b[1;33m]\u001b[0m\u001b[1;33m,\u001b[0m \u001b[0mmethod\u001b[0m\u001b[1;33m=\u001b[0m\u001b[0mmethod\u001b[0m\u001b[1;33m,\u001b[0m \u001b[0mtolerance\u001b[0m\u001b[1;33m=\u001b[0m\u001b[0mtolerance\u001b[0m\u001b[1;33m)\u001b[0m\u001b[1;33m\u001b[0m\u001b[1;33m\u001b[0m\u001b[0m\n\u001b[0;32m   2650\u001b[0m         \u001b[1;32mif\u001b[0m \u001b[0mindexer\u001b[0m\u001b[1;33m.\u001b[0m\u001b[0mndim\u001b[0m \u001b[1;33m>\u001b[0m \u001b[1;36m1\u001b[0m \u001b[1;32mor\u001b[0m \u001b[0mindexer\u001b[0m\u001b[1;33m.\u001b[0m\u001b[0msize\u001b[0m \u001b[1;33m>\u001b[0m \u001b[1;36m1\u001b[0m\u001b[1;33m:\u001b[0m\u001b[1;33m\u001b[0m\u001b[1;33m\u001b[0m\u001b[0m\n",
      "\u001b[1;32mpandas\\_libs\\index.pyx\u001b[0m in \u001b[0;36mpandas._libs.index.IndexEngine.get_loc\u001b[1;34m()\u001b[0m\n",
      "\u001b[1;32mpandas\\_libs\\index.pyx\u001b[0m in \u001b[0;36mpandas._libs.index.IndexEngine.get_loc\u001b[1;34m()\u001b[0m\n",
      "\u001b[1;32mpandas\\_libs\\hashtable_class_helper.pxi\u001b[0m in \u001b[0;36mpandas._libs.hashtable.PyObjectHashTable.get_item\u001b[1;34m()\u001b[0m\n",
      "\u001b[1;32mpandas\\_libs\\hashtable_class_helper.pxi\u001b[0m in \u001b[0;36mpandas._libs.hashtable.PyObjectHashTable.get_item\u001b[1;34m()\u001b[0m\n",
      "\u001b[1;31mKeyError\u001b[0m: 'emoji'"
     ]
    }
   ],
   "source": [
    "df['emoji']"
   ]
  },
  {
   "cell_type": "code",
   "execution_count": null,
   "metadata": {},
   "outputs": [],
   "source": [
    "df.head()"
   ]
  },
  {
   "cell_type": "code",
   "execution_count": null,
   "metadata": {},
   "outputs": [],
   "source": [
    "# lower all the adj, noun and verb\n",
    "# use vader to get sentiment count\n",
    "# plot sentiments of apps across time\n",
    "# create new dataframe with all new data"
   ]
  },
  {
   "cell_type": "code",
   "execution_count": null,
   "metadata": {},
   "outputs": [],
   "source": [
    "df.to_csv('cleaned_reviews.csv', index=None, header=True)"
   ]
  },
  {
   "cell_type": "code",
   "execution_count": null,
   "metadata": {},
   "outputs": [],
   "source": [
    "df_clean = pd.read_csv('cleaned_reviews.csv')"
   ]
  },
  {
   "cell_type": "code",
   "execution_count": null,
   "metadata": {},
   "outputs": [],
   "source": [
    "df_clean.isna().sum()"
   ]
  },
  {
   "cell_type": "code",
   "execution_count": null,
   "metadata": {},
   "outputs": [],
   "source": []
  }
 ],
 "metadata": {
  "kernelspec": {
   "display_name": "Python 3",
   "language": "python",
   "name": "python3"
  },
  "language_info": {
   "codemirror_mode": {
    "name": "ipython",
    "version": 3
   },
   "file_extension": ".py",
   "mimetype": "text/x-python",
   "name": "python",
   "nbconvert_exporter": "python",
   "pygments_lexer": "ipython3",
   "version": "3.7.7"
  },
  "toc": {
   "base_numbering": 1,
   "nav_menu": {},
   "number_sections": false,
   "sideBar": true,
   "skip_h1_title": false,
   "title_cell": "Table of Contents",
   "title_sidebar": "Contents",
   "toc_cell": false,
   "toc_position": {
    "height": "calc(100% - 180px)",
    "left": "10px",
    "top": "150px",
    "width": "281.424px"
   },
   "toc_section_display": true,
   "toc_window_display": true
  }
 },
 "nbformat": 4,
 "nbformat_minor": 4
}
