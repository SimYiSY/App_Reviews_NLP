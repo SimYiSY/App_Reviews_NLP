{
 "cells": [
  {
   "cell_type": "markdown",
   "metadata": {},
   "source": [
    "# Import Library"
   ]
  },
  {
   "cell_type": "code",
   "execution_count": 1,
   "metadata": {},
   "outputs": [],
   "source": [
    "import pandas as pd\n",
    "import numpy as np\n",
    "import matplotlib.pyplot as plt\n",
    "import seaborn as sns\n",
    "from time import time\n",
    "\n",
    "from PIL import Image\n",
    "from wordcloud import WordCloud\n",
    "\n",
    "from bs4 import BeautifulSoup\n",
    "import re\n",
    "import spacy\n",
    "from spacymoji import Emoji\n",
    "from nltk.corpus import stopwords, words\n",
    "from nltk import wordpunct_tokenize\n",
    "from nltk.stem import WordNetLemmatizer\n",
    "from nltk.stem.porter import PorterStemmer\n",
    "from nltk.tokenize import RegexpTokenizer\n",
    "from vaderSentiment.vaderSentiment import SentimentIntensityAnalyzer"
   ]
  },
  {
   "cell_type": "code",
   "execution_count": 2,
   "metadata": {},
   "outputs": [],
   "source": [
    "# f1_score\n",
    "# matthews_corrcoef"
   ]
  },
  {
   "cell_type": "markdown",
   "metadata": {},
   "source": [
    "# Import data"
   ]
  },
  {
   "cell_type": "code",
   "execution_count": 3,
   "metadata": {},
   "outputs": [],
   "source": [
    "df_info = pd.read_csv('shoppingapps_info.csv')\n",
    "df_google = pd.read_csv('google_apps_reviews.csv')\n",
    "df_apple = pd.read_csv('apple_apps_reviews.csv')"
   ]
  },
  {
   "cell_type": "markdown",
   "metadata": {},
   "source": [
    "## Checking info "
   ]
  },
  {
   "cell_type": "code",
   "execution_count": 4,
   "metadata": {},
   "outputs": [
    {
     "data": {
      "text/html": [
       "<div>\n",
       "<style scoped>\n",
       "    .dataframe tbody tr th:only-of-type {\n",
       "        vertical-align: middle;\n",
       "    }\n",
       "\n",
       "    .dataframe tbody tr th {\n",
       "        vertical-align: top;\n",
       "    }\n",
       "\n",
       "    .dataframe thead th {\n",
       "        text-align: right;\n",
       "    }\n",
       "</style>\n",
       "<table border=\"1\" class=\"dataframe\">\n",
       "  <thead>\n",
       "    <tr style=\"text-align: right;\">\n",
       "      <th></th>\n",
       "      <th>title</th>\n",
       "      <th>description</th>\n",
       "      <th>descriptionHTML</th>\n",
       "      <th>summary</th>\n",
       "      <th>summaryHTML</th>\n",
       "      <th>installs</th>\n",
       "      <th>minInstalls</th>\n",
       "      <th>score</th>\n",
       "      <th>ratings</th>\n",
       "      <th>reviews</th>\n",
       "      <th>...</th>\n",
       "      <th>contentRatingDescription</th>\n",
       "      <th>adSupported</th>\n",
       "      <th>containsAds</th>\n",
       "      <th>released</th>\n",
       "      <th>updated</th>\n",
       "      <th>version</th>\n",
       "      <th>recentChanges</th>\n",
       "      <th>recentChangesHTML</th>\n",
       "      <th>appId</th>\n",
       "      <th>url</th>\n",
       "    </tr>\n",
       "  </thead>\n",
       "  <tbody>\n",
       "    <tr>\n",
       "      <th>0</th>\n",
       "      <td>Shopee: #1 Online Platform</td>\n",
       "      <td>*For usage in Singapore only\\r\\n\\r\\nShopee is ...</td>\n",
       "      <td>*For usage in Singapore only&lt;br&gt;&lt;br&gt;Shopee is ...</td>\n",
       "      <td>#1 Online Shopping Platform\\r\\n15% Cashback | ...</td>\n",
       "      <td>#1 Online Shopping Platform&lt;br&gt;15% Cashback | ...</td>\n",
       "      <td>1,000,000+</td>\n",
       "      <td>1000000</td>\n",
       "      <td>4.774502</td>\n",
       "      <td>74670</td>\n",
       "      <td>19978</td>\n",
       "      <td>...</td>\n",
       "      <td>NaN</td>\n",
       "      <td>NaN</td>\n",
       "      <td>False</td>\n",
       "      <td>May 24, 2015</td>\n",
       "      <td>1600059737</td>\n",
       "      <td>2.60.11</td>\n",
       "      <td>Thanks for using Shopee! We’ve fixed some bugs...</td>\n",
       "      <td>Thanks for using Shopee! We’ve fixed some bugs...</td>\n",
       "      <td>com.shopee.sg</td>\n",
       "      <td>https://play.google.com/store/apps/details?id=...</td>\n",
       "    </tr>\n",
       "    <tr>\n",
       "      <th>1</th>\n",
       "      <td>Carousell: Snap-Sell, Chat-Buy</td>\n",
       "      <td>Carousell is a community marketplace that lets...</td>\n",
       "      <td>Carousell is a community marketplace that lets...</td>\n",
       "      <td>Carousell: Snap to Sell, Chat to Buy. And it's...</td>\n",
       "      <td>Carousell: Snap to Sell, Chat to Buy. And it&amp;#...</td>\n",
       "      <td>10,000,000+</td>\n",
       "      <td>10000000</td>\n",
       "      <td>4.528680</td>\n",
       "      <td>185936</td>\n",
       "      <td>70084</td>\n",
       "      <td>...</td>\n",
       "      <td>Parental Guidance Recommended</td>\n",
       "      <td>True</td>\n",
       "      <td>True</td>\n",
       "      <td>Jan 15, 2013</td>\n",
       "      <td>1600053888</td>\n",
       "      <td>2.179.753.778</td>\n",
       "      <td>Every week, we polish the app to help you buy,...</td>\n",
       "      <td>Every week, we polish the app to help you buy,...</td>\n",
       "      <td>com.thecarousell.Carousell</td>\n",
       "      <td>https://play.google.com/store/apps/details?id=...</td>\n",
       "    </tr>\n",
       "    <tr>\n",
       "      <th>2</th>\n",
       "      <td>Lazada &amp; RedMart - Online Shopping &amp; Groceries</td>\n",
       "      <td>Welcome to the brand new Lazada™ mobile app! J...</td>\n",
       "      <td>Welcome to the brand new Lazada™ mobile app! J...</td>\n",
       "      <td>Shop Countless Deals Online at Lazada Singapore!</td>\n",
       "      <td>Shop Countless Deals Online at Lazada Singapore!</td>\n",
       "      <td>100,000,000+</td>\n",
       "      <td>100000000</td>\n",
       "      <td>4.441022</td>\n",
       "      <td>7038924</td>\n",
       "      <td>2641208</td>\n",
       "      <td>...</td>\n",
       "      <td>NaN</td>\n",
       "      <td>NaN</td>\n",
       "      <td>False</td>\n",
       "      <td>Jun 8, 2013</td>\n",
       "      <td>1600079023</td>\n",
       "      <td>6.52.0</td>\n",
       "      <td>Thanks for using LAZADA! We've enhanced the pe...</td>\n",
       "      <td>Thanks for using LAZADA! We&amp;#39;ve enhanced th...</td>\n",
       "      <td>com.lazada.android</td>\n",
       "      <td>https://play.google.com/store/apps/details?id=...</td>\n",
       "    </tr>\n",
       "    <tr>\n",
       "      <th>3</th>\n",
       "      <td>AliExpress - Smarter Shopping, Better Living</td>\n",
       "      <td>Ever wanted to shop everything in one place, a...</td>\n",
       "      <td>Ever wanted to shop everything in one place, a...</td>\n",
       "      <td>AliExpress - Smarter Shopping, Better Living</td>\n",
       "      <td>AliExpress - Smarter Shopping, Better Living</td>\n",
       "      <td>100,000,000+</td>\n",
       "      <td>100000000</td>\n",
       "      <td>4.510467</td>\n",
       "      <td>10205091</td>\n",
       "      <td>3139870</td>\n",
       "      <td>...</td>\n",
       "      <td>Parental Guidance Recommended</td>\n",
       "      <td>NaN</td>\n",
       "      <td>False</td>\n",
       "      <td>Sep 27, 2012</td>\n",
       "      <td>1599663269</td>\n",
       "      <td>8.16.0</td>\n",
       "      <td>We're always looking for ways to further optim...</td>\n",
       "      <td>We&amp;#39;re always looking for ways to further o...</td>\n",
       "      <td>com.alibaba.aliexpresshd</td>\n",
       "      <td>https://play.google.com/store/apps/details?id=...</td>\n",
       "    </tr>\n",
       "    <tr>\n",
       "      <th>4</th>\n",
       "      <td>eBay: Discover great deals on the brands you love</td>\n",
       "      <td>Buy, sell and save with the eBay app! Shop dea...</td>\n",
       "      <td>Buy, sell and save with the eBay app! Shop dea...</td>\n",
       "      <td>Buy and sell on the world’s largest marketplac...</td>\n",
       "      <td>Buy and sell on the world’s largest marketplac...</td>\n",
       "      <td>100,000,000+</td>\n",
       "      <td>100000000</td>\n",
       "      <td>4.718355</td>\n",
       "      <td>3433412</td>\n",
       "      <td>1262508</td>\n",
       "      <td>...</td>\n",
       "      <td>Parental Guidance Recommended</td>\n",
       "      <td>True</td>\n",
       "      <td>True</td>\n",
       "      <td>Feb 17, 2010</td>\n",
       "      <td>1599781634</td>\n",
       "      <td>Varies with device</td>\n",
       "      <td>Tap “lockable filters” in the “customize” sect...</td>\n",
       "      <td>Tap “lockable filters” in the “customize” sect...</td>\n",
       "      <td>com.ebay.mobile</td>\n",
       "      <td>https://play.google.com/store/apps/details?id=...</td>\n",
       "    </tr>\n",
       "  </tbody>\n",
       "</table>\n",
       "<p>5 rows × 48 columns</p>\n",
       "</div>"
      ],
      "text/plain": [
       "                                               title  \\\n",
       "0                         Shopee: #1 Online Platform   \n",
       "1                     Carousell: Snap-Sell, Chat-Buy   \n",
       "2     Lazada & RedMart - Online Shopping & Groceries   \n",
       "3       AliExpress - Smarter Shopping, Better Living   \n",
       "4  eBay: Discover great deals on the brands you love   \n",
       "\n",
       "                                         description  \\\n",
       "0  *For usage in Singapore only\\r\\n\\r\\nShopee is ...   \n",
       "1  Carousell is a community marketplace that lets...   \n",
       "2  Welcome to the brand new Lazada™ mobile app! J...   \n",
       "3  Ever wanted to shop everything in one place, a...   \n",
       "4  Buy, sell and save with the eBay app! Shop dea...   \n",
       "\n",
       "                                     descriptionHTML  \\\n",
       "0  *For usage in Singapore only<br><br>Shopee is ...   \n",
       "1  Carousell is a community marketplace that lets...   \n",
       "2  Welcome to the brand new Lazada™ mobile app! J...   \n",
       "3  Ever wanted to shop everything in one place, a...   \n",
       "4  Buy, sell and save with the eBay app! Shop dea...   \n",
       "\n",
       "                                             summary  \\\n",
       "0  #1 Online Shopping Platform\\r\\n15% Cashback | ...   \n",
       "1  Carousell: Snap to Sell, Chat to Buy. And it's...   \n",
       "2   Shop Countless Deals Online at Lazada Singapore!   \n",
       "3       AliExpress - Smarter Shopping, Better Living   \n",
       "4  Buy and sell on the world’s largest marketplac...   \n",
       "\n",
       "                                         summaryHTML      installs  \\\n",
       "0  #1 Online Shopping Platform<br>15% Cashback | ...    1,000,000+   \n",
       "1  Carousell: Snap to Sell, Chat to Buy. And it&#...   10,000,000+   \n",
       "2   Shop Countless Deals Online at Lazada Singapore!  100,000,000+   \n",
       "3       AliExpress - Smarter Shopping, Better Living  100,000,000+   \n",
       "4  Buy and sell on the world’s largest marketplac...  100,000,000+   \n",
       "\n",
       "   minInstalls     score   ratings  reviews  ...  \\\n",
       "0      1000000  4.774502     74670    19978  ...   \n",
       "1     10000000  4.528680    185936    70084  ...   \n",
       "2    100000000  4.441022   7038924  2641208  ...   \n",
       "3    100000000  4.510467  10205091  3139870  ...   \n",
       "4    100000000  4.718355   3433412  1262508  ...   \n",
       "\n",
       "        contentRatingDescription  adSupported  containsAds      released  \\\n",
       "0                            NaN          NaN        False  May 24, 2015   \n",
       "1  Parental Guidance Recommended         True         True  Jan 15, 2013   \n",
       "2                            NaN          NaN        False   Jun 8, 2013   \n",
       "3  Parental Guidance Recommended          NaN        False  Sep 27, 2012   \n",
       "4  Parental Guidance Recommended         True         True  Feb 17, 2010   \n",
       "\n",
       "      updated             version  \\\n",
       "0  1600059737             2.60.11   \n",
       "1  1600053888       2.179.753.778   \n",
       "2  1600079023              6.52.0   \n",
       "3  1599663269              8.16.0   \n",
       "4  1599781634  Varies with device   \n",
       "\n",
       "                                       recentChanges  \\\n",
       "0  Thanks for using Shopee! We’ve fixed some bugs...   \n",
       "1  Every week, we polish the app to help you buy,...   \n",
       "2  Thanks for using LAZADA! We've enhanced the pe...   \n",
       "3  We're always looking for ways to further optim...   \n",
       "4  Tap “lockable filters” in the “customize” sect...   \n",
       "\n",
       "                                   recentChangesHTML  \\\n",
       "0  Thanks for using Shopee! We’ve fixed some bugs...   \n",
       "1  Every week, we polish the app to help you buy,...   \n",
       "2  Thanks for using LAZADA! We&#39;ve enhanced th...   \n",
       "3  We&#39;re always looking for ways to further o...   \n",
       "4  Tap “lockable filters” in the “customize” sect...   \n",
       "\n",
       "                        appId  \\\n",
       "0               com.shopee.sg   \n",
       "1  com.thecarousell.Carousell   \n",
       "2          com.lazada.android   \n",
       "3    com.alibaba.aliexpresshd   \n",
       "4             com.ebay.mobile   \n",
       "\n",
       "                                                 url  \n",
       "0  https://play.google.com/store/apps/details?id=...  \n",
       "1  https://play.google.com/store/apps/details?id=...  \n",
       "2  https://play.google.com/store/apps/details?id=...  \n",
       "3  https://play.google.com/store/apps/details?id=...  \n",
       "4  https://play.google.com/store/apps/details?id=...  \n",
       "\n",
       "[5 rows x 48 columns]"
      ]
     },
     "execution_count": 4,
     "metadata": {},
     "output_type": "execute_result"
    }
   ],
   "source": [
    "df_info.head()"
   ]
  },
  {
   "cell_type": "code",
   "execution_count": 5,
   "metadata": {},
   "outputs": [
    {
     "data": {
      "text/plain": [
       "0                           Shopee: #1 Online Platform\n",
       "1                       Carousell: Snap-Sell, Chat-Buy\n",
       "2       Lazada & RedMart - Online Shopping & Groceries\n",
       "3         AliExpress - Smarter Shopping, Better Living\n",
       "4    eBay: Discover great deals on the brands you love\n",
       "5       Amazon Shopping - Search, Find, Ship, and Save\n",
       "6                                                 ASOS\n",
       "7                             Wish - Shopping Made Fun\n",
       "Name: title, dtype: object"
      ]
     },
     "execution_count": 5,
     "metadata": {},
     "output_type": "execute_result"
    }
   ],
   "source": [
    "df_info.title"
   ]
  },
  {
   "cell_type": "markdown",
   "metadata": {},
   "source": [
    "## Checking Google Playstore Review"
   ]
  },
  {
   "cell_type": "code",
   "execution_count": 6,
   "metadata": {},
   "outputs": [
    {
     "data": {
      "text/html": [
       "<div>\n",
       "<style scoped>\n",
       "    .dataframe tbody tr th:only-of-type {\n",
       "        vertical-align: middle;\n",
       "    }\n",
       "\n",
       "    .dataframe tbody tr th {\n",
       "        vertical-align: top;\n",
       "    }\n",
       "\n",
       "    .dataframe thead th {\n",
       "        text-align: right;\n",
       "    }\n",
       "</style>\n",
       "<table border=\"1\" class=\"dataframe\">\n",
       "  <thead>\n",
       "    <tr style=\"text-align: right;\">\n",
       "      <th></th>\n",
       "      <th>reviewId</th>\n",
       "      <th>userName</th>\n",
       "      <th>userImage</th>\n",
       "      <th>content</th>\n",
       "      <th>score</th>\n",
       "      <th>thumbsUpCount</th>\n",
       "      <th>reviewCreatedVersion</th>\n",
       "      <th>at</th>\n",
       "      <th>replyContent</th>\n",
       "      <th>repliedAt</th>\n",
       "      <th>sortOrder</th>\n",
       "      <th>appId</th>\n",
       "    </tr>\n",
       "  </thead>\n",
       "  <tbody>\n",
       "    <tr>\n",
       "      <th>0</th>\n",
       "      <td>gp:AOqpTOEKwLJD3fLeQtpdlubuqRbEMtAxw3sX06xqqqT...</td>\n",
       "      <td>Michael</td>\n",
       "      <td>https://lh3.googleusercontent.com/a-/AOh14GhPB...</td>\n",
       "      <td>Like it Shoppee like Shoppee like Shoppee</td>\n",
       "      <td>5</td>\n",
       "      <td>0</td>\n",
       "      <td>2.60.08</td>\n",
       "      <td>2020-09-14 21:01:30</td>\n",
       "      <td>NaN</td>\n",
       "      <td>NaN</td>\n",
       "      <td>newest</td>\n",
       "      <td>com.shopee.sg</td>\n",
       "    </tr>\n",
       "    <tr>\n",
       "      <th>1</th>\n",
       "      <td>gp:AOqpTOE1--rn2DmEzAct2wzoH2L39Jzc4iVUlbHbQL5...</td>\n",
       "      <td>WenYi</td>\n",
       "      <td>https://lh3.googleusercontent.com/a-/AOh14GhaO...</td>\n",
       "      <td>Good application</td>\n",
       "      <td>5</td>\n",
       "      <td>0</td>\n",
       "      <td>2.60.08</td>\n",
       "      <td>2020-09-14 20:49:40</td>\n",
       "      <td>NaN</td>\n",
       "      <td>NaN</td>\n",
       "      <td>newest</td>\n",
       "      <td>com.shopee.sg</td>\n",
       "    </tr>\n",
       "    <tr>\n",
       "      <th>2</th>\n",
       "      <td>gp:AOqpTOHEoUKzrkF380nERsflycILl74lyH0PCHtmm1u...</td>\n",
       "      <td>jeffrey tan</td>\n",
       "      <td>https://play-lh.googleusercontent.com/-hV9JjFg...</td>\n",
       "      <td>Most products are cheaper than other platform.</td>\n",
       "      <td>5</td>\n",
       "      <td>0</td>\n",
       "      <td>2.60.08</td>\n",
       "      <td>2020-09-14 20:45:19</td>\n",
       "      <td>NaN</td>\n",
       "      <td>NaN</td>\n",
       "      <td>newest</td>\n",
       "      <td>com.shopee.sg</td>\n",
       "    </tr>\n",
       "    <tr>\n",
       "      <th>3</th>\n",
       "      <td>gp:AOqpTOE5Kml6CWR98W6kupBli1OM7vdzf1sY0yVD0NF...</td>\n",
       "      <td>caryn peh</td>\n",
       "      <td>https://play-lh.googleusercontent.com/-JCm_pNc...</td>\n",
       "      <td>Shopee is user friendly and made online shoppi...</td>\n",
       "      <td>5</td>\n",
       "      <td>0</td>\n",
       "      <td>2.60.08</td>\n",
       "      <td>2020-09-14 20:39:06</td>\n",
       "      <td>NaN</td>\n",
       "      <td>NaN</td>\n",
       "      <td>newest</td>\n",
       "      <td>com.shopee.sg</td>\n",
       "    </tr>\n",
       "    <tr>\n",
       "      <th>4</th>\n",
       "      <td>gp:AOqpTOGX3aJMJ-NJ3yeK1J4cX4hjW_CJgpN3HGKggBp...</td>\n",
       "      <td>YUSLINDA LIN</td>\n",
       "      <td>https://play-lh.googleusercontent.com/-74sBrhM...</td>\n",
       "      <td>Love this platform. Shopping alot at here. Lol</td>\n",
       "      <td>5</td>\n",
       "      <td>0</td>\n",
       "      <td>2.60.08</td>\n",
       "      <td>2020-09-14 20:37:10</td>\n",
       "      <td>NaN</td>\n",
       "      <td>NaN</td>\n",
       "      <td>newest</td>\n",
       "      <td>com.shopee.sg</td>\n",
       "    </tr>\n",
       "  </tbody>\n",
       "</table>\n",
       "</div>"
      ],
      "text/plain": [
       "                                            reviewId      userName  \\\n",
       "0  gp:AOqpTOEKwLJD3fLeQtpdlubuqRbEMtAxw3sX06xqqqT...       Michael   \n",
       "1  gp:AOqpTOE1--rn2DmEzAct2wzoH2L39Jzc4iVUlbHbQL5...         WenYi   \n",
       "2  gp:AOqpTOHEoUKzrkF380nERsflycILl74lyH0PCHtmm1u...   jeffrey tan   \n",
       "3  gp:AOqpTOE5Kml6CWR98W6kupBli1OM7vdzf1sY0yVD0NF...     caryn peh   \n",
       "4  gp:AOqpTOGX3aJMJ-NJ3yeK1J4cX4hjW_CJgpN3HGKggBp...  YUSLINDA LIN   \n",
       "\n",
       "                                           userImage  \\\n",
       "0  https://lh3.googleusercontent.com/a-/AOh14GhPB...   \n",
       "1  https://lh3.googleusercontent.com/a-/AOh14GhaO...   \n",
       "2  https://play-lh.googleusercontent.com/-hV9JjFg...   \n",
       "3  https://play-lh.googleusercontent.com/-JCm_pNc...   \n",
       "4  https://play-lh.googleusercontent.com/-74sBrhM...   \n",
       "\n",
       "                                             content  score  thumbsUpCount  \\\n",
       "0          Like it Shoppee like Shoppee like Shoppee      5              0   \n",
       "1                                   Good application      5              0   \n",
       "2     Most products are cheaper than other platform.      5              0   \n",
       "3  Shopee is user friendly and made online shoppi...      5              0   \n",
       "4     Love this platform. Shopping alot at here. Lol      5              0   \n",
       "\n",
       "  reviewCreatedVersion                   at replyContent repliedAt sortOrder  \\\n",
       "0              2.60.08  2020-09-14 21:01:30          NaN       NaN    newest   \n",
       "1              2.60.08  2020-09-14 20:49:40          NaN       NaN    newest   \n",
       "2              2.60.08  2020-09-14 20:45:19          NaN       NaN    newest   \n",
       "3              2.60.08  2020-09-14 20:39:06          NaN       NaN    newest   \n",
       "4              2.60.08  2020-09-14 20:37:10          NaN       NaN    newest   \n",
       "\n",
       "           appId  \n",
       "0  com.shopee.sg  \n",
       "1  com.shopee.sg  \n",
       "2  com.shopee.sg  \n",
       "3  com.shopee.sg  \n",
       "4  com.shopee.sg  "
      ]
     },
     "execution_count": 6,
     "metadata": {},
     "output_type": "execute_result"
    }
   ],
   "source": [
    "df_google.head()"
   ]
  },
  {
   "cell_type": "code",
   "execution_count": 7,
   "metadata": {},
   "outputs": [
    {
     "data": {
      "text/plain": [
       "lazada        10000\n",
       "wish          10000\n",
       "carousell     10000\n",
       "amazon        10000\n",
       "aliexpress    10000\n",
       "ebay          10000\n",
       "shoppee       10000\n",
       "asos          10000\n",
       "Name: appId, dtype: int64"
      ]
     },
     "execution_count": 7,
     "metadata": {},
     "output_type": "execute_result"
    }
   ],
   "source": [
    "labels = {'appId' : {'com.amazon.mShop.android.shopping' : 'amazon',\n",
    "                    'com.ebay.mobile' : 'ebay',\n",
    "                     'com.shopee.sg': 'shoppee',\n",
    "                     'com.alibaba.aliexpresshd': 'aliexpress',\n",
    "                     'com.thecarousell.Carousell': 'carousell',\n",
    "                     'com.asos.app': 'asos',\n",
    "                     'com.lazada.android': 'lazada',\n",
    "                     'com.contextlogic.wish': 'wish',\n",
    "        \n",
    "                    \n",
    "                    \n",
    "                    }}\n",
    "df_google.replace(labels, inplace=True)\n",
    "df_google['appId'].value_counts()"
   ]
  },
  {
   "cell_type": "markdown",
   "metadata": {},
   "source": [
    "## Checking Apple Appstore Review"
   ]
  },
  {
   "cell_type": "code",
   "execution_count": 8,
   "metadata": {},
   "outputs": [
    {
     "data": {
      "text/html": [
       "<div>\n",
       "<style scoped>\n",
       "    .dataframe tbody tr th:only-of-type {\n",
       "        vertical-align: middle;\n",
       "    }\n",
       "\n",
       "    .dataframe tbody tr th {\n",
       "        vertical-align: top;\n",
       "    }\n",
       "\n",
       "    .dataframe thead th {\n",
       "        text-align: right;\n",
       "    }\n",
       "</style>\n",
       "<table border=\"1\" class=\"dataframe\">\n",
       "  <thead>\n",
       "    <tr style=\"text-align: right;\">\n",
       "      <th></th>\n",
       "      <th>index</th>\n",
       "      <th>title</th>\n",
       "      <th>developerResponse</th>\n",
       "      <th>review</th>\n",
       "      <th>isEdited</th>\n",
       "      <th>date</th>\n",
       "      <th>userName</th>\n",
       "      <th>rating</th>\n",
       "      <th>AppId</th>\n",
       "    </tr>\n",
       "  </thead>\n",
       "  <tbody>\n",
       "    <tr>\n",
       "      <th>0</th>\n",
       "      <td>0</td>\n",
       "      <td>Good in price and customers’ interest platform</td>\n",
       "      <td>{'id': 17097958, 'body': \"Thank you for giving...</td>\n",
       "      <td>Shopee is a platform that protecting customers...</td>\n",
       "      <td>False</td>\n",
       "      <td>2020-08-05 05:32:41</td>\n",
       "      <td>Little tortoise</td>\n",
       "      <td>5</td>\n",
       "      <td>shoppee</td>\n",
       "    </tr>\n",
       "    <tr>\n",
       "      <th>1</th>\n",
       "      <td>1</td>\n",
       "      <td>Bad experience</td>\n",
       "      <td>{'id': 12456571, 'body': 'Hey,\\n\\nThank you fo...</td>\n",
       "      <td>I have been used this app for years. However t...</td>\n",
       "      <td>False</td>\n",
       "      <td>2019-12-17 15:59:30</td>\n",
       "      <td>Tujimu</td>\n",
       "      <td>1</td>\n",
       "      <td>shoppee</td>\n",
       "    </tr>\n",
       "    <tr>\n",
       "      <th>2</th>\n",
       "      <td>2</td>\n",
       "      <td>Waste of time</td>\n",
       "      <td>{'id': 17059815, 'body': 'Thank you for bringi...</td>\n",
       "      <td>I regretted choosing shopee. Reason being: Pur...</td>\n",
       "      <td>False</td>\n",
       "      <td>2020-08-03 09:08:40</td>\n",
       "      <td>Xed82</td>\n",
       "      <td>1</td>\n",
       "      <td>shoppee</td>\n",
       "    </tr>\n",
       "    <tr>\n",
       "      <th>3</th>\n",
       "      <td>3</td>\n",
       "      <td>Shoppee is not one of the best shopping app...!</td>\n",
       "      <td>{'id': 11615436, 'body': 'Hey, :D\\n\\nThank you...</td>\n",
       "      <td>Who says shopee is one of the best shopping ap...</td>\n",
       "      <td>True</td>\n",
       "      <td>2019-12-09 08:02:35</td>\n",
       "      <td>Cartoonfreak1980</td>\n",
       "      <td>5</td>\n",
       "      <td>shoppee</td>\n",
       "    </tr>\n",
       "    <tr>\n",
       "      <th>4</th>\n",
       "      <td>4</td>\n",
       "      <td>Disappointed</td>\n",
       "      <td>{'id': 14589371, 'body': 'Thank you for bringi...</td>\n",
       "      <td>Initially when Shopee started, transactions ar...</td>\n",
       "      <td>False</td>\n",
       "      <td>2020-04-10 04:39:06</td>\n",
       "      <td>Raymond Koh</td>\n",
       "      <td>1</td>\n",
       "      <td>shoppee</td>\n",
       "    </tr>\n",
       "  </tbody>\n",
       "</table>\n",
       "</div>"
      ],
      "text/plain": [
       "   index                                            title  \\\n",
       "0      0   Good in price and customers’ interest platform   \n",
       "1      1                                   Bad experience   \n",
       "2      2                                    Waste of time   \n",
       "3      3  Shoppee is not one of the best shopping app...!   \n",
       "4      4                                     Disappointed   \n",
       "\n",
       "                                   developerResponse  \\\n",
       "0  {'id': 17097958, 'body': \"Thank you for giving...   \n",
       "1  {'id': 12456571, 'body': 'Hey,\\n\\nThank you fo...   \n",
       "2  {'id': 17059815, 'body': 'Thank you for bringi...   \n",
       "3  {'id': 11615436, 'body': 'Hey, :D\\n\\nThank you...   \n",
       "4  {'id': 14589371, 'body': 'Thank you for bringi...   \n",
       "\n",
       "                                              review  isEdited  \\\n",
       "0  Shopee is a platform that protecting customers...     False   \n",
       "1  I have been used this app for years. However t...     False   \n",
       "2  I regretted choosing shopee. Reason being: Pur...     False   \n",
       "3  Who says shopee is one of the best shopping ap...      True   \n",
       "4  Initially when Shopee started, transactions ar...     False   \n",
       "\n",
       "                  date          userName  rating    AppId  \n",
       "0  2020-08-05 05:32:41   Little tortoise       5  shoppee  \n",
       "1  2019-12-17 15:59:30            Tujimu       1  shoppee  \n",
       "2  2020-08-03 09:08:40             Xed82       1  shoppee  \n",
       "3  2019-12-09 08:02:35  Cartoonfreak1980       5  shoppee  \n",
       "4  2020-04-10 04:39:06       Raymond Koh       1  shoppee  "
      ]
     },
     "execution_count": 8,
     "metadata": {},
     "output_type": "execute_result"
    }
   ],
   "source": [
    "df_apple.head()"
   ]
  },
  {
   "cell_type": "markdown",
   "metadata": {},
   "source": [
    "## Adding new column to df"
   ]
  },
  {
   "cell_type": "code",
   "execution_count": 9,
   "metadata": {},
   "outputs": [],
   "source": [
    "df_google['store'] = 'google'\n",
    "df_apple['store'] = 'apple'"
   ]
  },
  {
   "cell_type": "markdown",
   "metadata": {},
   "source": [
    "## Renaming columns"
   ]
  },
  {
   "cell_type": "code",
   "execution_count": 10,
   "metadata": {},
   "outputs": [
    {
     "data": {
      "text/plain": [
       "Index(['reviewId', 'userName', 'userImage', 'content', 'score',\n",
       "       'thumbsUpCount', 'reviewCreatedVersion', 'at', 'replyContent',\n",
       "       'repliedAt', 'sortOrder', 'appId', 'store'],\n",
       "      dtype='object')"
      ]
     },
     "execution_count": 10,
     "metadata": {},
     "output_type": "execute_result"
    }
   ],
   "source": [
    "df_google.columns"
   ]
  },
  {
   "cell_type": "code",
   "execution_count": 11,
   "metadata": {},
   "outputs": [
    {
     "data": {
      "text/html": [
       "<div>\n",
       "<style scoped>\n",
       "    .dataframe tbody tr th:only-of-type {\n",
       "        vertical-align: middle;\n",
       "    }\n",
       "\n",
       "    .dataframe tbody tr th {\n",
       "        vertical-align: top;\n",
       "    }\n",
       "\n",
       "    .dataframe thead th {\n",
       "        text-align: right;\n",
       "    }\n",
       "</style>\n",
       "<table border=\"1\" class=\"dataframe\">\n",
       "  <thead>\n",
       "    <tr style=\"text-align: right;\">\n",
       "      <th></th>\n",
       "      <th>reviewId</th>\n",
       "      <th>userName</th>\n",
       "      <th>userImage</th>\n",
       "      <th>review</th>\n",
       "      <th>rating</th>\n",
       "      <th>thumbsUpCount</th>\n",
       "      <th>reviewCreatedVersion</th>\n",
       "      <th>date</th>\n",
       "      <th>replyContent</th>\n",
       "      <th>repliedAt</th>\n",
       "      <th>sortOrder</th>\n",
       "      <th>app</th>\n",
       "      <th>store</th>\n",
       "    </tr>\n",
       "  </thead>\n",
       "  <tbody>\n",
       "    <tr>\n",
       "      <th>0</th>\n",
       "      <td>gp:AOqpTOEKwLJD3fLeQtpdlubuqRbEMtAxw3sX06xqqqT...</td>\n",
       "      <td>Michael</td>\n",
       "      <td>https://lh3.googleusercontent.com/a-/AOh14GhPB...</td>\n",
       "      <td>Like it Shoppee like Shoppee like Shoppee</td>\n",
       "      <td>5</td>\n",
       "      <td>0</td>\n",
       "      <td>2.60.08</td>\n",
       "      <td>2020-09-14 21:01:30</td>\n",
       "      <td>NaN</td>\n",
       "      <td>NaN</td>\n",
       "      <td>newest</td>\n",
       "      <td>shoppee</td>\n",
       "      <td>google</td>\n",
       "    </tr>\n",
       "    <tr>\n",
       "      <th>1</th>\n",
       "      <td>gp:AOqpTOE1--rn2DmEzAct2wzoH2L39Jzc4iVUlbHbQL5...</td>\n",
       "      <td>WenYi</td>\n",
       "      <td>https://lh3.googleusercontent.com/a-/AOh14GhaO...</td>\n",
       "      <td>Good application</td>\n",
       "      <td>5</td>\n",
       "      <td>0</td>\n",
       "      <td>2.60.08</td>\n",
       "      <td>2020-09-14 20:49:40</td>\n",
       "      <td>NaN</td>\n",
       "      <td>NaN</td>\n",
       "      <td>newest</td>\n",
       "      <td>shoppee</td>\n",
       "      <td>google</td>\n",
       "    </tr>\n",
       "    <tr>\n",
       "      <th>2</th>\n",
       "      <td>gp:AOqpTOHEoUKzrkF380nERsflycILl74lyH0PCHtmm1u...</td>\n",
       "      <td>jeffrey tan</td>\n",
       "      <td>https://play-lh.googleusercontent.com/-hV9JjFg...</td>\n",
       "      <td>Most products are cheaper than other platform.</td>\n",
       "      <td>5</td>\n",
       "      <td>0</td>\n",
       "      <td>2.60.08</td>\n",
       "      <td>2020-09-14 20:45:19</td>\n",
       "      <td>NaN</td>\n",
       "      <td>NaN</td>\n",
       "      <td>newest</td>\n",
       "      <td>shoppee</td>\n",
       "      <td>google</td>\n",
       "    </tr>\n",
       "    <tr>\n",
       "      <th>3</th>\n",
       "      <td>gp:AOqpTOE5Kml6CWR98W6kupBli1OM7vdzf1sY0yVD0NF...</td>\n",
       "      <td>caryn peh</td>\n",
       "      <td>https://play-lh.googleusercontent.com/-JCm_pNc...</td>\n",
       "      <td>Shopee is user friendly and made online shoppi...</td>\n",
       "      <td>5</td>\n",
       "      <td>0</td>\n",
       "      <td>2.60.08</td>\n",
       "      <td>2020-09-14 20:39:06</td>\n",
       "      <td>NaN</td>\n",
       "      <td>NaN</td>\n",
       "      <td>newest</td>\n",
       "      <td>shoppee</td>\n",
       "      <td>google</td>\n",
       "    </tr>\n",
       "    <tr>\n",
       "      <th>4</th>\n",
       "      <td>gp:AOqpTOGX3aJMJ-NJ3yeK1J4cX4hjW_CJgpN3HGKggBp...</td>\n",
       "      <td>YUSLINDA LIN</td>\n",
       "      <td>https://play-lh.googleusercontent.com/-74sBrhM...</td>\n",
       "      <td>Love this platform. Shopping alot at here. Lol</td>\n",
       "      <td>5</td>\n",
       "      <td>0</td>\n",
       "      <td>2.60.08</td>\n",
       "      <td>2020-09-14 20:37:10</td>\n",
       "      <td>NaN</td>\n",
       "      <td>NaN</td>\n",
       "      <td>newest</td>\n",
       "      <td>shoppee</td>\n",
       "      <td>google</td>\n",
       "    </tr>\n",
       "  </tbody>\n",
       "</table>\n",
       "</div>"
      ],
      "text/plain": [
       "                                            reviewId      userName  \\\n",
       "0  gp:AOqpTOEKwLJD3fLeQtpdlubuqRbEMtAxw3sX06xqqqT...       Michael   \n",
       "1  gp:AOqpTOE1--rn2DmEzAct2wzoH2L39Jzc4iVUlbHbQL5...         WenYi   \n",
       "2  gp:AOqpTOHEoUKzrkF380nERsflycILl74lyH0PCHtmm1u...   jeffrey tan   \n",
       "3  gp:AOqpTOE5Kml6CWR98W6kupBli1OM7vdzf1sY0yVD0NF...     caryn peh   \n",
       "4  gp:AOqpTOGX3aJMJ-NJ3yeK1J4cX4hjW_CJgpN3HGKggBp...  YUSLINDA LIN   \n",
       "\n",
       "                                           userImage  \\\n",
       "0  https://lh3.googleusercontent.com/a-/AOh14GhPB...   \n",
       "1  https://lh3.googleusercontent.com/a-/AOh14GhaO...   \n",
       "2  https://play-lh.googleusercontent.com/-hV9JjFg...   \n",
       "3  https://play-lh.googleusercontent.com/-JCm_pNc...   \n",
       "4  https://play-lh.googleusercontent.com/-74sBrhM...   \n",
       "\n",
       "                                              review  rating  thumbsUpCount  \\\n",
       "0          Like it Shoppee like Shoppee like Shoppee       5              0   \n",
       "1                                   Good application       5              0   \n",
       "2     Most products are cheaper than other platform.       5              0   \n",
       "3  Shopee is user friendly and made online shoppi...       5              0   \n",
       "4     Love this platform. Shopping alot at here. Lol       5              0   \n",
       "\n",
       "  reviewCreatedVersion                 date replyContent repliedAt sortOrder  \\\n",
       "0              2.60.08  2020-09-14 21:01:30          NaN       NaN    newest   \n",
       "1              2.60.08  2020-09-14 20:49:40          NaN       NaN    newest   \n",
       "2              2.60.08  2020-09-14 20:45:19          NaN       NaN    newest   \n",
       "3              2.60.08  2020-09-14 20:39:06          NaN       NaN    newest   \n",
       "4              2.60.08  2020-09-14 20:37:10          NaN       NaN    newest   \n",
       "\n",
       "       app   store  \n",
       "0  shoppee  google  \n",
       "1  shoppee  google  \n",
       "2  shoppee  google  \n",
       "3  shoppee  google  \n",
       "4  shoppee  google  "
      ]
     },
     "execution_count": 11,
     "metadata": {},
     "output_type": "execute_result"
    }
   ],
   "source": [
    "df_google.rename(columns = {'score' : 'rating', 'at': 'date', 'appId': 'app', 'content': 'review'}, inplace = True)\n",
    "df_google.head()"
   ]
  },
  {
   "cell_type": "code",
   "execution_count": 12,
   "metadata": {},
   "outputs": [
    {
     "data": {
      "text/plain": [
       "Index(['index', 'title', 'developerResponse', 'review', 'isEdited', 'date',\n",
       "       'userName', 'rating', 'AppId', 'store'],\n",
       "      dtype='object')"
      ]
     },
     "execution_count": 12,
     "metadata": {},
     "output_type": "execute_result"
    }
   ],
   "source": [
    "df_apple.columns"
   ]
  },
  {
   "cell_type": "code",
   "execution_count": 13,
   "metadata": {},
   "outputs": [
    {
     "data": {
      "text/html": [
       "<div>\n",
       "<style scoped>\n",
       "    .dataframe tbody tr th:only-of-type {\n",
       "        vertical-align: middle;\n",
       "    }\n",
       "\n",
       "    .dataframe tbody tr th {\n",
       "        vertical-align: top;\n",
       "    }\n",
       "\n",
       "    .dataframe thead th {\n",
       "        text-align: right;\n",
       "    }\n",
       "</style>\n",
       "<table border=\"1\" class=\"dataframe\">\n",
       "  <thead>\n",
       "    <tr style=\"text-align: right;\">\n",
       "      <th></th>\n",
       "      <th>index</th>\n",
       "      <th>title</th>\n",
       "      <th>developerResponse</th>\n",
       "      <th>review</th>\n",
       "      <th>isEdited</th>\n",
       "      <th>date</th>\n",
       "      <th>userName</th>\n",
       "      <th>rating</th>\n",
       "      <th>app</th>\n",
       "      <th>store</th>\n",
       "    </tr>\n",
       "  </thead>\n",
       "  <tbody>\n",
       "    <tr>\n",
       "      <th>0</th>\n",
       "      <td>0</td>\n",
       "      <td>Good in price and customers’ interest platform</td>\n",
       "      <td>{'id': 17097958, 'body': \"Thank you for giving...</td>\n",
       "      <td>Shopee is a platform that protecting customers...</td>\n",
       "      <td>False</td>\n",
       "      <td>2020-08-05 05:32:41</td>\n",
       "      <td>Little tortoise</td>\n",
       "      <td>5</td>\n",
       "      <td>shoppee</td>\n",
       "      <td>apple</td>\n",
       "    </tr>\n",
       "    <tr>\n",
       "      <th>1</th>\n",
       "      <td>1</td>\n",
       "      <td>Bad experience</td>\n",
       "      <td>{'id': 12456571, 'body': 'Hey,\\n\\nThank you fo...</td>\n",
       "      <td>I have been used this app for years. However t...</td>\n",
       "      <td>False</td>\n",
       "      <td>2019-12-17 15:59:30</td>\n",
       "      <td>Tujimu</td>\n",
       "      <td>1</td>\n",
       "      <td>shoppee</td>\n",
       "      <td>apple</td>\n",
       "    </tr>\n",
       "    <tr>\n",
       "      <th>2</th>\n",
       "      <td>2</td>\n",
       "      <td>Waste of time</td>\n",
       "      <td>{'id': 17059815, 'body': 'Thank you for bringi...</td>\n",
       "      <td>I regretted choosing shopee. Reason being: Pur...</td>\n",
       "      <td>False</td>\n",
       "      <td>2020-08-03 09:08:40</td>\n",
       "      <td>Xed82</td>\n",
       "      <td>1</td>\n",
       "      <td>shoppee</td>\n",
       "      <td>apple</td>\n",
       "    </tr>\n",
       "    <tr>\n",
       "      <th>3</th>\n",
       "      <td>3</td>\n",
       "      <td>Shoppee is not one of the best shopping app...!</td>\n",
       "      <td>{'id': 11615436, 'body': 'Hey, :D\\n\\nThank you...</td>\n",
       "      <td>Who says shopee is one of the best shopping ap...</td>\n",
       "      <td>True</td>\n",
       "      <td>2019-12-09 08:02:35</td>\n",
       "      <td>Cartoonfreak1980</td>\n",
       "      <td>5</td>\n",
       "      <td>shoppee</td>\n",
       "      <td>apple</td>\n",
       "    </tr>\n",
       "    <tr>\n",
       "      <th>4</th>\n",
       "      <td>4</td>\n",
       "      <td>Disappointed</td>\n",
       "      <td>{'id': 14589371, 'body': 'Thank you for bringi...</td>\n",
       "      <td>Initially when Shopee started, transactions ar...</td>\n",
       "      <td>False</td>\n",
       "      <td>2020-04-10 04:39:06</td>\n",
       "      <td>Raymond Koh</td>\n",
       "      <td>1</td>\n",
       "      <td>shoppee</td>\n",
       "      <td>apple</td>\n",
       "    </tr>\n",
       "  </tbody>\n",
       "</table>\n",
       "</div>"
      ],
      "text/plain": [
       "   index                                            title  \\\n",
       "0      0   Good in price and customers’ interest platform   \n",
       "1      1                                   Bad experience   \n",
       "2      2                                    Waste of time   \n",
       "3      3  Shoppee is not one of the best shopping app...!   \n",
       "4      4                                     Disappointed   \n",
       "\n",
       "                                   developerResponse  \\\n",
       "0  {'id': 17097958, 'body': \"Thank you for giving...   \n",
       "1  {'id': 12456571, 'body': 'Hey,\\n\\nThank you fo...   \n",
       "2  {'id': 17059815, 'body': 'Thank you for bringi...   \n",
       "3  {'id': 11615436, 'body': 'Hey, :D\\n\\nThank you...   \n",
       "4  {'id': 14589371, 'body': 'Thank you for bringi...   \n",
       "\n",
       "                                              review  isEdited  \\\n",
       "0  Shopee is a platform that protecting customers...     False   \n",
       "1  I have been used this app for years. However t...     False   \n",
       "2  I regretted choosing shopee. Reason being: Pur...     False   \n",
       "3  Who says shopee is one of the best shopping ap...      True   \n",
       "4  Initially when Shopee started, transactions ar...     False   \n",
       "\n",
       "                  date          userName  rating      app  store  \n",
       "0  2020-08-05 05:32:41   Little tortoise       5  shoppee  apple  \n",
       "1  2019-12-17 15:59:30            Tujimu       1  shoppee  apple  \n",
       "2  2020-08-03 09:08:40             Xed82       1  shoppee  apple  \n",
       "3  2019-12-09 08:02:35  Cartoonfreak1980       5  shoppee  apple  \n",
       "4  2020-04-10 04:39:06       Raymond Koh       1  shoppee  apple  "
      ]
     },
     "execution_count": 13,
     "metadata": {},
     "output_type": "execute_result"
    }
   ],
   "source": [
    "df_apple.rename(columns = {'AppId': 'app'}, inplace = True)\n",
    "df_apple.head()"
   ]
  },
  {
   "cell_type": "markdown",
   "metadata": {},
   "source": [
    "## Combining dataframe"
   ]
  },
  {
   "cell_type": "code",
   "execution_count": 104,
   "metadata": {},
   "outputs": [],
   "source": [
    "df = df_google[['rating', \n",
    "                'date', \n",
    "                'app', \n",
    "                'store', \n",
    "                'review', ]].append(df_apple[['rating', \n",
    "                                               'date', \n",
    "                                               'app', \n",
    "                                               'store', \n",
    "                                               'review', ]])\n",
    "df.reset_index(inplace = True, drop = True)"
   ]
  },
  {
   "cell_type": "code",
   "execution_count": 105,
   "metadata": {},
   "outputs": [
    {
     "data": {
      "text/html": [
       "<div>\n",
       "<style scoped>\n",
       "    .dataframe tbody tr th:only-of-type {\n",
       "        vertical-align: middle;\n",
       "    }\n",
       "\n",
       "    .dataframe tbody tr th {\n",
       "        vertical-align: top;\n",
       "    }\n",
       "\n",
       "    .dataframe thead th {\n",
       "        text-align: right;\n",
       "    }\n",
       "</style>\n",
       "<table border=\"1\" class=\"dataframe\">\n",
       "  <thead>\n",
       "    <tr style=\"text-align: right;\">\n",
       "      <th></th>\n",
       "      <th>rating</th>\n",
       "      <th>date</th>\n",
       "      <th>app</th>\n",
       "      <th>store</th>\n",
       "      <th>review</th>\n",
       "    </tr>\n",
       "  </thead>\n",
       "  <tbody>\n",
       "    <tr>\n",
       "      <th>0</th>\n",
       "      <td>5</td>\n",
       "      <td>2020-09-14 21:01:30</td>\n",
       "      <td>shoppee</td>\n",
       "      <td>google</td>\n",
       "      <td>Like it Shoppee like Shoppee like Shoppee</td>\n",
       "    </tr>\n",
       "    <tr>\n",
       "      <th>1</th>\n",
       "      <td>5</td>\n",
       "      <td>2020-09-14 20:49:40</td>\n",
       "      <td>shoppee</td>\n",
       "      <td>google</td>\n",
       "      <td>Good application</td>\n",
       "    </tr>\n",
       "    <tr>\n",
       "      <th>2</th>\n",
       "      <td>5</td>\n",
       "      <td>2020-09-14 20:45:19</td>\n",
       "      <td>shoppee</td>\n",
       "      <td>google</td>\n",
       "      <td>Most products are cheaper than other platform.</td>\n",
       "    </tr>\n",
       "    <tr>\n",
       "      <th>3</th>\n",
       "      <td>5</td>\n",
       "      <td>2020-09-14 20:39:06</td>\n",
       "      <td>shoppee</td>\n",
       "      <td>google</td>\n",
       "      <td>Shopee is user friendly and made online shoppi...</td>\n",
       "    </tr>\n",
       "    <tr>\n",
       "      <th>4</th>\n",
       "      <td>5</td>\n",
       "      <td>2020-09-14 20:37:10</td>\n",
       "      <td>shoppee</td>\n",
       "      <td>google</td>\n",
       "      <td>Love this platform. Shopping alot at here. Lol</td>\n",
       "    </tr>\n",
       "  </tbody>\n",
       "</table>\n",
       "</div>"
      ],
      "text/plain": [
       "   rating                 date      app   store  \\\n",
       "0       5  2020-09-14 21:01:30  shoppee  google   \n",
       "1       5  2020-09-14 20:49:40  shoppee  google   \n",
       "2       5  2020-09-14 20:45:19  shoppee  google   \n",
       "3       5  2020-09-14 20:39:06  shoppee  google   \n",
       "4       5  2020-09-14 20:37:10  shoppee  google   \n",
       "\n",
       "                                              review  \n",
       "0          Like it Shoppee like Shoppee like Shoppee  \n",
       "1                                   Good application  \n",
       "2     Most products are cheaper than other platform.  \n",
       "3  Shopee is user friendly and made online shoppi...  \n",
       "4     Love this platform. Shopping alot at here. Lol  "
      ]
     },
     "execution_count": 105,
     "metadata": {},
     "output_type": "execute_result"
    }
   ],
   "source": [
    "df.head()"
   ]
  },
  {
   "cell_type": "code",
   "execution_count": 106,
   "metadata": {},
   "outputs": [
    {
     "data": {
      "text/plain": [
       "(94038, 5)"
      ]
     },
     "execution_count": 106,
     "metadata": {},
     "output_type": "execute_result"
    }
   ],
   "source": [
    "df.shape"
   ]
  },
  {
   "cell_type": "markdown",
   "metadata": {},
   "source": [
    "# Checking datatime Data"
   ]
  },
  {
   "cell_type": "code",
   "execution_count": 107,
   "metadata": {},
   "outputs": [
    {
     "data": {
      "text/plain": [
       "2020    78358\n",
       "2019     7516\n",
       "2015     1631\n",
       "2014     1531\n",
       "2018     1525\n",
       "2016     1433\n",
       "2017     1242\n",
       "2013      580\n",
       "2012      129\n",
       "2011       48\n",
       "2010       40\n",
       "2009        5\n",
       "Name: date, dtype: int64"
      ]
     },
     "execution_count": 107,
     "metadata": {},
     "output_type": "execute_result"
    }
   ],
   "source": [
    "df['date'] = df['date'].astype('datetime64')\n",
    "df['date'].dt.year.value_counts()"
   ]
  },
  {
   "cell_type": "code",
   "execution_count": 108,
   "metadata": {},
   "outputs": [
    {
     "name": "stdout",
     "output_type": "stream",
     "text": [
      "<class 'pandas.core.frame.DataFrame'>\n",
      "RangeIndex: 94038 entries, 0 to 94037\n",
      "Data columns (total 5 columns):\n",
      " #   Column  Non-Null Count  Dtype         \n",
      "---  ------  --------------  -----         \n",
      " 0   rating  94038 non-null  int64         \n",
      " 1   date    94038 non-null  datetime64[ns]\n",
      " 2   app     94038 non-null  object        \n",
      " 3   store   94038 non-null  object        \n",
      " 4   review  94033 non-null  object        \n",
      "dtypes: datetime64[ns](1), int64(1), object(3)\n",
      "memory usage: 3.6+ MB\n"
     ]
    }
   ],
   "source": [
    "df.info()"
   ]
  },
  {
   "cell_type": "code",
   "execution_count": 109,
   "metadata": {},
   "outputs": [
    {
     "data": {
      "image/png": "[encoded data removed]",
      "text/plain": [
       "<Figure size 720x720 with 1 Axes>"
      ]
     },
     "metadata": {
      "needs_background": "light"
     },
     "output_type": "display_data"
    }
   ],
   "source": [
    "plt.figure(figsize = (10,10))\n",
    "sns.boxplot(x = df['date'].dt.year, y = 'app', data = df);"
   ]
  },
  {
   "cell_type": "code",
   "execution_count": 110,
   "metadata": {},
   "outputs": [
    {
     "data": {
      "image/png": "[encoded data removed]",
      "text/plain": [
       "<Figure size 720x720 with 1 Axes>"
      ]
     },
     "metadata": {
      "needs_background": "light"
     },
     "output_type": "display_data"
    }
   ],
   "source": [
    "plt.figure(figsize = (10,10))\n",
    "sns.boxenplot(x = df['date'].dt.month, y = 'app', data = df[df['date'].dt.year == 2020]);"
   ]
  },
  {
   "cell_type": "code",
   "execution_count": 111,
   "metadata": {},
   "outputs": [
    {
     "data": {
      "text/plain": [
       "Index(['rating', 'date', 'app', 'store', 'review'], dtype='object')"
      ]
     },
     "execution_count": 111,
     "metadata": {},
     "output_type": "execute_result"
    }
   ],
   "source": [
    "df.columns"
   ]
  },
  {
   "cell_type": "code",
   "execution_count": 112,
   "metadata": {},
   "outputs": [
    {
     "data": {
      "text/plain": [
       "5    0.675142\n",
       "1    0.149546\n",
       "4    0.102171\n",
       "3    0.040547\n",
       "2    0.032593\n",
       "Name: rating, dtype: float64"
      ]
     },
     "execution_count": 112,
     "metadata": {},
     "output_type": "execute_result"
    }
   ],
   "source": [
    "df['rating'].value_counts(normalize=True)"
   ]
  },
  {
   "cell_type": "code",
   "execution_count": 113,
   "metadata": {},
   "outputs": [
    {
     "data": {
      "text/plain": [
       "0            Like it Shoppee like Shoppee like Shoppee\n",
       "1                                     Good application\n",
       "2       Most products are cheaper than other platform.\n",
       "3    Shopee is user friendly and made online shoppi...\n",
       "4       Love this platform. Shopping alot at here. Lol\n",
       "Name: review, dtype: object"
      ]
     },
     "execution_count": 113,
     "metadata": {},
     "output_type": "execute_result"
    }
   ],
   "source": [
    "df['review'][:5]"
   ]
  },
  {
   "cell_type": "markdown",
   "metadata": {},
   "source": [
    "# Cleaning of Text data for Modeling"
   ]
  },
  {
   "cell_type": "code",
   "execution_count": 114,
   "metadata": {},
   "outputs": [
    {
     "data": {
      "text/plain": [
       "'helpful apps during this pandemic thanks shopee 😊'"
      ]
     },
     "execution_count": 114,
     "metadata": {},
     "output_type": "execute_result"
    }
   ],
   "source": [
    "text1 = df['review'][300].lower()\n",
    "text1"
   ]
  },
  {
   "cell_type": "code",
   "execution_count": 115,
   "metadata": {},
   "outputs": [],
   "source": [
    "sp = spacy.load('en_core_web_sm')\n",
    "emoji = Emoji(sp, merge_spans = False)\n",
    "sp.add_pipe(emoji, first = True)"
   ]
  },
  {
   "cell_type": "code",
   "execution_count": 116,
   "metadata": {
    "scrolled": true
   },
   "outputs": [
    {
     "name": "stdout",
     "output_type": "stream",
     "text": [
      "helpful\n",
      "apps\n",
      "during\n",
      "this\n",
      "pandemic\n",
      "thanks\n",
      "shopee\n",
      "😊\n"
     ]
    }
   ],
   "source": [
    "sen = sp(text1)\n",
    "for token in sen:\n",
    "    print(token.text)"
   ]
  },
  {
   "cell_type": "code",
   "execution_count": 117,
   "metadata": {
    "scrolled": true
   },
   "outputs": [
    {
     "name": "stdout",
     "output_type": "stream",
     "text": [
      "helpful      ADJ        JJ       adjective\n",
      "apps         NOUN       NNS      noun, plural\n",
      "during       ADP        IN       conjunction, subordinating or preposition\n",
      "this         DET        DT       determiner\n",
      "pandemic     ADJ        JJ       adjective\n",
      "thanks       NOUN       NNS      noun, plural\n",
      "shopee       ADV        RB       adverb\n",
      "😊            PROPN      NNP      noun, proper singular\n"
     ]
    }
   ],
   "source": [
    "for word in sen:\n",
    "    print(f'{word.text:{12}} {word.pos_:{10}} {word.tag_:{8}} {spacy.explain(word.tag_)}')"
   ]
  },
  {
   "cell_type": "code",
   "execution_count": 118,
   "metadata": {},
   "outputs": [],
   "source": [
    "adj_list = ''\n",
    "noun_list = ''\n",
    "verb_list = ''\n",
    "emoji_list = ''\n",
    "\n",
    "for word in sen:\n",
    "    if word._.is_emoji:\n",
    "        emoji_list += str(word)\n",
    "    else:\n",
    "        if word.pos_ == 'ADJ':\n",
    "            adj_list += str(word) + ' '\n",
    "        \n",
    "        elif word.pos_ == 'NOUN':\n",
    "            noun_list += str(word) + ' '\n",
    "        \n",
    "        elif word.pos_ == 'VERB':\n",
    "            verb_list += str(word) + ' '\n",
    "        "
   ]
  },
  {
   "cell_type": "code",
   "execution_count": 119,
   "metadata": {},
   "outputs": [
    {
     "name": "stdout",
     "output_type": "stream",
     "text": [
      "helpful pandemic \n",
      "apps thanks \n",
      "\n",
      "😊\n"
     ]
    }
   ],
   "source": [
    "print(adj_list)\n",
    "print(noun_list)\n",
    "print(verb_list)\n",
    "print(emoji_list)"
   ]
  },
  {
   "cell_type": "markdown",
   "metadata": {},
   "source": [
    "# removing emojis and punctuations"
   ]
  },
  {
   "cell_type": "code",
   "execution_count": 120,
   "metadata": {},
   "outputs": [
    {
     "data": {
      "text/plain": [
       "['helpful', 'app', 'pandemic', 'thank', 'shopee']"
      ]
     },
     "execution_count": 120,
     "metadata": {},
     "output_type": "execute_result"
    }
   ],
   "source": [
    "string = []\n",
    "for word in sen:\n",
    "    if word.is_stop == False:\n",
    "        if word._.is_emoji == False:\n",
    "            if word.pos_ != 'PUNCT':\n",
    "                if word.pos_ != 'NUM':\n",
    "                    string.append(str(word.lemma_).lower())\n",
    "string"
   ]
  },
  {
   "cell_type": "markdown",
   "metadata": {},
   "source": [
    "# removing non english words"
   ]
  },
  {
   "cell_type": "code",
   "execution_count": 121,
   "metadata": {},
   "outputs": [
    {
     "data": {
      "text/plain": [
       "['helpful', 'pandemic', 'thank']"
      ]
     },
     "execution_count": 121,
     "metadata": {},
     "output_type": "execute_result"
    }
   ],
   "source": [
    "test_words = set(words.words())\n",
    "en_words = [w for w in string if w.lower() in test_words or not w.isalpha()]\n",
    "en_words"
   ]
  },
  {
   "cell_type": "markdown",
   "metadata": {},
   "source": [
    "# stem words"
   ]
  },
  {
   "cell_type": "code",
   "execution_count": 122,
   "metadata": {},
   "outputs": [
    {
     "data": {
      "text/plain": [
       "['help', 'pandem', 'thank']"
      ]
     },
     "execution_count": 122,
     "metadata": {},
     "output_type": "execute_result"
    }
   ],
   "source": [
    "p_stemmer = PorterStemmer()\n",
    "words_pstem = [p_stemmer.stem(i) for i in en_words]\n",
    "words_pstem"
   ]
  },
  {
   "cell_type": "markdown",
   "metadata": {},
   "source": [
    "# get Sentiments scores"
   ]
  },
  {
   "cell_type": "code",
   "execution_count": 123,
   "metadata": {},
   "outputs": [
    {
     "name": "stdout",
     "output_type": "stream",
     "text": [
      "Good application\n"
     ]
    },
    {
     "data": {
      "text/plain": [
       "{'neg': 0.0, 'neu': 0.256, 'pos': 0.744, 'compound': 0.4404}"
      ]
     },
     "execution_count": 123,
     "metadata": {},
     "output_type": "execute_result"
    }
   ],
   "source": [
    "analyser = SentimentIntensityAnalyzer()\n",
    "print(df['review'][1])\n",
    "analyser.polarity_scores(df['review'][1])"
   ]
  },
  {
   "cell_type": "code",
   "execution_count": 124,
   "metadata": {},
   "outputs": [],
   "source": [
    "sp = spacy.load('en')\n",
    "emoji = Emoji(sp, merge_spans = False)\n",
    "sp.add_pipe(emoji, first = True)\n",
    "analyser = SentimentIntensityAnalyzer()\n",
    "tokenizer = RegexpTokenizer(r'\\w+')\n",
    "test_words = set(words.words())\n",
    "p_stemmer = PorterStemmer()\n",
    "\n",
    "def words_cleaning(text):\n",
    "    \n",
    "    #get score from raw text\n",
    "    scores = analyser.polarity_scores(str(text))\n",
    "    \n",
    "    # use spacy to categorize words\n",
    "    sen = sp(str(text))\n",
    "    \n",
    "    #creating list to store words\n",
    "    adj_list = ''\n",
    "    noun_list = ''\n",
    "    verb_list = ''\n",
    "    emoji_list = ''\n",
    "    \n",
    "    for word in sen:\n",
    "        if word._.is_emoji:\n",
    "            emoji_list += str(word)\n",
    "        else:\n",
    "            if word.pos_ == 'ADJ':\n",
    "                adj_list += (str(word.lemma_).lower()) + ' ' \n",
    "        \n",
    "            elif word.pos_ == 'NOUN':\n",
    "                noun_list += (str(word.lemma_).lower()) + ' '\n",
    "        \n",
    "            elif word.pos_ == 'VERB':\n",
    "                verb_list += (str(word.lemma_).lower()) + ' '\n",
    "                \n",
    "    string = []\n",
    "    for word in sen:\n",
    "        if word.is_stop == False:\n",
    "            if word._.is_emoji == False:\n",
    "                if word.pos_ != 'PUNCT':\n",
    "                    string.append(str(word).lower())       \n",
    "    \n",
    "    #removing non english words\n",
    "    en_words = [w for w in string if w.lower() in test_words or not w.isalpha()]\n",
    "\n",
    "    #steming tokens\n",
    "    words_pstem = [p_stemmer.stem(i) for i in en_words]\n",
    "    \n",
    "    #join words\n",
    "    join_words = (\" \".join(words_pstem))\n",
    "  \n",
    "    return(join_words, adj_list, noun_list, verb_list, emoji_list, scores)"
   ]
  },
  {
   "cell_type": "code",
   "execution_count": 125,
   "metadata": {},
   "outputs": [
    {
     "data": {
      "text/plain": [
       "('help pandem thank',\n",
       " 'helpful pandemic ',\n",
       " 'app thank ',\n",
       " '',\n",
       " '😊',\n",
       " {'neg': 0.0, 'neu': 0.406, 'pos': 0.594, 'compound': 0.8934})"
      ]
     },
     "execution_count": 125,
     "metadata": {},
     "output_type": "execute_result"
    }
   ],
   "source": [
    "words_cleaning(df['review'][300])"
   ]
  },
  {
   "cell_type": "code",
   "execution_count": 126,
   "metadata": {},
   "outputs": [
    {
     "data": {
      "text/plain": [
       "0.0"
      ]
     },
     "execution_count": 126,
     "metadata": {},
     "output_type": "execute_result"
    }
   ],
   "source": [
    "words_cleaning(df['review'][300])[5]['neg']"
   ]
  },
  {
   "cell_type": "markdown",
   "metadata": {},
   "source": [
    "# Function to clean text Data"
   ]
  },
  {
   "cell_type": "code",
   "execution_count": 127,
   "metadata": {
    "scrolled": false
   },
   "outputs": [
    {
     "name": "stdout",
     "output_type": "stream",
     "text": [
      "There is a total of 94038 selftext.\n",
      "Cleaning and parsing the training set text...\n",
      "selftext 10000 of 94038.\n",
      "Fit time:  80.668s\n",
      "selftext 20000 of 94038.\n",
      "Fit time:  155.461s\n",
      "selftext 30000 of 94038.\n",
      "Fit time:  220.469s\n"
     ]
    },
    {
     "ename": "KeyboardInterrupt",
     "evalue": "",
     "output_type": "error",
     "traceback": [
      "\u001b[1;31m---------------------------------------------------------------------------\u001b[0m",
      "\u001b[1;31mKeyboardInterrupt\u001b[0m                         Traceback (most recent call last)",
      "\u001b[1;32m<ipython-input-127-5183b123e597>\u001b[0m in \u001b[0;36m<module>\u001b[1;34m\u001b[0m\n\u001b[0;32m     22\u001b[0m \u001b[1;32mfor\u001b[0m \u001b[0mtext\u001b[0m \u001b[1;32min\u001b[0m \u001b[0mdf\u001b[0m\u001b[1;33m[\u001b[0m\u001b[1;34m'review'\u001b[0m\u001b[1;33m]\u001b[0m\u001b[1;33m:\u001b[0m\u001b[1;33m\u001b[0m\u001b[1;33m\u001b[0m\u001b[0m\n\u001b[0;32m     23\u001b[0m \u001b[1;33m\u001b[0m\u001b[0m\n\u001b[1;32m---> 24\u001b[1;33m     \u001b[0mjoin\u001b[0m\u001b[1;33m,\u001b[0m \u001b[0madj\u001b[0m\u001b[1;33m,\u001b[0m \u001b[0mnoun\u001b[0m\u001b[1;33m,\u001b[0m \u001b[0mverb\u001b[0m\u001b[1;33m,\u001b[0m \u001b[0memoji\u001b[0m\u001b[1;33m,\u001b[0m \u001b[0mscores\u001b[0m \u001b[1;33m=\u001b[0m \u001b[0mwords_cleaning\u001b[0m\u001b[1;33m(\u001b[0m\u001b[0mtext\u001b[0m\u001b[1;33m)\u001b[0m\u001b[1;33m\u001b[0m\u001b[1;33m\u001b[0m\u001b[0m\n\u001b[0m\u001b[0;32m     25\u001b[0m \u001b[1;33m\u001b[0m\u001b[0m\n\u001b[0;32m     26\u001b[0m     \u001b[1;31m# Convert text to words, then append to clean_train_text.\u001b[0m\u001b[1;33m\u001b[0m\u001b[1;33m\u001b[0m\u001b[1;33m\u001b[0m\u001b[0m\n",
      "\u001b[1;32m<ipython-input-124-1ea1dade3fb6>\u001b[0m in \u001b[0;36mwords_cleaning\u001b[1;34m(text)\u001b[0m\n\u001b[0;32m     13\u001b[0m \u001b[1;33m\u001b[0m\u001b[0m\n\u001b[0;32m     14\u001b[0m     \u001b[1;31m# use spacy to categorize words\u001b[0m\u001b[1;33m\u001b[0m\u001b[1;33m\u001b[0m\u001b[1;33m\u001b[0m\u001b[0m\n\u001b[1;32m---> 15\u001b[1;33m     \u001b[0msen\u001b[0m \u001b[1;33m=\u001b[0m \u001b[0msp\u001b[0m\u001b[1;33m(\u001b[0m\u001b[0mstr\u001b[0m\u001b[1;33m(\u001b[0m\u001b[0mtext\u001b[0m\u001b[1;33m)\u001b[0m\u001b[1;33m)\u001b[0m\u001b[1;33m\u001b[0m\u001b[1;33m\u001b[0m\u001b[0m\n\u001b[0m\u001b[0;32m     16\u001b[0m \u001b[1;33m\u001b[0m\u001b[0m\n\u001b[0;32m     17\u001b[0m     \u001b[1;31m#creating list to store words\u001b[0m\u001b[1;33m\u001b[0m\u001b[1;33m\u001b[0m\u001b[1;33m\u001b[0m\u001b[0m\n",
      "\u001b[1;32m~\\anaconda3\\lib\\site-packages\\spacy\\language.py\u001b[0m in \u001b[0;36m__call__\u001b[1;34m(self, text, disable, component_cfg)\u001b[0m\n\u001b[0;32m    447\u001b[0m             \u001b[1;32mif\u001b[0m \u001b[1;32mnot\u001b[0m \u001b[0mhasattr\u001b[0m\u001b[1;33m(\u001b[0m\u001b[0mproc\u001b[0m\u001b[1;33m,\u001b[0m \u001b[1;34m\"__call__\"\u001b[0m\u001b[1;33m)\u001b[0m\u001b[1;33m:\u001b[0m\u001b[1;33m\u001b[0m\u001b[1;33m\u001b[0m\u001b[0m\n\u001b[0;32m    448\u001b[0m                 \u001b[1;32mraise\u001b[0m \u001b[0mValueError\u001b[0m\u001b[1;33m(\u001b[0m\u001b[0mErrors\u001b[0m\u001b[1;33m.\u001b[0m\u001b[0mE003\u001b[0m\u001b[1;33m.\u001b[0m\u001b[0mformat\u001b[0m\u001b[1;33m(\u001b[0m\u001b[0mcomponent\u001b[0m\u001b[1;33m=\u001b[0m\u001b[0mtype\u001b[0m\u001b[1;33m(\u001b[0m\u001b[0mproc\u001b[0m\u001b[1;33m)\u001b[0m\u001b[1;33m,\u001b[0m \u001b[0mname\u001b[0m\u001b[1;33m=\u001b[0m\u001b[0mname\u001b[0m\u001b[1;33m)\u001b[0m\u001b[1;33m)\u001b[0m\u001b[1;33m\u001b[0m\u001b[1;33m\u001b[0m\u001b[0m\n\u001b[1;32m--> 449\u001b[1;33m             \u001b[0mdoc\u001b[0m \u001b[1;33m=\u001b[0m \u001b[0mproc\u001b[0m\u001b[1;33m(\u001b[0m\u001b[0mdoc\u001b[0m\u001b[1;33m,\u001b[0m \u001b[1;33m**\u001b[0m\u001b[0mcomponent_cfg\u001b[0m\u001b[1;33m.\u001b[0m\u001b[0mget\u001b[0m\u001b[1;33m(\u001b[0m\u001b[0mname\u001b[0m\u001b[1;33m,\u001b[0m \u001b[1;33m{\u001b[0m\u001b[1;33m}\u001b[0m\u001b[1;33m)\u001b[0m\u001b[1;33m)\u001b[0m\u001b[1;33m\u001b[0m\u001b[1;33m\u001b[0m\u001b[0m\n\u001b[0m\u001b[0;32m    450\u001b[0m             \u001b[1;32mif\u001b[0m \u001b[0mdoc\u001b[0m \u001b[1;32mis\u001b[0m \u001b[1;32mNone\u001b[0m\u001b[1;33m:\u001b[0m\u001b[1;33m\u001b[0m\u001b[1;33m\u001b[0m\u001b[0m\n\u001b[0;32m    451\u001b[0m                 \u001b[1;32mraise\u001b[0m \u001b[0mValueError\u001b[0m\u001b[1;33m(\u001b[0m\u001b[0mErrors\u001b[0m\u001b[1;33m.\u001b[0m\u001b[0mE005\u001b[0m\u001b[1;33m.\u001b[0m\u001b[0mformat\u001b[0m\u001b[1;33m(\u001b[0m\u001b[0mname\u001b[0m\u001b[1;33m=\u001b[0m\u001b[0mname\u001b[0m\u001b[1;33m)\u001b[0m\u001b[1;33m)\u001b[0m\u001b[1;33m\u001b[0m\u001b[1;33m\u001b[0m\u001b[0m\n",
      "\u001b[1;32mnn_parser.pyx\u001b[0m in \u001b[0;36mspacy.syntax.nn_parser.Parser.__call__\u001b[1;34m()\u001b[0m\n",
      "\u001b[1;32mnn_parser.pyx\u001b[0m in \u001b[0;36mspacy.syntax.nn_parser.Parser.predict\u001b[1;34m()\u001b[0m\n",
      "\u001b[1;32mnn_parser.pyx\u001b[0m in \u001b[0;36mspacy.syntax.nn_parser.Parser.greedy_parse\u001b[1;34m()\u001b[0m\n",
      "\u001b[1;32m~\\anaconda3\\lib\\site-packages\\thinc\\neural\\_classes\\model.py\u001b[0m in \u001b[0;36m__call__\u001b[1;34m(self, x)\u001b[0m\n\u001b[0;32m    165\u001b[0m             \u001b[0mMust\u001b[0m \u001b[0mmatch\u001b[0m \u001b[0mexpected\u001b[0m \u001b[0mshape\u001b[0m\u001b[1;33m\u001b[0m\u001b[1;33m\u001b[0m\u001b[0m\n\u001b[0;32m    166\u001b[0m         \"\"\"\n\u001b[1;32m--> 167\u001b[1;33m         \u001b[1;32mreturn\u001b[0m \u001b[0mself\u001b[0m\u001b[1;33m.\u001b[0m\u001b[0mpredict\u001b[0m\u001b[1;33m(\u001b[0m\u001b[0mx\u001b[0m\u001b[1;33m)\u001b[0m\u001b[1;33m\u001b[0m\u001b[1;33m\u001b[0m\u001b[0m\n\u001b[0m\u001b[0;32m    168\u001b[0m \u001b[1;33m\u001b[0m\u001b[0m\n\u001b[0;32m    169\u001b[0m     \u001b[1;32mdef\u001b[0m \u001b[0mpipe\u001b[0m\u001b[1;33m(\u001b[0m\u001b[0mself\u001b[0m\u001b[1;33m,\u001b[0m \u001b[0mstream\u001b[0m\u001b[1;33m,\u001b[0m \u001b[0mbatch_size\u001b[0m\u001b[1;33m=\u001b[0m\u001b[1;36m128\u001b[0m\u001b[1;33m)\u001b[0m\u001b[1;33m:\u001b[0m\u001b[1;33m\u001b[0m\u001b[1;33m\u001b[0m\u001b[0m\n",
      "\u001b[1;32m~\\anaconda3\\lib\\site-packages\\thinc\\neural\\_classes\\model.py\u001b[0m in \u001b[0;36mpredict\u001b[1;34m(self, X)\u001b[0m\n\u001b[0;32m    129\u001b[0m \u001b[1;33m\u001b[0m\u001b[0m\n\u001b[0;32m    130\u001b[0m     \u001b[1;32mdef\u001b[0m \u001b[0mpredict\u001b[0m\u001b[1;33m(\u001b[0m\u001b[0mself\u001b[0m\u001b[1;33m,\u001b[0m \u001b[0mX\u001b[0m\u001b[1;33m)\u001b[0m\u001b[1;33m:\u001b[0m\u001b[1;33m\u001b[0m\u001b[1;33m\u001b[0m\u001b[0m\n\u001b[1;32m--> 131\u001b[1;33m         \u001b[0my\u001b[0m\u001b[1;33m,\u001b[0m \u001b[0m_\u001b[0m \u001b[1;33m=\u001b[0m \u001b[0mself\u001b[0m\u001b[1;33m.\u001b[0m\u001b[0mbegin_update\u001b[0m\u001b[1;33m(\u001b[0m\u001b[0mX\u001b[0m\u001b[1;33m,\u001b[0m \u001b[0mdrop\u001b[0m\u001b[1;33m=\u001b[0m\u001b[1;32mNone\u001b[0m\u001b[1;33m)\u001b[0m\u001b[1;33m\u001b[0m\u001b[1;33m\u001b[0m\u001b[0m\n\u001b[0m\u001b[0;32m    132\u001b[0m         \u001b[1;32mreturn\u001b[0m \u001b[0my\u001b[0m\u001b[1;33m\u001b[0m\u001b[1;33m\u001b[0m\u001b[0m\n\u001b[0;32m    133\u001b[0m \u001b[1;33m\u001b[0m\u001b[0m\n",
      "\u001b[1;32m_parser_model.pyx\u001b[0m in \u001b[0;36mspacy.syntax._parser_model.ParserModel.begin_update\u001b[1;34m()\u001b[0m\n",
      "\u001b[1;32m_parser_model.pyx\u001b[0m in \u001b[0;36mspacy.syntax._parser_model.ParserStepModel.__init__\u001b[1;34m()\u001b[0m\n",
      "\u001b[1;32m~\\anaconda3\\lib\\site-packages\\thinc\\neural\\_classes\\feed_forward.py\u001b[0m in \u001b[0;36mbegin_update\u001b[1;34m(self, X, drop)\u001b[0m\n\u001b[0;32m     44\u001b[0m         \u001b[0mcallbacks\u001b[0m \u001b[1;33m=\u001b[0m \u001b[1;33m[\u001b[0m\u001b[1;33m]\u001b[0m\u001b[1;33m\u001b[0m\u001b[1;33m\u001b[0m\u001b[0m\n\u001b[0;32m     45\u001b[0m         \u001b[1;32mfor\u001b[0m \u001b[0mlayer\u001b[0m \u001b[1;32min\u001b[0m \u001b[0mself\u001b[0m\u001b[1;33m.\u001b[0m\u001b[0m_layers\u001b[0m\u001b[1;33m:\u001b[0m\u001b[1;33m\u001b[0m\u001b[1;33m\u001b[0m\u001b[0m\n\u001b[1;32m---> 46\u001b[1;33m             \u001b[0mX\u001b[0m\u001b[1;33m,\u001b[0m \u001b[0minc_layer_grad\u001b[0m \u001b[1;33m=\u001b[0m \u001b[0mlayer\u001b[0m\u001b[1;33m.\u001b[0m\u001b[0mbegin_update\u001b[0m\u001b[1;33m(\u001b[0m\u001b[0mX\u001b[0m\u001b[1;33m,\u001b[0m \u001b[0mdrop\u001b[0m\u001b[1;33m=\u001b[0m\u001b[0mdrop\u001b[0m\u001b[1;33m)\u001b[0m\u001b[1;33m\u001b[0m\u001b[1;33m\u001b[0m\u001b[0m\n\u001b[0m\u001b[0;32m     47\u001b[0m             \u001b[0mcallbacks\u001b[0m\u001b[1;33m.\u001b[0m\u001b[0mappend\u001b[0m\u001b[1;33m(\u001b[0m\u001b[0minc_layer_grad\u001b[0m\u001b[1;33m)\u001b[0m\u001b[1;33m\u001b[0m\u001b[1;33m\u001b[0m\u001b[0m\n\u001b[0;32m     48\u001b[0m \u001b[1;33m\u001b[0m\u001b[0m\n",
      "\u001b[1;32m~\\anaconda3\\lib\\site-packages\\thinc\\api.py\u001b[0m in \u001b[0;36mbegin_update\u001b[1;34m(seqs_in, drop)\u001b[0m\n\u001b[0;32m    293\u001b[0m     \u001b[1;32mdef\u001b[0m \u001b[0mbegin_update\u001b[0m\u001b[1;33m(\u001b[0m\u001b[0mseqs_in\u001b[0m\u001b[1;33m,\u001b[0m \u001b[0mdrop\u001b[0m\u001b[1;33m=\u001b[0m\u001b[1;36m0.0\u001b[0m\u001b[1;33m)\u001b[0m\u001b[1;33m:\u001b[0m\u001b[1;33m\u001b[0m\u001b[1;33m\u001b[0m\u001b[0m\n\u001b[0;32m    294\u001b[0m         \u001b[0mlengths\u001b[0m \u001b[1;33m=\u001b[0m \u001b[0mlayer\u001b[0m\u001b[1;33m.\u001b[0m\u001b[0mops\u001b[0m\u001b[1;33m.\u001b[0m\u001b[0masarray\u001b[0m\u001b[1;33m(\u001b[0m\u001b[1;33m[\u001b[0m\u001b[0mlen\u001b[0m\u001b[1;33m(\u001b[0m\u001b[0mseq\u001b[0m\u001b[1;33m)\u001b[0m \u001b[1;32mfor\u001b[0m \u001b[0mseq\u001b[0m \u001b[1;32min\u001b[0m \u001b[0mseqs_in\u001b[0m\u001b[1;33m]\u001b[0m\u001b[1;33m)\u001b[0m\u001b[1;33m\u001b[0m\u001b[1;33m\u001b[0m\u001b[0m\n\u001b[1;32m--> 295\u001b[1;33m         \u001b[0mX\u001b[0m\u001b[1;33m,\u001b[0m \u001b[0mbp_layer\u001b[0m \u001b[1;33m=\u001b[0m \u001b[0mlayer\u001b[0m\u001b[1;33m.\u001b[0m\u001b[0mbegin_update\u001b[0m\u001b[1;33m(\u001b[0m\u001b[0mlayer\u001b[0m\u001b[1;33m.\u001b[0m\u001b[0mops\u001b[0m\u001b[1;33m.\u001b[0m\u001b[0mflatten\u001b[0m\u001b[1;33m(\u001b[0m\u001b[0mseqs_in\u001b[0m\u001b[1;33m,\u001b[0m \u001b[0mpad\u001b[0m\u001b[1;33m=\u001b[0m\u001b[0mpad\u001b[0m\u001b[1;33m)\u001b[0m\u001b[1;33m,\u001b[0m \u001b[0mdrop\u001b[0m\u001b[1;33m=\u001b[0m\u001b[0mdrop\u001b[0m\u001b[1;33m)\u001b[0m\u001b[1;33m\u001b[0m\u001b[1;33m\u001b[0m\u001b[0m\n\u001b[0m\u001b[0;32m    296\u001b[0m         \u001b[1;32mif\u001b[0m \u001b[0mbp_layer\u001b[0m \u001b[1;32mis\u001b[0m \u001b[1;32mNone\u001b[0m\u001b[1;33m:\u001b[0m\u001b[1;33m\u001b[0m\u001b[1;33m\u001b[0m\u001b[0m\n\u001b[0;32m    297\u001b[0m             \u001b[1;32mreturn\u001b[0m \u001b[0mlayer\u001b[0m\u001b[1;33m.\u001b[0m\u001b[0mops\u001b[0m\u001b[1;33m.\u001b[0m\u001b[0munflatten\u001b[0m\u001b[1;33m(\u001b[0m\u001b[0mX\u001b[0m\u001b[1;33m,\u001b[0m \u001b[0mlengths\u001b[0m\u001b[1;33m,\u001b[0m \u001b[0mpad\u001b[0m\u001b[1;33m=\u001b[0m\u001b[0mpad\u001b[0m\u001b[1;33m)\u001b[0m\u001b[1;33m,\u001b[0m \u001b[1;32mNone\u001b[0m\u001b[1;33m\u001b[0m\u001b[1;33m\u001b[0m\u001b[0m\n",
      "\u001b[1;32m~\\anaconda3\\lib\\site-packages\\thinc\\neural\\_classes\\feed_forward.py\u001b[0m in \u001b[0;36mbegin_update\u001b[1;34m(self, X, drop)\u001b[0m\n\u001b[0;32m     44\u001b[0m         \u001b[0mcallbacks\u001b[0m \u001b[1;33m=\u001b[0m \u001b[1;33m[\u001b[0m\u001b[1;33m]\u001b[0m\u001b[1;33m\u001b[0m\u001b[1;33m\u001b[0m\u001b[0m\n\u001b[0;32m     45\u001b[0m         \u001b[1;32mfor\u001b[0m \u001b[0mlayer\u001b[0m \u001b[1;32min\u001b[0m \u001b[0mself\u001b[0m\u001b[1;33m.\u001b[0m\u001b[0m_layers\u001b[0m\u001b[1;33m:\u001b[0m\u001b[1;33m\u001b[0m\u001b[1;33m\u001b[0m\u001b[0m\n\u001b[1;32m---> 46\u001b[1;33m             \u001b[0mX\u001b[0m\u001b[1;33m,\u001b[0m \u001b[0minc_layer_grad\u001b[0m \u001b[1;33m=\u001b[0m \u001b[0mlayer\u001b[0m\u001b[1;33m.\u001b[0m\u001b[0mbegin_update\u001b[0m\u001b[1;33m(\u001b[0m\u001b[0mX\u001b[0m\u001b[1;33m,\u001b[0m \u001b[0mdrop\u001b[0m\u001b[1;33m=\u001b[0m\u001b[0mdrop\u001b[0m\u001b[1;33m)\u001b[0m\u001b[1;33m\u001b[0m\u001b[1;33m\u001b[0m\u001b[0m\n\u001b[0m\u001b[0;32m     47\u001b[0m             \u001b[0mcallbacks\u001b[0m\u001b[1;33m.\u001b[0m\u001b[0mappend\u001b[0m\u001b[1;33m(\u001b[0m\u001b[0minc_layer_grad\u001b[0m\u001b[1;33m)\u001b[0m\u001b[1;33m\u001b[0m\u001b[1;33m\u001b[0m\u001b[0m\n\u001b[0;32m     48\u001b[0m \u001b[1;33m\u001b[0m\u001b[0m\n",
      "\u001b[1;32m~\\anaconda3\\lib\\site-packages\\thinc\\neural\\_classes\\resnet.py\u001b[0m in \u001b[0;36mbegin_update\u001b[1;34m(self, X, drop)\u001b[0m\n\u001b[0;32m     27\u001b[0m \u001b[1;33m\u001b[0m\u001b[0m\n\u001b[0;32m     28\u001b[0m     \u001b[1;32mdef\u001b[0m \u001b[0mbegin_update\u001b[0m\u001b[1;33m(\u001b[0m\u001b[0mself\u001b[0m\u001b[1;33m,\u001b[0m \u001b[0mX\u001b[0m\u001b[1;33m,\u001b[0m \u001b[0mdrop\u001b[0m\u001b[1;33m=\u001b[0m\u001b[1;36m0.0\u001b[0m\u001b[1;33m)\u001b[0m\u001b[1;33m:\u001b[0m\u001b[1;33m\u001b[0m\u001b[1;33m\u001b[0m\u001b[0m\n\u001b[1;32m---> 29\u001b[1;33m         \u001b[0my\u001b[0m\u001b[1;33m,\u001b[0m \u001b[0mbp_y\u001b[0m \u001b[1;33m=\u001b[0m \u001b[0mself\u001b[0m\u001b[1;33m.\u001b[0m\u001b[0m_layers\u001b[0m\u001b[1;33m[\u001b[0m\u001b[1;36m0\u001b[0m\u001b[1;33m]\u001b[0m\u001b[1;33m.\u001b[0m\u001b[0mbegin_update\u001b[0m\u001b[1;33m(\u001b[0m\u001b[0mX\u001b[0m\u001b[1;33m,\u001b[0m \u001b[0mdrop\u001b[0m\u001b[1;33m=\u001b[0m\u001b[0mdrop\u001b[0m\u001b[1;33m)\u001b[0m\u001b[1;33m\u001b[0m\u001b[1;33m\u001b[0m\u001b[0m\n\u001b[0m\u001b[0;32m     30\u001b[0m         \u001b[1;32mif\u001b[0m \u001b[0misinstance\u001b[0m\u001b[1;33m(\u001b[0m\u001b[0mX\u001b[0m\u001b[1;33m,\u001b[0m \u001b[0mlist\u001b[0m\u001b[1;33m)\u001b[0m\u001b[1;33m:\u001b[0m\u001b[1;33m\u001b[0m\u001b[1;33m\u001b[0m\u001b[0m\n\u001b[0;32m     31\u001b[0m             \u001b[0moutput\u001b[0m \u001b[1;33m=\u001b[0m \u001b[1;33m[\u001b[0m\u001b[0mX\u001b[0m\u001b[1;33m[\u001b[0m\u001b[0mi\u001b[0m\u001b[1;33m]\u001b[0m \u001b[1;33m+\u001b[0m \u001b[0my\u001b[0m\u001b[1;33m[\u001b[0m\u001b[0mi\u001b[0m\u001b[1;33m]\u001b[0m \u001b[1;32mfor\u001b[0m \u001b[0mi\u001b[0m \u001b[1;32min\u001b[0m \u001b[0mrange\u001b[0m\u001b[1;33m(\u001b[0m\u001b[0mlen\u001b[0m\u001b[1;33m(\u001b[0m\u001b[0mX\u001b[0m\u001b[1;33m)\u001b[0m\u001b[1;33m)\u001b[0m\u001b[1;33m]\u001b[0m\u001b[1;33m\u001b[0m\u001b[1;33m\u001b[0m\u001b[0m\n",
      "\u001b[1;32m~\\anaconda3\\lib\\site-packages\\thinc\\neural\\_classes\\feed_forward.py\u001b[0m in \u001b[0;36mbegin_update\u001b[1;34m(self, X, drop)\u001b[0m\n\u001b[0;32m     44\u001b[0m         \u001b[0mcallbacks\u001b[0m \u001b[1;33m=\u001b[0m \u001b[1;33m[\u001b[0m\u001b[1;33m]\u001b[0m\u001b[1;33m\u001b[0m\u001b[1;33m\u001b[0m\u001b[0m\n\u001b[0;32m     45\u001b[0m         \u001b[1;32mfor\u001b[0m \u001b[0mlayer\u001b[0m \u001b[1;32min\u001b[0m \u001b[0mself\u001b[0m\u001b[1;33m.\u001b[0m\u001b[0m_layers\u001b[0m\u001b[1;33m:\u001b[0m\u001b[1;33m\u001b[0m\u001b[1;33m\u001b[0m\u001b[0m\n\u001b[1;32m---> 46\u001b[1;33m             \u001b[0mX\u001b[0m\u001b[1;33m,\u001b[0m \u001b[0minc_layer_grad\u001b[0m \u001b[1;33m=\u001b[0m \u001b[0mlayer\u001b[0m\u001b[1;33m.\u001b[0m\u001b[0mbegin_update\u001b[0m\u001b[1;33m(\u001b[0m\u001b[0mX\u001b[0m\u001b[1;33m,\u001b[0m \u001b[0mdrop\u001b[0m\u001b[1;33m=\u001b[0m\u001b[0mdrop\u001b[0m\u001b[1;33m)\u001b[0m\u001b[1;33m\u001b[0m\u001b[1;33m\u001b[0m\u001b[0m\n\u001b[0m\u001b[0;32m     47\u001b[0m             \u001b[0mcallbacks\u001b[0m\u001b[1;33m.\u001b[0m\u001b[0mappend\u001b[0m\u001b[1;33m(\u001b[0m\u001b[0minc_layer_grad\u001b[0m\u001b[1;33m)\u001b[0m\u001b[1;33m\u001b[0m\u001b[1;33m\u001b[0m\u001b[0m\n\u001b[0;32m     48\u001b[0m \u001b[1;33m\u001b[0m\u001b[0m\n",
      "\u001b[1;32m~\\anaconda3\\lib\\site-packages\\thinc\\neural\\_classes\\layernorm.py\u001b[0m in \u001b[0;36mbegin_update\u001b[1;34m(self, X, drop)\u001b[0m\n\u001b[0;32m     60\u001b[0m     \u001b[1;32mdef\u001b[0m \u001b[0mbegin_update\u001b[0m\u001b[1;33m(\u001b[0m\u001b[0mself\u001b[0m\u001b[1;33m,\u001b[0m \u001b[0mX\u001b[0m\u001b[1;33m,\u001b[0m \u001b[0mdrop\u001b[0m\u001b[1;33m=\u001b[0m\u001b[1;36m0.0\u001b[0m\u001b[1;33m)\u001b[0m\u001b[1;33m:\u001b[0m\u001b[1;33m\u001b[0m\u001b[1;33m\u001b[0m\u001b[0m\n\u001b[0;32m     61\u001b[0m         \u001b[1;32mif\u001b[0m \u001b[0mself\u001b[0m\u001b[1;33m.\u001b[0m\u001b[0mchild\u001b[0m \u001b[1;32mis\u001b[0m \u001b[1;32mnot\u001b[0m \u001b[1;32mNone\u001b[0m\u001b[1;33m:\u001b[0m\u001b[1;33m\u001b[0m\u001b[1;33m\u001b[0m\u001b[0m\n\u001b[1;32m---> 62\u001b[1;33m             \u001b[0mX\u001b[0m\u001b[1;33m,\u001b[0m \u001b[0mbackprop_child\u001b[0m \u001b[1;33m=\u001b[0m \u001b[0mself\u001b[0m\u001b[1;33m.\u001b[0m\u001b[0mchild\u001b[0m\u001b[1;33m.\u001b[0m\u001b[0mbegin_update\u001b[0m\u001b[1;33m(\u001b[0m\u001b[0mX\u001b[0m\u001b[1;33m,\u001b[0m \u001b[0mdrop\u001b[0m\u001b[1;33m=\u001b[0m\u001b[1;36m0.0\u001b[0m\u001b[1;33m)\u001b[0m\u001b[1;33m\u001b[0m\u001b[1;33m\u001b[0m\u001b[0m\n\u001b[0m\u001b[0;32m     63\u001b[0m         \u001b[1;32melse\u001b[0m\u001b[1;33m:\u001b[0m\u001b[1;33m\u001b[0m\u001b[1;33m\u001b[0m\u001b[0m\n\u001b[0;32m     64\u001b[0m             \u001b[0mbackprop_child\u001b[0m \u001b[1;33m=\u001b[0m \u001b[1;32mNone\u001b[0m\u001b[1;33m\u001b[0m\u001b[1;33m\u001b[0m\u001b[0m\n",
      "\u001b[1;32m~\\anaconda3\\lib\\site-packages\\thinc\\neural\\_classes\\maxout.py\u001b[0m in \u001b[0;36mbegin_update\u001b[1;34m(self, X__bi, drop)\u001b[0m\n\u001b[0;32m     74\u001b[0m         \u001b[1;32mif\u001b[0m \u001b[0mdrop\u001b[0m \u001b[1;32mis\u001b[0m \u001b[1;32mnot\u001b[0m \u001b[1;32mNone\u001b[0m\u001b[1;33m:\u001b[0m\u001b[1;33m\u001b[0m\u001b[1;33m\u001b[0m\u001b[0m\n\u001b[0;32m     75\u001b[0m             \u001b[0mdrop\u001b[0m \u001b[1;33m*=\u001b[0m \u001b[0mself\u001b[0m\u001b[1;33m.\u001b[0m\u001b[0mdrop_factor\u001b[0m\u001b[1;33m\u001b[0m\u001b[1;33m\u001b[0m\u001b[0m\n\u001b[1;32m---> 76\u001b[1;33m         \u001b[0moutput__boc\u001b[0m \u001b[1;33m=\u001b[0m \u001b[0mself\u001b[0m\u001b[1;33m.\u001b[0m\u001b[0mops\u001b[0m\u001b[1;33m.\u001b[0m\u001b[0mgemm\u001b[0m\u001b[1;33m(\u001b[0m\u001b[0mX__bi\u001b[0m\u001b[1;33m,\u001b[0m \u001b[0mW\u001b[0m\u001b[1;33m,\u001b[0m \u001b[0mtrans2\u001b[0m\u001b[1;33m=\u001b[0m\u001b[1;32mTrue\u001b[0m\u001b[1;33m)\u001b[0m\u001b[1;33m\u001b[0m\u001b[1;33m\u001b[0m\u001b[0m\n\u001b[0m\u001b[0;32m     77\u001b[0m         \u001b[0moutput__boc\u001b[0m \u001b[1;33m+=\u001b[0m \u001b[0mself\u001b[0m\u001b[1;33m.\u001b[0m\u001b[0mb\u001b[0m\u001b[1;33m.\u001b[0m\u001b[0mreshape\u001b[0m\u001b[1;33m(\u001b[0m\u001b[1;33m(\u001b[0m\u001b[0mself\u001b[0m\u001b[1;33m.\u001b[0m\u001b[0mnO\u001b[0m \u001b[1;33m*\u001b[0m \u001b[0mself\u001b[0m\u001b[1;33m.\u001b[0m\u001b[0mnP\u001b[0m\u001b[1;33m,\u001b[0m\u001b[1;33m)\u001b[0m\u001b[1;33m)\u001b[0m\u001b[1;33m\u001b[0m\u001b[1;33m\u001b[0m\u001b[0m\n\u001b[0;32m     78\u001b[0m         \u001b[0moutput__boc\u001b[0m \u001b[1;33m=\u001b[0m \u001b[0moutput__boc\u001b[0m\u001b[1;33m.\u001b[0m\u001b[0mreshape\u001b[0m\u001b[1;33m(\u001b[0m\u001b[1;33m(\u001b[0m\u001b[0moutput__boc\u001b[0m\u001b[1;33m.\u001b[0m\u001b[0mshape\u001b[0m\u001b[1;33m[\u001b[0m\u001b[1;36m0\u001b[0m\u001b[1;33m]\u001b[0m\u001b[1;33m,\u001b[0m \u001b[0mself\u001b[0m\u001b[1;33m.\u001b[0m\u001b[0mnO\u001b[0m\u001b[1;33m,\u001b[0m \u001b[0mself\u001b[0m\u001b[1;33m.\u001b[0m\u001b[0mnP\u001b[0m\u001b[1;33m)\u001b[0m\u001b[1;33m)\u001b[0m\u001b[1;33m\u001b[0m\u001b[1;33m\u001b[0m\u001b[0m\n",
      "\u001b[1;31mKeyboardInterrupt\u001b[0m: "
     ]
    }
   ],
   "source": [
    "total_text = len(df['review'])\n",
    "print(f'There is a total of {total_text} selftext.')\n",
    "\n",
    "#instantiate empty list to hold cleaned data\n",
    "clean_text = []\n",
    "adj_text = []\n",
    "noun_text = []\n",
    "verb_list = []\n",
    "emoji_icons = []\n",
    "neg_scores = []\n",
    "neu_scores = []\n",
    "pos_scores = []\n",
    "compound_scores = []\n",
    "\n",
    "t0 = time()\n",
    "print(\"Cleaning and parsing the training set text...\")\n",
    "\n",
    "# Instantiate counter.\n",
    "j = 0\n",
    "\n",
    "# For every review in our training set...\n",
    "for text in df['review']:\n",
    "    \n",
    "    join, adj, noun, verb, emoji, scores = words_cleaning(text)\n",
    "    \n",
    "    # Convert text to words, then append to clean_train_text.\n",
    "    clean_text.append(str(join).lower())\n",
    "    adj_text.append(adj)\n",
    "    noun_text.append(noun)\n",
    "    verb_list.append(verb)\n",
    "    emoji_icons.append(emoji)\n",
    "    neg_scores.append(scores['neg'])\n",
    "    neu_scores.append(scores['neu'])\n",
    "    pos_scores.append(scores['pos'])\n",
    "    compound_scores.append(scores['compound'])\n",
    "    \n",
    "    # If the index is divisible by 100, print a message.\n",
    "    if (j + 1) % 10000 == 0:\n",
    "        print(f'selftext {j + 1} of {total_text}.')\n",
    "        bag_test_time = time() - t0\n",
    "        print('Fit time:  %0.3fs' % bag_test_time);\n",
    "    j += 1\n",
    "\n",
    "    \n",
    "print(f'selftext {total_text} of {total_text}.')    \n",
    "print('Cleaning complete')\n",
    "\n",
    "df['clean_content'] = clean_text\n",
    "df['adj'] = adj_text\n",
    "df['noun'] = noun_text\n",
    "df['verb'] = verb_list\n",
    "df['emoji'] = emoji_icons\n",
    "df['neg_score'] = neg_scores\n",
    "df['neu_score'] = neu_scores\n",
    "df['pos_score'] = pos_scores\n",
    "df['compound_score'] = compound_scores"
   ]
  },
  {
   "cell_type": "code",
   "execution_count": null,
   "metadata": {
    "scrolled": false
   },
   "outputs": [],
   "source": [
    "df.head()"
   ]
  },
  {
   "cell_type": "code",
   "execution_count": null,
   "metadata": {},
   "outputs": [],
   "source": [
    "df.to_csv('cleaned_reviews.csv', index=None, header=True)"
   ]
  },
  {
   "cell_type": "code",
   "execution_count": null,
   "metadata": {},
   "outputs": [],
   "source": [
    "df_clean = pd.read_csv('cleaned_reviews.csv')"
   ]
  },
  {
   "cell_type": "code",
   "execution_count": null,
   "metadata": {},
   "outputs": [],
   "source": [
    "df_clean.isna().sum()"
   ]
  },
  {
   "cell_type": "code",
   "execution_count": null,
   "metadata": {},
   "outputs": [],
   "source": [
    "# lower all the adj, noun and verb\n",
    "# use vader to get sentiment count\n",
    "# plot sentiments of apps across time\n",
    "# create new dataframe with all new data\n",
    "df_clean = df_clean[df_clean['clean_content'].notna()]"
   ]
  },
  {
   "cell_type": "code",
   "execution_count": null,
   "metadata": {},
   "outputs": [],
   "source": [
    "df_clean.isna().sum()"
   ]
  },
  {
   "cell_type": "code",
   "execution_count": null,
   "metadata": {},
   "outputs": [],
   "source": [
    "df_clean['app'].value_counts()"
   ]
  },
  {
   "cell_type": "code",
   "execution_count": null,
   "metadata": {},
   "outputs": [],
   "source": [
    "df_clean['date'] = df_clean['date'].astype('datetime64')"
   ]
  },
  {
   "cell_type": "code",
   "execution_count": null,
   "metadata": {},
   "outputs": [],
   "source": [
    "df_clean['date'].dt.year.value_counts()"
   ]
  },
  {
   "cell_type": "markdown",
   "metadata": {},
   "source": [
    "# Using only 2020 data"
   ]
  },
  {
   "cell_type": "code",
   "execution_count": null,
   "metadata": {},
   "outputs": [],
   "source": [
    "df = df_clean[df_clean['date'].dt.year == 2020]\n",
    "df.shape"
   ]
  },
  {
   "cell_type": "code",
   "execution_count": null,
   "metadata": {},
   "outputs": [],
   "source": [
    "df['app'].value_counts()"
   ]
  },
  {
   "cell_type": "code",
   "execution_count": null,
   "metadata": {},
   "outputs": [],
   "source": [
    "plt.figure(figsize = (20,5))\n",
    "sns.lineplot(x = df['date'].dt.day, \n",
    "             y = 'rating', \n",
    "             hue = 'app', \n",
    "             data = df[df['date'].dt.month == 8],\n",
    "             err_style = None, \n",
    "             markers = True);"
   ]
  },
  {
   "cell_type": "code",
   "execution_count": null,
   "metadata": {},
   "outputs": [],
   "source": [
    "plt.figure(figsize = (20,5))\n",
    "sns.lineplot(x = df['date'].dt.day,\n",
    "             y = 'compound_score',\n",
    "             hue = 'app',\n",
    "             data = df[df['date'].dt.month == 8],\n",
    "             err_style = None, markers = True);"
   ]
  },
  {
   "cell_type": "code",
   "execution_count": null,
   "metadata": {},
   "outputs": [],
   "source": [
    "plt.figure(figsize = (20,5))\n",
    "sns.lineplot(x = df['date'].dt.day,\n",
    "             y = 'rating', \n",
    "             data = df[df['date'].dt.month == 8],\n",
    "             err_style = None,\n",
    "             markers = True);"
   ]
  },
  {
   "cell_type": "code",
   "execution_count": null,
   "metadata": {},
   "outputs": [],
   "source": [
    "plt.figure(figsize = (20,5))\n",
    "sns.lineplot(x = df['date'].dt.day,\n",
    "             y = 'compound_score', \n",
    "             data = df[df['date'].dt.month == 8],\n",
    "             err_style = None,\n",
    "             markers = True);"
   ]
  },
  {
   "cell_type": "code",
   "execution_count": null,
   "metadata": {},
   "outputs": [],
   "source": [
    "# compound score, how is it computed\n",
    "# score of userreviews\n",
    "# sentimental analysis,\n",
    "# is review good or bad? \n",
    "# specific keywords to look out for\n",
    "# created api app\n",
    "# lda topic modeling\n",
    "# creating topics with unsupervised learning to create groups\n",
    "# able to see which group of people is more important to focus on"
   ]
  },
  {
   "cell_type": "code",
   "execution_count": null,
   "metadata": {},
   "outputs": [],
   "source": []
  }
 ],
 "metadata": {
  "kernelspec": {
   "display_name": "Python 3",
   "language": "python",
   "name": "python3"
  },
  "language_info": {
   "codemirror_mode": {
    "name": "ipython",
    "version": 3
   },
   "file_extension": ".py",
   "mimetype": "text/x-python",
   "name": "python",
   "nbconvert_exporter": "python",
   "pygments_lexer": "ipython3",
   "version": "3.7.7"
  },
  "toc": {
   "base_numbering": 1,
   "nav_menu": {},
   "number_sections": false,
   "sideBar": true,
   "skip_h1_title": false,
   "title_cell": "Table of Contents",
   "title_sidebar": "Contents",
   "toc_cell": false,
   "toc_position": {},
   "toc_section_display": true,
   "toc_window_display": true
  }
 },
 "nbformat": 4,
 "nbformat_minor": 4
}
